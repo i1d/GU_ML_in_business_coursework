{
 "cells": [
  {
   "cell_type": "markdown",
   "metadata": {},
   "source": [
    "### Проверка того, что наше api работает\n",
    "\n",
    "Перед началом необходимо собрать docker-образ и запустить контейнер\n",
    "\n",
    "1. Следовать инструкциям https://github.com/fimochka-sudo/GB_docker_flask_example/blob/main/README.md\n",
    "2. Далее уже запускать код ниже"
   ]
  },
  {
   "cell_type": "code",
   "execution_count": 31,
   "metadata": {},
   "outputs": [],
   "source": [
    "import pandas as pd\n",
    "from sklearn.metrics import roc_auc_score, roc_curve\n",
    "from urllib import request, parse\n",
    "import urllib.request\n",
    "import json      \n",
    "\n",
    "repp_X_test = pd.read_csv(\"repp_test_transformed.csv\")\n",
    "#rw_y_test = pd.read_csv(\"rw_y_test.csv\")"
   ]
  },
  {
   "cell_type": "code",
   "execution_count": 32,
   "metadata": {},
   "outputs": [
    {
     "data": {
      "text/html": [
       "<div>\n",
       "<style scoped>\n",
       "    .dataframe tbody tr th:only-of-type {\n",
       "        vertical-align: middle;\n",
       "    }\n",
       "\n",
       "    .dataframe tbody tr th {\n",
       "        vertical-align: top;\n",
       "    }\n",
       "\n",
       "    .dataframe thead th {\n",
       "        text-align: right;\n",
       "    }\n",
       "</style>\n",
       "<table border=\"1\" class=\"dataframe\">\n",
       "  <thead>\n",
       "    <tr style=\"text-align: right;\">\n",
       "      <th></th>\n",
       "      <th>Square</th>\n",
       "      <th>LifeSquare</th>\n",
       "      <th>KitchenSquare</th>\n",
       "      <th>Floor</th>\n",
       "      <th>Ecology_1</th>\n",
       "      <th>Social_1</th>\n",
       "      <th>Shops_1</th>\n",
       "      <th>HouseFloor</th>\n",
       "      <th>HouseYear</th>\n",
       "      <th>BldId</th>\n",
       "      <th>DistrictId_count</th>\n",
       "      <th>MedPriceByDistrict</th>\n",
       "      <th>MedPriceBySquare</th>\n",
       "    </tr>\n",
       "  </thead>\n",
       "  <tbody>\n",
       "    <tr>\n",
       "      <th>0</th>\n",
       "      <td>49.882643</td>\n",
       "      <td>33.432782</td>\n",
       "      <td>6.0</td>\n",
       "      <td>6.0</td>\n",
       "      <td>0.310199</td>\n",
       "      <td>11</td>\n",
       "      <td>0</td>\n",
       "      <td>14.0</td>\n",
       "      <td>1972</td>\n",
       "      <td>2304</td>\n",
       "      <td>179.0</td>\n",
       "      <td>166809.67</td>\n",
       "      <td>NaN</td>\n",
       "    </tr>\n",
       "    <tr>\n",
       "      <th>1</th>\n",
       "      <td>69.263183</td>\n",
       "      <td>0.333490</td>\n",
       "      <td>3.0</td>\n",
       "      <td>1.0</td>\n",
       "      <td>0.075779</td>\n",
       "      <td>6</td>\n",
       "      <td>2</td>\n",
       "      <td>1.0</td>\n",
       "      <td>1977</td>\n",
       "      <td>2671</td>\n",
       "      <td>114.0</td>\n",
       "      <td>243031.69</td>\n",
       "      <td>215881.38</td>\n",
       "    </tr>\n",
       "    <tr>\n",
       "      <th>2</th>\n",
       "      <td>13.597819</td>\n",
       "      <td>-1.402181</td>\n",
       "      <td>12.0</td>\n",
       "      <td>2.0</td>\n",
       "      <td>0.000000</td>\n",
       "      <td>30</td>\n",
       "      <td>5</td>\n",
       "      <td>5.0</td>\n",
       "      <td>1909</td>\n",
       "      <td>922</td>\n",
       "      <td>5.0</td>\n",
       "      <td>NaN</td>\n",
       "      <td>137597.60</td>\n",
       "    </tr>\n",
       "  </tbody>\n",
       "</table>\n",
       "</div>"
      ],
      "text/plain": [
       "      Square  LifeSquare  KitchenSquare  Floor  Ecology_1  Social_1  Shops_1  \\\n",
       "0  49.882643   33.432782            6.0    6.0   0.310199        11        0   \n",
       "1  69.263183    0.333490            3.0    1.0   0.075779         6        2   \n",
       "2  13.597819   -1.402181           12.0    2.0   0.000000        30        5   \n",
       "\n",
       "   HouseFloor  HouseYear  BldId  DistrictId_count  MedPriceByDistrict  \\\n",
       "0        14.0       1972   2304             179.0           166809.67   \n",
       "1         1.0       1977   2671             114.0           243031.69   \n",
       "2         5.0       1909    922               5.0                 NaN   \n",
       "\n",
       "   MedPriceBySquare  \n",
       "0               NaN  \n",
       "1         215881.38  \n",
       "2         137597.60  "
      ]
     },
     "execution_count": 32,
     "metadata": {},
     "output_type": "execute_result"
    }
   ],
   "source": [
    "repp_X_test.head(3)"
   ]
  },
  {
   "cell_type": "code",
   "execution_count": 33,
   "metadata": {},
   "outputs": [],
   "source": [
    "Square = 49.882643\n",
    "LifeSquare = 33.432782\n",
    "KitchenSquare = 6\n",
    "Floor = 6\n",
    "Ecology_1 = 0.310199\n",
    "Social_1 = 11\n",
    "Shops_1 = 0\n",
    "HouseFloor = 14\n",
    "HouseYear = 1972\n",
    "BldId = 2304\n",
    "DistrictId_count = 179\n",
    "MedPriceByDistrict = 166809\n",
    "MedPriceBySquare = None"
   ]
  },
  {
   "cell_type": "code",
   "execution_count": 34,
   "metadata": {},
   "outputs": [],
   "source": [
    "body = {\"Square\": Square,\n",
    "        \"LifeSquare\": LifeSquare,\n",
    "        \"KitchenSquare\": KitchenSquare,\n",
    "        \"Floor\": Floor,\n",
    "        \"Ecology_1\": Ecology_1,\n",
    "        \"Social_1\": Social_1,\n",
    "        \"Shops_1\": Shops_1,\n",
    "        \"HouseFloor\": HouseFloor,\n",
    "        \"HouseYear\": HouseYear,\n",
    "        \"BldId\": BldId,\n",
    "        \"DistrictId_count\": DistrictId_count,\n",
    "        \"MedPriceByDistrict\": MedPriceByDistrict,\n",
    "        \"MedPriceBySquare\": MedPriceBySquare\n",
    "        } \n",
    "\n"
   ]
  },
  {
   "cell_type": "code",
   "execution_count": 35,
   "metadata": {},
   "outputs": [],
   "source": [
    "myurl = \"http://0.0.0.0:8280/predict\""
   ]
  },
  {
   "cell_type": "code",
   "execution_count": 36,
   "metadata": {},
   "outputs": [],
   "source": [
    "req = urllib.request.Request(myurl)"
   ]
  },
  {
   "cell_type": "code",
   "execution_count": 37,
   "metadata": {},
   "outputs": [],
   "source": [
    "req.add_header('Content-Type', 'application/json; charset=utf-8')"
   ]
  },
  {
   "cell_type": "code",
   "execution_count": 38,
   "metadata": {},
   "outputs": [],
   "source": [
    "jsondata = json.dumps(body)"
   ]
  },
  {
   "cell_type": "code",
   "execution_count": 39,
   "metadata": {},
   "outputs": [],
   "source": [
    "jsondataasbytes = jsondata.encode('utf-8')   # needs to be bytes"
   ]
  },
  {
   "cell_type": "code",
   "execution_count": 40,
   "metadata": {},
   "outputs": [],
   "source": [
    "req.add_header('Content-Length', len(jsondataasbytes))"
   ]
  },
  {
   "cell_type": "code",
   "execution_count": 41,
   "metadata": {},
   "outputs": [
    {
     "name": "stdout",
     "output_type": "stream",
     "text": [
      "b'{\"Square\": 49.882643, \"LifeSquare\": 33.432782, \"KitchenSquare\": 6, \"Floor\": 6, \"Ecology_1\": 0.310199, \"Social_1\": 11, \"Shops_1\": 0, \"HouseFloor\": 14, \"HouseYear\": 1972, \"BldId\": 2304, \"DistrictId_count\": 179, \"MedPriceByDistrict\": 166809, \"MedPriceBySquare\": null}'\n"
     ]
    }
   ],
   "source": [
    "print(jsondataasbytes)"
   ]
  },
  {
   "cell_type": "code",
   "execution_count": 42,
   "metadata": {},
   "outputs": [],
   "source": [
    "response = urllib.request.urlopen(req, jsondataasbytes)"
   ]
  },
  {
   "cell_type": "code",
   "execution_count": 43,
   "metadata": {},
   "outputs": [
    {
     "data": {
      "text/plain": [
       "143683"
      ]
     },
     "execution_count": 43,
     "metadata": {},
     "output_type": "execute_result"
    }
   ],
   "source": [
    "json.loads(response.read())['predictions']"
   ]
  },
  {
   "cell_type": "code",
   "execution_count": 46,
   "metadata": {},
   "outputs": [],
   "source": [
    "def get_prediction(Square=0, LifeSquare=0, KitchenSquare=0, Floor=0, Ecology_1=0, Social_1=0, Shops_1=0, \n",
    "                   HouseFloor=0, HouseYear=0, BldId=0, DistrictId_count=0, MedPriceByDistrict=0, MedPriceBySquare=0):\n",
    "    body = {\"Square\": Square,\n",
    "            \"LifeSquare\": LifeSquare,\n",
    "            \"KitchenSquare\": KitchenSquare,\n",
    "            \"Floor\": Floor,\n",
    "            \"Ecology_1\": Ecology_1,\n",
    "            \"Social_1\": Social_1,\n",
    "            \"Shops_1\": Shops_1,\n",
    "            \"HouseFloor\": HouseFloor,\n",
    "            \"HouseYear\": HouseYear,\n",
    "            \"BldId\": BldId,\n",
    "            \"DistrictId_count\": DistrictId_count,\n",
    "            \"MedPriceByDistrict\": MedPriceByDistrict,\n",
    "            \"MedPriceBySquare\": MedPriceBySquare\n",
    "            } \n",
    "\n",
    "    myurl = \"http://0.0.0.0:8280/predict\"\n",
    "    req = urllib.request.Request(myurl)\n",
    "    req.add_header('Content-Type', 'application/json; charset=utf-8')\n",
    "    jsondata = json.dumps(body)\n",
    "    jsondataasbytes = jsondata.encode('utf-8')   # needs to be bytes\n",
    "    req.add_header('Content-Length', len(jsondataasbytes))\n",
    "    #print (jsondataasbytes)\n",
    "    response = urllib.request.urlopen(req, jsondataasbytes)\n",
    "    return json.loads(response.read())['predictions']"
   ]
  },
  {
   "cell_type": "code",
   "execution_count": 52,
   "metadata": {},
   "outputs": [
    {
     "data": {
      "text/plain": [
       "329184"
      ]
     },
     "execution_count": 52,
     "metadata": {},
     "output_type": "execute_result"
    }
   ],
   "source": [
    "predictions = get_prediction(Square = 390,\n",
    "                             LifeSquare = 330,\n",
    "                             KitchenSquare = 60,\n",
    "                             Floor = 1,\n",
    "                            # Ecology_1 = 0.310199,\n",
    "                            # Social_1 = 11,\n",
    "                            # Shops_1 = 0,\n",
    "                             HouseFloor = 1,\n",
    "                             HouseYear = 1972#,\n",
    "                           #  BldId = 2304,\n",
    "                          #   DistrictId_count = 179,\n",
    "                          #   MedPriceByDistrict = 166809,\n",
    "                         #    MedPriceBySquare = 1234\n",
    "                            )\n",
    "predictions"
   ]
  },
  {
   "cell_type": "markdown",
   "metadata": {},
   "source": [
    "Давайте подумаем, где наше api может сломаться"
   ]
  },
  {
   "cell_type": "code",
   "execution_count": 53,
   "metadata": {},
   "outputs": [
    {
     "data": {
      "text/plain": [
       "125209"
      ]
     },
     "execution_count": 53,
     "metadata": {},
     "output_type": "execute_result"
    }
   ],
   "source": [
    "get_prediction(\"\", \"\", None)"
   ]
  },
  {
   "cell_type": "code",
   "execution_count": null,
   "metadata": {},
   "outputs": [],
   "source": []
  }
 ],
 "metadata": {
  "kernelspec": {
   "display_name": "Python 3",
   "language": "python",
   "name": "python3"
  },
  "language_info": {
   "codemirror_mode": {
    "name": "ipython",
    "version": 3
   },
   "file_extension": ".py",
   "mimetype": "text/x-python",
   "name": "python",
   "nbconvert_exporter": "python",
   "pygments_lexer": "ipython3",
   "version": "3.8.5"
  }
 },
 "nbformat": 4,
 "nbformat_minor": 2
}
