{
 "cells": [
  {
   "cell_type": "markdown",
   "metadata": {},
   "source": [
    "# 0. Imports & methods"
   ]
  },
  {
   "cell_type": "code",
   "execution_count": 57,
   "metadata": {
    "_cell_guid": "b1076dfc-b9ad-4769-8c92-a6c4dae69d19",
    "_uuid": "8f2839f25d086af736a60e9eeb907d3b93b6e0e5"
   },
   "outputs": [],
   "source": [
    "import datetime\n",
    "\n",
    "import matplotlib.pyplot as plt\n",
    "import numpy as np \n",
    "import pandas as pd \n",
    "\n",
    "from sklearn.metrics import r2_score\n",
    "from sklearn.model_selection import train_test_split, KFold, GridSearchCV, cross_val_score\n",
    "\n",
    "from lightgbm import LGBMRegressor\n",
    "\n",
    "import seaborn as sns\n",
    "\n",
    "from sklearn.metrics import mean_squared_error as mse, r2_score as r2\n",
    "\n",
    "#from sklearn.preprocessing import StandardScaler\n",
    "\n",
    "from catboost import CatBoostRegressor, Pool\n",
    "\n",
    "#import shap\n",
    "from sklearn.preprocessing import StandardScaler\n",
    "from sklearn.pipeline import Pipeline, make_pipeline, FeatureUnion\n",
    "from sklearn.base import BaseEstimator, TransformerMixin\n",
    "\n",
    "import dill"
   ]
  },
  {
   "cell_type": "code",
   "execution_count": 2,
   "metadata": {},
   "outputs": [],
   "source": [
    "def reduce_mem_usage(df):\n",
    "    \"\"\" iterate through all the columns of a dataframe and modify the data type\n",
    "        to reduce memory usage.        \n",
    "    \"\"\"\n",
    "    start_mem = df.memory_usage().sum() / 1024**2\n",
    "    print('Memory usage of dataframe is {:.2f} MB'.format(start_mem))\n",
    "    \n",
    "    for col in df.columns:\n",
    "        col_type = df[col].dtype\n",
    "        \n",
    "        if col_type != object:\n",
    "            c_min = df[col].min()\n",
    "            c_max = df[col].max()\n",
    "            if str(col_type)[:3] == 'int':\n",
    "                if c_min > np.iinfo(np.int8).min and c_max < np.iinfo(np.int8).max:\n",
    "                    df[col] = df[col].astype(np.int8)\n",
    "                elif c_min > np.iinfo(np.int16).min and c_max < np.iinfo(np.int16).max:\n",
    "                    df[col] = df[col].astype(np.int16)\n",
    "                elif c_min > np.iinfo(np.int32).min and c_max < np.iinfo(np.int32).max:\n",
    "                    df[col] = df[col].astype(np.int32)\n",
    "                elif c_min > np.iinfo(np.int64).min and c_max < np.iinfo(np.int64).max:\n",
    "                    df[col] = df[col].astype(np.int64)  \n",
    "            else:\n",
    "#                 if c_min > np.finfo(np.float16).min and c_max < np.finfo(np.float16).max:\n",
    "#                     df[col] = df[col].astype(np.float16)\n",
    "#                 elif\n",
    "\n",
    "                if c_min > np.finfo(np.float32).min and c_max < np.finfo(np.float32).max:\n",
    "                    df[col] = df[col].astype(np.float32)\n",
    "                else:\n",
    "                    df[col] = df[col].astype(np.float64)\n",
    "        else:\n",
    "            df[col] = df[col].astype('category')\n",
    "\n",
    "    end_mem = df.memory_usage().sum() / 1024**2\n",
    "    print('Memory usage after optimization is: {:.2f} MB'.format(end_mem))\n",
    "    print('Decreased by {:.1f}%'.format(100 * (start_mem - end_mem) / start_mem))\n",
    "    \n",
    "    return df"
   ]
  },
  {
   "cell_type": "code",
   "execution_count": 3,
   "metadata": {},
   "outputs": [],
   "source": [
    "def plot_feature_importances(importances, X):\n",
    "    \n",
    "    indices = np.argsort(importances)[::-1]\n",
    "\n",
    "    plt.figure(figsize = (20, 6))\n",
    "    plt.title(\"Feature importances\", fontsize=16)\n",
    "    plt.bar(range(X.shape[1]), importances[indices] / importances.sum(),\n",
    "           color=\"darkblue\", align=\"center\")\n",
    "    plt.xticks(range(X.shape[1]), X.columns[indices], rotation = 90, fontsize=14)\n",
    "    plt.xlim([-1, X.shape[1]])\n",
    "\n",
    "    plt.tight_layout()\n",
    "    # plt.savefig('fe.jpg')\n",
    "    plt.show()"
   ]
  },
  {
   "cell_type": "code",
   "execution_count": 4,
   "metadata": {},
   "outputs": [],
   "source": [
    "def show_plt(xdata, ydata, xlab, ylab, fntsize, fgsize, rot, ttl):\n",
    "    plt.figure(figsize=fgsize)\n",
    "    sns.barplot(x=xdata, y=ydata)\n",
    "    plt.title(ttl)\n",
    "    plt.ylabel(ylab, fontsize=fntsize)\n",
    "    plt.xlabel(xlab, fontsize=fntsize)\n",
    "    plt.xticks(rotation=rot)\n",
    "    plt.show()"
   ]
  },
  {
   "cell_type": "code",
   "execution_count": 5,
   "metadata": {},
   "outputs": [
    {
     "name": "stdout",
     "output_type": "stream",
     "text": [
      "**Variable Description of  train Data:**\n"
     ]
    }
   ],
   "source": [
    "# Source: https://www.kaggle.com/vikassingh1996/don-t-underestimate-the-power-of-a-logistic-reg\n",
    "\n",
    "def description(df):\n",
    "    print(f\"Dataset Shape: {df.shape}\")\n",
    "    summary = pd.DataFrame(df.dtypes,columns=['dtypes'])\n",
    "    summary = summary.reset_index()\n",
    "    summary['Name'] = summary['index']\n",
    "    summary = summary[['Name','dtypes']]\n",
    "    summary['Missing'] = df.isnull().sum().values\n",
    "    summary['PercMissing'] = df.isnull().sum().values / df.isnull().count().values\n",
    "    summary['Uniques'] = df.nunique().values\n",
    "    summary['First Value'] = df.iloc[0].values\n",
    "    summary['Second Value'] = df.iloc[1].values\n",
    "    summary['Third Value'] = df.iloc[2].values\n",
    "    return summary\n",
    "print('**Variable Description of  train Data:**')"
   ]
  },
  {
   "cell_type": "code",
   "execution_count": 6,
   "metadata": {},
   "outputs": [],
   "source": [
    "# Source: https://www.kaggle.com/vikassingh1996/don-t-underestimate-the-power-of-a-logistic-reg\n",
    "\n",
    "def replace_nan(data):\n",
    "    for column in data.columns:\n",
    "        if data[column].isna().sum() > 0:\n",
    "            data[column] = data[column].fillna(data[column].mode()[0])\n"
   ]
  },
  {
   "cell_type": "code",
   "execution_count": 54,
   "metadata": {},
   "outputs": [],
   "source": [
    "class FeatureSelector(BaseEstimator, TransformerMixin):\n",
    "    def __init__(self, column):\n",
    "        self.column = column\n",
    "\n",
    "    def fit(self, X, y=None):\n",
    "        return self\n",
    "\n",
    "    def transform(self, X, y=None):\n",
    "        return X[self.column]\n",
    "    \n",
    "class NumberSelector(BaseEstimator, TransformerMixin):\n",
    "    \"\"\"\n",
    "    Transformer to select a single column from the data frame to perform additional transformations on\n",
    "    Use on numeric columns in the data\n",
    "    \"\"\"\n",
    "    def __init__(self, key):\n",
    "        self.key = key\n",
    "\n",
    "    def fit(self, X, y=None):\n",
    "        return self\n",
    "\n",
    "    def transform(self, X):\n",
    "        return X[[self.key]]\n",
    "    \n",
    "class OHEEncoder(BaseEstimator, TransformerMixin):\n",
    "    def __init__(self, key):\n",
    "        self.key = key\n",
    "        self.columns = []\n",
    "\n",
    "    def fit(self, X, y=None):\n",
    "        self.columns = [col for col in pd.get_dummies(X, prefix=self.key).columns]\n",
    "        return self\n",
    "\n",
    "    def transform(self, X):\n",
    "        X = pd.get_dummies(X, prefix=self.key)\n",
    "        test_columns = [col for col in X.columns]\n",
    "        for col_ in self.columns:\n",
    "            if col_ not in test_columns:\n",
    "                X[col_] = 0\n",
    "        return X[self.columns]"
   ]
  },
  {
   "cell_type": "markdown",
   "metadata": {},
   "source": [
    "# 1. Read data"
   ]
  },
  {
   "cell_type": "code",
   "execution_count": 7,
   "metadata": {
    "_cell_guid": "79c7e3d0-c299-4dcb-8224-4455121ee9b0",
    "_uuid": "d629ff2d2480ee46fbb7e2d37f6b5fab8052498a"
   },
   "outputs": [],
   "source": [
    "df = pd.read_csv('repp_train.csv')"
   ]
  },
  {
   "cell_type": "code",
   "execution_count": 8,
   "metadata": {},
   "outputs": [
    {
     "name": "stdout",
     "output_type": "stream",
     "text": [
      "Memory usage of dataframe is 1.53 MB\n",
      "Memory usage after optimization is: 0.49 MB\n",
      "Decreased by 68.1%\n"
     ]
    }
   ],
   "source": [
    "df = reduce_mem_usage(df)"
   ]
  },
  {
   "cell_type": "code",
   "execution_count": 9,
   "metadata": {},
   "outputs": [
    {
     "data": {
      "text/plain": [
       "Id                  int16\n",
       "DistrictId          int16\n",
       "Rooms             float32\n",
       "Square            float32\n",
       "LifeSquare        float32\n",
       "KitchenSquare     float32\n",
       "Floor                int8\n",
       "HouseFloor        float32\n",
       "HouseYear           int32\n",
       "Ecology_1         float32\n",
       "Ecology_2        category\n",
       "Ecology_3        category\n",
       "Social_1             int8\n",
       "Social_2            int16\n",
       "Social_3            int16\n",
       "Healthcare_1      float32\n",
       "Helthcare_2          int8\n",
       "Shops_1              int8\n",
       "Shops_2          category\n",
       "Price             float32\n",
       "dtype: object"
      ]
     },
     "execution_count": 9,
     "metadata": {},
     "output_type": "execute_result"
    }
   ],
   "source": [
    "df.dtypes"
   ]
  },
  {
   "cell_type": "code",
   "execution_count": 10,
   "metadata": {},
   "outputs": [],
   "source": [
    "X = df.drop('Price', axis=1)\n",
    "y = df['Price']\n",
    "\n",
    "X_test = pd.read_csv('repp_test.csv')\n",
    "\n",
    "preds_test = pd.DataFrame()\n",
    "preds_test['Id'] = X_test['Id'].copy()\n",
    "\n",
    "X.set_index('Id', inplace=True)\n",
    "X_test.set_index('Id', inplace=True)"
   ]
  },
  {
   "cell_type": "code",
   "execution_count": 11,
   "metadata": {},
   "outputs": [
    {
     "data": {
      "text/html": [
       "<div>\n",
       "<style scoped>\n",
       "    .dataframe tbody tr th:only-of-type {\n",
       "        vertical-align: middle;\n",
       "    }\n",
       "\n",
       "    .dataframe tbody tr th {\n",
       "        vertical-align: top;\n",
       "    }\n",
       "\n",
       "    .dataframe thead th {\n",
       "        text-align: right;\n",
       "    }\n",
       "</style>\n",
       "<table border=\"1\" class=\"dataframe\">\n",
       "  <thead>\n",
       "    <tr style=\"text-align: right;\">\n",
       "      <th></th>\n",
       "      <th>DistrictId</th>\n",
       "      <th>Rooms</th>\n",
       "      <th>Square</th>\n",
       "      <th>LifeSquare</th>\n",
       "      <th>KitchenSquare</th>\n",
       "      <th>Floor</th>\n",
       "      <th>HouseFloor</th>\n",
       "      <th>HouseYear</th>\n",
       "      <th>Ecology_1</th>\n",
       "      <th>Ecology_2</th>\n",
       "      <th>Ecology_3</th>\n",
       "      <th>Social_1</th>\n",
       "      <th>Social_2</th>\n",
       "      <th>Social_3</th>\n",
       "      <th>Healthcare_1</th>\n",
       "      <th>Helthcare_2</th>\n",
       "      <th>Shops_1</th>\n",
       "      <th>Shops_2</th>\n",
       "    </tr>\n",
       "    <tr>\n",
       "      <th>Id</th>\n",
       "      <th></th>\n",
       "      <th></th>\n",
       "      <th></th>\n",
       "      <th></th>\n",
       "      <th></th>\n",
       "      <th></th>\n",
       "      <th></th>\n",
       "      <th></th>\n",
       "      <th></th>\n",
       "      <th></th>\n",
       "      <th></th>\n",
       "      <th></th>\n",
       "      <th></th>\n",
       "      <th></th>\n",
       "      <th></th>\n",
       "      <th></th>\n",
       "      <th></th>\n",
       "      <th></th>\n",
       "    </tr>\n",
       "  </thead>\n",
       "  <tbody>\n",
       "    <tr>\n",
       "      <th>14038</th>\n",
       "      <td>35</td>\n",
       "      <td>2.0</td>\n",
       "      <td>47.981560</td>\n",
       "      <td>29.442751</td>\n",
       "      <td>6.0</td>\n",
       "      <td>7</td>\n",
       "      <td>9.0</td>\n",
       "      <td>1969</td>\n",
       "      <td>0.089040</td>\n",
       "      <td>B</td>\n",
       "      <td>B</td>\n",
       "      <td>33</td>\n",
       "      <td>7976</td>\n",
       "      <td>5</td>\n",
       "      <td>NaN</td>\n",
       "      <td>0</td>\n",
       "      <td>11</td>\n",
       "      <td>B</td>\n",
       "    </tr>\n",
       "    <tr>\n",
       "      <th>15053</th>\n",
       "      <td>41</td>\n",
       "      <td>3.0</td>\n",
       "      <td>65.683640</td>\n",
       "      <td>40.049541</td>\n",
       "      <td>8.0</td>\n",
       "      <td>7</td>\n",
       "      <td>9.0</td>\n",
       "      <td>1978</td>\n",
       "      <td>0.000070</td>\n",
       "      <td>B</td>\n",
       "      <td>B</td>\n",
       "      <td>46</td>\n",
       "      <td>10309</td>\n",
       "      <td>1</td>\n",
       "      <td>240.0</td>\n",
       "      <td>1</td>\n",
       "      <td>16</td>\n",
       "      <td>B</td>\n",
       "    </tr>\n",
       "    <tr>\n",
       "      <th>4765</th>\n",
       "      <td>53</td>\n",
       "      <td>2.0</td>\n",
       "      <td>44.947952</td>\n",
       "      <td>29.197611</td>\n",
       "      <td>0.0</td>\n",
       "      <td>8</td>\n",
       "      <td>12.0</td>\n",
       "      <td>1968</td>\n",
       "      <td>0.049637</td>\n",
       "      <td>B</td>\n",
       "      <td>B</td>\n",
       "      <td>34</td>\n",
       "      <td>7759</td>\n",
       "      <td>0</td>\n",
       "      <td>229.0</td>\n",
       "      <td>1</td>\n",
       "      <td>3</td>\n",
       "      <td>B</td>\n",
       "    </tr>\n",
       "    <tr>\n",
       "      <th>5809</th>\n",
       "      <td>58</td>\n",
       "      <td>2.0</td>\n",
       "      <td>53.352982</td>\n",
       "      <td>52.731510</td>\n",
       "      <td>9.0</td>\n",
       "      <td>8</td>\n",
       "      <td>17.0</td>\n",
       "      <td>1977</td>\n",
       "      <td>0.437885</td>\n",
       "      <td>B</td>\n",
       "      <td>B</td>\n",
       "      <td>23</td>\n",
       "      <td>5735</td>\n",
       "      <td>3</td>\n",
       "      <td>1084.0</td>\n",
       "      <td>0</td>\n",
       "      <td>5</td>\n",
       "      <td>B</td>\n",
       "    </tr>\n",
       "    <tr>\n",
       "      <th>10783</th>\n",
       "      <td>99</td>\n",
       "      <td>1.0</td>\n",
       "      <td>39.649193</td>\n",
       "      <td>23.776169</td>\n",
       "      <td>7.0</td>\n",
       "      <td>11</td>\n",
       "      <td>12.0</td>\n",
       "      <td>1976</td>\n",
       "      <td>0.012339</td>\n",
       "      <td>B</td>\n",
       "      <td>B</td>\n",
       "      <td>35</td>\n",
       "      <td>5776</td>\n",
       "      <td>1</td>\n",
       "      <td>2078.0</td>\n",
       "      <td>2</td>\n",
       "      <td>4</td>\n",
       "      <td>B</td>\n",
       "    </tr>\n",
       "    <tr>\n",
       "      <th>12915</th>\n",
       "      <td>59</td>\n",
       "      <td>3.0</td>\n",
       "      <td>80.384476</td>\n",
       "      <td>46.683720</td>\n",
       "      <td>12.0</td>\n",
       "      <td>5</td>\n",
       "      <td>17.0</td>\n",
       "      <td>2011</td>\n",
       "      <td>0.309479</td>\n",
       "      <td>B</td>\n",
       "      <td>B</td>\n",
       "      <td>35</td>\n",
       "      <td>7715</td>\n",
       "      <td>4</td>\n",
       "      <td>990.0</td>\n",
       "      <td>0</td>\n",
       "      <td>6</td>\n",
       "      <td>B</td>\n",
       "    </tr>\n",
       "    <tr>\n",
       "      <th>14549</th>\n",
       "      <td>154</td>\n",
       "      <td>2.0</td>\n",
       "      <td>62.254112</td>\n",
       "      <td>37.160378</td>\n",
       "      <td>7.0</td>\n",
       "      <td>3</td>\n",
       "      <td>5.0</td>\n",
       "      <td>1960</td>\n",
       "      <td>0.460556</td>\n",
       "      <td>B</td>\n",
       "      <td>B</td>\n",
       "      <td>20</td>\n",
       "      <td>4386</td>\n",
       "      <td>14</td>\n",
       "      <td>NaN</td>\n",
       "      <td>1</td>\n",
       "      <td>5</td>\n",
       "      <td>B</td>\n",
       "    </tr>\n",
       "    <tr>\n",
       "      <th>11993</th>\n",
       "      <td>74</td>\n",
       "      <td>2.0</td>\n",
       "      <td>80.312927</td>\n",
       "      <td>NaN</td>\n",
       "      <td>0.0</td>\n",
       "      <td>14</td>\n",
       "      <td>0.0</td>\n",
       "      <td>1977</td>\n",
       "      <td>0.075779</td>\n",
       "      <td>B</td>\n",
       "      <td>B</td>\n",
       "      <td>6</td>\n",
       "      <td>1437</td>\n",
       "      <td>3</td>\n",
       "      <td>NaN</td>\n",
       "      <td>0</td>\n",
       "      <td>2</td>\n",
       "      <td>B</td>\n",
       "    </tr>\n",
       "    <tr>\n",
       "      <th>5172</th>\n",
       "      <td>1</td>\n",
       "      <td>2.0</td>\n",
       "      <td>64.511436</td>\n",
       "      <td>NaN</td>\n",
       "      <td>1.0</td>\n",
       "      <td>9</td>\n",
       "      <td>17.0</td>\n",
       "      <td>1977</td>\n",
       "      <td>0.007122</td>\n",
       "      <td>B</td>\n",
       "      <td>B</td>\n",
       "      <td>1</td>\n",
       "      <td>264</td>\n",
       "      <td>0</td>\n",
       "      <td>NaN</td>\n",
       "      <td>0</td>\n",
       "      <td>1</td>\n",
       "      <td>B</td>\n",
       "    </tr>\n",
       "    <tr>\n",
       "      <th>8649</th>\n",
       "      <td>23</td>\n",
       "      <td>1.0</td>\n",
       "      <td>46.461411</td>\n",
       "      <td>18.915552</td>\n",
       "      <td>8.0</td>\n",
       "      <td>13</td>\n",
       "      <td>17.0</td>\n",
       "      <td>2014</td>\n",
       "      <td>0.075779</td>\n",
       "      <td>B</td>\n",
       "      <td>B</td>\n",
       "      <td>6</td>\n",
       "      <td>1437</td>\n",
       "      <td>3</td>\n",
       "      <td>NaN</td>\n",
       "      <td>0</td>\n",
       "      <td>2</td>\n",
       "      <td>B</td>\n",
       "    </tr>\n",
       "  </tbody>\n",
       "</table>\n",
       "</div>"
      ],
      "text/plain": [
       "       DistrictId  Rooms     Square  LifeSquare  KitchenSquare  Floor  \\\n",
       "Id                                                                      \n",
       "14038          35    2.0  47.981560   29.442751            6.0      7   \n",
       "15053          41    3.0  65.683640   40.049541            8.0      7   \n",
       "4765           53    2.0  44.947952   29.197611            0.0      8   \n",
       "5809           58    2.0  53.352982   52.731510            9.0      8   \n",
       "10783          99    1.0  39.649193   23.776169            7.0     11   \n",
       "12915          59    3.0  80.384476   46.683720           12.0      5   \n",
       "14549         154    2.0  62.254112   37.160378            7.0      3   \n",
       "11993          74    2.0  80.312927         NaN            0.0     14   \n",
       "5172            1    2.0  64.511436         NaN            1.0      9   \n",
       "8649           23    1.0  46.461411   18.915552            8.0     13   \n",
       "\n",
       "       HouseFloor  HouseYear  Ecology_1 Ecology_2 Ecology_3  Social_1  \\\n",
       "Id                                                                      \n",
       "14038         9.0       1969   0.089040         B         B        33   \n",
       "15053         9.0       1978   0.000070         B         B        46   \n",
       "4765         12.0       1968   0.049637         B         B        34   \n",
       "5809         17.0       1977   0.437885         B         B        23   \n",
       "10783        12.0       1976   0.012339         B         B        35   \n",
       "12915        17.0       2011   0.309479         B         B        35   \n",
       "14549         5.0       1960   0.460556         B         B        20   \n",
       "11993         0.0       1977   0.075779         B         B         6   \n",
       "5172         17.0       1977   0.007122         B         B         1   \n",
       "8649         17.0       2014   0.075779         B         B         6   \n",
       "\n",
       "       Social_2  Social_3  Healthcare_1  Helthcare_2  Shops_1 Shops_2  \n",
       "Id                                                                     \n",
       "14038      7976         5           NaN            0       11       B  \n",
       "15053     10309         1         240.0            1       16       B  \n",
       "4765       7759         0         229.0            1        3       B  \n",
       "5809       5735         3        1084.0            0        5       B  \n",
       "10783      5776         1        2078.0            2        4       B  \n",
       "12915      7715         4         990.0            0        6       B  \n",
       "14549      4386        14           NaN            1        5       B  \n",
       "11993      1437         3           NaN            0        2       B  \n",
       "5172        264         0           NaN            0        1       B  \n",
       "8649       1437         3           NaN            0        2       B  "
      ]
     },
     "execution_count": 11,
     "metadata": {},
     "output_type": "execute_result"
    }
   ],
   "source": [
    "X.head(10)"
   ]
  },
  {
   "cell_type": "code",
   "execution_count": 12,
   "metadata": {},
   "outputs": [
    {
     "name": "stdout",
     "output_type": "stream",
     "text": [
      "Dataset Shape: (10000, 18)\n"
     ]
    },
    {
     "data": {
      "text/html": [
       "<div>\n",
       "<style scoped>\n",
       "    .dataframe tbody tr th:only-of-type {\n",
       "        vertical-align: middle;\n",
       "    }\n",
       "\n",
       "    .dataframe tbody tr th {\n",
       "        vertical-align: top;\n",
       "    }\n",
       "\n",
       "    .dataframe thead th {\n",
       "        text-align: right;\n",
       "    }\n",
       "</style>\n",
       "<table border=\"1\" class=\"dataframe\">\n",
       "  <thead>\n",
       "    <tr style=\"text-align: right;\">\n",
       "      <th></th>\n",
       "      <th>Name</th>\n",
       "      <th>dtypes</th>\n",
       "      <th>Missing</th>\n",
       "      <th>PercMissing</th>\n",
       "      <th>Uniques</th>\n",
       "      <th>First Value</th>\n",
       "      <th>Second Value</th>\n",
       "      <th>Third Value</th>\n",
       "    </tr>\n",
       "  </thead>\n",
       "  <tbody>\n",
       "    <tr>\n",
       "      <th>0</th>\n",
       "      <td>DistrictId</td>\n",
       "      <td>int16</td>\n",
       "      <td>0</td>\n",
       "      <td>0.0000</td>\n",
       "      <td>205</td>\n",
       "      <td>35</td>\n",
       "      <td>41</td>\n",
       "      <td>53</td>\n",
       "    </tr>\n",
       "    <tr>\n",
       "      <th>1</th>\n",
       "      <td>Rooms</td>\n",
       "      <td>float32</td>\n",
       "      <td>0</td>\n",
       "      <td>0.0000</td>\n",
       "      <td>9</td>\n",
       "      <td>2</td>\n",
       "      <td>3</td>\n",
       "      <td>2</td>\n",
       "    </tr>\n",
       "    <tr>\n",
       "      <th>2</th>\n",
       "      <td>Square</td>\n",
       "      <td>float32</td>\n",
       "      <td>0</td>\n",
       "      <td>0.0000</td>\n",
       "      <td>9995</td>\n",
       "      <td>47.9816</td>\n",
       "      <td>65.6836</td>\n",
       "      <td>44.948</td>\n",
       "    </tr>\n",
       "    <tr>\n",
       "      <th>3</th>\n",
       "      <td>LifeSquare</td>\n",
       "      <td>float32</td>\n",
       "      <td>2113</td>\n",
       "      <td>0.2113</td>\n",
       "      <td>7886</td>\n",
       "      <td>29.4428</td>\n",
       "      <td>40.0495</td>\n",
       "      <td>29.1976</td>\n",
       "    </tr>\n",
       "    <tr>\n",
       "      <th>4</th>\n",
       "      <td>KitchenSquare</td>\n",
       "      <td>float32</td>\n",
       "      <td>0</td>\n",
       "      <td>0.0000</td>\n",
       "      <td>58</td>\n",
       "      <td>6</td>\n",
       "      <td>8</td>\n",
       "      <td>0</td>\n",
       "    </tr>\n",
       "    <tr>\n",
       "      <th>5</th>\n",
       "      <td>Floor</td>\n",
       "      <td>int8</td>\n",
       "      <td>0</td>\n",
       "      <td>0.0000</td>\n",
       "      <td>33</td>\n",
       "      <td>7</td>\n",
       "      <td>7</td>\n",
       "      <td>8</td>\n",
       "    </tr>\n",
       "    <tr>\n",
       "      <th>6</th>\n",
       "      <td>HouseFloor</td>\n",
       "      <td>float32</td>\n",
       "      <td>0</td>\n",
       "      <td>0.0000</td>\n",
       "      <td>44</td>\n",
       "      <td>9</td>\n",
       "      <td>9</td>\n",
       "      <td>12</td>\n",
       "    </tr>\n",
       "    <tr>\n",
       "      <th>7</th>\n",
       "      <td>HouseYear</td>\n",
       "      <td>int32</td>\n",
       "      <td>0</td>\n",
       "      <td>0.0000</td>\n",
       "      <td>97</td>\n",
       "      <td>1969</td>\n",
       "      <td>1978</td>\n",
       "      <td>1968</td>\n",
       "    </tr>\n",
       "    <tr>\n",
       "      <th>8</th>\n",
       "      <td>Ecology_1</td>\n",
       "      <td>float32</td>\n",
       "      <td>0</td>\n",
       "      <td>0.0000</td>\n",
       "      <td>129</td>\n",
       "      <td>0.0890397</td>\n",
       "      <td>6.99893e-05</td>\n",
       "      <td>0.0496373</td>\n",
       "    </tr>\n",
       "    <tr>\n",
       "      <th>9</th>\n",
       "      <td>Ecology_2</td>\n",
       "      <td>category</td>\n",
       "      <td>0</td>\n",
       "      <td>0.0000</td>\n",
       "      <td>2</td>\n",
       "      <td>B</td>\n",
       "      <td>B</td>\n",
       "      <td>B</td>\n",
       "    </tr>\n",
       "    <tr>\n",
       "      <th>10</th>\n",
       "      <td>Ecology_3</td>\n",
       "      <td>category</td>\n",
       "      <td>0</td>\n",
       "      <td>0.0000</td>\n",
       "      <td>2</td>\n",
       "      <td>B</td>\n",
       "      <td>B</td>\n",
       "      <td>B</td>\n",
       "    </tr>\n",
       "    <tr>\n",
       "      <th>11</th>\n",
       "      <td>Social_1</td>\n",
       "      <td>int8</td>\n",
       "      <td>0</td>\n",
       "      <td>0.0000</td>\n",
       "      <td>51</td>\n",
       "      <td>33</td>\n",
       "      <td>46</td>\n",
       "      <td>34</td>\n",
       "    </tr>\n",
       "    <tr>\n",
       "      <th>12</th>\n",
       "      <td>Social_2</td>\n",
       "      <td>int16</td>\n",
       "      <td>0</td>\n",
       "      <td>0.0000</td>\n",
       "      <td>142</td>\n",
       "      <td>7976</td>\n",
       "      <td>10309</td>\n",
       "      <td>7759</td>\n",
       "    </tr>\n",
       "    <tr>\n",
       "      <th>13</th>\n",
       "      <td>Social_3</td>\n",
       "      <td>int16</td>\n",
       "      <td>0</td>\n",
       "      <td>0.0000</td>\n",
       "      <td>30</td>\n",
       "      <td>5</td>\n",
       "      <td>1</td>\n",
       "      <td>0</td>\n",
       "    </tr>\n",
       "    <tr>\n",
       "      <th>14</th>\n",
       "      <td>Healthcare_1</td>\n",
       "      <td>float32</td>\n",
       "      <td>4798</td>\n",
       "      <td>0.4798</td>\n",
       "      <td>79</td>\n",
       "      <td>NaN</td>\n",
       "      <td>240</td>\n",
       "      <td>229</td>\n",
       "    </tr>\n",
       "    <tr>\n",
       "      <th>15</th>\n",
       "      <td>Helthcare_2</td>\n",
       "      <td>int8</td>\n",
       "      <td>0</td>\n",
       "      <td>0.0000</td>\n",
       "      <td>7</td>\n",
       "      <td>0</td>\n",
       "      <td>1</td>\n",
       "      <td>1</td>\n",
       "    </tr>\n",
       "    <tr>\n",
       "      <th>16</th>\n",
       "      <td>Shops_1</td>\n",
       "      <td>int8</td>\n",
       "      <td>0</td>\n",
       "      <td>0.0000</td>\n",
       "      <td>16</td>\n",
       "      <td>11</td>\n",
       "      <td>16</td>\n",
       "      <td>3</td>\n",
       "    </tr>\n",
       "    <tr>\n",
       "      <th>17</th>\n",
       "      <td>Shops_2</td>\n",
       "      <td>category</td>\n",
       "      <td>0</td>\n",
       "      <td>0.0000</td>\n",
       "      <td>2</td>\n",
       "      <td>B</td>\n",
       "      <td>B</td>\n",
       "      <td>B</td>\n",
       "    </tr>\n",
       "  </tbody>\n",
       "</table>\n",
       "</div>"
      ],
      "text/plain": [
       "             Name    dtypes  Missing  PercMissing  Uniques First Value  \\\n",
       "0      DistrictId     int16        0       0.0000      205          35   \n",
       "1           Rooms   float32        0       0.0000        9           2   \n",
       "2          Square   float32        0       0.0000     9995     47.9816   \n",
       "3      LifeSquare   float32     2113       0.2113     7886     29.4428   \n",
       "4   KitchenSquare   float32        0       0.0000       58           6   \n",
       "5           Floor      int8        0       0.0000       33           7   \n",
       "6      HouseFloor   float32        0       0.0000       44           9   \n",
       "7       HouseYear     int32        0       0.0000       97        1969   \n",
       "8       Ecology_1   float32        0       0.0000      129   0.0890397   \n",
       "9       Ecology_2  category        0       0.0000        2           B   \n",
       "10      Ecology_3  category        0       0.0000        2           B   \n",
       "11       Social_1      int8        0       0.0000       51          33   \n",
       "12       Social_2     int16        0       0.0000      142        7976   \n",
       "13       Social_3     int16        0       0.0000       30           5   \n",
       "14   Healthcare_1   float32     4798       0.4798       79         NaN   \n",
       "15    Helthcare_2      int8        0       0.0000        7           0   \n",
       "16        Shops_1      int8        0       0.0000       16          11   \n",
       "17        Shops_2  category        0       0.0000        2           B   \n",
       "\n",
       "   Second Value Third Value  \n",
       "0            41          53  \n",
       "1             3           2  \n",
       "2       65.6836      44.948  \n",
       "3       40.0495     29.1976  \n",
       "4             8           0  \n",
       "5             7           8  \n",
       "6             9          12  \n",
       "7          1978        1968  \n",
       "8   6.99893e-05   0.0496373  \n",
       "9             B           B  \n",
       "10            B           B  \n",
       "11           46          34  \n",
       "12        10309        7759  \n",
       "13            1           0  \n",
       "14          240         229  \n",
       "15            1           1  \n",
       "16           16           3  \n",
       "17            B           B  "
      ]
     },
     "execution_count": 12,
     "metadata": {},
     "output_type": "execute_result"
    }
   ],
   "source": [
    "description(X)"
   ]
  },
  {
   "cell_type": "code",
   "execution_count": 13,
   "metadata": {},
   "outputs": [],
   "source": [
    "replace_nan(X)\n",
    "replace_nan(X_test)"
   ]
  },
  {
   "cell_type": "code",
   "execution_count": 14,
   "metadata": {},
   "outputs": [
    {
     "name": "stdout",
     "output_type": "stream",
     "text": [
      "<class 'pandas.core.frame.DataFrame'>\n",
      "Int64Index: 10000 entries, 14038 to 6306\n",
      "Data columns (total 18 columns):\n",
      " #   Column         Non-Null Count  Dtype   \n",
      "---  ------         --------------  -----   \n",
      " 0   DistrictId     10000 non-null  int16   \n",
      " 1   Rooms          10000 non-null  float32 \n",
      " 2   Square         10000 non-null  float32 \n",
      " 3   LifeSquare     10000 non-null  float32 \n",
      " 4   KitchenSquare  10000 non-null  float32 \n",
      " 5   Floor          10000 non-null  int8    \n",
      " 6   HouseFloor     10000 non-null  float32 \n",
      " 7   HouseYear      10000 non-null  int32   \n",
      " 8   Ecology_1      10000 non-null  float32 \n",
      " 9   Ecology_2      10000 non-null  category\n",
      " 10  Ecology_3      10000 non-null  category\n",
      " 11  Social_1       10000 non-null  int8    \n",
      " 12  Social_2       10000 non-null  int16   \n",
      " 13  Social_3       10000 non-null  int16   \n",
      " 14  Healthcare_1   10000 non-null  float32 \n",
      " 15  Helthcare_2    10000 non-null  int8    \n",
      " 16  Shops_1        10000 non-null  int8    \n",
      " 17  Shops_2        10000 non-null  category\n",
      "dtypes: category(3), float32(7), int16(3), int32(1), int8(4)\n",
      "memory usage: 517.9 KB\n"
     ]
    }
   ],
   "source": [
    "X.info()"
   ]
  },
  {
   "cell_type": "code",
   "execution_count": 15,
   "metadata": {},
   "outputs": [
    {
     "data": {
      "text/html": [
       "<div>\n",
       "<style scoped>\n",
       "    .dataframe tbody tr th:only-of-type {\n",
       "        vertical-align: middle;\n",
       "    }\n",
       "\n",
       "    .dataframe tbody tr th {\n",
       "        vertical-align: top;\n",
       "    }\n",
       "\n",
       "    .dataframe thead th {\n",
       "        text-align: right;\n",
       "    }\n",
       "</style>\n",
       "<table border=\"1\" class=\"dataframe\">\n",
       "  <thead>\n",
       "    <tr style=\"text-align: right;\">\n",
       "      <th></th>\n",
       "      <th>DistrictId</th>\n",
       "      <th>Rooms</th>\n",
       "      <th>Square</th>\n",
       "      <th>LifeSquare</th>\n",
       "      <th>KitchenSquare</th>\n",
       "      <th>Floor</th>\n",
       "      <th>HouseFloor</th>\n",
       "      <th>HouseYear</th>\n",
       "      <th>Ecology_1</th>\n",
       "      <th>Social_1</th>\n",
       "      <th>Social_2</th>\n",
       "      <th>Social_3</th>\n",
       "      <th>Healthcare_1</th>\n",
       "      <th>Helthcare_2</th>\n",
       "      <th>Shops_1</th>\n",
       "    </tr>\n",
       "  </thead>\n",
       "  <tbody>\n",
       "    <tr>\n",
       "      <th>count</th>\n",
       "      <td>10000.000000</td>\n",
       "      <td>10000.000000</td>\n",
       "      <td>10000.000000</td>\n",
       "      <td>10000.000000</td>\n",
       "      <td>10000.000000</td>\n",
       "      <td>10000.000000</td>\n",
       "      <td>10000.000000</td>\n",
       "      <td>1.000000e+04</td>\n",
       "      <td>10000.000000</td>\n",
       "      <td>10000.000000</td>\n",
       "      <td>10000.000000</td>\n",
       "      <td>10000.000000</td>\n",
       "      <td>10000.00000</td>\n",
       "      <td>10000.000000</td>\n",
       "      <td>10000.000000</td>\n",
       "    </tr>\n",
       "    <tr>\n",
       "      <th>mean</th>\n",
       "      <td>50.400800</td>\n",
       "      <td>1.890500</td>\n",
       "      <td>56.315712</td>\n",
       "      <td>36.494846</td>\n",
       "      <td>6.273300</td>\n",
       "      <td>8.526700</td>\n",
       "      <td>12.609400</td>\n",
       "      <td>3.990166e+03</td>\n",
       "      <td>0.118858</td>\n",
       "      <td>24.687000</td>\n",
       "      <td>5352.157400</td>\n",
       "      <td>8.039200</td>\n",
       "      <td>853.63092</td>\n",
       "      <td>1.319500</td>\n",
       "      <td>4.231300</td>\n",
       "    </tr>\n",
       "    <tr>\n",
       "      <th>std</th>\n",
       "      <td>43.587592</td>\n",
       "      <td>0.839523</td>\n",
       "      <td>21.058718</td>\n",
       "      <td>76.601707</td>\n",
       "      <td>28.561113</td>\n",
       "      <td>5.241148</td>\n",
       "      <td>6.776192</td>\n",
       "      <td>2.005003e+05</td>\n",
       "      <td>0.119026</td>\n",
       "      <td>17.532614</td>\n",
       "      <td>4006.799803</td>\n",
       "      <td>23.831875</td>\n",
       "      <td>795.91925</td>\n",
       "      <td>1.493601</td>\n",
       "      <td>4.806341</td>\n",
       "    </tr>\n",
       "    <tr>\n",
       "      <th>min</th>\n",
       "      <td>0.000000</td>\n",
       "      <td>0.000000</td>\n",
       "      <td>1.136859</td>\n",
       "      <td>0.370619</td>\n",
       "      <td>0.000000</td>\n",
       "      <td>1.000000</td>\n",
       "      <td>0.000000</td>\n",
       "      <td>1.910000e+03</td>\n",
       "      <td>0.000000</td>\n",
       "      <td>0.000000</td>\n",
       "      <td>168.000000</td>\n",
       "      <td>0.000000</td>\n",
       "      <td>0.00000</td>\n",
       "      <td>0.000000</td>\n",
       "      <td>0.000000</td>\n",
       "    </tr>\n",
       "    <tr>\n",
       "      <th>25%</th>\n",
       "      <td>20.000000</td>\n",
       "      <td>1.000000</td>\n",
       "      <td>41.774879</td>\n",
       "      <td>25.527400</td>\n",
       "      <td>1.000000</td>\n",
       "      <td>4.000000</td>\n",
       "      <td>9.000000</td>\n",
       "      <td>1.974000e+03</td>\n",
       "      <td>0.017647</td>\n",
       "      <td>6.000000</td>\n",
       "      <td>1564.000000</td>\n",
       "      <td>0.000000</td>\n",
       "      <td>540.00000</td>\n",
       "      <td>0.000000</td>\n",
       "      <td>1.000000</td>\n",
       "    </tr>\n",
       "    <tr>\n",
       "      <th>50%</th>\n",
       "      <td>36.000000</td>\n",
       "      <td>2.000000</td>\n",
       "      <td>52.513309</td>\n",
       "      <td>33.859653</td>\n",
       "      <td>6.000000</td>\n",
       "      <td>7.000000</td>\n",
       "      <td>13.000000</td>\n",
       "      <td>1.977000e+03</td>\n",
       "      <td>0.075424</td>\n",
       "      <td>25.000000</td>\n",
       "      <td>5285.000000</td>\n",
       "      <td>2.000000</td>\n",
       "      <td>540.00000</td>\n",
       "      <td>1.000000</td>\n",
       "      <td>3.000000</td>\n",
       "    </tr>\n",
       "    <tr>\n",
       "      <th>75%</th>\n",
       "      <td>75.000000</td>\n",
       "      <td>2.000000</td>\n",
       "      <td>65.900627</td>\n",
       "      <td>41.427234</td>\n",
       "      <td>9.000000</td>\n",
       "      <td>12.000000</td>\n",
       "      <td>17.000000</td>\n",
       "      <td>2.001000e+03</td>\n",
       "      <td>0.195781</td>\n",
       "      <td>36.000000</td>\n",
       "      <td>7227.000000</td>\n",
       "      <td>5.000000</td>\n",
       "      <td>990.00000</td>\n",
       "      <td>2.000000</td>\n",
       "      <td>6.000000</td>\n",
       "    </tr>\n",
       "    <tr>\n",
       "      <th>max</th>\n",
       "      <td>209.000000</td>\n",
       "      <td>19.000000</td>\n",
       "      <td>641.065186</td>\n",
       "      <td>7480.592285</td>\n",
       "      <td>2014.000000</td>\n",
       "      <td>42.000000</td>\n",
       "      <td>117.000000</td>\n",
       "      <td>2.005201e+07</td>\n",
       "      <td>0.521867</td>\n",
       "      <td>74.000000</td>\n",
       "      <td>19083.000000</td>\n",
       "      <td>141.000000</td>\n",
       "      <td>4849.00000</td>\n",
       "      <td>6.000000</td>\n",
       "      <td>23.000000</td>\n",
       "    </tr>\n",
       "  </tbody>\n",
       "</table>\n",
       "</div>"
      ],
      "text/plain": [
       "         DistrictId         Rooms        Square    LifeSquare  KitchenSquare  \\\n",
       "count  10000.000000  10000.000000  10000.000000  10000.000000   10000.000000   \n",
       "mean      50.400800      1.890500     56.315712     36.494846       6.273300   \n",
       "std       43.587592      0.839523     21.058718     76.601707      28.561113   \n",
       "min        0.000000      0.000000      1.136859      0.370619       0.000000   \n",
       "25%       20.000000      1.000000     41.774879     25.527400       1.000000   \n",
       "50%       36.000000      2.000000     52.513309     33.859653       6.000000   \n",
       "75%       75.000000      2.000000     65.900627     41.427234       9.000000   \n",
       "max      209.000000     19.000000    641.065186   7480.592285    2014.000000   \n",
       "\n",
       "              Floor    HouseFloor     HouseYear     Ecology_1      Social_1  \\\n",
       "count  10000.000000  10000.000000  1.000000e+04  10000.000000  10000.000000   \n",
       "mean       8.526700     12.609400  3.990166e+03      0.118858     24.687000   \n",
       "std        5.241148      6.776192  2.005003e+05      0.119026     17.532614   \n",
       "min        1.000000      0.000000  1.910000e+03      0.000000      0.000000   \n",
       "25%        4.000000      9.000000  1.974000e+03      0.017647      6.000000   \n",
       "50%        7.000000     13.000000  1.977000e+03      0.075424     25.000000   \n",
       "75%       12.000000     17.000000  2.001000e+03      0.195781     36.000000   \n",
       "max       42.000000    117.000000  2.005201e+07      0.521867     74.000000   \n",
       "\n",
       "           Social_2      Social_3  Healthcare_1   Helthcare_2       Shops_1  \n",
       "count  10000.000000  10000.000000   10000.00000  10000.000000  10000.000000  \n",
       "mean    5352.157400      8.039200     853.63092      1.319500      4.231300  \n",
       "std     4006.799803     23.831875     795.91925      1.493601      4.806341  \n",
       "min      168.000000      0.000000       0.00000      0.000000      0.000000  \n",
       "25%     1564.000000      0.000000     540.00000      0.000000      1.000000  \n",
       "50%     5285.000000      2.000000     540.00000      1.000000      3.000000  \n",
       "75%     7227.000000      5.000000     990.00000      2.000000      6.000000  \n",
       "max    19083.000000    141.000000    4849.00000      6.000000     23.000000  "
      ]
     },
     "execution_count": 15,
     "metadata": {},
     "output_type": "execute_result"
    }
   ],
   "source": [
    "X.describe()"
   ]
  },
  {
   "cell_type": "code",
   "execution_count": 16,
   "metadata": {},
   "outputs": [
    {
     "name": "stderr",
     "output_type": "stream",
     "text": [
      "/opt/anaconda3/lib/python3.8/site-packages/seaborn/distributions.py:2551: FutureWarning: `distplot` is a deprecated function and will be removed in a future version. Please adapt your code to use either `displot` (a figure-level function with similar flexibility) or `histplot` (an axes-level function for histograms).\n",
      "  warnings.warn(msg, FutureWarning)\n"
     ]
    },
    {
     "data": {
      "text/plain": [
       "<AxesSubplot:xlabel='Price', ylabel='Density'>"
      ]
     },
     "execution_count": 16,
     "metadata": {},
     "output_type": "execute_result"
    },
    {
     "data": {
      "image/png": "[encoded data removed]",
      "text/plain": [
       "<Figure size 432x288 with 1 Axes>"
      ]
     },
     "metadata": {
      "needs_background": "light"
     },
     "output_type": "display_data"
    }
   ],
   "source": [
    "sns.distplot(y, color='r')"
   ]
  },
  {
   "cell_type": "code",
   "execution_count": 17,
   "metadata": {},
   "outputs": [
    {
     "name": "stderr",
     "output_type": "stream",
     "text": [
      "/opt/anaconda3/lib/python3.8/site-packages/seaborn/distributions.py:2551: FutureWarning: `distplot` is a deprecated function and will be removed in a future version. Please adapt your code to use either `displot` (a figure-level function with similar flexibility) or `histplot` (an axes-level function for histograms).\n",
      "  warnings.warn(msg, FutureWarning)\n"
     ]
    },
    {
     "data": {
      "text/plain": [
       "<AxesSubplot:xlabel='Healthcare_1', ylabel='Density'>"
      ]
     },
     "execution_count": 17,
     "metadata": {},
     "output_type": "execute_result"
    },
    {
     "data": {
      "image/png": "[encoded data removed]",
      "text/plain": [
       "<Figure size 432x288 with 1 Axes>"
      ]
     },
     "metadata": {
      "needs_background": "light"
     },
     "output_type": "display_data"
    }
   ],
   "source": [
    "sns.distplot(X['Healthcare_1'], color='r')"
   ]
  },
  {
   "cell_type": "code",
   "execution_count": 18,
   "metadata": {},
   "outputs": [],
   "source": [
    "X['Healthcare_1'].fillna(X['Healthcare_1'].mean(), inplace=True)"
   ]
  },
  {
   "cell_type": "code",
   "execution_count": 19,
   "metadata": {},
   "outputs": [],
   "source": [
    "X_test['Healthcare_1'].fillna(X_test['Healthcare_1'].mean(), inplace=True)"
   ]
  },
  {
   "cell_type": "code",
   "execution_count": 20,
   "metadata": {},
   "outputs": [],
   "source": [
    "X['DistrictId'] = X['DistrictId'].astype(str)\n",
    "X_test['DistrictId'] = X_test['DistrictId'].astype(str)"
   ]
  },
  {
   "cell_type": "markdown",
   "metadata": {},
   "source": [
    "## 1.  EDA"
   ]
  },
  {
   "cell_type": "code",
   "execution_count": 21,
   "metadata": {},
   "outputs": [],
   "source": [
    "X['Rooms_outlier'] = 0  #add column\n",
    "X.loc[(X['Rooms'] == 0) | (X['Rooms'] >= 6), 'Rooms_outlier'] = 1\n",
    "X.head()        \n",
    "X.loc[X['Rooms'] == 0, 'Rooms'] = 1\n",
    "#X.loc[X['Rooms'] >= 6, 'Rooms'] = X['Rooms'].median # !!! медиана посчитана на трейне !!!\n",
    "#print(X['Rooms'].median)"
   ]
  },
  {
   "cell_type": "code",
   "execution_count": 22,
   "metadata": {},
   "outputs": [
    {
     "data": {
      "image/png": "[encoded data removed]",
      "text/plain": [
       "<Figure size 1152x288 with 1 Axes>"
      ]
     },
     "metadata": {
      "needs_background": "light"
     },
     "output_type": "display_data"
    }
   ],
   "source": [
    "r_qt = (X['Rooms'].value_counts()).reset_index()\n",
    "r_qt.columns=['Rooms', 'qty']\n",
    "show_plt(r_qt['Rooms'], r_qt['qty'], 'square', 'qty', 12, (16,4), 90, 'Rooms qty')"
   ]
  },
  {
   "cell_type": "code",
   "execution_count": 23,
   "metadata": {},
   "outputs": [
    {
     "data": {
      "image/png": "[encoded data removed]",
      "text/plain": [
       "<Figure size 1152x288 with 1 Axes>"
      ]
     },
     "metadata": {
      "needs_background": "light"
     },
     "output_type": "display_data"
    }
   ],
   "source": [
    "k_sq = (X['KitchenSquare'].value_counts()).reset_index()\n",
    "k_sq.columns=['square', 'qty']\n",
    "show_plt(k_sq['square'], k_sq['qty'], 'square', 'qty', 12, (16,4), 90, 'kitchen square qty')"
   ]
  },
  {
   "cell_type": "code",
   "execution_count": 24,
   "metadata": {},
   "outputs": [
    {
     "data": {
      "image/png": "[encoded data removed]",
      "text/plain": [
       "<Figure size 1152x288 with 1 Axes>"
      ]
     },
     "metadata": {
      "needs_background": "light"
     },
     "output_type": "display_data"
    }
   ],
   "source": [
    "hfl = (X['HouseFloor'].value_counts().sort_values()).reset_index()\n",
    "hfl.columns=['housefloor', 'qty']\n",
    "show_plt(hfl['housefloor'], hfl['qty'], 'square', 'qty', 12, (16,4), 90, 'house floor qty')"
   ]
  },
  {
   "cell_type": "code",
   "execution_count": 25,
   "metadata": {},
   "outputs": [
    {
     "data": {
      "text/html": [
       "<div>\n",
       "<style scoped>\n",
       "    .dataframe tbody tr th:only-of-type {\n",
       "        vertical-align: middle;\n",
       "    }\n",
       "\n",
       "    .dataframe tbody tr th {\n",
       "        vertical-align: top;\n",
       "    }\n",
       "\n",
       "    .dataframe thead th {\n",
       "        text-align: right;\n",
       "    }\n",
       "</style>\n",
       "<table border=\"1\" class=\"dataframe\">\n",
       "  <thead>\n",
       "    <tr style=\"text-align: right;\">\n",
       "      <th></th>\n",
       "      <th>DistrictId</th>\n",
       "      <th>Rooms</th>\n",
       "      <th>Square</th>\n",
       "      <th>LifeSquare</th>\n",
       "      <th>KitchenSquare</th>\n",
       "      <th>Floor</th>\n",
       "      <th>HouseFloor</th>\n",
       "      <th>HouseYear</th>\n",
       "      <th>Ecology_1</th>\n",
       "      <th>Ecology_2</th>\n",
       "      <th>Ecology_3</th>\n",
       "      <th>Social_1</th>\n",
       "      <th>Social_2</th>\n",
       "      <th>Social_3</th>\n",
       "      <th>Healthcare_1</th>\n",
       "      <th>Helthcare_2</th>\n",
       "      <th>Shops_1</th>\n",
       "      <th>Shops_2</th>\n",
       "      <th>Rooms_outlier</th>\n",
       "    </tr>\n",
       "    <tr>\n",
       "      <th>Id</th>\n",
       "      <th></th>\n",
       "      <th></th>\n",
       "      <th></th>\n",
       "      <th></th>\n",
       "      <th></th>\n",
       "      <th></th>\n",
       "      <th></th>\n",
       "      <th></th>\n",
       "      <th></th>\n",
       "      <th></th>\n",
       "      <th></th>\n",
       "      <th></th>\n",
       "      <th></th>\n",
       "      <th></th>\n",
       "      <th></th>\n",
       "      <th></th>\n",
       "      <th></th>\n",
       "      <th></th>\n",
       "      <th></th>\n",
       "    </tr>\n",
       "  </thead>\n",
       "  <tbody>\n",
       "    <tr>\n",
       "      <th>11993</th>\n",
       "      <td>74</td>\n",
       "      <td>2.0</td>\n",
       "      <td>80.312927</td>\n",
       "      <td>33.859653</td>\n",
       "      <td>0.0</td>\n",
       "      <td>14</td>\n",
       "      <td>0.0</td>\n",
       "      <td>1977</td>\n",
       "      <td>0.075779</td>\n",
       "      <td>B</td>\n",
       "      <td>B</td>\n",
       "      <td>6</td>\n",
       "      <td>1437</td>\n",
       "      <td>3</td>\n",
       "      <td>540.0</td>\n",
       "      <td>0</td>\n",
       "      <td>2</td>\n",
       "      <td>B</td>\n",
       "      <td>0</td>\n",
       "    </tr>\n",
       "    <tr>\n",
       "      <th>10953</th>\n",
       "      <td>27</td>\n",
       "      <td>1.0</td>\n",
       "      <td>53.769096</td>\n",
       "      <td>52.408028</td>\n",
       "      <td>1.0</td>\n",
       "      <td>5</td>\n",
       "      <td>4.0</td>\n",
       "      <td>1977</td>\n",
       "      <td>0.072158</td>\n",
       "      <td>B</td>\n",
       "      <td>B</td>\n",
       "      <td>2</td>\n",
       "      <td>629</td>\n",
       "      <td>1</td>\n",
       "      <td>540.0</td>\n",
       "      <td>0</td>\n",
       "      <td>0</td>\n",
       "      <td>A</td>\n",
       "      <td>0</td>\n",
       "    </tr>\n",
       "    <tr>\n",
       "      <th>2119</th>\n",
       "      <td>27</td>\n",
       "      <td>2.0</td>\n",
       "      <td>49.360649</td>\n",
       "      <td>31.993963</td>\n",
       "      <td>5.0</td>\n",
       "      <td>6</td>\n",
       "      <td>5.0</td>\n",
       "      <td>1983</td>\n",
       "      <td>0.051815</td>\n",
       "      <td>B</td>\n",
       "      <td>B</td>\n",
       "      <td>5</td>\n",
       "      <td>1227</td>\n",
       "      <td>0</td>\n",
       "      <td>540.0</td>\n",
       "      <td>0</td>\n",
       "      <td>0</td>\n",
       "      <td>B</td>\n",
       "      <td>0</td>\n",
       "    </tr>\n",
       "    <tr>\n",
       "      <th>11935</th>\n",
       "      <td>27</td>\n",
       "      <td>2.0</td>\n",
       "      <td>64.711838</td>\n",
       "      <td>33.859653</td>\n",
       "      <td>1.0</td>\n",
       "      <td>15</td>\n",
       "      <td>1.0</td>\n",
       "      <td>1977</td>\n",
       "      <td>0.211401</td>\n",
       "      <td>B</td>\n",
       "      <td>B</td>\n",
       "      <td>9</td>\n",
       "      <td>1892</td>\n",
       "      <td>0</td>\n",
       "      <td>540.0</td>\n",
       "      <td>0</td>\n",
       "      <td>1</td>\n",
       "      <td>B</td>\n",
       "      <td>0</td>\n",
       "    </tr>\n",
       "    <tr>\n",
       "      <th>6641</th>\n",
       "      <td>54</td>\n",
       "      <td>3.0</td>\n",
       "      <td>118.907608</td>\n",
       "      <td>33.859653</td>\n",
       "      <td>0.0</td>\n",
       "      <td>2</td>\n",
       "      <td>0.0</td>\n",
       "      <td>1977</td>\n",
       "      <td>0.006076</td>\n",
       "      <td>B</td>\n",
       "      <td>B</td>\n",
       "      <td>30</td>\n",
       "      <td>5285</td>\n",
       "      <td>0</td>\n",
       "      <td>645.0</td>\n",
       "      <td>6</td>\n",
       "      <td>6</td>\n",
       "      <td>B</td>\n",
       "      <td>0</td>\n",
       "    </tr>\n",
       "    <tr>\n",
       "      <th>...</th>\n",
       "      <td>...</td>\n",
       "      <td>...</td>\n",
       "      <td>...</td>\n",
       "      <td>...</td>\n",
       "      <td>...</td>\n",
       "      <td>...</td>\n",
       "      <td>...</td>\n",
       "      <td>...</td>\n",
       "      <td>...</td>\n",
       "      <td>...</td>\n",
       "      <td>...</td>\n",
       "      <td>...</td>\n",
       "      <td>...</td>\n",
       "      <td>...</td>\n",
       "      <td>...</td>\n",
       "      <td>...</td>\n",
       "      <td>...</td>\n",
       "      <td>...</td>\n",
       "      <td>...</td>\n",
       "    </tr>\n",
       "    <tr>\n",
       "      <th>2237</th>\n",
       "      <td>52</td>\n",
       "      <td>3.0</td>\n",
       "      <td>64.074974</td>\n",
       "      <td>47.633427</td>\n",
       "      <td>6.0</td>\n",
       "      <td>11</td>\n",
       "      <td>9.0</td>\n",
       "      <td>1983</td>\n",
       "      <td>0.371149</td>\n",
       "      <td>B</td>\n",
       "      <td>B</td>\n",
       "      <td>34</td>\n",
       "      <td>7065</td>\n",
       "      <td>1</td>\n",
       "      <td>750.0</td>\n",
       "      <td>2</td>\n",
       "      <td>5</td>\n",
       "      <td>B</td>\n",
       "      <td>0</td>\n",
       "    </tr>\n",
       "    <tr>\n",
       "      <th>16159</th>\n",
       "      <td>27</td>\n",
       "      <td>1.0</td>\n",
       "      <td>38.968338</td>\n",
       "      <td>33.859653</td>\n",
       "      <td>1.0</td>\n",
       "      <td>10</td>\n",
       "      <td>1.0</td>\n",
       "      <td>1977</td>\n",
       "      <td>0.211401</td>\n",
       "      <td>B</td>\n",
       "      <td>B</td>\n",
       "      <td>9</td>\n",
       "      <td>1892</td>\n",
       "      <td>0</td>\n",
       "      <td>540.0</td>\n",
       "      <td>0</td>\n",
       "      <td>1</td>\n",
       "      <td>B</td>\n",
       "      <td>0</td>\n",
       "    </tr>\n",
       "    <tr>\n",
       "      <th>4145</th>\n",
       "      <td>96</td>\n",
       "      <td>3.0</td>\n",
       "      <td>90.055229</td>\n",
       "      <td>47.860229</td>\n",
       "      <td>11.0</td>\n",
       "      <td>26</td>\n",
       "      <td>24.0</td>\n",
       "      <td>2005</td>\n",
       "      <td>0.041116</td>\n",
       "      <td>B</td>\n",
       "      <td>B</td>\n",
       "      <td>53</td>\n",
       "      <td>14892</td>\n",
       "      <td>4</td>\n",
       "      <td>540.0</td>\n",
       "      <td>1</td>\n",
       "      <td>4</td>\n",
       "      <td>B</td>\n",
       "      <td>0</td>\n",
       "    </tr>\n",
       "    <tr>\n",
       "      <th>11553</th>\n",
       "      <td>3</td>\n",
       "      <td>3.0</td>\n",
       "      <td>101.622795</td>\n",
       "      <td>51.628780</td>\n",
       "      <td>12.0</td>\n",
       "      <td>18</td>\n",
       "      <td>17.0</td>\n",
       "      <td>2000</td>\n",
       "      <td>0.265089</td>\n",
       "      <td>B</td>\n",
       "      <td>B</td>\n",
       "      <td>37</td>\n",
       "      <td>5288</td>\n",
       "      <td>0</td>\n",
       "      <td>1937.0</td>\n",
       "      <td>3</td>\n",
       "      <td>2</td>\n",
       "      <td>B</td>\n",
       "      <td>0</td>\n",
       "    </tr>\n",
       "    <tr>\n",
       "      <th>77</th>\n",
       "      <td>32</td>\n",
       "      <td>2.0</td>\n",
       "      <td>50.401787</td>\n",
       "      <td>30.476204</td>\n",
       "      <td>5.0</td>\n",
       "      <td>6</td>\n",
       "      <td>5.0</td>\n",
       "      <td>1968</td>\n",
       "      <td>0.135650</td>\n",
       "      <td>B</td>\n",
       "      <td>B</td>\n",
       "      <td>46</td>\n",
       "      <td>7960</td>\n",
       "      <td>6</td>\n",
       "      <td>350.0</td>\n",
       "      <td>3</td>\n",
       "      <td>11</td>\n",
       "      <td>B</td>\n",
       "      <td>0</td>\n",
       "    </tr>\n",
       "  </tbody>\n",
       "</table>\n",
       "<p>1825 rows × 19 columns</p>\n",
       "</div>"
      ],
      "text/plain": [
       "      DistrictId  Rooms      Square  LifeSquare  KitchenSquare  Floor  \\\n",
       "Id                                                                      \n",
       "11993         74    2.0   80.312927   33.859653            0.0     14   \n",
       "10953         27    1.0   53.769096   52.408028            1.0      5   \n",
       "2119          27    2.0   49.360649   31.993963            5.0      6   \n",
       "11935         27    2.0   64.711838   33.859653            1.0     15   \n",
       "6641          54    3.0  118.907608   33.859653            0.0      2   \n",
       "...          ...    ...         ...         ...            ...    ...   \n",
       "2237          52    3.0   64.074974   47.633427            6.0     11   \n",
       "16159         27    1.0   38.968338   33.859653            1.0     10   \n",
       "4145          96    3.0   90.055229   47.860229           11.0     26   \n",
       "11553          3    3.0  101.622795   51.628780           12.0     18   \n",
       "77            32    2.0   50.401787   30.476204            5.0      6   \n",
       "\n",
       "       HouseFloor  HouseYear  Ecology_1 Ecology_2 Ecology_3  Social_1  \\\n",
       "Id                                                                      \n",
       "11993         0.0       1977   0.075779         B         B         6   \n",
       "10953         4.0       1977   0.072158         B         B         2   \n",
       "2119          5.0       1983   0.051815         B         B         5   \n",
       "11935         1.0       1977   0.211401         B         B         9   \n",
       "6641          0.0       1977   0.006076         B         B        30   \n",
       "...           ...        ...        ...       ...       ...       ...   \n",
       "2237          9.0       1983   0.371149         B         B        34   \n",
       "16159         1.0       1977   0.211401         B         B         9   \n",
       "4145         24.0       2005   0.041116         B         B        53   \n",
       "11553        17.0       2000   0.265089         B         B        37   \n",
       "77            5.0       1968   0.135650         B         B        46   \n",
       "\n",
       "       Social_2  Social_3  Healthcare_1  Helthcare_2  Shops_1 Shops_2  \\\n",
       "Id                                                                      \n",
       "11993      1437         3         540.0            0        2       B   \n",
       "10953       629         1         540.0            0        0       A   \n",
       "2119       1227         0         540.0            0        0       B   \n",
       "11935      1892         0         540.0            0        1       B   \n",
       "6641       5285         0         645.0            6        6       B   \n",
       "...         ...       ...           ...          ...      ...     ...   \n",
       "2237       7065         1         750.0            2        5       B   \n",
       "16159      1892         0         540.0            0        1       B   \n",
       "4145      14892         4         540.0            1        4       B   \n",
       "11553      5288         0        1937.0            3        2       B   \n",
       "77         7960         6         350.0            3       11       B   \n",
       "\n",
       "       Rooms_outlier  \n",
       "Id                    \n",
       "11993              0  \n",
       "10953              0  \n",
       "2119               0  \n",
       "11935              0  \n",
       "6641               0  \n",
       "...              ...  \n",
       "2237               0  \n",
       "16159              0  \n",
       "4145               0  \n",
       "11553              0  \n",
       "77                 0  \n",
       "\n",
       "[1825 rows x 19 columns]"
      ]
     },
     "execution_count": 25,
     "metadata": {},
     "output_type": "execute_result"
    }
   ],
   "source": [
    "X[X['HouseFloor'] < X['Floor']]"
   ]
  },
  {
   "cell_type": "code",
   "execution_count": 26,
   "metadata": {},
   "outputs": [
    {
     "data": {
      "image/png": "[encoded data removed]",
      "text/plain": [
       "<Figure size 1152x288 with 1 Axes>"
      ]
     },
     "metadata": {
      "needs_background": "light"
     },
     "output_type": "display_data"
    }
   ],
   "source": [
    "d_id = (X['DistrictId'].value_counts()).reset_index()\n",
    "d_id.columns=['DistrictId', 'qty']\n",
    "d_id['DistrictId'] = d_id['DistrictId'].apply(np.int)\n",
    "show_plt(d_id['DistrictId'], d_id['qty'], 'square', 'qty', 12, (16,4), 90, 'DistrictId')\n",
    "\n",
    "#d_id.info()\n",
    "#d_id.sort_values('DistrictId').head(50)"
   ]
  },
  {
   "cell_type": "code",
   "execution_count": 27,
   "metadata": {},
   "outputs": [
    {
     "data": {
      "image/png": "[encoded data removed]",
      "text/plain": [
       "<Figure size 1152x288 with 1 Axes>"
      ]
     },
     "metadata": {
      "needs_background": "light"
     },
     "output_type": "display_data"
    }
   ],
   "source": [
    "h_y = (X['HouseYear'].value_counts()).reset_index()\n",
    "h_y.columns=['year', 'qty']\n",
    "show_plt(h_y['year'], h_y['qty'], 'square', 'qty', 12, (16,4), 90, 'HouseYear')"
   ]
  },
  {
   "cell_type": "code",
   "execution_count": 28,
   "metadata": {},
   "outputs": [
    {
     "data": {
      "text/plain": [
       "array([ 1,  2,  3,  4,  5,  6,  7,  8,  9, 10, 11, 12, 13, 14, 15, 16, 17,\n",
       "       18, 19, 20, 21, 22, 23, 24, 25, 26, 27, 28, 31, 32, 33, 37, 42],\n",
       "      dtype=int8)"
      ]
     },
     "execution_count": 28,
     "metadata": {},
     "output_type": "execute_result"
    }
   ],
   "source": [
    "X['Floor'].sort_values().unique()"
   ]
  },
  {
   "cell_type": "code",
   "execution_count": 29,
   "metadata": {},
   "outputs": [
    {
     "data": {
      "text/html": [
       "<div>\n",
       "<style scoped>\n",
       "    .dataframe tbody tr th:only-of-type {\n",
       "        vertical-align: middle;\n",
       "    }\n",
       "\n",
       "    .dataframe tbody tr th {\n",
       "        vertical-align: top;\n",
       "    }\n",
       "\n",
       "    .dataframe thead th {\n",
       "        text-align: right;\n",
       "    }\n",
       "</style>\n",
       "<table border=\"1\" class=\"dataframe\">\n",
       "  <thead>\n",
       "    <tr style=\"text-align: right;\">\n",
       "      <th></th>\n",
       "      <th>DistrictId</th>\n",
       "      <th>Rooms</th>\n",
       "      <th>Square</th>\n",
       "      <th>LifeSquare</th>\n",
       "      <th>KitchenSquare</th>\n",
       "      <th>Floor</th>\n",
       "      <th>HouseFloor</th>\n",
       "      <th>HouseYear</th>\n",
       "      <th>Ecology_1</th>\n",
       "      <th>Ecology_2</th>\n",
       "      <th>Ecology_3</th>\n",
       "      <th>Social_1</th>\n",
       "      <th>Social_2</th>\n",
       "      <th>Social_3</th>\n",
       "      <th>Healthcare_1</th>\n",
       "      <th>Helthcare_2</th>\n",
       "      <th>Shops_1</th>\n",
       "      <th>Shops_2</th>\n",
       "      <th>Rooms_outlier</th>\n",
       "    </tr>\n",
       "    <tr>\n",
       "      <th>Id</th>\n",
       "      <th></th>\n",
       "      <th></th>\n",
       "      <th></th>\n",
       "      <th></th>\n",
       "      <th></th>\n",
       "      <th></th>\n",
       "      <th></th>\n",
       "      <th></th>\n",
       "      <th></th>\n",
       "      <th></th>\n",
       "      <th></th>\n",
       "      <th></th>\n",
       "      <th></th>\n",
       "      <th></th>\n",
       "      <th></th>\n",
       "      <th></th>\n",
       "      <th></th>\n",
       "      <th></th>\n",
       "      <th></th>\n",
       "    </tr>\n",
       "  </thead>\n",
       "  <tbody>\n",
       "    <tr>\n",
       "      <th>10814</th>\n",
       "      <td>109</td>\n",
       "      <td>1.0</td>\n",
       "      <td>37.265072</td>\n",
       "      <td>20.239714</td>\n",
       "      <td>9.0</td>\n",
       "      <td>9</td>\n",
       "      <td>12.0</td>\n",
       "      <td>20052011</td>\n",
       "      <td>0.136330</td>\n",
       "      <td>B</td>\n",
       "      <td>B</td>\n",
       "      <td>30</td>\n",
       "      <td>6141</td>\n",
       "      <td>10</td>\n",
       "      <td>262.0</td>\n",
       "      <td>3</td>\n",
       "      <td>6</td>\n",
       "      <td>B</td>\n",
       "      <td>0</td>\n",
       "    </tr>\n",
       "    <tr>\n",
       "      <th>11607</th>\n",
       "      <td>147</td>\n",
       "      <td>2.0</td>\n",
       "      <td>44.791836</td>\n",
       "      <td>28.360394</td>\n",
       "      <td>5.0</td>\n",
       "      <td>4</td>\n",
       "      <td>9.0</td>\n",
       "      <td>4968</td>\n",
       "      <td>0.319809</td>\n",
       "      <td>B</td>\n",
       "      <td>B</td>\n",
       "      <td>25</td>\n",
       "      <td>4756</td>\n",
       "      <td>16</td>\n",
       "      <td>2857.0</td>\n",
       "      <td>5</td>\n",
       "      <td>8</td>\n",
       "      <td>B</td>\n",
       "      <td>0</td>\n",
       "    </tr>\n",
       "  </tbody>\n",
       "</table>\n",
       "</div>"
      ],
      "text/plain": [
       "      DistrictId  Rooms     Square  LifeSquare  KitchenSquare  Floor  \\\n",
       "Id                                                                     \n",
       "10814        109    1.0  37.265072   20.239714            9.0      9   \n",
       "11607        147    2.0  44.791836   28.360394            5.0      4   \n",
       "\n",
       "       HouseFloor  HouseYear  Ecology_1 Ecology_2 Ecology_3  Social_1  \\\n",
       "Id                                                                      \n",
       "10814        12.0   20052011   0.136330         B         B        30   \n",
       "11607         9.0       4968   0.319809         B         B        25   \n",
       "\n",
       "       Social_2  Social_3  Healthcare_1  Helthcare_2  Shops_1 Shops_2  \\\n",
       "Id                                                                      \n",
       "10814      6141        10         262.0            3        6       B   \n",
       "11607      4756        16        2857.0            5        8       B   \n",
       "\n",
       "       Rooms_outlier  \n",
       "Id                    \n",
       "10814              0  \n",
       "11607              0  "
      ]
     },
     "execution_count": 29,
     "metadata": {},
     "output_type": "execute_result"
    }
   ],
   "source": [
    "X[X['HouseYear'] > 2020].head()"
   ]
  },
  {
   "cell_type": "code",
   "execution_count": 30,
   "metadata": {},
   "outputs": [
    {
     "data": {
      "text/html": [
       "<div>\n",
       "<style scoped>\n",
       "    .dataframe tbody tr th:only-of-type {\n",
       "        vertical-align: middle;\n",
       "    }\n",
       "\n",
       "    .dataframe tbody tr th {\n",
       "        vertical-align: top;\n",
       "    }\n",
       "\n",
       "    .dataframe thead th {\n",
       "        text-align: right;\n",
       "    }\n",
       "</style>\n",
       "<table border=\"1\" class=\"dataframe\">\n",
       "  <thead>\n",
       "    <tr style=\"text-align: right;\">\n",
       "      <th></th>\n",
       "      <th>DistrictId</th>\n",
       "      <th>Rooms</th>\n",
       "      <th>Square</th>\n",
       "      <th>LifeSquare</th>\n",
       "      <th>KitchenSquare</th>\n",
       "      <th>Floor</th>\n",
       "      <th>HouseFloor</th>\n",
       "      <th>HouseYear</th>\n",
       "      <th>Ecology_1</th>\n",
       "      <th>Ecology_2</th>\n",
       "      <th>Ecology_3</th>\n",
       "      <th>Social_1</th>\n",
       "      <th>Social_2</th>\n",
       "      <th>Social_3</th>\n",
       "      <th>Healthcare_1</th>\n",
       "      <th>Helthcare_2</th>\n",
       "      <th>Shops_1</th>\n",
       "      <th>Shops_2</th>\n",
       "      <th>Rooms_outlier</th>\n",
       "    </tr>\n",
       "    <tr>\n",
       "      <th>Id</th>\n",
       "      <th></th>\n",
       "      <th></th>\n",
       "      <th></th>\n",
       "      <th></th>\n",
       "      <th></th>\n",
       "      <th></th>\n",
       "      <th></th>\n",
       "      <th></th>\n",
       "      <th></th>\n",
       "      <th></th>\n",
       "      <th></th>\n",
       "      <th></th>\n",
       "      <th></th>\n",
       "      <th></th>\n",
       "      <th></th>\n",
       "      <th></th>\n",
       "      <th></th>\n",
       "      <th></th>\n",
       "      <th></th>\n",
       "    </tr>\n",
       "  </thead>\n",
       "  <tbody>\n",
       "    <tr>\n",
       "      <th>28</th>\n",
       "      <td>9</td>\n",
       "      <td>2.0</td>\n",
       "      <td>604.705994</td>\n",
       "      <td>33.859653</td>\n",
       "      <td>1.0</td>\n",
       "      <td>17</td>\n",
       "      <td>18.0</td>\n",
       "      <td>1977</td>\n",
       "      <td>0.161532</td>\n",
       "      <td>B</td>\n",
       "      <td>B</td>\n",
       "      <td>25</td>\n",
       "      <td>5648</td>\n",
       "      <td>1</td>\n",
       "      <td>30.0</td>\n",
       "      <td>2</td>\n",
       "      <td>4</td>\n",
       "      <td>B</td>\n",
       "      <td>0</td>\n",
       "    </tr>\n",
       "    <tr>\n",
       "      <th>2307</th>\n",
       "      <td>102</td>\n",
       "      <td>1.0</td>\n",
       "      <td>409.425171</td>\n",
       "      <td>410.639740</td>\n",
       "      <td>10.0</td>\n",
       "      <td>4</td>\n",
       "      <td>4.0</td>\n",
       "      <td>2016</td>\n",
       "      <td>0.238617</td>\n",
       "      <td>B</td>\n",
       "      <td>B</td>\n",
       "      <td>26</td>\n",
       "      <td>3889</td>\n",
       "      <td>6</td>\n",
       "      <td>705.0</td>\n",
       "      <td>3</td>\n",
       "      <td>6</td>\n",
       "      <td>B</td>\n",
       "      <td>0</td>\n",
       "    </tr>\n",
       "    <tr>\n",
       "      <th>11602</th>\n",
       "      <td>30</td>\n",
       "      <td>2.0</td>\n",
       "      <td>641.065186</td>\n",
       "      <td>638.163208</td>\n",
       "      <td>10.0</td>\n",
       "      <td>20</td>\n",
       "      <td>19.0</td>\n",
       "      <td>2019</td>\n",
       "      <td>0.000078</td>\n",
       "      <td>B</td>\n",
       "      <td>B</td>\n",
       "      <td>22</td>\n",
       "      <td>6398</td>\n",
       "      <td>141</td>\n",
       "      <td>1046.0</td>\n",
       "      <td>3</td>\n",
       "      <td>23</td>\n",
       "      <td>B</td>\n",
       "      <td>0</td>\n",
       "    </tr>\n",
       "  </tbody>\n",
       "</table>\n",
       "</div>"
      ],
      "text/plain": [
       "      DistrictId  Rooms      Square  LifeSquare  KitchenSquare  Floor  \\\n",
       "Id                                                                      \n",
       "28             9    2.0  604.705994   33.859653            1.0     17   \n",
       "2307         102    1.0  409.425171  410.639740           10.0      4   \n",
       "11602         30    2.0  641.065186  638.163208           10.0     20   \n",
       "\n",
       "       HouseFloor  HouseYear  Ecology_1 Ecology_2 Ecology_3  Social_1  \\\n",
       "Id                                                                      \n",
       "28           18.0       1977   0.161532         B         B        25   \n",
       "2307          4.0       2016   0.238617         B         B        26   \n",
       "11602        19.0       2019   0.000078         B         B        22   \n",
       "\n",
       "       Social_2  Social_3  Healthcare_1  Helthcare_2  Shops_1 Shops_2  \\\n",
       "Id                                                                      \n",
       "28         5648         1          30.0            2        4       B   \n",
       "2307       3889         6         705.0            3        6       B   \n",
       "11602      6398       141        1046.0            3       23       B   \n",
       "\n",
       "       Rooms_outlier  \n",
       "Id                    \n",
       "28                 0  \n",
       "2307               0  \n",
       "11602              0  "
      ]
     },
     "execution_count": 30,
     "metadata": {},
     "output_type": "execute_result"
    }
   ],
   "source": [
    "X[X['Square'] > 300]"
   ]
  },
  {
   "cell_type": "code",
   "execution_count": 31,
   "metadata": {},
   "outputs": [
    {
     "data": {
      "text/html": [
       "<div>\n",
       "<style scoped>\n",
       "    .dataframe tbody tr th:only-of-type {\n",
       "        vertical-align: middle;\n",
       "    }\n",
       "\n",
       "    .dataframe tbody tr th {\n",
       "        vertical-align: top;\n",
       "    }\n",
       "\n",
       "    .dataframe thead th {\n",
       "        text-align: right;\n",
       "    }\n",
       "</style>\n",
       "<table border=\"1\" class=\"dataframe\">\n",
       "  <thead>\n",
       "    <tr style=\"text-align: right;\">\n",
       "      <th></th>\n",
       "      <th>DistrictId</th>\n",
       "      <th>Rooms</th>\n",
       "      <th>Square</th>\n",
       "      <th>LifeSquare</th>\n",
       "      <th>KitchenSquare</th>\n",
       "      <th>Floor</th>\n",
       "      <th>HouseFloor</th>\n",
       "      <th>HouseYear</th>\n",
       "      <th>Ecology_1</th>\n",
       "      <th>Ecology_2</th>\n",
       "      <th>Ecology_3</th>\n",
       "      <th>Social_1</th>\n",
       "      <th>Social_2</th>\n",
       "      <th>Social_3</th>\n",
       "      <th>Healthcare_1</th>\n",
       "      <th>Helthcare_2</th>\n",
       "      <th>Shops_1</th>\n",
       "      <th>Shops_2</th>\n",
       "      <th>Rooms_outlier</th>\n",
       "    </tr>\n",
       "    <tr>\n",
       "      <th>Id</th>\n",
       "      <th></th>\n",
       "      <th></th>\n",
       "      <th></th>\n",
       "      <th></th>\n",
       "      <th></th>\n",
       "      <th></th>\n",
       "      <th></th>\n",
       "      <th></th>\n",
       "      <th></th>\n",
       "      <th></th>\n",
       "      <th></th>\n",
       "      <th></th>\n",
       "      <th></th>\n",
       "      <th></th>\n",
       "      <th></th>\n",
       "      <th></th>\n",
       "      <th></th>\n",
       "      <th></th>\n",
       "      <th></th>\n",
       "    </tr>\n",
       "  </thead>\n",
       "  <tbody>\n",
       "    <tr>\n",
       "      <th>8054</th>\n",
       "      <td>23</td>\n",
       "      <td>1.0</td>\n",
       "      <td>42.530045</td>\n",
       "      <td>43.967758</td>\n",
       "      <td>1.0</td>\n",
       "      <td>3</td>\n",
       "      <td>9.0</td>\n",
       "      <td>2014</td>\n",
       "      <td>0.034656</td>\n",
       "      <td>B</td>\n",
       "      <td>B</td>\n",
       "      <td>0</td>\n",
       "      <td>168</td>\n",
       "      <td>0</td>\n",
       "      <td>540.0</td>\n",
       "      <td>0</td>\n",
       "      <td>0</td>\n",
       "      <td>B</td>\n",
       "      <td>0</td>\n",
       "    </tr>\n",
       "    <tr>\n",
       "      <th>10521</th>\n",
       "      <td>38</td>\n",
       "      <td>3.0</td>\n",
       "      <td>104.211395</td>\n",
       "      <td>106.340401</td>\n",
       "      <td>0.0</td>\n",
       "      <td>20</td>\n",
       "      <td>0.0</td>\n",
       "      <td>2017</td>\n",
       "      <td>0.060753</td>\n",
       "      <td>B</td>\n",
       "      <td>B</td>\n",
       "      <td>15</td>\n",
       "      <td>2787</td>\n",
       "      <td>2</td>\n",
       "      <td>520.0</td>\n",
       "      <td>0</td>\n",
       "      <td>7</td>\n",
       "      <td>B</td>\n",
       "      <td>0</td>\n",
       "    </tr>\n",
       "    <tr>\n",
       "      <th>2301</th>\n",
       "      <td>1</td>\n",
       "      <td>2.0</td>\n",
       "      <td>61.400055</td>\n",
       "      <td>65.224602</td>\n",
       "      <td>0.0</td>\n",
       "      <td>17</td>\n",
       "      <td>22.0</td>\n",
       "      <td>2016</td>\n",
       "      <td>0.007122</td>\n",
       "      <td>B</td>\n",
       "      <td>B</td>\n",
       "      <td>1</td>\n",
       "      <td>264</td>\n",
       "      <td>0</td>\n",
       "      <td>540.0</td>\n",
       "      <td>0</td>\n",
       "      <td>1</td>\n",
       "      <td>B</td>\n",
       "      <td>0</td>\n",
       "    </tr>\n",
       "    <tr>\n",
       "      <th>8753</th>\n",
       "      <td>25</td>\n",
       "      <td>3.0</td>\n",
       "      <td>85.952309</td>\n",
       "      <td>89.803749</td>\n",
       "      <td>1.0</td>\n",
       "      <td>4</td>\n",
       "      <td>3.0</td>\n",
       "      <td>2017</td>\n",
       "      <td>0.069753</td>\n",
       "      <td>B</td>\n",
       "      <td>B</td>\n",
       "      <td>53</td>\n",
       "      <td>13670</td>\n",
       "      <td>4</td>\n",
       "      <td>540.0</td>\n",
       "      <td>1</td>\n",
       "      <td>11</td>\n",
       "      <td>B</td>\n",
       "      <td>0</td>\n",
       "    </tr>\n",
       "    <tr>\n",
       "      <th>9870</th>\n",
       "      <td>62</td>\n",
       "      <td>1.0</td>\n",
       "      <td>51.831474</td>\n",
       "      <td>53.491302</td>\n",
       "      <td>1.0</td>\n",
       "      <td>5</td>\n",
       "      <td>1.0</td>\n",
       "      <td>2015</td>\n",
       "      <td>0.072158</td>\n",
       "      <td>B</td>\n",
       "      <td>B</td>\n",
       "      <td>2</td>\n",
       "      <td>629</td>\n",
       "      <td>1</td>\n",
       "      <td>540.0</td>\n",
       "      <td>0</td>\n",
       "      <td>0</td>\n",
       "      <td>A</td>\n",
       "      <td>0</td>\n",
       "    </tr>\n",
       "    <tr>\n",
       "      <th>...</th>\n",
       "      <td>...</td>\n",
       "      <td>...</td>\n",
       "      <td>...</td>\n",
       "      <td>...</td>\n",
       "      <td>...</td>\n",
       "      <td>...</td>\n",
       "      <td>...</td>\n",
       "      <td>...</td>\n",
       "      <td>...</td>\n",
       "      <td>...</td>\n",
       "      <td>...</td>\n",
       "      <td>...</td>\n",
       "      <td>...</td>\n",
       "      <td>...</td>\n",
       "      <td>...</td>\n",
       "      <td>...</td>\n",
       "      <td>...</td>\n",
       "      <td>...</td>\n",
       "      <td>...</td>\n",
       "    </tr>\n",
       "    <tr>\n",
       "      <th>12918</th>\n",
       "      <td>23</td>\n",
       "      <td>2.0</td>\n",
       "      <td>51.440464</td>\n",
       "      <td>53.134243</td>\n",
       "      <td>51.0</td>\n",
       "      <td>3</td>\n",
       "      <td>17.0</td>\n",
       "      <td>2017</td>\n",
       "      <td>0.005767</td>\n",
       "      <td>B</td>\n",
       "      <td>B</td>\n",
       "      <td>1</td>\n",
       "      <td>388</td>\n",
       "      <td>0</td>\n",
       "      <td>540.0</td>\n",
       "      <td>0</td>\n",
       "      <td>0</td>\n",
       "      <td>B</td>\n",
       "      <td>0</td>\n",
       "    </tr>\n",
       "    <tr>\n",
       "      <th>2737</th>\n",
       "      <td>27</td>\n",
       "      <td>3.0</td>\n",
       "      <td>123.430069</td>\n",
       "      <td>125.806984</td>\n",
       "      <td>123.0</td>\n",
       "      <td>5</td>\n",
       "      <td>10.0</td>\n",
       "      <td>2015</td>\n",
       "      <td>0.017647</td>\n",
       "      <td>B</td>\n",
       "      <td>B</td>\n",
       "      <td>2</td>\n",
       "      <td>469</td>\n",
       "      <td>0</td>\n",
       "      <td>540.0</td>\n",
       "      <td>0</td>\n",
       "      <td>0</td>\n",
       "      <td>B</td>\n",
       "      <td>0</td>\n",
       "    </tr>\n",
       "    <tr>\n",
       "      <th>14001</th>\n",
       "      <td>73</td>\n",
       "      <td>1.0</td>\n",
       "      <td>44.098766</td>\n",
       "      <td>44.267551</td>\n",
       "      <td>1.0</td>\n",
       "      <td>7</td>\n",
       "      <td>24.0</td>\n",
       "      <td>2014</td>\n",
       "      <td>0.042032</td>\n",
       "      <td>B</td>\n",
       "      <td>B</td>\n",
       "      <td>37</td>\n",
       "      <td>6856</td>\n",
       "      <td>84</td>\n",
       "      <td>1940.0</td>\n",
       "      <td>2</td>\n",
       "      <td>5</td>\n",
       "      <td>B</td>\n",
       "      <td>0</td>\n",
       "    </tr>\n",
       "    <tr>\n",
       "      <th>16568</th>\n",
       "      <td>27</td>\n",
       "      <td>4.0</td>\n",
       "      <td>200.334534</td>\n",
       "      <td>201.627365</td>\n",
       "      <td>25.0</td>\n",
       "      <td>1</td>\n",
       "      <td>2.0</td>\n",
       "      <td>2013</td>\n",
       "      <td>0.041116</td>\n",
       "      <td>B</td>\n",
       "      <td>B</td>\n",
       "      <td>53</td>\n",
       "      <td>14892</td>\n",
       "      <td>4</td>\n",
       "      <td>540.0</td>\n",
       "      <td>1</td>\n",
       "      <td>4</td>\n",
       "      <td>B</td>\n",
       "      <td>0</td>\n",
       "    </tr>\n",
       "    <tr>\n",
       "      <th>1579</th>\n",
       "      <td>23</td>\n",
       "      <td>1.0</td>\n",
       "      <td>27.331108</td>\n",
       "      <td>33.859653</td>\n",
       "      <td>1.0</td>\n",
       "      <td>10</td>\n",
       "      <td>12.0</td>\n",
       "      <td>1977</td>\n",
       "      <td>0.034656</td>\n",
       "      <td>B</td>\n",
       "      <td>B</td>\n",
       "      <td>0</td>\n",
       "      <td>168</td>\n",
       "      <td>0</td>\n",
       "      <td>540.0</td>\n",
       "      <td>0</td>\n",
       "      <td>0</td>\n",
       "      <td>B</td>\n",
       "      <td>0</td>\n",
       "    </tr>\n",
       "  </tbody>\n",
       "</table>\n",
       "<p>530 rows × 19 columns</p>\n",
       "</div>"
      ],
      "text/plain": [
       "      DistrictId  Rooms      Square  LifeSquare  KitchenSquare  Floor  \\\n",
       "Id                                                                      \n",
       "8054          23    1.0   42.530045   43.967758            1.0      3   \n",
       "10521         38    3.0  104.211395  106.340401            0.0     20   \n",
       "2301           1    2.0   61.400055   65.224602            0.0     17   \n",
       "8753          25    3.0   85.952309   89.803749            1.0      4   \n",
       "9870          62    1.0   51.831474   53.491302            1.0      5   \n",
       "...          ...    ...         ...         ...            ...    ...   \n",
       "12918         23    2.0   51.440464   53.134243           51.0      3   \n",
       "2737          27    3.0  123.430069  125.806984          123.0      5   \n",
       "14001         73    1.0   44.098766   44.267551            1.0      7   \n",
       "16568         27    4.0  200.334534  201.627365           25.0      1   \n",
       "1579          23    1.0   27.331108   33.859653            1.0     10   \n",
       "\n",
       "       HouseFloor  HouseYear  Ecology_1 Ecology_2 Ecology_3  Social_1  \\\n",
       "Id                                                                      \n",
       "8054          9.0       2014   0.034656         B         B         0   \n",
       "10521         0.0       2017   0.060753         B         B        15   \n",
       "2301         22.0       2016   0.007122         B         B         1   \n",
       "8753          3.0       2017   0.069753         B         B        53   \n",
       "9870          1.0       2015   0.072158         B         B         2   \n",
       "...           ...        ...        ...       ...       ...       ...   \n",
       "12918        17.0       2017   0.005767         B         B         1   \n",
       "2737         10.0       2015   0.017647         B         B         2   \n",
       "14001        24.0       2014   0.042032         B         B        37   \n",
       "16568         2.0       2013   0.041116         B         B        53   \n",
       "1579         12.0       1977   0.034656         B         B         0   \n",
       "\n",
       "       Social_2  Social_3  Healthcare_1  Helthcare_2  Shops_1 Shops_2  \\\n",
       "Id                                                                      \n",
       "8054        168         0         540.0            0        0       B   \n",
       "10521      2787         2         520.0            0        7       B   \n",
       "2301        264         0         540.0            0        1       B   \n",
       "8753      13670         4         540.0            1       11       B   \n",
       "9870        629         1         540.0            0        0       A   \n",
       "...         ...       ...           ...          ...      ...     ...   \n",
       "12918       388         0         540.0            0        0       B   \n",
       "2737        469         0         540.0            0        0       B   \n",
       "14001      6856        84        1940.0            2        5       B   \n",
       "16568     14892         4         540.0            1        4       B   \n",
       "1579        168         0         540.0            0        0       B   \n",
       "\n",
       "       Rooms_outlier  \n",
       "Id                    \n",
       "8054               0  \n",
       "10521              0  \n",
       "2301               0  \n",
       "8753               0  \n",
       "9870               0  \n",
       "...              ...  \n",
       "12918              0  \n",
       "2737               0  \n",
       "14001              0  \n",
       "16568              0  \n",
       "1579               0  \n",
       "\n",
       "[530 rows x 19 columns]"
      ]
     },
     "execution_count": 31,
     "metadata": {},
     "output_type": "execute_result"
    }
   ],
   "source": [
    "X[X['Square'] < X['LifeSquare']]"
   ]
  },
  {
   "cell_type": "code",
   "execution_count": 32,
   "metadata": {},
   "outputs": [
    {
     "data": {
      "text/html": [
       "<div>\n",
       "<style scoped>\n",
       "    .dataframe tbody tr th:only-of-type {\n",
       "        vertical-align: middle;\n",
       "    }\n",
       "\n",
       "    .dataframe tbody tr th {\n",
       "        vertical-align: top;\n",
       "    }\n",
       "\n",
       "    .dataframe thead th {\n",
       "        text-align: right;\n",
       "    }\n",
       "</style>\n",
       "<table border=\"1\" class=\"dataframe\">\n",
       "  <thead>\n",
       "    <tr style=\"text-align: right;\">\n",
       "      <th></th>\n",
       "      <th>DistrictId</th>\n",
       "      <th>Rooms</th>\n",
       "      <th>Square</th>\n",
       "      <th>LifeSquare</th>\n",
       "      <th>KitchenSquare</th>\n",
       "      <th>Floor</th>\n",
       "      <th>HouseFloor</th>\n",
       "      <th>HouseYear</th>\n",
       "      <th>Ecology_1</th>\n",
       "      <th>Ecology_2</th>\n",
       "      <th>Ecology_3</th>\n",
       "      <th>Social_1</th>\n",
       "      <th>Social_2</th>\n",
       "      <th>Social_3</th>\n",
       "      <th>Healthcare_1</th>\n",
       "      <th>Helthcare_2</th>\n",
       "      <th>Shops_1</th>\n",
       "      <th>Shops_2</th>\n",
       "      <th>Rooms_outlier</th>\n",
       "    </tr>\n",
       "    <tr>\n",
       "      <th>Id</th>\n",
       "      <th></th>\n",
       "      <th></th>\n",
       "      <th></th>\n",
       "      <th></th>\n",
       "      <th></th>\n",
       "      <th></th>\n",
       "      <th></th>\n",
       "      <th></th>\n",
       "      <th></th>\n",
       "      <th></th>\n",
       "      <th></th>\n",
       "      <th></th>\n",
       "      <th></th>\n",
       "      <th></th>\n",
       "      <th></th>\n",
       "      <th></th>\n",
       "      <th></th>\n",
       "      <th></th>\n",
       "      <th></th>\n",
       "    </tr>\n",
       "  </thead>\n",
       "  <tbody>\n",
       "    <tr>\n",
       "      <th>9552</th>\n",
       "      <td>23</td>\n",
       "      <td>1.0</td>\n",
       "      <td>105.432182</td>\n",
       "      <td>106.178177</td>\n",
       "      <td>0.0</td>\n",
       "      <td>3</td>\n",
       "      <td>2.0</td>\n",
       "      <td>1977</td>\n",
       "      <td>0.014073</td>\n",
       "      <td>B</td>\n",
       "      <td>B</td>\n",
       "      <td>2</td>\n",
       "      <td>475</td>\n",
       "      <td>0</td>\n",
       "      <td>540.0</td>\n",
       "      <td>0</td>\n",
       "      <td>0</td>\n",
       "      <td>B</td>\n",
       "      <td>0</td>\n",
       "    </tr>\n",
       "    <tr>\n",
       "      <th>9275</th>\n",
       "      <td>113</td>\n",
       "      <td>1.0</td>\n",
       "      <td>101.737701</td>\n",
       "      <td>74.881317</td>\n",
       "      <td>16.0</td>\n",
       "      <td>23</td>\n",
       "      <td>24.0</td>\n",
       "      <td>2019</td>\n",
       "      <td>0.050756</td>\n",
       "      <td>B</td>\n",
       "      <td>B</td>\n",
       "      <td>24</td>\n",
       "      <td>5469</td>\n",
       "      <td>1</td>\n",
       "      <td>145.0</td>\n",
       "      <td>0</td>\n",
       "      <td>1</td>\n",
       "      <td>B</td>\n",
       "      <td>0</td>\n",
       "    </tr>\n",
       "    <tr>\n",
       "      <th>12638</th>\n",
       "      <td>27</td>\n",
       "      <td>1.0</td>\n",
       "      <td>138.427689</td>\n",
       "      <td>136.215500</td>\n",
       "      <td>0.0</td>\n",
       "      <td>4</td>\n",
       "      <td>3.0</td>\n",
       "      <td>2016</td>\n",
       "      <td>0.075424</td>\n",
       "      <td>B</td>\n",
       "      <td>B</td>\n",
       "      <td>11</td>\n",
       "      <td>3097</td>\n",
       "      <td>0</td>\n",
       "      <td>540.0</td>\n",
       "      <td>0</td>\n",
       "      <td>0</td>\n",
       "      <td>B</td>\n",
       "      <td>1</td>\n",
       "    </tr>\n",
       "    <tr>\n",
       "      <th>11055</th>\n",
       "      <td>151</td>\n",
       "      <td>1.0</td>\n",
       "      <td>174.649521</td>\n",
       "      <td>174.837082</td>\n",
       "      <td>15.0</td>\n",
       "      <td>10</td>\n",
       "      <td>12.0</td>\n",
       "      <td>1958</td>\n",
       "      <td>0.236108</td>\n",
       "      <td>B</td>\n",
       "      <td>B</td>\n",
       "      <td>16</td>\n",
       "      <td>3893</td>\n",
       "      <td>27</td>\n",
       "      <td>540.0</td>\n",
       "      <td>3</td>\n",
       "      <td>10</td>\n",
       "      <td>B</td>\n",
       "      <td>0</td>\n",
       "    </tr>\n",
       "    <tr>\n",
       "      <th>13603</th>\n",
       "      <td>63</td>\n",
       "      <td>1.0</td>\n",
       "      <td>127.651237</td>\n",
       "      <td>2.609712</td>\n",
       "      <td>1.0</td>\n",
       "      <td>8</td>\n",
       "      <td>17.0</td>\n",
       "      <td>2016</td>\n",
       "      <td>0.238617</td>\n",
       "      <td>B</td>\n",
       "      <td>B</td>\n",
       "      <td>26</td>\n",
       "      <td>3889</td>\n",
       "      <td>6</td>\n",
       "      <td>705.0</td>\n",
       "      <td>3</td>\n",
       "      <td>6</td>\n",
       "      <td>B</td>\n",
       "      <td>0</td>\n",
       "    </tr>\n",
       "    <tr>\n",
       "      <th>15157</th>\n",
       "      <td>54</td>\n",
       "      <td>1.0</td>\n",
       "      <td>106.239624</td>\n",
       "      <td>83.296165</td>\n",
       "      <td>17.0</td>\n",
       "      <td>26</td>\n",
       "      <td>37.0</td>\n",
       "      <td>2009</td>\n",
       "      <td>0.006076</td>\n",
       "      <td>B</td>\n",
       "      <td>B</td>\n",
       "      <td>30</td>\n",
       "      <td>5285</td>\n",
       "      <td>0</td>\n",
       "      <td>645.0</td>\n",
       "      <td>6</td>\n",
       "      <td>6</td>\n",
       "      <td>B</td>\n",
       "      <td>0</td>\n",
       "    </tr>\n",
       "    <tr>\n",
       "      <th>7917</th>\n",
       "      <td>27</td>\n",
       "      <td>1.0</td>\n",
       "      <td>212.932358</td>\n",
       "      <td>211.231125</td>\n",
       "      <td>0.0</td>\n",
       "      <td>2</td>\n",
       "      <td>3.0</td>\n",
       "      <td>2008</td>\n",
       "      <td>0.211401</td>\n",
       "      <td>B</td>\n",
       "      <td>B</td>\n",
       "      <td>9</td>\n",
       "      <td>1892</td>\n",
       "      <td>0</td>\n",
       "      <td>540.0</td>\n",
       "      <td>0</td>\n",
       "      <td>1</td>\n",
       "      <td>B</td>\n",
       "      <td>1</td>\n",
       "    </tr>\n",
       "    <tr>\n",
       "      <th>11599</th>\n",
       "      <td>23</td>\n",
       "      <td>1.0</td>\n",
       "      <td>121.988052</td>\n",
       "      <td>33.859653</td>\n",
       "      <td>1.0</td>\n",
       "      <td>2</td>\n",
       "      <td>2.0</td>\n",
       "      <td>1977</td>\n",
       "      <td>0.014073</td>\n",
       "      <td>B</td>\n",
       "      <td>B</td>\n",
       "      <td>2</td>\n",
       "      <td>475</td>\n",
       "      <td>0</td>\n",
       "      <td>540.0</td>\n",
       "      <td>0</td>\n",
       "      <td>0</td>\n",
       "      <td>B</td>\n",
       "      <td>0</td>\n",
       "    </tr>\n",
       "    <tr>\n",
       "      <th>14662</th>\n",
       "      <td>23</td>\n",
       "      <td>1.0</td>\n",
       "      <td>148.179031</td>\n",
       "      <td>33.859653</td>\n",
       "      <td>1.0</td>\n",
       "      <td>1</td>\n",
       "      <td>2.0</td>\n",
       "      <td>1977</td>\n",
       "      <td>0.014073</td>\n",
       "      <td>B</td>\n",
       "      <td>B</td>\n",
       "      <td>2</td>\n",
       "      <td>475</td>\n",
       "      <td>0</td>\n",
       "      <td>540.0</td>\n",
       "      <td>0</td>\n",
       "      <td>0</td>\n",
       "      <td>B</td>\n",
       "      <td>0</td>\n",
       "    </tr>\n",
       "    <tr>\n",
       "      <th>16204</th>\n",
       "      <td>23</td>\n",
       "      <td>1.0</td>\n",
       "      <td>160.647583</td>\n",
       "      <td>33.859653</td>\n",
       "      <td>1.0</td>\n",
       "      <td>3</td>\n",
       "      <td>3.0</td>\n",
       "      <td>1977</td>\n",
       "      <td>0.014073</td>\n",
       "      <td>B</td>\n",
       "      <td>B</td>\n",
       "      <td>2</td>\n",
       "      <td>475</td>\n",
       "      <td>0</td>\n",
       "      <td>540.0</td>\n",
       "      <td>0</td>\n",
       "      <td>0</td>\n",
       "      <td>B</td>\n",
       "      <td>0</td>\n",
       "    </tr>\n",
       "    <tr>\n",
       "      <th>6674</th>\n",
       "      <td>54</td>\n",
       "      <td>1.0</td>\n",
       "      <td>168.086349</td>\n",
       "      <td>125.486565</td>\n",
       "      <td>30.0</td>\n",
       "      <td>18</td>\n",
       "      <td>28.0</td>\n",
       "      <td>2011</td>\n",
       "      <td>0.006076</td>\n",
       "      <td>B</td>\n",
       "      <td>B</td>\n",
       "      <td>30</td>\n",
       "      <td>5285</td>\n",
       "      <td>0</td>\n",
       "      <td>645.0</td>\n",
       "      <td>6</td>\n",
       "      <td>6</td>\n",
       "      <td>B</td>\n",
       "      <td>0</td>\n",
       "    </tr>\n",
       "    <tr>\n",
       "      <th>6502</th>\n",
       "      <td>20</td>\n",
       "      <td>1.0</td>\n",
       "      <td>126.389519</td>\n",
       "      <td>103.637321</td>\n",
       "      <td>14.0</td>\n",
       "      <td>22</td>\n",
       "      <td>47.0</td>\n",
       "      <td>2012</td>\n",
       "      <td>0.019509</td>\n",
       "      <td>B</td>\n",
       "      <td>B</td>\n",
       "      <td>37</td>\n",
       "      <td>7687</td>\n",
       "      <td>11</td>\n",
       "      <td>176.0</td>\n",
       "      <td>5</td>\n",
       "      <td>5</td>\n",
       "      <td>B</td>\n",
       "      <td>0</td>\n",
       "    </tr>\n",
       "    <tr>\n",
       "      <th>15362</th>\n",
       "      <td>23</td>\n",
       "      <td>1.0</td>\n",
       "      <td>163.286972</td>\n",
       "      <td>161.155273</td>\n",
       "      <td>1.0</td>\n",
       "      <td>4</td>\n",
       "      <td>3.0</td>\n",
       "      <td>1977</td>\n",
       "      <td>0.014073</td>\n",
       "      <td>B</td>\n",
       "      <td>B</td>\n",
       "      <td>2</td>\n",
       "      <td>475</td>\n",
       "      <td>0</td>\n",
       "      <td>540.0</td>\n",
       "      <td>0</td>\n",
       "      <td>0</td>\n",
       "      <td>B</td>\n",
       "      <td>0</td>\n",
       "    </tr>\n",
       "    <tr>\n",
       "      <th>28</th>\n",
       "      <td>9</td>\n",
       "      <td>2.0</td>\n",
       "      <td>604.705994</td>\n",
       "      <td>33.859653</td>\n",
       "      <td>1.0</td>\n",
       "      <td>17</td>\n",
       "      <td>18.0</td>\n",
       "      <td>1977</td>\n",
       "      <td>0.161532</td>\n",
       "      <td>B</td>\n",
       "      <td>B</td>\n",
       "      <td>25</td>\n",
       "      <td>5648</td>\n",
       "      <td>1</td>\n",
       "      <td>30.0</td>\n",
       "      <td>2</td>\n",
       "      <td>4</td>\n",
       "      <td>B</td>\n",
       "      <td>0</td>\n",
       "    </tr>\n",
       "    <tr>\n",
       "      <th>10874</th>\n",
       "      <td>62</td>\n",
       "      <td>1.0</td>\n",
       "      <td>136.727219</td>\n",
       "      <td>33.859653</td>\n",
       "      <td>1.0</td>\n",
       "      <td>5</td>\n",
       "      <td>3.0</td>\n",
       "      <td>2017</td>\n",
       "      <td>0.072158</td>\n",
       "      <td>B</td>\n",
       "      <td>B</td>\n",
       "      <td>2</td>\n",
       "      <td>629</td>\n",
       "      <td>1</td>\n",
       "      <td>540.0</td>\n",
       "      <td>0</td>\n",
       "      <td>0</td>\n",
       "      <td>A</td>\n",
       "      <td>0</td>\n",
       "    </tr>\n",
       "    <tr>\n",
       "      <th>14773</th>\n",
       "      <td>30</td>\n",
       "      <td>1.0</td>\n",
       "      <td>105.619553</td>\n",
       "      <td>87.387093</td>\n",
       "      <td>5.0</td>\n",
       "      <td>14</td>\n",
       "      <td>39.0</td>\n",
       "      <td>2010</td>\n",
       "      <td>0.000078</td>\n",
       "      <td>B</td>\n",
       "      <td>B</td>\n",
       "      <td>22</td>\n",
       "      <td>6398</td>\n",
       "      <td>141</td>\n",
       "      <td>1046.0</td>\n",
       "      <td>3</td>\n",
       "      <td>23</td>\n",
       "      <td>B</td>\n",
       "      <td>0</td>\n",
       "    </tr>\n",
       "    <tr>\n",
       "      <th>2307</th>\n",
       "      <td>102</td>\n",
       "      <td>1.0</td>\n",
       "      <td>409.425171</td>\n",
       "      <td>410.639740</td>\n",
       "      <td>10.0</td>\n",
       "      <td>4</td>\n",
       "      <td>4.0</td>\n",
       "      <td>2016</td>\n",
       "      <td>0.238617</td>\n",
       "      <td>B</td>\n",
       "      <td>B</td>\n",
       "      <td>26</td>\n",
       "      <td>3889</td>\n",
       "      <td>6</td>\n",
       "      <td>705.0</td>\n",
       "      <td>3</td>\n",
       "      <td>6</td>\n",
       "      <td>B</td>\n",
       "      <td>0</td>\n",
       "    </tr>\n",
       "    <tr>\n",
       "      <th>11625</th>\n",
       "      <td>84</td>\n",
       "      <td>1.0</td>\n",
       "      <td>102.640236</td>\n",
       "      <td>78.746445</td>\n",
       "      <td>19.0</td>\n",
       "      <td>26</td>\n",
       "      <td>36.0</td>\n",
       "      <td>2012</td>\n",
       "      <td>0.006076</td>\n",
       "      <td>B</td>\n",
       "      <td>B</td>\n",
       "      <td>30</td>\n",
       "      <td>5285</td>\n",
       "      <td>0</td>\n",
       "      <td>645.0</td>\n",
       "      <td>6</td>\n",
       "      <td>6</td>\n",
       "      <td>B</td>\n",
       "      <td>0</td>\n",
       "    </tr>\n",
       "    <tr>\n",
       "      <th>16578</th>\n",
       "      <td>113</td>\n",
       "      <td>1.0</td>\n",
       "      <td>103.196373</td>\n",
       "      <td>84.122711</td>\n",
       "      <td>20.0</td>\n",
       "      <td>5</td>\n",
       "      <td>25.0</td>\n",
       "      <td>2017</td>\n",
       "      <td>0.050756</td>\n",
       "      <td>B</td>\n",
       "      <td>B</td>\n",
       "      <td>24</td>\n",
       "      <td>5469</td>\n",
       "      <td>1</td>\n",
       "      <td>145.0</td>\n",
       "      <td>0</td>\n",
       "      <td>1</td>\n",
       "      <td>B</td>\n",
       "      <td>0</td>\n",
       "    </tr>\n",
       "    <tr>\n",
       "      <th>9021</th>\n",
       "      <td>23</td>\n",
       "      <td>1.0</td>\n",
       "      <td>103.744171</td>\n",
       "      <td>105.338394</td>\n",
       "      <td>1.0</td>\n",
       "      <td>26</td>\n",
       "      <td>25.0</td>\n",
       "      <td>1977</td>\n",
       "      <td>0.075779</td>\n",
       "      <td>B</td>\n",
       "      <td>B</td>\n",
       "      <td>6</td>\n",
       "      <td>1437</td>\n",
       "      <td>3</td>\n",
       "      <td>540.0</td>\n",
       "      <td>0</td>\n",
       "      <td>2</td>\n",
       "      <td>B</td>\n",
       "      <td>0</td>\n",
       "    </tr>\n",
       "    <tr>\n",
       "      <th>11602</th>\n",
       "      <td>30</td>\n",
       "      <td>2.0</td>\n",
       "      <td>641.065186</td>\n",
       "      <td>638.163208</td>\n",
       "      <td>10.0</td>\n",
       "      <td>20</td>\n",
       "      <td>19.0</td>\n",
       "      <td>2019</td>\n",
       "      <td>0.000078</td>\n",
       "      <td>B</td>\n",
       "      <td>B</td>\n",
       "      <td>22</td>\n",
       "      <td>6398</td>\n",
       "      <td>141</td>\n",
       "      <td>1046.0</td>\n",
       "      <td>3</td>\n",
       "      <td>23</td>\n",
       "      <td>B</td>\n",
       "      <td>0</td>\n",
       "    </tr>\n",
       "    <tr>\n",
       "      <th>0</th>\n",
       "      <td>0</td>\n",
       "      <td>1.0</td>\n",
       "      <td>109.144493</td>\n",
       "      <td>84.613937</td>\n",
       "      <td>15.0</td>\n",
       "      <td>6</td>\n",
       "      <td>15.0</td>\n",
       "      <td>2011</td>\n",
       "      <td>0.319809</td>\n",
       "      <td>B</td>\n",
       "      <td>B</td>\n",
       "      <td>25</td>\n",
       "      <td>4756</td>\n",
       "      <td>16</td>\n",
       "      <td>2857.0</td>\n",
       "      <td>5</td>\n",
       "      <td>8</td>\n",
       "      <td>B</td>\n",
       "      <td>0</td>\n",
       "    </tr>\n",
       "    <tr>\n",
       "      <th>14588</th>\n",
       "      <td>23</td>\n",
       "      <td>1.0</td>\n",
       "      <td>106.514214</td>\n",
       "      <td>33.859653</td>\n",
       "      <td>1.0</td>\n",
       "      <td>1</td>\n",
       "      <td>2.0</td>\n",
       "      <td>1977</td>\n",
       "      <td>0.014073</td>\n",
       "      <td>B</td>\n",
       "      <td>B</td>\n",
       "      <td>2</td>\n",
       "      <td>475</td>\n",
       "      <td>0</td>\n",
       "      <td>540.0</td>\n",
       "      <td>0</td>\n",
       "      <td>0</td>\n",
       "      <td>B</td>\n",
       "      <td>0</td>\n",
       "    </tr>\n",
       "    <tr>\n",
       "      <th>7496</th>\n",
       "      <td>30</td>\n",
       "      <td>1.0</td>\n",
       "      <td>117.370743</td>\n",
       "      <td>102.187202</td>\n",
       "      <td>6.0</td>\n",
       "      <td>14</td>\n",
       "      <td>40.0</td>\n",
       "      <td>2011</td>\n",
       "      <td>0.000078</td>\n",
       "      <td>B</td>\n",
       "      <td>B</td>\n",
       "      <td>22</td>\n",
       "      <td>6398</td>\n",
       "      <td>141</td>\n",
       "      <td>1046.0</td>\n",
       "      <td>3</td>\n",
       "      <td>23</td>\n",
       "      <td>B</td>\n",
       "      <td>0</td>\n",
       "    </tr>\n",
       "    <tr>\n",
       "      <th>13178</th>\n",
       "      <td>30</td>\n",
       "      <td>1.0</td>\n",
       "      <td>111.680626</td>\n",
       "      <td>33.859653</td>\n",
       "      <td>1.0</td>\n",
       "      <td>9</td>\n",
       "      <td>8.0</td>\n",
       "      <td>2015</td>\n",
       "      <td>0.000078</td>\n",
       "      <td>B</td>\n",
       "      <td>B</td>\n",
       "      <td>22</td>\n",
       "      <td>6398</td>\n",
       "      <td>141</td>\n",
       "      <td>1046.0</td>\n",
       "      <td>3</td>\n",
       "      <td>23</td>\n",
       "      <td>B</td>\n",
       "      <td>0</td>\n",
       "    </tr>\n",
       "    <tr>\n",
       "      <th>16638</th>\n",
       "      <td>38</td>\n",
       "      <td>1.0</td>\n",
       "      <td>106.260300</td>\n",
       "      <td>109.246658</td>\n",
       "      <td>1.0</td>\n",
       "      <td>4</td>\n",
       "      <td>1.0</td>\n",
       "      <td>1977</td>\n",
       "      <td>0.060753</td>\n",
       "      <td>B</td>\n",
       "      <td>B</td>\n",
       "      <td>15</td>\n",
       "      <td>2787</td>\n",
       "      <td>2</td>\n",
       "      <td>520.0</td>\n",
       "      <td>0</td>\n",
       "      <td>7</td>\n",
       "      <td>B</td>\n",
       "      <td>0</td>\n",
       "    </tr>\n",
       "    <tr>\n",
       "      <th>2040</th>\n",
       "      <td>62</td>\n",
       "      <td>1.0</td>\n",
       "      <td>122.438148</td>\n",
       "      <td>5.751401</td>\n",
       "      <td>1.0</td>\n",
       "      <td>2</td>\n",
       "      <td>3.0</td>\n",
       "      <td>1977</td>\n",
       "      <td>0.072158</td>\n",
       "      <td>B</td>\n",
       "      <td>B</td>\n",
       "      <td>2</td>\n",
       "      <td>629</td>\n",
       "      <td>1</td>\n",
       "      <td>540.0</td>\n",
       "      <td>0</td>\n",
       "      <td>0</td>\n",
       "      <td>A</td>\n",
       "      <td>0</td>\n",
       "    </tr>\n",
       "  </tbody>\n",
       "</table>\n",
       "</div>"
      ],
      "text/plain": [
       "      DistrictId  Rooms      Square  LifeSquare  KitchenSquare  Floor  \\\n",
       "Id                                                                      \n",
       "9552          23    1.0  105.432182  106.178177            0.0      3   \n",
       "9275         113    1.0  101.737701   74.881317           16.0     23   \n",
       "12638         27    1.0  138.427689  136.215500            0.0      4   \n",
       "11055        151    1.0  174.649521  174.837082           15.0     10   \n",
       "13603         63    1.0  127.651237    2.609712            1.0      8   \n",
       "15157         54    1.0  106.239624   83.296165           17.0     26   \n",
       "7917          27    1.0  212.932358  211.231125            0.0      2   \n",
       "11599         23    1.0  121.988052   33.859653            1.0      2   \n",
       "14662         23    1.0  148.179031   33.859653            1.0      1   \n",
       "16204         23    1.0  160.647583   33.859653            1.0      3   \n",
       "6674          54    1.0  168.086349  125.486565           30.0     18   \n",
       "6502          20    1.0  126.389519  103.637321           14.0     22   \n",
       "15362         23    1.0  163.286972  161.155273            1.0      4   \n",
       "28             9    2.0  604.705994   33.859653            1.0     17   \n",
       "10874         62    1.0  136.727219   33.859653            1.0      5   \n",
       "14773         30    1.0  105.619553   87.387093            5.0     14   \n",
       "2307         102    1.0  409.425171  410.639740           10.0      4   \n",
       "11625         84    1.0  102.640236   78.746445           19.0     26   \n",
       "16578        113    1.0  103.196373   84.122711           20.0      5   \n",
       "9021          23    1.0  103.744171  105.338394            1.0     26   \n",
       "11602         30    2.0  641.065186  638.163208           10.0     20   \n",
       "0              0    1.0  109.144493   84.613937           15.0      6   \n",
       "14588         23    1.0  106.514214   33.859653            1.0      1   \n",
       "7496          30    1.0  117.370743  102.187202            6.0     14   \n",
       "13178         30    1.0  111.680626   33.859653            1.0      9   \n",
       "16638         38    1.0  106.260300  109.246658            1.0      4   \n",
       "2040          62    1.0  122.438148    5.751401            1.0      2   \n",
       "\n",
       "       HouseFloor  HouseYear  Ecology_1 Ecology_2 Ecology_3  Social_1  \\\n",
       "Id                                                                      \n",
       "9552          2.0       1977   0.014073         B         B         2   \n",
       "9275         24.0       2019   0.050756         B         B        24   \n",
       "12638         3.0       2016   0.075424         B         B        11   \n",
       "11055        12.0       1958   0.236108         B         B        16   \n",
       "13603        17.0       2016   0.238617         B         B        26   \n",
       "15157        37.0       2009   0.006076         B         B        30   \n",
       "7917          3.0       2008   0.211401         B         B         9   \n",
       "11599         2.0       1977   0.014073         B         B         2   \n",
       "14662         2.0       1977   0.014073         B         B         2   \n",
       "16204         3.0       1977   0.014073         B         B         2   \n",
       "6674         28.0       2011   0.006076         B         B        30   \n",
       "6502         47.0       2012   0.019509         B         B        37   \n",
       "15362         3.0       1977   0.014073         B         B         2   \n",
       "28           18.0       1977   0.161532         B         B        25   \n",
       "10874         3.0       2017   0.072158         B         B         2   \n",
       "14773        39.0       2010   0.000078         B         B        22   \n",
       "2307          4.0       2016   0.238617         B         B        26   \n",
       "11625        36.0       2012   0.006076         B         B        30   \n",
       "16578        25.0       2017   0.050756         B         B        24   \n",
       "9021         25.0       1977   0.075779         B         B         6   \n",
       "11602        19.0       2019   0.000078         B         B        22   \n",
       "0            15.0       2011   0.319809         B         B        25   \n",
       "14588         2.0       1977   0.014073         B         B         2   \n",
       "7496         40.0       2011   0.000078         B         B        22   \n",
       "13178         8.0       2015   0.000078         B         B        22   \n",
       "16638         1.0       1977   0.060753         B         B        15   \n",
       "2040          3.0       1977   0.072158         B         B         2   \n",
       "\n",
       "       Social_2  Social_3  Healthcare_1  Helthcare_2  Shops_1 Shops_2  \\\n",
       "Id                                                                      \n",
       "9552        475         0         540.0            0        0       B   \n",
       "9275       5469         1         145.0            0        1       B   \n",
       "12638      3097         0         540.0            0        0       B   \n",
       "11055      3893        27         540.0            3       10       B   \n",
       "13603      3889         6         705.0            3        6       B   \n",
       "15157      5285         0         645.0            6        6       B   \n",
       "7917       1892         0         540.0            0        1       B   \n",
       "11599       475         0         540.0            0        0       B   \n",
       "14662       475         0         540.0            0        0       B   \n",
       "16204       475         0         540.0            0        0       B   \n",
       "6674       5285         0         645.0            6        6       B   \n",
       "6502       7687        11         176.0            5        5       B   \n",
       "15362       475         0         540.0            0        0       B   \n",
       "28         5648         1          30.0            2        4       B   \n",
       "10874       629         1         540.0            0        0       A   \n",
       "14773      6398       141        1046.0            3       23       B   \n",
       "2307       3889         6         705.0            3        6       B   \n",
       "11625      5285         0         645.0            6        6       B   \n",
       "16578      5469         1         145.0            0        1       B   \n",
       "9021       1437         3         540.0            0        2       B   \n",
       "11602      6398       141        1046.0            3       23       B   \n",
       "0          4756        16        2857.0            5        8       B   \n",
       "14588       475         0         540.0            0        0       B   \n",
       "7496       6398       141        1046.0            3       23       B   \n",
       "13178      6398       141        1046.0            3       23       B   \n",
       "16638      2787         2         520.0            0        7       B   \n",
       "2040        629         1         540.0            0        0       A   \n",
       "\n",
       "       Rooms_outlier  \n",
       "Id                    \n",
       "9552               0  \n",
       "9275               0  \n",
       "12638              1  \n",
       "11055              0  \n",
       "13603              0  \n",
       "15157              0  \n",
       "7917               1  \n",
       "11599              0  \n",
       "14662              0  \n",
       "16204              0  \n",
       "6674               0  \n",
       "6502               0  \n",
       "15362              0  \n",
       "28                 0  \n",
       "10874              0  \n",
       "14773              0  \n",
       "2307               0  \n",
       "11625              0  \n",
       "16578              0  \n",
       "9021               0  \n",
       "11602              0  \n",
       "0                  0  \n",
       "14588              0  \n",
       "7496               0  \n",
       "13178              0  \n",
       "16638              0  \n",
       "2040               0  "
      ]
     },
     "execution_count": 32,
     "metadata": {},
     "output_type": "execute_result"
    }
   ],
   "source": [
    "X[X['Square'] > X['Rooms'] * 100]"
   ]
  },
  {
   "cell_type": "markdown",
   "metadata": {},
   "source": [
    "# 2. Data cleaning"
   ]
  },
  {
   "cell_type": "code",
   "execution_count": 33,
   "metadata": {},
   "outputs": [],
   "source": [
    "class FeatureImputer:\n",
    "    \"\"\"Заполнение пропусков и обработка выбросов\"\"\"\n",
    "    \n",
    "    def __init__(self):\n",
    "        self.medians=None\n",
    "        \n",
    "    def fit(self, X):\n",
    "        self.medians = X.median()\n",
    "    \n",
    "    def transform(self, X):\n",
    "        X['HouseFloor'] = X['HouseFloor'].apply(np.int)\n",
    "        X['Rooms'] = X['Rooms'].apply(np.int)\n",
    "        X['Floor'] = X['Floor'].apply(np.int)\n",
    "        \n",
    "        # Rooms\n",
    "        X['Rooms_outlier'] = 0\n",
    "        X.loc[(X['Rooms'] == 0) | (X['Rooms'] >= 6), 'Rooms_outlier'] = 1\n",
    "        \n",
    "        X.loc[X['Rooms'] == 0, 'Rooms'] = 1\n",
    "        X.loc[X['Rooms'] >= 6, 'Rooms'] = self.medians['Rooms'] # !!! медиана посчитана на трейне !!!\n",
    "        \n",
    "        # KitchenSquare\n",
    "        X.loc[X['KitchenSquare'] < 3, 'KitchenSquare'] = 3\n",
    "        X.loc[X['KitchenSquare'] > 1000, 'KitchenSquare'] = X.loc[X['KitchenSquare'] > 1000, 'KitchenSquare'] / 10  # можно median\n",
    "        \n",
    "        # HouseFloor, Floor\n",
    "        X['HouseFloor_outlier'] = 0\n",
    "        X.loc[X['HouseFloor'] == 0, 'HouseFloor_outlier'] = 1\n",
    "        X.loc[X['Floor'] > X['HouseFloor'], 'HouseFloor_outlier'] = 1\n",
    "        \n",
    "        X.loc[X['HouseFloor'] == 0, 'HouseFloor'] = self.medians['HouseFloor']\n",
    "        X.loc[X['HouseFloor'] == 0, 'HouseFloor'] = 1\n",
    "        X.loc[X['Floor'] > X['HouseFloor'], 'Floor'] = X.loc[X['Floor'] > X['HouseFloor'], 'HouseFloor']\n",
    "        \n",
    "        # HouseYear\n",
    "        current_year = now = datetime.datetime.now().year\n",
    "        \n",
    "        X['HouseYear_outlier'] = 0\n",
    "        X.loc[X['HouseYear'] > current_year, 'HouseYear_outlier'] = 1\n",
    "        X.loc[X['HouseYear'] > current_year, 'HouseYear'] = current_year\n",
    "        \n",
    "        # Healthcare_1\n",
    "     #   if 'Healthcare_1' in X.columns:\n",
    "     #       X.drop('Healthcare_1', axis=1, inplace=True)\n",
    "            \n",
    "        # LifeSquare\n",
    "        X['LifeSquare_nan'] = X['LifeSquare'].isna() * 1\n",
    "        \n",
    "        condition = (X['LifeSquare'].isna()) &\\\n",
    "                      (~X['Square'].isna()) & \\\n",
    "                      (~X['KitchenSquare'].isna())\n",
    "        X.loc[condition, 'LifeSquare'] = X.loc[condition, 'Square'] - X.loc[condition, 'KitchenSquare'] - 3\n",
    "        \n",
    "        condition_2 = (X['Square'] < X['LifeSquare'])\n",
    "        X.loc[condition_2, 'LifeSquare'] = X.loc[condition_2, 'Square'] - X.loc[condition_2, 'KitchenSquare'] - 3\n",
    "        \n",
    "        condition_3 = (X['Square'] > 300)\n",
    "        X.loc[condition_3, 'Square'] = X.loc[condition_3, 'Rooms'] * 30\n",
    "        X.loc[condition_3, 'LifeSquare'] = X.loc[condition_3, 'Square'] - X.loc[condition_3, 'KitchenSquare']\n",
    "        \n",
    "        return X\n",
    "        "
   ]
  },
  {
   "cell_type": "code",
   "execution_count": 34,
   "metadata": {},
   "outputs": [],
   "source": [
    "imputer = FeatureImputer()\n",
    "\n",
    "imputer.fit(X) # расчет медиан\n",
    "\n",
    "X = imputer.transform(X)\n",
    "X_test = imputer.transform(X_test)"
   ]
  },
  {
   "cell_type": "markdown",
   "metadata": {},
   "source": [
    "# 3. Feature engineering"
   ]
  },
  {
   "cell_type": "code",
   "execution_count": 35,
   "metadata": {},
   "outputs": [],
   "source": [
    "class FeatureGenetator():\n",
    "    \"\"\"Генерация новых фич\"\"\"\n",
    "    \n",
    "    def __init__(self):\n",
    "        self.DistrictId_counts = None\n",
    "        self.binary_to_numbers = None\n",
    "        self.med_price_by_district = None\n",
    "    #    self.med_price_by_floor_year = None\n",
    "        self.med_price_by_square = None\n",
    "    \n",
    "        \n",
    "    def fit(self, X, y=None):\n",
    "        \n",
    "        X = X.copy()\n",
    "        \n",
    "        # DistrictID\n",
    "        district = X['DistrictId'].value_counts()\n",
    "        district = district[district > 50]  \n",
    "        \n",
    "        self.DistrictId_counts = dict(district)\n",
    "        \n",
    "        # Binary features\n",
    "        self.binary_to_numbers = {'A': 0, 'B': 1}\n",
    "        \n",
    "        # Target encoding\n",
    "        ## District\n",
    "        df = X.copy()\n",
    "        \n",
    "        if y is not None:\n",
    "            df['Price'] = y.values\n",
    "            \n",
    "            df['DistrictId_popular'] = df['DistrictId'].copy()\n",
    "            df.loc[~df['DistrictId_popular'].isin(district.keys().tolist())] = np.nan\n",
    "            \n",
    "            self.med_price_by_district = df.groupby(['DistrictId_popular', 'Rooms'], as_index=False).agg({'Price':'median'}).\\\n",
    "                                            rename(columns={'Price':'MedPriceByDistrict',\n",
    "                                                           'DistrictId_popular': 'DistrictId'})\n",
    "            \n",
    "        ## floor, year\n",
    "        if y is not None:\n",
    "            df['Price'] = y.values\n",
    "           # df = self.floor_to_cat(df)\n",
    "          #  df = self.year_to_cat(df)\n",
    "            df = self.square_to_cat(df)\n",
    "    \n",
    "            self.med_price_by_square = df.groupby(['square_cat'], as_index=False).agg({'Price':'median'}).\\\n",
    "                                            rename(columns={'Price':'MedPriceBySquare'})\n",
    "        \n",
    "\n",
    "        \n",
    "    def transform(self, X):\n",
    "        \n",
    "        # DistrictId\n",
    "        X['DistrictId_count'] = X['DistrictId'].map(self.DistrictId_counts)  # self.DistrictId_counts = {'id': value}\n",
    "        \n",
    "        X['new_district'] = 0\n",
    "        X.loc[X['DistrictId_count'].isna(), 'new_district'] = 1\n",
    "        \n",
    "        X['DistrictId_count'].fillna(5, inplace=True)\n",
    "        \n",
    "        # Binary features\n",
    "        X['Ecology_2'] = X['Ecology_2'].map(self.binary_to_numbers)  # self.binary_to_numbers = {'A': 0, 'B': 1}\n",
    "        X['Ecology_3'] = X['Ecology_3'].map(self.binary_to_numbers)\n",
    "        X['Shops_2'] = X['Shops_2'].map(self.binary_to_numbers)\n",
    "        \n",
    "        # More categorical features\n",
    "      #  X = self.floor_to_cat(X)  # + столбец floor_cat\n",
    "        X = self.year_to_cat(X)   # + столбец year_cat\n",
    "        X = self.square_to_cat(X)\n",
    "        \n",
    "        # Target encoding\n",
    "        if self.med_price_by_district is not None:\n",
    "            X = X.merge(self.med_price_by_district, on=['DistrictId', 'Rooms'], how='left')\n",
    "        if self.med_price_by_square is not None:\n",
    "            #X = X.merge(self.med_price_by_floor_year, on=['year_cat', 'floor_cat'], how='left')\n",
    "            X = X.merge(self.med_price_by_square, on=['square_cat'], how='left')\n",
    "        \n",
    "        # добавляем фичу в виде уникального ID здания\n",
    "        X[\"BldId\"] = X.groupby([\"DistrictId\", \"HouseFloor\", \"HouseYear\", \"Ecology_1\",\n",
    "                        \"Ecology_2\", \"Ecology_3\", \"Social_1\", \"Social_2\", \"Social_3\", \n",
    "                         \"Helthcare_2\", \"Shops_1\", \"Shops_2\"]).ngroup()\n",
    "\n",
    "        \n",
    "        return X\n",
    "    \n",
    "#    @staticmethod\n",
    "#    def floor_to_cat(X):\n",
    "#        X['floor_cat'] = np.nan\n",
    "#        X.loc[X['Floor'] <= 4, 'floor_cat'] = 0  \n",
    "#        X.loc[X['Floor'] == 5, 'floor_cat'] = 1\n",
    "#        X.loc[X['Floor'] >= 6 & (X['Floor'] <= 8), 'floor_cat'] = 2\n",
    "#        X.loc[X['Floor'] == 9, 'floor_cat'] = 3\n",
    "#        X.loc[(X['Floor'] >= 10) & (X['Floor'] <= 13), 'floor_cat'] = 4\n",
    "#        X.loc[(X['Floor'] >= 14) & (X['Floor'] <= 16), 'floor_cat'] = 5\n",
    "#        X.loc[X['Floor'] == 17, 'floor_cat'] = 6\n",
    "#        X.loc[(X['Floor'] >= 18) & (X['Floor'] <= 21), 'floor_cat'] = 7\n",
    "#        X.loc[(X['Floor'] >= 22) & (X['Floor'] <= 25), 'floor_cat'] = 8\n",
    "#        X.loc[X['Floor'] >= 26, 'floor_cat'] = 9   \n",
    "#        return X\n",
    "    \n",
    "    @staticmethod\n",
    "    def square_to_cat(X):\n",
    "        X['square_cat'] = np.nan\n",
    "        X.loc[X['Square'] < 19, 'square_cat'] = 1\n",
    "        X.loc[(X['Square'] >= 20) & (X['Square'] <= 49), 'square_cat'] = 2\n",
    "        X.loc[(X['Square'] >= 50) & (X['Square'] <= 99), 'square_cat'] = 3\n",
    "        X.loc[(X['Square'] >= 100) & (X['Square'] <= 149), 'square_cat'] = 4\n",
    "        X.loc[(X['Square'] >= 150) & (X['Square'] <= 199), 'square_cat'] = 5\n",
    "        X.loc[(X['Square'] >= 200), 'square_cat'] = 6\n",
    "        return X\n",
    "    \n",
    "    @staticmethod\n",
    "    def year_to_cat(X):\n",
    "        X['year_cat'] = np.nan\n",
    "        X.loc[X['HouseYear'] < 1941, 'year_cat'] = 1\n",
    "        X.loc[(X['HouseYear'] >= 1941) & (X['HouseYear'] <= 1945), 'year_cat'] = 2\n",
    "        X.loc[(X['HouseYear'] >= 1946) & (X['HouseYear'] <= 1976), 'year_cat'] = 3\n",
    "        X.loc[(X['HouseYear'] == 1977), 'year_cat'] = 4\n",
    "        X.loc[(X['HouseYear'] >= 1978) & (X['HouseYear'] <= 2000), 'year_cat'] = 5\n",
    "        X.loc[(X['HouseYear'] >= 2001) & (X['HouseYear'] <= 2013), 'year_cat'] = 6\n",
    "        X.loc[(X['HouseYear'] >= 2014) & (X['HouseYear'] <= 2018), 'year_cat'] = 7\n",
    "        X.loc[(X['HouseYear'] >= 2019), 'year_cat'] = 8  \n",
    "        return X"
   ]
  },
  {
   "cell_type": "code",
   "execution_count": 36,
   "metadata": {},
   "outputs": [],
   "source": [
    "features = FeatureGenetator()\n",
    "\n",
    "features.fit(X, y)\n",
    "\n",
    "X = features.transform(X)\n",
    "X_test = features.transform(X_test)"
   ]
  },
  {
   "cell_type": "code",
   "execution_count": 37,
   "metadata": {},
   "outputs": [
    {
     "name": "stderr",
     "output_type": "stream",
     "text": [
      "/opt/anaconda3/lib/python3.8/site-packages/seaborn/_decorators.py:36: FutureWarning: Pass the following variables as keyword args: x, y. From version 0.12, the only valid positional argument will be `data`, and passing other arguments without an explicit keyword will result in an error or misinterpretation.\n",
      "  warnings.warn(\n"
     ]
    },
    {
     "data": {
      "image/png": "[encoded data removed]",
      "text/plain": [
       "<Figure size 1152x288 with 1 Axes>"
      ]
     },
     "metadata": {
      "needs_background": "light"
     },
     "output_type": "display_data"
    }
   ],
   "source": [
    "nan_df = (X.isna().sum() / X.shape[0]).reset_index()\n",
    "nan_df.columns=['feature', 'nan_percent']\n",
    "\n",
    "plt.figure(figsize=(16,4))\n",
    "sns.barplot(nan_df['feature'], nan_df['nan_percent'])\n",
    "plt.title('Percent Missing')\n",
    "plt.ylabel('Missing', fontsize=12)\n",
    "plt.xlabel('Features', fontsize=12)\n",
    "plt.xticks(rotation=90)\n",
    "plt.show()"
   ]
  },
  {
   "cell_type": "code",
   "execution_count": 38,
   "metadata": {},
   "outputs": [
    {
     "name": "stdout",
     "output_type": "stream",
     "text": [
      "<class 'pandas.core.frame.DataFrame'>\n",
      "Int64Index: 10000 entries, 0 to 9999\n",
      "Data columns (total 29 columns):\n",
      " #   Column              Non-Null Count  Dtype   \n",
      "---  ------              --------------  -----   \n",
      " 0   DistrictId          10000 non-null  object  \n",
      " 1   Rooms               10000 non-null  float64 \n",
      " 2   Square              10000 non-null  float32 \n",
      " 3   LifeSquare          10000 non-null  float32 \n",
      " 4   KitchenSquare       10000 non-null  float32 \n",
      " 5   Floor               10000 non-null  float64 \n",
      " 6   HouseFloor          10000 non-null  float64 \n",
      " 7   HouseYear           10000 non-null  int32   \n",
      " 8   Ecology_1           10000 non-null  float32 \n",
      " 9   Ecology_2           10000 non-null  category\n",
      " 10  Ecology_3           10000 non-null  category\n",
      " 11  Social_1            10000 non-null  int8    \n",
      " 12  Social_2            10000 non-null  int16   \n",
      " 13  Social_3            10000 non-null  int16   \n",
      " 14  Healthcare_1        10000 non-null  float32 \n",
      " 15  Helthcare_2         10000 non-null  int8    \n",
      " 16  Shops_1             10000 non-null  int8    \n",
      " 17  Shops_2             10000 non-null  category\n",
      " 18  Rooms_outlier       10000 non-null  int64   \n",
      " 19  HouseFloor_outlier  10000 non-null  int64   \n",
      " 20  HouseYear_outlier   10000 non-null  int64   \n",
      " 21  LifeSquare_nan      10000 non-null  int64   \n",
      " 22  DistrictId_count    10000 non-null  float64 \n",
      " 23  new_district        10000 non-null  int64   \n",
      " 24  year_cat            10000 non-null  float64 \n",
      " 25  square_cat          9831 non-null   float64 \n",
      " 26  MedPriceByDistrict  7646 non-null   float32 \n",
      " 27  MedPriceBySquare    9831 non-null   float32 \n",
      " 28  BldId               10000 non-null  int64   \n",
      "dtypes: category(3), float32(7), float64(6), int16(2), int32(1), int64(6), int8(3), object(1)\n",
      "memory usage: 1.5+ MB\n"
     ]
    }
   ],
   "source": [
    "X.info()\n",
    "#X['Ecology_2'].head()"
   ]
  },
  {
   "cell_type": "code",
   "execution_count": 39,
   "metadata": {},
   "outputs": [
    {
     "name": "stdout",
     "output_type": "stream",
     "text": [
      "<class 'pandas.core.frame.DataFrame'>\n",
      "Int64Index: 5000 entries, 0 to 4999\n",
      "Data columns (total 29 columns):\n",
      " #   Column              Non-Null Count  Dtype  \n",
      "---  ------              --------------  -----  \n",
      " 0   DistrictId          5000 non-null   object \n",
      " 1   Rooms               5000 non-null   float64\n",
      " 2   Square              5000 non-null   float64\n",
      " 3   LifeSquare          5000 non-null   float64\n",
      " 4   KitchenSquare       5000 non-null   float64\n",
      " 5   Floor               5000 non-null   float64\n",
      " 6   HouseFloor          5000 non-null   float64\n",
      " 7   HouseYear           5000 non-null   int64  \n",
      " 8   Ecology_1           5000 non-null   float64\n",
      " 9   Ecology_2           5000 non-null   int64  \n",
      " 10  Ecology_3           5000 non-null   int64  \n",
      " 11  Social_1            5000 non-null   int64  \n",
      " 12  Social_2            5000 non-null   int64  \n",
      " 13  Social_3            5000 non-null   int64  \n",
      " 14  Healthcare_1        5000 non-null   float64\n",
      " 15  Helthcare_2         5000 non-null   int64  \n",
      " 16  Shops_1             5000 non-null   int64  \n",
      " 17  Shops_2             5000 non-null   int64  \n",
      " 18  Rooms_outlier       5000 non-null   int64  \n",
      " 19  HouseFloor_outlier  5000 non-null   int64  \n",
      " 20  HouseYear_outlier   5000 non-null   int64  \n",
      " 21  LifeSquare_nan      5000 non-null   int64  \n",
      " 22  DistrictId_count    5000 non-null   float64\n",
      " 23  new_district        5000 non-null   int64  \n",
      " 24  year_cat            5000 non-null   float64\n",
      " 25  square_cat          4919 non-null   float64\n",
      " 26  MedPriceByDistrict  3754 non-null   float32\n",
      " 27  MedPriceBySquare    4919 non-null   float32\n",
      " 28  BldId               5000 non-null   int64  \n",
      "dtypes: float32(2), float64(11), int64(15), object(1)\n",
      "memory usage: 1.1+ MB\n"
     ]
    }
   ],
   "source": [
    "X_test.info()"
   ]
  },
  {
   "cell_type": "code",
   "execution_count": 40,
   "metadata": {},
   "outputs": [],
   "source": [
    "cat_columns = df.select_dtypes(['category']).columns\n",
    "\n",
    "cat_columns\n",
    "X[cat_columns] = X[cat_columns].apply(lambda c: c.cat.codes)"
   ]
  },
  {
   "cell_type": "code",
   "execution_count": 41,
   "metadata": {},
   "outputs": [],
   "source": [
    "remain_features = [#'Rooms', \n",
    "                   'Square', 'LifeSquare', 'KitchenSquare', 'Floor', 'Ecology_1', 'Social_1', 'Shops_1',\n",
    "                  # 'Rooms_outlier',\n",
    "                  # 'HouseFloor_outlier', #'HouseYear_outlier', \n",
    "                  # 'LifeSquare_nan',\n",
    "                   'HouseFloor', 'HouseYear','BldId',# 'Ecology_2',\n",
    "                   'DistrictId_count', #'new_district', 'Ecology_3',\n",
    "                  # 'Shops_2',\n",
    "                   'MedPriceByDistrict',\n",
    "                 #  'MedPriceByFloorYear'\n",
    "                   'MedPriceBySquare'\n",
    "                  ]\n",
    "\n",
    "X = X[remain_features]\n",
    "X_test = X_test[remain_features]"
   ]
  },
  {
   "cell_type": "code",
   "execution_count": 42,
   "metadata": {},
   "outputs": [
    {
     "name": "stdout",
     "output_type": "stream",
     "text": [
      "qty of num features: 13\n",
      "Index(['Square', 'LifeSquare', 'KitchenSquare', 'Floor', 'Ecology_1',\n",
      "       'Social_1', 'Shops_1', 'HouseFloor', 'HouseYear', 'BldId',\n",
      "       'DistrictId_count', 'MedPriceByDistrict', 'MedPriceBySquare'],\n",
      "      dtype='object')\n",
      "\n",
      "qty of cat features: 0\n",
      "Index([], dtype='object')\n"
     ]
    }
   ],
   "source": [
    "X_num_features = X.dtypes[X.dtypes != 'object'].index\n",
    "X_cat_features = X.dtypes[X.dtypes == 'object'].index\n",
    "\n",
    "print(f'qty of num features: {len(X_num_features)}')\n",
    "print(X[X_num_features].columns)\n",
    "print()\n",
    "print(f'qty of cat features: {len(X_cat_features)}')\n",
    "print(X[X_cat_features].columns)"
   ]
  },
  {
   "cell_type": "code",
   "execution_count": 43,
   "metadata": {},
   "outputs": [
    {
     "name": "stdout",
     "output_type": "stream",
     "text": [
      "qty of num features: 13\n",
      "Index(['Square', 'LifeSquare', 'KitchenSquare', 'Floor', 'Ecology_1',\n",
      "       'Social_1', 'Shops_1', 'HouseFloor', 'HouseYear', 'BldId',\n",
      "       'DistrictId_count', 'MedPriceByDistrict', 'MedPriceBySquare'],\n",
      "      dtype='object')\n",
      "\n",
      "qty of cat features: 0\n",
      "Index([], dtype='object')\n"
     ]
    }
   ],
   "source": [
    "X_test_num_features = X_test.dtypes[X_test.dtypes != 'object'].index\n",
    "X_test_cat_features = X_test.dtypes[X_test.dtypes == 'object'].index\n",
    "\n",
    "print(f'qty of num features: {len(X_test_num_features)}')\n",
    "print(X_test[X_test_num_features].columns)\n",
    "print()\n",
    "print(f'qty of cat features: {len(X_test_cat_features)}')\n",
    "print(X_test[X_test_cat_features].columns)"
   ]
  },
  {
   "cell_type": "code",
   "execution_count": 44,
   "metadata": {},
   "outputs": [
    {
     "data": {
      "image/png": "[encoded data removed]",
      "text/plain": [
       "<Figure size 1152x1152 with 16 Axes>"
      ]
     },
     "metadata": {
      "needs_background": "light"
     },
     "output_type": "display_data"
    }
   ],
   "source": [
    "df_num_features = X.copy()\n",
    "df_num_features.hist(figsize=(16,16), bins=20, grid=False);"
   ]
  },
  {
   "cell_type": "code",
   "execution_count": 45,
   "metadata": {},
   "outputs": [
    {
     "name": "stdout",
     "output_type": "stream",
     "text": [
      "<class 'pandas.core.frame.DataFrame'>\n",
      "Int64Index: 10000 entries, 0 to 9999\n",
      "Data columns (total 13 columns):\n",
      " #   Column              Non-Null Count  Dtype  \n",
      "---  ------              --------------  -----  \n",
      " 0   Square              10000 non-null  float32\n",
      " 1   LifeSquare          10000 non-null  float32\n",
      " 2   KitchenSquare       10000 non-null  float32\n",
      " 3   Floor               10000 non-null  float64\n",
      " 4   Ecology_1           10000 non-null  float32\n",
      " 5   Social_1            10000 non-null  int8   \n",
      " 6   Shops_1             10000 non-null  int8   \n",
      " 7   HouseFloor          10000 non-null  float64\n",
      " 8   HouseYear           10000 non-null  int32  \n",
      " 9   BldId               10000 non-null  int64  \n",
      " 10  DistrictId_count    10000 non-null  float64\n",
      " 11  MedPriceByDistrict  7646 non-null   float32\n",
      " 12  MedPriceBySquare    9831 non-null   float32\n",
      "dtypes: float32(6), float64(3), int32(1), int64(1), int8(2)\n",
      "memory usage: 683.6 KB\n"
     ]
    }
   ],
   "source": [
    "X.info()"
   ]
  },
  {
   "cell_type": "code",
   "execution_count": 46,
   "metadata": {},
   "outputs": [
    {
     "data": {
      "image/png": "[encoded data removed]",
      "text/plain": [
       "<Figure size 432x288 with 1 Axes>"
      ]
     },
     "metadata": {
      "needs_background": "light"
     },
     "output_type": "display_data"
    }
   ],
   "source": [
    "fix, ax = plt.subplots()\n",
    "ax.scatter(x=X['Square'], y=y)\n",
    "plt.ylabel('Price', fontsize=13)\n",
    "plt.xlabel('Square', fontsize=13)\n",
    "plt.show()"
   ]
  },
  {
   "cell_type": "code",
   "execution_count": 47,
   "metadata": {},
   "outputs": [
    {
     "data": {
      "text/html": [
       "<div>\n",
       "<style scoped>\n",
       "    .dataframe tbody tr th:only-of-type {\n",
       "        vertical-align: middle;\n",
       "    }\n",
       "\n",
       "    .dataframe tbody tr th {\n",
       "        vertical-align: top;\n",
       "    }\n",
       "\n",
       "    .dataframe thead th {\n",
       "        text-align: right;\n",
       "    }\n",
       "</style>\n",
       "<table border=\"1\" class=\"dataframe\">\n",
       "  <thead>\n",
       "    <tr style=\"text-align: right;\">\n",
       "      <th></th>\n",
       "      <th>Square</th>\n",
       "      <th>LifeSquare</th>\n",
       "      <th>KitchenSquare</th>\n",
       "      <th>Floor</th>\n",
       "      <th>Ecology_1</th>\n",
       "      <th>Social_1</th>\n",
       "      <th>Shops_1</th>\n",
       "      <th>HouseFloor</th>\n",
       "      <th>HouseYear</th>\n",
       "      <th>BldId</th>\n",
       "      <th>DistrictId_count</th>\n",
       "      <th>MedPriceByDistrict</th>\n",
       "      <th>MedPriceBySquare</th>\n",
       "    </tr>\n",
       "  </thead>\n",
       "  <tbody>\n",
       "    <tr>\n",
       "      <th>0</th>\n",
       "      <td>47.981560</td>\n",
       "      <td>29.442751</td>\n",
       "      <td>6.0</td>\n",
       "      <td>7.0</td>\n",
       "      <td>0.089040</td>\n",
       "      <td>33</td>\n",
       "      <td>11</td>\n",
       "      <td>9.0</td>\n",
       "      <td>1969</td>\n",
       "      <td>2918</td>\n",
       "      <td>5.0</td>\n",
       "      <td>NaN</td>\n",
       "      <td>156041.9375</td>\n",
       "    </tr>\n",
       "    <tr>\n",
       "      <th>1</th>\n",
       "      <td>65.683640</td>\n",
       "      <td>40.049541</td>\n",
       "      <td>8.0</td>\n",
       "      <td>7.0</td>\n",
       "      <td>0.000070</td>\n",
       "      <td>46</td>\n",
       "      <td>16</td>\n",
       "      <td>9.0</td>\n",
       "      <td>1978</td>\n",
       "      <td>3108</td>\n",
       "      <td>87.0</td>\n",
       "      <td>300009.437500</td>\n",
       "      <td>215881.3750</td>\n",
       "    </tr>\n",
       "    <tr>\n",
       "      <th>2</th>\n",
       "      <td>44.947952</td>\n",
       "      <td>29.197611</td>\n",
       "      <td>3.0</td>\n",
       "      <td>8.0</td>\n",
       "      <td>0.049637</td>\n",
       "      <td>34</td>\n",
       "      <td>3</td>\n",
       "      <td>12.0</td>\n",
       "      <td>1968</td>\n",
       "      <td>3667</td>\n",
       "      <td>174.0</td>\n",
       "      <td>263206.218750</td>\n",
       "      <td>156041.9375</td>\n",
       "    </tr>\n",
       "    <tr>\n",
       "      <th>3</th>\n",
       "      <td>53.352982</td>\n",
       "      <td>52.731510</td>\n",
       "      <td>9.0</td>\n",
       "      <td>8.0</td>\n",
       "      <td>0.437885</td>\n",
       "      <td>23</td>\n",
       "      <td>5</td>\n",
       "      <td>17.0</td>\n",
       "      <td>1977</td>\n",
       "      <td>3957</td>\n",
       "      <td>179.0</td>\n",
       "      <td>166809.671875</td>\n",
       "      <td>215881.3750</td>\n",
       "    </tr>\n",
       "    <tr>\n",
       "      <th>4</th>\n",
       "      <td>39.649193</td>\n",
       "      <td>23.776169</td>\n",
       "      <td>7.0</td>\n",
       "      <td>11.0</td>\n",
       "      <td>0.012339</td>\n",
       "      <td>35</td>\n",
       "      <td>4</td>\n",
       "      <td>12.0</td>\n",
       "      <td>1976</td>\n",
       "      <td>5550</td>\n",
       "      <td>97.0</td>\n",
       "      <td>158539.062500</td>\n",
       "      <td>156041.9375</td>\n",
       "    </tr>\n",
       "  </tbody>\n",
       "</table>\n",
       "</div>"
      ],
      "text/plain": [
       "      Square  LifeSquare  KitchenSquare  Floor  Ecology_1  Social_1  Shops_1  \\\n",
       "0  47.981560   29.442751            6.0    7.0   0.089040        33       11   \n",
       "1  65.683640   40.049541            8.0    7.0   0.000070        46       16   \n",
       "2  44.947952   29.197611            3.0    8.0   0.049637        34        3   \n",
       "3  53.352982   52.731510            9.0    8.0   0.437885        23        5   \n",
       "4  39.649193   23.776169            7.0   11.0   0.012339        35        4   \n",
       "\n",
       "   HouseFloor  HouseYear  BldId  DistrictId_count  MedPriceByDistrict  \\\n",
       "0         9.0       1969   2918               5.0                 NaN   \n",
       "1         9.0       1978   3108              87.0       300009.437500   \n",
       "2        12.0       1968   3667             174.0       263206.218750   \n",
       "3        17.0       1977   3957             179.0       166809.671875   \n",
       "4        12.0       1976   5550              97.0       158539.062500   \n",
       "\n",
       "   MedPriceBySquare  \n",
       "0       156041.9375  \n",
       "1       215881.3750  \n",
       "2       156041.9375  \n",
       "3       215881.3750  \n",
       "4       156041.9375  "
      ]
     },
     "execution_count": 47,
     "metadata": {},
     "output_type": "execute_result"
    }
   ],
   "source": [
    "#sc = StandardScaler()\n",
    "#all_X_sc = sc.fit_transform(X)\n",
    "#X = pd.DataFrame(all_X_sc)\n",
    "X.head()"
   ]
  },
  {
   "cell_type": "code",
   "execution_count": 48,
   "metadata": {},
   "outputs": [
    {
     "name": "stdout",
     "output_type": "stream",
     "text": [
      "<class 'pandas.core.frame.DataFrame'>\n",
      "Int64Index: 10000 entries, 0 to 9999\n",
      "Data columns (total 13 columns):\n",
      " #   Column              Non-Null Count  Dtype  \n",
      "---  ------              --------------  -----  \n",
      " 0   Square              10000 non-null  float32\n",
      " 1   LifeSquare          10000 non-null  float32\n",
      " 2   KitchenSquare       10000 non-null  float32\n",
      " 3   Floor               10000 non-null  float64\n",
      " 4   Ecology_1           10000 non-null  float32\n",
      " 5   Social_1            10000 non-null  int8   \n",
      " 6   Shops_1             10000 non-null  int8   \n",
      " 7   HouseFloor          10000 non-null  float64\n",
      " 8   HouseYear           10000 non-null  int32  \n",
      " 9   BldId               10000 non-null  int64  \n",
      " 10  DistrictId_count    10000 non-null  float64\n",
      " 11  MedPriceByDistrict  7646 non-null   float32\n",
      " 12  MedPriceBySquare    9831 non-null   float32\n",
      "dtypes: float32(6), float64(3), int32(1), int64(1), int8(2)\n",
      "memory usage: 683.6 KB\n"
     ]
    }
   ],
   "source": [
    "X.info()"
   ]
  },
  {
   "cell_type": "code",
   "execution_count": 59,
   "metadata": {},
   "outputs": [],
   "source": [
    "X_test.to_csv('repp_test_transformed.csv', index=False)"
   ]
  },
  {
   "cell_type": "code",
   "execution_count": 60,
   "metadata": {},
   "outputs": [
    {
     "ename": "NameError",
     "evalue": "name 'y_test' is not defined",
     "output_type": "error",
     "traceback": [
      "\u001b[0;31m---------------------------------------------------------------------------\u001b[0m",
      "\u001b[0;31mNameError\u001b[0m                                 Traceback (most recent call last)",
      "\u001b[0;32m<ipython-input-60-27d3425f7a85>\u001b[0m in \u001b[0;36m<module>\u001b[0;34m\u001b[0m\n\u001b[0;32m----> 1\u001b[0;31m \u001b[0my_test\u001b[0m\u001b[0;34m\u001b[0m\u001b[0;34m\u001b[0m\u001b[0m\n\u001b[0m",
      "\u001b[0;31mNameError\u001b[0m: name 'y_test' is not defined"
     ]
    }
   ],
   "source": [
    "y_test"
   ]
  },
  {
   "cell_type": "markdown",
   "metadata": {},
   "source": [
    "# 4. Model & prediction"
   ]
  },
  {
   "cell_type": "code",
   "execution_count": 55,
   "metadata": {},
   "outputs": [],
   "source": [
    "continuous_columns = remain_features\n",
    "final_transformers = list()\n",
    "    \n",
    "for cont_col in continuous_columns:\n",
    "    cont_transformer = Pipeline([\n",
    "                ('selector', NumberSelector(key=cont_col)),\n",
    "                ('scaler', StandardScaler())\n",
    "            ])\n",
    "    final_transformers.append((cont_col, cont_transformer))\n",
    "    \n",
    "feats = FeatureUnion(final_transformers)\n",
    "\n",
    "feature_processing = Pipeline([('feats', feats)])"
   ]
  },
  {
   "cell_type": "code",
   "execution_count": 49,
   "metadata": {},
   "outputs": [
    {
     "data": {
      "application/vnd.jupyter.widget-view+json": {
       "model_id": "fd34afc09ac44a32ab25f768509847f6",
       "version_major": 2,
       "version_minor": 0
      },
      "text/plain": [
       "MetricVisualizer(layout=Layout(align_self='stretch', height='500px'))"
      ]
     },
     "metadata": {},
     "output_type": "display_data"
    },
    {
     "name": "stdout",
     "output_type": "stream",
     "text": [
      "R2: 0.701\n",
      "CPU times: user 5.43 s, sys: 734 ms, total: 6.16 s\n",
      "Wall time: 2.92 s\n"
     ]
    }
   ],
   "source": [
    "%%time\n",
    "\n",
    "model = CatBoostRegressor(depth=2, \n",
    "                          learning_rate=0.1, \n",
    "                          n_estimators=300,\n",
    "                          loss_function='RMSE',\n",
    "                          custom_metric='R2',\n",
    "                          random_seed=42,\n",
    "                          silent=True\n",
    "                         )\n",
    "\n",
    "model.fit(X, y, plot=True, verbose=False)\n",
    "\n",
    "cv_score = cross_val_score(\n",
    "    model,\n",
    "    X,\n",
    "    y,\n",
    "    scoring='r2',\n",
    "    cv=KFold(\n",
    "            n_splits=5,\n",
    "            shuffle=True,\n",
    "            random_state=42\n",
    "    )\n",
    ")\n",
    "\n",
    "print(f'R2: {round(cv_score.mean(), 3)}')"
   ]
  },
  {
   "cell_type": "code",
   "execution_count": 50,
   "metadata": {},
   "outputs": [
    {
     "name": "stdout",
     "output_type": "stream",
     "text": [
      "R2: 0.74\n",
      "CPU times: user 14.3 s, sys: 747 ms, total: 15.1 s\n",
      "Wall time: 2.8 s\n"
     ]
    }
   ],
   "source": [
    "%%time\n",
    "\n",
    "lgbm_model = LGBMRegressor(max_depth=7,\n",
    "                      #       min_samples_leaf=10,\n",
    "                             n_estimators=300,\n",
    "                             random_state=42,\n",
    "                     num_leaves=30)\n",
    "\n",
    "cv_score = cross_val_score(\n",
    "    lgbm_model,\n",
    "    X,\n",
    "    y,\n",
    "    scoring='r2',\n",
    "    cv=KFold(\n",
    "            n_splits=5,\n",
    "            shuffle=True,\n",
    "            random_state=42\n",
    "    )\n",
    ")\n",
    "\n",
    "print(f'R2: {round(cv_score.mean(), 3)}')"
   ]
  },
  {
   "cell_type": "code",
   "execution_count": 51,
   "metadata": {},
   "outputs": [
    {
     "data": {
      "application/vnd.jupyter.widget-view+json": {
       "model_id": "be9dafdf4c604b99b6ac53d9d34cf55a",
       "version_major": 2,
       "version_minor": 0
      },
      "text/plain": [
       "MetricVisualizer(layout=Layout(align_self='stretch', height='500px'))"
      ]
     },
     "metadata": {},
     "output_type": "display_data"
    },
    {
     "name": "stdout",
     "output_type": "stream",
     "text": [
      "R2: 0.744\n",
      "CPU times: user 1min 57s, sys: 7.25 s, total: 2min 5s\n",
      "Wall time: 32 s\n"
     ]
    },
    {
     "data": {
      "text/html": [
       "<div>\n",
       "<style scoped>\n",
       "    .dataframe tbody tr th:only-of-type {\n",
       "        vertical-align: middle;\n",
       "    }\n",
       "\n",
       "    .dataframe tbody tr th {\n",
       "        vertical-align: top;\n",
       "    }\n",
       "\n",
       "    .dataframe thead th {\n",
       "        text-align: right;\n",
       "    }\n",
       "</style>\n",
       "<table border=\"1\" class=\"dataframe\">\n",
       "  <thead>\n",
       "    <tr style=\"text-align: right;\">\n",
       "      <th></th>\n",
       "      <th>Id</th>\n",
       "      <th>Price</th>\n",
       "    </tr>\n",
       "  </thead>\n",
       "  <tbody>\n",
       "    <tr>\n",
       "      <th>0</th>\n",
       "      <td>725</td>\n",
       "      <td>146965.594387</td>\n",
       "    </tr>\n",
       "    <tr>\n",
       "      <th>1</th>\n",
       "      <td>15856</td>\n",
       "      <td>252022.361965</td>\n",
       "    </tr>\n",
       "    <tr>\n",
       "      <th>2</th>\n",
       "      <td>5480</td>\n",
       "      <td>212766.709224</td>\n",
       "    </tr>\n",
       "    <tr>\n",
       "      <th>3</th>\n",
       "      <td>15664</td>\n",
       "      <td>318776.389827</td>\n",
       "    </tr>\n",
       "    <tr>\n",
       "      <th>4</th>\n",
       "      <td>14275</td>\n",
       "      <td>156897.975689</td>\n",
       "    </tr>\n",
       "  </tbody>\n",
       "</table>\n",
       "</div>"
      ],
      "text/plain": [
       "      Id          Price\n",
       "0    725  146965.594387\n",
       "1  15856  252022.361965\n",
       "2   5480  212766.709224\n",
       "3  15664  318776.389827\n",
       "4  14275  156897.975689"
      ]
     },
     "execution_count": 51,
     "metadata": {},
     "output_type": "execute_result"
    }
   ],
   "source": [
    "%%time\n",
    "\n",
    "final_model = CatBoostRegressor(\n",
    "    silent=True,\n",
    "    learning_rate=0.1,\n",
    "    iterations=1150,\n",
    "    eval_metric='R2',\n",
    "    depth=8\n",
    ")\n",
    "\n",
    "final_model.fit(X, y, plot=True)\n",
    "\n",
    "cv_score = cross_val_score(\n",
    "    final_model,\n",
    "    X,\n",
    "    y,\n",
    "    scoring='r2',\n",
    "    cv=KFold(\n",
    "            n_splits=5,\n",
    "            shuffle=True,\n",
    "            random_state=42\n",
    "    )\n",
    ")\n",
    "\n",
    "print(f'R2: {round(cv_score.mean(), 3)}')\n",
    "\n",
    "y_pred_test = final_model.predict(X_test)\n",
    "\n",
    "preds_test['Price'] = y_pred_test\n",
    "preds_test.to_csv('repp_predictions.csv', index=False)\n",
    "\n",
    "preds_test.head()"
   ]
  },
  {
   "cell_type": "code",
   "execution_count": 52,
   "metadata": {},
   "outputs": [
    {
     "data": {
      "image/png": "[encoded data removed]",
      "text/plain": [
       "<Figure size 1440x432 with 1 Axes>"
      ]
     },
     "metadata": {
      "needs_background": "light"
     },
     "output_type": "display_data"
    }
   ],
   "source": [
    "plot_feature_importances(importances = final_model.feature_importances_, X=X)"
   ]
  },
  {
   "cell_type": "code",
   "execution_count": 56,
   "metadata": {},
   "outputs": [
    {
     "data": {
      "text/plain": [
       "Pipeline(steps=[('features',\n",
       "                 FeatureUnion(transformer_list=[('Square',\n",
       "                                                 Pipeline(steps=[('selector',\n",
       "                                                                  NumberSelector(key='Square')),\n",
       "                                                                 ('scaler',\n",
       "                                                                  StandardScaler())])),\n",
       "                                                ('LifeSquare',\n",
       "                                                 Pipeline(steps=[('selector',\n",
       "                                                                  NumberSelector(key='LifeSquare')),\n",
       "                                                                 ('scaler',\n",
       "                                                                  StandardScaler())])),\n",
       "                                                ('KitchenSquare',\n",
       "                                                 Pipeline(steps=[('selector',\n",
       "                                                                  NumberSelector(key='KitchenSquare')),\n",
       "                                                                 ('s...\n",
       "                                                                  NumberSelector(key='DistrictId_count')),\n",
       "                                                                 ('scaler',\n",
       "                                                                  StandardScaler())])),\n",
       "                                                ('MedPriceByDistrict',\n",
       "                                                 Pipeline(steps=[('selector',\n",
       "                                                                  NumberSelector(key='MedPriceByDistrict')),\n",
       "                                                                 ('scaler',\n",
       "                                                                  StandardScaler())])),\n",
       "                                                ('MedPriceBySquare',\n",
       "                                                 Pipeline(steps=[('selector',\n",
       "                                                                  NumberSelector(key='MedPriceBySquare')),\n",
       "                                                                 ('scaler',\n",
       "                                                                  StandardScaler())]))])),\n",
       "                ('regressor',\n",
       "                 <catboost.core.CatBoostRegressor object at 0x7fee8a9e49a0>)])"
      ]
     },
     "execution_count": 56,
     "metadata": {},
     "output_type": "execute_result"
    }
   ],
   "source": [
    "pipeline_model = Pipeline([\n",
    "    ('features',feats),\n",
    "    ('regressor', CatBoostRegressor(\n",
    "                                    silent=True,\n",
    "                                    learning_rate=0.1,\n",
    "                                    iterations=1150,\n",
    "                                    eval_metric='R2',\n",
    "                                    depth=8\n",
    "                                    )),\n",
    "                        ])\n",
    "\n",
    "#обучим наш пайплайн\n",
    "pipeline_model.fit(X, y)"
   ]
  },
  {
   "cell_type": "code",
   "execution_count": 58,
   "metadata": {},
   "outputs": [],
   "source": [
    "with open(\"repp_model.dill\", \"wb\") as f:\n",
    "    dill.dump(pipeline_model, f)"
   ]
  }
 ],
 "metadata": {
  "kernelspec": {
   "display_name": "Python 3",
   "language": "python",
   "name": "python3"
  },
  "language_info": {
   "codemirror_mode": {
    "name": "ipython",
    "version": 3
   },
   "file_extension": ".py",
   "mimetype": "text/x-python",
   "name": "python",
   "nbconvert_exporter": "python",
   "pygments_lexer": "ipython3",
   "version": "3.8.5"
  },
  "widgets": {
   "application/vnd.jupyter.widget-state+json": {
    "state": {
     "22e040b16d344d7baa1cca59f5d5aa64": {
      "model_module": "@jupyter-widgets/base",
      "model_module_version": "1.2.0",
      "model_name": "LayoutModel",
      "state": {
       "_model_module": "@jupyter-widgets/base",
       "_model_module_version": "1.2.0",
       "_model_name": "LayoutModel",
       "_view_count": null,
       "_view_module": "@jupyter-widgets/base",
       "_view_module_version": "1.2.0",
       "_view_name": "LayoutView",
       "align_content": null,
       "align_items": null,
       "align_self": "stretch",
       "border": null,
       "bottom": null,
       "display": null,
       "flex": null,
       "flex_flow": null,
       "grid_area": null,
       "grid_auto_columns": null,
       "grid_auto_flow": null,
       "grid_auto_rows": null,
       "grid_column": null,
       "grid_gap": null,
       "grid_row": null,
       "grid_template_areas": null,
       "grid_template_columns": null,
       "grid_template_rows": null,
       "height": "500px",
       "justify_content": null,
       "justify_items": null,
       "left": null,
       "margin": null,
       "max_height": null,
       "max_width": null,
       "min_height": null,
       "min_width": null,
       "object_fit": null,
       "object_position": null,
       "order": null,
       "overflow": null,
       "overflow_x": null,
       "overflow_y": null,
       "padding": null,
       "right": null,
       "top": null,
       "visibility": null,
       "width": null
      }
     },
     "26acf619824446bcb7991c6fe0757cd4": {
      "model_module": "@jupyter-widgets/base",
      "model_module_version": "1.2.0",
      "model_name": "LayoutModel",
      "state": {
       "_model_module": "@jupyter-widgets/base",
       "_model_module_version": "1.2.0",
       "_model_name": "LayoutModel",
       "_view_count": null,
       "_view_module": "@jupyter-widgets/base",
       "_view_module_version": "1.2.0",
       "_view_name": "LayoutView",
       "align_content": null,
       "align_items": null,
       "align_self": "stretch",
       "border": null,
       "bottom": null,
       "display": null,
       "flex": null,
       "flex_flow": null,
       "grid_area": null,
       "grid_auto_columns": null,
       "grid_auto_flow": null,
       "grid_auto_rows": null,
       "grid_column": null,
       "grid_gap": null,
       "grid_row": null,
       "grid_template_areas": null,
       "grid_template_columns": null,
       "grid_template_rows": null,
       "height": "500px",
       "justify_content": null,
       "justify_items": null,
       "left": null,
       "margin": null,
       "max_height": null,
       "max_width": null,
       "min_height": null,
       "min_width": null,
       "object_fit": null,
       "object_position": null,
       "order": null,
       "overflow": null,
       "overflow_x": null,
       "overflow_y": null,
       "padding": null,
       "right": null,
       "top": null,
       "visibility": null,
       "width": null
      }
     },
     "547749489e0240f480e7fadcee9b392f": {
      "model_module": "@jupyter-widgets/base",
      "model_module_version": "1.2.0",
      "model_name": "DOMWidgetModel",
      "state": {
       "_dom_classes": [],
       "_model_module": "@jupyter-widgets/base",
       "_model_module_version": "1.2.0",
       "_model_name": "DOMWidgetModel",
       "_view_count": null,
       "_view_module": "catboost_module",
       "_view_module_version": "",
       "_view_name": "CatboostIpythonWidgetView",
       "data": {
        "catboost_info": {
         "content": {
          "data": {
           "iterations": [
            {
             "iteration": 0,
             "learn": [
              0.1126958322,
              87478.37716
             ],
             "passed_time": 0.03162120787,
             "remaining_time": 36.33276784
            },
            {
             "iteration": 1,
             "learn": [
              0.2034555791,
              82883.76239
             ],
             "passed_time": 0.03871122638,
             "remaining_time": 22.22024394
            },
            {
             "iteration": 2,
             "learn": [
              0.2792977902,
              78839.23178
             ],
             "passed_time": 0.04698794255,
             "remaining_time": 17.9650567
            },
            {
             "iteration": 3,
             "learn": [
              0.3435262122,
              75244.22128
             ],
             "passed_time": 0.0547138735,
             "remaining_time": 15.67552476
            },
            {
             "iteration": 4,
             "learn": [
              0.3978850148,
              72061.64551
             ],
             "passed_time": 0.06235349628,
             "remaining_time": 14.27895065
            },
            {
             "iteration": 5,
             "learn": [
              0.4430444101,
              69306.62338
             ],
             "passed_time": 0.0690966916,
             "remaining_time": 13.17443586
            },
            {
             "iteration": 6,
             "learn": [
              0.4829801439,
              66775.64139
             ],
             "passed_time": 0.07546763416,
             "remaining_time": 12.32278655
            },
            {
             "iteration": 7,
             "learn": [
              0.5156561318,
              64631.07209
             ],
             "passed_time": 0.08180057214,
             "remaining_time": 11.67703167
            },
            {
             "iteration": 8,
             "learn": [
              0.5426582138,
              62803.65204
             ],
             "passed_time": 0.08965012763,
             "remaining_time": 11.36564396
            },
            {
             "iteration": 9,
             "learn": [
              0.5651211127,
              61241.89477
             ],
             "passed_time": 0.09677260824,
             "remaining_time": 11.03207734
            },
            {
             "iteration": 10,
             "learn": [
              0.5839911389,
              59898.47253
             ],
             "passed_time": 0.1039770655,
             "remaining_time": 10.76635251
            },
            {
             "iteration": 11,
             "learn": [
              0.5996992374,
              58756.73647
             ],
             "passed_time": 0.1101953643,
             "remaining_time": 10.45019371
            },
            {
             "iteration": 12,
             "learn": [
              0.6147194557,
              57643.85225
             ],
             "passed_time": 0.1163566382,
             "remaining_time": 10.17673059
            },
            {
             "iteration": 13,
             "learn": [
              0.6277338384,
              56661.91362
             ],
             "passed_time": 0.1225016029,
             "remaining_time": 9.940130067
            },
            {
             "iteration": 14,
             "learn": [
              0.6397682233,
              55738.52437
             ],
             "passed_time": 0.1306325438,
             "remaining_time": 9.884529145
            },
            {
             "iteration": 15,
             "learn": [
              0.649051888,
              55015.6074
             ],
             "passed_time": 0.1385080397,
             "remaining_time": 9.816757317
            },
            {
             "iteration": 16,
             "learn": [
              0.6568603615,
              54400.12551
             ],
             "passed_time": 0.1456183776,
             "remaining_time": 9.70503658
            },
            {
             "iteration": 17,
             "learn": [
              0.6657463937,
              53691.12548
             ],
             "passed_time": 0.1523718188,
             "remaining_time": 9.582494382
            },
            {
             "iteration": 18,
             "learn": [
              0.6730031195,
              53105.10377
             ],
             "passed_time": 0.1590154545,
             "remaining_time": 9.465604163
            },
            {
             "iteration": 19,
             "learn": [
              0.6792955262,
              52591.67055
             ],
             "passed_time": 0.1649268943,
             "remaining_time": 9.318369529
            },
            {
             "iteration": 20,
             "learn": [
              0.684790518,
              52139.16763
             ],
             "passed_time": 0.1710693644,
             "remaining_time": 9.197014877
            },
            {
             "iteration": 21,
             "learn": [
              0.6896304563,
              51737.32922
             ],
             "passed_time": 0.1775112887,
             "remaining_time": 9.101487891
            },
            {
             "iteration": 22,
             "learn": [
              0.6950064964,
              51287.28997
             ],
             "passed_time": 0.1837090717,
             "remaining_time": 9.001744513
            },
            {
             "iteration": 23,
             "learn": [
              0.6990086506,
              50949.68039
             ],
             "passed_time": 0.1905606273,
             "remaining_time": 8.940469433
            },
            {
             "iteration": 24,
             "learn": [
              0.7042417518,
              50504.82721
             ],
             "passed_time": 0.1970339282,
             "remaining_time": 8.86652677
            },
            {
             "iteration": 25,
             "learn": [
              0.7081269345,
              50172.00614
             ],
             "passed_time": 0.2030380573,
             "remaining_time": 8.7774914
            },
            {
             "iteration": 26,
             "learn": [
              0.7118805777,
              49848.34278
             ],
             "passed_time": 0.2090220775,
             "remaining_time": 8.693770111
            },
            {
             "iteration": 27,
             "learn": [
              0.7157339086,
              49513.88299
             ],
             "passed_time": 0.215153269,
             "remaining_time": 8.621498849
            },
            {
             "iteration": 28,
             "learn": [
              0.7185920636,
              49264.33533
             ],
             "passed_time": 0.2210690407,
             "remaining_time": 8.545461884
            },
            {
             "iteration": 29,
             "learn": [
              0.7222639869,
              48941.86958
             ],
             "passed_time": 0.2276632428,
             "remaining_time": 8.499427733
            },
            {
             "iteration": 30,
             "learn": [
              0.7250391832,
              48696.737
             ],
             "passed_time": 0.2341946595,
             "remaining_time": 8.45367174
            },
            {
             "iteration": 31,
             "learn": [
              0.72707755,
              48515.89949
             ],
             "passed_time": 0.2403854909,
             "remaining_time": 8.398468088
            },
            {
             "iteration": 32,
             "learn": [
              0.7297609939,
              48276.7999
             ],
             "passed_time": 0.2469213454,
             "remaining_time": 8.357913419
            },
            {
             "iteration": 33,
             "learn": [
              0.7317628458,
              48097.65727
             ],
             "passed_time": 0.2534228846,
             "remaining_time": 8.318233506
            },
            {
             "iteration": 34,
             "learn": [
              0.7335777202,
              47934.66837
             ],
             "passed_time": 0.2598941426,
             "remaining_time": 8.27948483
            },
            {
             "iteration": 35,
             "learn": [
              0.7366530178,
              47657.21177
             ],
             "passed_time": 0.2665361983,
             "remaining_time": 8.247814582
            },
            {
             "iteration": 36,
             "learn": [
              0.7382766318,
              47510.07405
             ],
             "passed_time": 0.2733502681,
             "remaining_time": 8.222671578
            },
            {
             "iteration": 37,
             "learn": [
              0.7399530952,
              47357.66722
             ],
             "passed_time": 0.2832141984,
             "remaining_time": 8.287741807
            },
            {
             "iteration": 38,
             "learn": [
              0.7422077961,
              47151.9162
             ],
             "passed_time": 0.2914547996,
             "remaining_time": 8.30272519
            },
            {
             "iteration": 39,
             "learn": [
              0.7439679666,
              46990.66701
             ],
             "passed_time": 0.3008235736,
             "remaining_time": 8.347854169
            },
            {
             "iteration": 40,
             "learn": [
              0.744848507,
              46909.79272
             ],
             "passed_time": 0.3067271731,
             "remaining_time": 8.296595976
            },
            {
             "iteration": 41,
             "learn": [
              0.7468187634,
              46728.32516
             ],
             "passed_time": 0.3132796728,
             "remaining_time": 8.264616131
            },
            {
             "iteration": 42,
             "learn": [
              0.7482258002,
              46598.29958
             ],
             "passed_time": 0.3210855049,
             "remaining_time": 8.266084975
            },
            {
             "iteration": 43,
             "learn": [
              0.7500958701,
              46424.92103
             ],
             "passed_time": 0.3288940075,
             "remaining_time": 8.26719937
            },
            {
             "iteration": 44,
             "learn": [
              0.7509391287,
              46346.52838
             ],
             "passed_time": 0.336002353,
             "remaining_time": 8.250724447
            },
            {
             "iteration": 45,
             "learn": [
              0.753060621,
              46148.71713
             ],
             "passed_time": 0.3422271316,
             "remaining_time": 8.213451158
            },
            {
             "iteration": 46,
             "learn": [
              0.7546050279,
              46004.17927
             ],
             "passed_time": 0.3489358097,
             "remaining_time": 8.18885528
            },
            {
             "iteration": 47,
             "learn": [
              0.7559140796,
              45881.31127
             ],
             "passed_time": 0.355242069,
             "remaining_time": 8.155765835
            },
            {
             "iteration": 48,
             "learn": [
              0.7568362508,
              45794.55808
             ],
             "passed_time": 0.3617668159,
             "remaining_time": 8.128678863
            },
            {
             "iteration": 49,
             "learn": [
              0.7580435188,
              45680.73541
             ],
             "passed_time": 0.3682938955,
             "remaining_time": 8.102465702
            },
            {
             "iteration": 50,
             "learn": [
              0.7586873745,
              45619.9158
             ],
             "passed_time": 0.3761155795,
             "remaining_time": 8.104921998
            },
            {
             "iteration": 51,
             "learn": [
              0.7600726975,
              45488.78034
             ],
             "passed_time": 0.3826777737,
             "remaining_time": 8.080388375
            },
            {
             "iteration": 52,
             "learn": [
              0.7612798622,
              45374.20044
             ],
             "passed_time": 0.389787667,
             "remaining_time": 8.067869258
            },
            {
             "iteration": 53,
             "learn": [
              0.7628855873,
              45221.34064
             ],
             "passed_time": 0.3997828031,
             "remaining_time": 8.114110225
            },
            {
             "iteration": 54,
             "learn": [
              0.763576252,
              45155.43246
             ],
             "passed_time": 0.4095636677,
             "remaining_time": 8.154040293
            },
            {
             "iteration": 55,
             "learn": [
              0.7652943735,
              44991.05814
             ],
             "passed_time": 0.4196085774,
             "remaining_time": 8.19735328
            },
            {
             "iteration": 56,
             "learn": [
              0.7666005957,
              44865.68766
             ],
             "passed_time": 0.4269884947,
             "remaining_time": 8.187691662
            },
            {
             "iteration": 57,
             "learn": [
              0.7674005382,
              44788.73636
             ],
             "passed_time": 0.4333603237,
             "remaining_time": 8.159128853
            },
            {
             "iteration": 58,
             "learn": [
              0.7685104539,
              44681.74736
             ],
             "passed_time": 0.4394089194,
             "remaining_time": 8.125341205
            },
            {
             "iteration": 59,
             "learn": [
              0.7701188134,
              44526.2553
             ],
             "passed_time": 0.4456854421,
             "remaining_time": 8.096618866
            },
            {
             "iteration": 60,
             "learn": [
              0.7708384165,
              44456.50982
             ],
             "passed_time": 0.4520042478,
             "remaining_time": 8.069387309
            },
            {
             "iteration": 61,
             "learn": [
              0.7720163921,
              44342.10112
             ],
             "passed_time": 0.4603283366,
             "remaining_time": 8.078019842
            },
            {
             "iteration": 62,
             "learn": [
              0.7731305471,
              44233.61859
             ],
             "passed_time": 0.4661824434,
             "remaining_time": 8.043497079
            },
            {
             "iteration": 63,
             "learn": [
              0.7743322057,
              44116.31703
             ],
             "passed_time": 0.4727695261,
             "remaining_time": 8.022307897
            },
            {
             "iteration": 64,
             "learn": [
              0.7753721836,
              44014.54581
             ],
             "passed_time": 0.4794002355,
             "remaining_time": 8.002296239
            },
            {
             "iteration": 65,
             "learn": [
              0.7756691244,
              43985.44426
             ],
             "passed_time": 0.4855804674,
             "remaining_time": 7.975291314
            },
            {
             "iteration": 66,
             "learn": [
              0.7769614431,
              43858.56623
             ],
             "passed_time": 0.49171516,
             "remaining_time": 7.948171914
            },
            {
             "iteration": 67,
             "learn": [
              0.7781016609,
              43746.3157
             ],
             "passed_time": 0.4974860264,
             "remaining_time": 7.915880597
            },
            {
             "iteration": 68,
             "learn": [
              0.778645251,
              43692.6996
             ],
             "passed_time": 0.5036051643,
             "remaining_time": 7.88981424
            },
            {
             "iteration": 69,
             "learn": [
              0.7793156753,
              43626.48268
             ],
             "passed_time": 0.5091377383,
             "remaining_time": 7.855267962
            },
            {
             "iteration": 70,
             "learn": [
              0.7805746269,
              43501.86534
             ],
             "passed_time": 0.5157494797,
             "remaining_time": 7.837939276
            },
            {
             "iteration": 71,
             "learn": [
              0.7811597862,
              43443.82166
             ],
             "passed_time": 0.5251623617,
             "remaining_time": 7.862847582
            },
            {
             "iteration": 72,
             "learn": [
              0.7820393298,
              43356.43094
             ],
             "passed_time": 0.5349387575,
             "remaining_time": 7.892178655
            },
            {
             "iteration": 73,
             "learn": [
              0.7831798075,
              43242.85106
             ],
             "passed_time": 0.5452224119,
             "remaining_time": 7.927828584
            },
            {
             "iteration": 74,
             "learn": [
              0.7841508858,
              43145.90593
             ],
             "passed_time": 0.5537115881,
             "remaining_time": 7.936532763
            },
            {
             "iteration": 75,
             "learn": [
              0.7848656625,
              43074.40863
             ],
             "passed_time": 0.5607892203,
             "remaining_time": 7.924837139
            },
            {
             "iteration": 76,
             "learn": [
              0.7858912603,
              42971.61287
             ],
             "passed_time": 0.5674739957,
             "remaining_time": 7.907786979
            },
            {
             "iteration": 77,
             "learn": [
              0.7867999393,
              42880.33
             ],
             "passed_time": 0.57691296,
             "remaining_time": 7.92885504
            },
            {
             "iteration": 78,
             "learn": [
              0.7872716143,
              42832.87041
             ],
             "passed_time": 0.586577714,
             "remaining_time": 7.952211793
            },
            {
             "iteration": 79,
             "learn": [
              0.7879293339,
              42766.6032
             ],
             "passed_time": 0.5964012865,
             "remaining_time": 7.976867207
            },
            {
             "iteration": 80,
             "learn": [
              0.7883504535,
              42724.12018
             ],
             "passed_time": 0.6037549851,
             "remaining_time": 7.968075051
            },
            {
             "iteration": 81,
             "learn": [
              0.7895531922,
              42602.55327
             ],
             "passed_time": 0.6101580902,
             "remaining_time": 7.946937078
            },
            {
             "iteration": 82,
             "learn": [
              0.7907330093,
              42482.96518
             ],
             "passed_time": 0.6179707671,
             "remaining_time": 7.944274801
            },
            {
             "iteration": 83,
             "learn": [
              0.7915530991,
              42399.64089
             ],
             "passed_time": 0.6258116891,
             "remaining_time": 7.94184834
            },
            {
             "iteration": 84,
             "learn": [
              0.7923633644,
              42317.15368
             ],
             "passed_time": 0.6332060488,
             "remaining_time": 7.933699317
            },
            {
             "iteration": 85,
             "learn": [
              0.7930654012,
              42245.55419
             ],
             "passed_time": 0.6394406741,
             "remaining_time": 7.911219502
            },
            {
             "iteration": 86,
             "learn": [
              0.7937770771,
              42172.84755
             ],
             "passed_time": 0.645608451,
             "remaining_time": 7.888296361
            },
            {
             "iteration": 87,
             "learn": [
              0.7944477319,
              42104.21683
             ],
             "passed_time": 0.6511147841,
             "remaining_time": 7.857771599
            },
            {
             "iteration": 88,
             "learn": [
              0.7950099369,
              42046.59789
             ],
             "passed_time": 0.6581635974,
             "remaining_time": 7.846197493
            },
            {
             "iteration": 89,
             "learn": [
              0.7955998156,
              41986.05774
             ],
             "passed_time": 0.6642898224,
             "remaining_time": 7.823857908
            },
            {
             "iteration": 90,
             "learn": [
              0.7962539866,
              41918.81691
             ],
             "passed_time": 0.6708385478,
             "remaining_time": 7.806791452
            },
            {
             "iteration": 91,
             "learn": [
              0.7971474828,
              41826.80172
             ],
             "passed_time": 0.6777660276,
             "remaining_time": 7.794309318
            },
            {
             "iteration": 92,
             "learn": [
              0.7976523032,
              41774.72405
             ],
             "passed_time": 0.6841728674,
             "remaining_time": 7.776029257
            },
            {
             "iteration": 93,
             "learn": [
              0.7982437429,
              41713.62795
             ],
             "passed_time": 0.6902305521,
             "remaining_time": 7.754079394
            },
            {
             "iteration": 94,
             "learn": [
              0.7990659409,
              41628.54539
             ],
             "passed_time": 0.6972876321,
             "remaining_time": 7.743562652
            },
            {
             "iteration": 95,
             "learn": [
              0.7999503018,
              41536.83556
             ],
             "passed_time": 0.7037245817,
             "remaining_time": 7.72630947
            },
            {
             "iteration": 96,
             "learn": [
              0.8001555337,
              41515.52368
             ],
             "passed_time": 0.7095880451,
             "remaining_time": 7.703053727
            },
            {
             "iteration": 97,
             "learn": [
              0.8010637496,
              41421.08024
             ],
             "passed_time": 0.7158936585,
             "remaining_time": 7.684899273
            },
            {
             "iteration": 98,
             "learn": [
              0.8017041922,
              41354.35231
             ],
             "passed_time": 0.7225455605,
             "remaining_time": 7.670660445
            },
            {
             "iteration": 99,
             "learn": [
              0.8022674071,
              41295.58167
             ],
             "passed_time": 0.7294865985,
             "remaining_time": 7.659609284
            },
            {
             "iteration": 100,
             "learn": [
              0.8031225702,
              41206.18637
             ],
             "passed_time": 0.7360285787,
             "remaining_time": 7.644494842
            },
            {
             "iteration": 101,
             "learn": [
              0.803736034,
              41141.9377
             ],
             "passed_time": 0.743077022,
             "remaining_time": 7.634752148
            },
            {
             "iteration": 102,
             "learn": [
              0.8041917093,
              41094.14936
             ],
             "passed_time": 0.7506123551,
             "remaining_time": 7.630011027
            },
            {
             "iteration": 103,
             "learn": [
              0.8046741876,
              41043.48945
             ],
             "passed_time": 0.757384141,
             "remaining_time": 7.617536649
            },
            {
             "iteration": 104,
             "learn": [
              0.8057392279,
              40931.43891
             ],
             "passed_time": 0.7648501606,
             "remaining_time": 7.61208017
            },
            {
             "iteration": 105,
             "learn": [
              0.8061803533,
              40884.93915
             ],
             "passed_time": 0.7716971497,
             "remaining_time": 7.600488909
            },
            {
             "iteration": 106,
             "learn": [
              0.8066785583,
              40832.35886
             ],
             "passed_time": 0.7781961211,
             "remaining_time": 7.585593965
            },
            {
             "iteration": 107,
             "learn": [
              0.8073607823,
              40760.24727
             ],
             "passed_time": 0.7849727731,
             "remaining_time": 7.573533607
            },
            {
             "iteration": 108,
             "learn": [
              0.8079904438,
              40693.57817
             ],
             "passed_time": 0.7911378258,
             "remaining_time": 7.555729144
            },
            {
             "iteration": 109,
             "learn": [
              0.8088352552,
              40603.95686
             ],
             "passed_time": 0.7975608044,
             "remaining_time": 7.540574878
            },
            {
             "iteration": 110,
             "learn": [
              0.8093908917,
              40544.9045
             ],
             "passed_time": 0.8037202883,
             "remaining_time": 7.523111527
            },
            {
             "iteration": 111,
             "learn": [
              0.8101052361,
              40468.85826
             ],
             "passed_time": 0.8103129776,
             "remaining_time": 7.509864917
            },
            {
             "iteration": 112,
             "learn": [
              0.8110313548,
              40370.05412
             ],
             "passed_time": 0.8170337985,
             "remaining_time": 7.497911938
            },
            {
             "iteration": 113,
             "learn": [
              0.8115493834,
              40314.682
             ],
             "passed_time": 0.8244274067,
             "remaining_time": 7.492164854
            },
            {
             "iteration": 114,
             "learn": [
              0.8119632478,
              40270.38927
             ],
             "passed_time": 0.8305065077,
             "remaining_time": 7.474558569
            },
            {
             "iteration": 115,
             "learn": [
              0.8126703893,
              40194.59641
             ],
             "passed_time": 0.8369284171,
             "remaining_time": 7.460206753
            },
            {
             "iteration": 116,
             "learn": [
              0.8132506215,
              40132.29903
             ],
             "passed_time": 0.8428821348,
             "remaining_time": 7.441856797
            },
            {
             "iteration": 117,
             "learn": [
              0.8134241585,
              40113.64821
             ],
             "passed_time": 0.8491826834,
             "remaining_time": 7.426750248
            },
            {
             "iteration": 118,
             "learn": [
              0.8139390926,
              40058.25476
             ],
             "passed_time": 0.8566787805,
             "remaining_time": 7.42214977
            },
            {
             "iteration": 119,
             "learn": [
              0.8145638736,
              39990.94164
             ],
             "passed_time": 0.8648546161,
             "remaining_time": 7.423335455
            },
            {
             "iteration": 120,
             "learn": [
              0.8150358303,
              39940.0184
             ],
             "passed_time": 0.8714392279,
             "remaining_time": 7.410834426
            },
            {
             "iteration": 121,
             "learn": [
              0.8163328767,
              39799.73394
             ],
             "passed_time": 0.8776945849,
             "remaining_time": 7.39565601
            },
            {
             "iteration": 122,
             "learn": [
              0.8167497465,
              39754.5415
             ],
             "passed_time": 0.8842251874,
             "remaining_time": 7.382920873
            },
            {
             "iteration": 123,
             "learn": [
              0.8179047221,
              39629.06255
             ],
             "passed_time": 0.8904445135,
             "remaining_time": 7.367710248
            },
            {
             "iteration": 124,
             "learn": [
              0.8180855927,
              39609.37639
             ],
             "passed_time": 0.8963568533,
             "remaining_time": 7.350126197
            },
            {
             "iteration": 125,
             "learn": [
              0.8188264919,
              39528.63375
             ],
             "passed_time": 0.9038470319,
             "remaining_time": 7.345550482
            },
            {
             "iteration": 126,
             "learn": [
              0.8189012984,
              39520.47222
             ],
             "passed_time": 0.9098064685,
             "remaining_time": 7.328598561
            },
            {
             "iteration": 127,
             "learn": [
              0.8194497703,
              39460.58139
             ],
             "passed_time": 0.9166344674,
             "remaining_time": 7.318753325
            },
            {
             "iteration": 128,
             "learn": [
              0.8201936814,
              39379.20386
             ],
             "passed_time": 0.9231018135,
             "remaining_time": 7.3061004
            },
            {
             "iteration": 129,
             "learn": [
              0.8203703541,
              39359.85264
             ],
             "passed_time": 0.9269011107,
             "remaining_time": 7.272608715
            },
            {
             "iteration": 130,
             "learn": [
              0.8208318409,
              39309.2604
             ],
             "passed_time": 0.9331393047,
             "remaining_time": 7.258541615
            },
            {
             "iteration": 131,
             "learn": [
              0.8215999517,
              39224.90865
             ],
             "passed_time": 0.9430421061,
             "remaining_time": 7.27285503
            },
            {
             "iteration": 132,
             "learn": [
              0.8217573089,
              39207.60573
             ],
             "passed_time": 0.9531368626,
             "remaining_time": 7.2882721
            },
            {
             "iteration": 133,
             "learn": [
              0.8219578374,
              39185.54464
             ],
             "passed_time": 0.9612175934,
             "remaining_time": 7.288037873
            },
            {
             "iteration": 134,
             "learn": [
              0.8223475915,
              39142.63038
             ],
             "passed_time": 0.9691615301,
             "remaining_time": 7.286658912
            },
            {
             "iteration": 135,
             "learn": [
              0.8227273278,
              39100.77385
             ],
             "passed_time": 0.9792713604,
             "remaining_time": 7.301332055
            },
            {
             "iteration": 136,
             "learn": [
              0.8232988569,
              39037.69229
             ],
             "passed_time": 0.9861947214,
             "remaining_time": 7.292082137
            },
            {
             "iteration": 137,
             "learn": [
              0.8239240109,
              38968.57504
             ],
             "passed_time": 0.9922286121,
             "remaining_time": 7.276343155
            },
            {
             "iteration": 138,
             "learn": [
              0.8243449961,
              38921.96162
             ],
             "passed_time": 0.9981516264,
             "remaining_time": 7.259937369
            },
            {
             "iteration": 139,
             "learn": [
              0.8244518614,
              38910.1201
             ],
             "passed_time": 1.004255754,
             "remaining_time": 7.24498794
            },
            {
             "iteration": 140,
             "learn": [
              0.8250150751,
              38847.65201
             ],
             "passed_time": 1.011130451,
             "remaining_time": 7.235678189
            },
            {
             "iteration": 141,
             "learn": [
              0.8256084586,
              38781.72881
             ],
             "passed_time": 1.028790254,
             "remaining_time": 7.302961803
            },
            {
             "iteration": 142,
             "learn": [
              0.8261589759,
              38720.46755
             ],
             "passed_time": 1.035744624,
             "remaining_time": 7.293670187
            },
            {
             "iteration": 143,
             "learn": [
              0.8266277089,
              38668.23071
             ],
             "passed_time": 1.042177328,
             "remaining_time": 7.28076661
            },
            {
             "iteration": 144,
             "learn": [
              0.8273793806,
              38584.31481
             ],
             "passed_time": 1.04855953,
             "remaining_time": 7.267602262
            },
            {
             "iteration": 145,
             "learn": [
              0.8278463579,
              38532.08986
             ],
             "passed_time": 1.055316608,
             "remaining_time": 7.257108729
            },
            {
             "iteration": 146,
             "learn": [
              0.8284651229,
              38462.78036
             ],
             "passed_time": 1.063234239,
             "remaining_time": 7.254584636
            },
            {
             "iteration": 147,
             "learn": [
              0.8291802111,
              38382.52552
             ],
             "passed_time": 1.070939376,
             "remaining_time": 7.250549017
            },
            {
             "iteration": 148,
             "learn": [
              0.829292587,
              38369.89823
             ],
             "passed_time": 1.077983238,
             "remaining_time": 7.242021616
            },
            {
             "iteration": 149,
             "learn": [
              0.8297932636,
              38313.58839
             ],
             "passed_time": 1.087528744,
             "remaining_time": 7.250191629
            },
            {
             "iteration": 150,
             "learn": [
              0.8305435447,
              38229.05088
             ],
             "passed_time": 1.097183683,
             "remaining_time": 7.258850986
            },
            {
             "iteration": 151,
             "learn": [
              0.8311282361,
              38163.04125
             ],
             "passed_time": 1.107017628,
             "remaining_time": 7.268444687
            },
            {
             "iteration": 152,
             "learn": [
              0.8315253098,
              38118.14784
             ],
             "passed_time": 1.116999776,
             "remaining_time": 7.278750175
            },
            {
             "iteration": 153,
             "learn": [
              0.831916122,
              38073.91068
             ],
             "passed_time": 1.127038941,
             "remaining_time": 7.289160943
            },
            {
             "iteration": 154,
             "learn": [
              0.8322519044,
              38035.8614
             ],
             "passed_time": 1.13691087,
             "remaining_time": 7.298234294
            },
            {
             "iteration": 155,
             "learn": [
              0.8329314263,
              37958.7445
             ],
             "passed_time": 1.146466302,
             "remaining_time": 7.305048101
            },
            {
             "iteration": 156,
             "learn": [
              0.833428815,
              37902.19788
             ],
             "passed_time": 1.152663906,
             "remaining_time": 7.290415657
            },
            {
             "iteration": 157,
             "learn": [
              0.8340257814,
              37834.219
             ],
             "passed_time": 1.159199158,
             "remaining_time": 7.278009902
            },
            {
             "iteration": 158,
             "learn": [
              0.8343021821,
              37802.70277
             ],
             "passed_time": 1.166423895,
             "remaining_time": 7.269975345
            },
            {
             "iteration": 159,
             "learn": [
              0.8345614133,
              37773.12037
             ],
             "passed_time": 1.173748722,
             "remaining_time": 7.262570217
            },
            {
             "iteration": 160,
             "learn": [
              0.8349948745,
              37723.60374
             ],
             "passed_time": 1.181538951,
             "remaining_time": 7.258024983
            },
            {
             "iteration": 161,
             "learn": [
              0.8354401168,
              37672.67354
             ],
             "passed_time": 1.188210734,
             "remaining_time": 7.246618553
            },
            {
             "iteration": 162,
             "learn": [
              0.8357518039,
              37636.97939
             ],
             "passed_time": 1.194603021,
             "remaining_time": 7.233577804
            },
            {
             "iteration": 163,
             "learn": [
              0.8360471643,
              37603.12369
             ],
             "passed_time": 1.201407488,
             "remaining_time": 7.223096242
            },
            {
             "iteration": 164,
             "learn": [
              0.8365464891,
              37545.81913
             ],
             "passed_time": 1.208042977,
             "remaining_time": 7.211650497
            },
            {
             "iteration": 165,
             "learn": [
              0.8370198978,
              37491.40793
             ],
             "passed_time": 1.21581977,
             "remaining_time": 7.207028037
            },
            {
             "iteration": 166,
             "learn": [
              0.8373553228,
              37452.80802
             ],
             "passed_time": 1.221907073,
             "remaining_time": 7.19242307
            },
            {
             "iteration": 167,
             "learn": [
              0.8379755754,
              37381.32584
             ],
             "passed_time": 1.228494725,
             "remaining_time": 7.180844168
            },
            {
             "iteration": 168,
             "learn": [
              0.8386989557,
              37297.78546
             ],
             "passed_time": 1.234841733,
             "remaining_time": 7.167927458
            },
            {
             "iteration": 169,
             "learn": [
              0.8393260694,
              37225.21082
             ],
             "passed_time": 1.241304478,
             "remaining_time": 7.155755228
            },
            {
             "iteration": 170,
             "learn": [
              0.8395086594,
              37204.05342
             ],
             "passed_time": 1.247442702,
             "remaining_time": 7.141791841
            },
            {
             "iteration": 171,
             "learn": [
              0.8397986793,
              37170.42297
             ],
             "passed_time": 1.253759446,
             "remaining_time": 7.128934525
            },
            {
             "iteration": 172,
             "learn": [
              0.8401264121,
              37132.38269
             ],
             "passed_time": 1.261463358,
             "remaining_time": 7.12398671
            },
            {
             "iteration": 173,
             "learn": [
              0.8406409457,
              37072.58152
             ],
             "passed_time": 1.268392316,
             "remaining_time": 7.114660346
            },
            {
             "iteration": 174,
             "learn": [
              0.8412134057,
              37005.93434
             ],
             "passed_time": 1.276404666,
             "remaining_time": 7.111397424
            },
            {
             "iteration": 175,
             "learn": [
              0.8414273149,
              36980.99968
             ],
             "passed_time": 1.282108686,
             "remaining_time": 7.095306022
            },
            {
             "iteration": 176,
             "learn": [
              0.8419286228,
              36922.49799
             ],
             "passed_time": 1.288373021,
             "remaining_time": 7.082412145
            },
            {
             "iteration": 177,
             "learn": [
              0.8422400154,
              36886.11234
             ],
             "passed_time": 1.295574376,
             "remaining_time": 7.074709517
            },
            {
             "iteration": 178,
             "learn": [
              0.8428666194,
              36812.78582
             ],
             "passed_time": 1.302848072,
             "remaining_time": 7.067404906
            },
            {
             "iteration": 179,
             "learn": [
              0.8430684152,
              36789.14013
             ],
             "passed_time": 1.30904564,
             "remaining_time": 7.054301506
            },
            {
             "iteration": 180,
             "learn": [
              0.8438361029,
              36699.04612
             ],
             "passed_time": 1.316857414,
             "remaining_time": 7.04991621
            },
            {
             "iteration": 181,
             "learn": [
              0.8443348769,
              36640.39245
             ],
             "passed_time": 1.322929737,
             "remaining_time": 7.03624168
            },
            {
             "iteration": 182,
             "learn": [
              0.8451515508,
              36544.15187
             ],
             "passed_time": 1.329454681,
             "remaining_time": 7.02504195
            },
            {
             "iteration": 183,
             "learn": [
              0.8453773066,
              36517.50303
             ],
             "passed_time": 1.335704871,
             "remaining_time": 7.012450575
            },
            {
             "iteration": 184,
             "learn": [
              0.8462067778,
              36419.42251
             ],
             "passed_time": 1.342232894,
             "remaining_time": 7.001376989
            },
            {
             "iteration": 185,
             "learn": [
              0.8463739569,
              36399.62248
             ],
             "passed_time": 1.348676119,
             "remaining_time": 6.989912791
            },
            {
             "iteration": 186,
             "learn": [
              0.8465320781,
              36380.88531
             ],
             "passed_time": 1.354731497,
             "remaining_time": 6.976504983
            },
            {
             "iteration": 187,
             "learn": [
              0.8469714092,
              36328.77439
             ],
             "passed_time": 1.360950881,
             "remaining_time": 6.964014615
            },
            {
             "iteration": 188,
             "learn": [
              0.8472756606,
              36292.64199
             ],
             "passed_time": 1.367530734,
             "remaining_time": 6.953423468
            },
            {
             "iteration": 189,
             "learn": [
              0.8473356351,
              36285.51527
             ],
             "passed_time": 1.373574532,
             "remaining_time": 6.940166058
            },
            {
             "iteration": 190,
             "learn": [
              0.8477972412,
              36230.6161
             ],
             "passed_time": 1.379911929,
             "remaining_time": 6.928458324
            },
            {
             "iteration": 191,
             "learn": [
              0.8483864422,
              36160.42086
             ],
             "passed_time": 1.386399571,
             "remaining_time": 6.917556192
            },
            {
             "iteration": 192,
             "learn": [
              0.8490460648,
              36081.67385
             ],
             "passed_time": 1.393487439,
             "remaining_time": 6.909676059
            },
            {
             "iteration": 193,
             "learn": [
              0.8494335165,
              36035.33889
             ],
             "passed_time": 1.39993759,
             "remaining_time": 6.898661527
            },
            {
             "iteration": 194,
             "learn": [
              0.8497784066,
              35994.04366
             ],
             "passed_time": 1.406056084,
             "remaining_time": 6.886069537
            },
            {
             "iteration": 195,
             "learn": [
              0.8501944258,
              35944.16869
             ],
             "passed_time": 1.412613716,
             "remaining_time": 6.875681045
            },
            {
             "iteration": 196,
             "learn": [
              0.8506304301,
              35891.82341
             ],
             "passed_time": 1.418808413,
             "remaining_time": 6.863575722
            },
            {
             "iteration": 197,
             "learn": [
              0.8510274638,
              35844.0903
             ],
             "passed_time": 1.425223544,
             "remaining_time": 6.852589968
            },
            {
             "iteration": 198,
             "learn": [
              0.8511777218,
              35826.00904
             ],
             "passed_time": 1.431833595,
             "remaining_time": 6.842581655
            },
            {
             "iteration": 199,
             "learn": [
              0.8515097095,
              35786.02701
             ],
             "passed_time": 1.437869753,
             "remaining_time": 6.829881327
            },
            {
             "iteration": 200,
             "learn": [
              0.8516181559,
              35772.95688
             ],
             "passed_time": 1.444080472,
             "remaining_time": 6.818071484
            },
            {
             "iteration": 201,
             "learn": [
              0.8520370783,
              35722.42279
             ],
             "passed_time": 1.450176054,
             "remaining_time": 6.805776726
            },
            {
             "iteration": 202,
             "learn": [
              0.8523823924,
              35680.71416
             ],
             "passed_time": 1.456150163,
             "remaining_time": 6.792976376
            },
            {
             "iteration": 203,
             "learn": [
              0.8530066941,
              35605.1841
             ],
             "passed_time": 1.462450113,
             "remaining_time": 6.781753955
            },
            {
             "iteration": 204,
             "learn": [
              0.8533388693,
              35564.93108
             ],
             "passed_time": 1.469128996,
             "remaining_time": 6.772326346
            },
            {
             "iteration": 205,
             "learn": [
              0.853772345,
              35512.33384
             ],
             "passed_time": 1.47581621,
             "remaining_time": 6.762963601
            },
            {
             "iteration": 206,
             "learn": [
              0.8543723854,
              35439.39709
             ],
             "passed_time": 1.481950634,
             "remaining_time": 6.751108443
            },
            {
             "iteration": 207,
             "learn": [
              0.8545155871,
              35421.96829
             ],
             "passed_time": 1.488448502,
             "remaining_time": 6.740954273
            },
            {
             "iteration": 208,
             "learn": [
              0.8550750934,
              35353.78948
             ],
             "passed_time": 1.494650619,
             "remaining_time": 6.729503504
            },
            {
             "iteration": 209,
             "learn": [
              0.8554372128,
              35309.59315
             ],
             "passed_time": 1.501180842,
             "remaining_time": 6.719571389
            },
            {
             "iteration": 210,
             "learn": [
              0.8558340951,
              35261.0904
             ],
             "passed_time": 1.507605304,
             "remaining_time": 6.709200857
            },
            {
             "iteration": 211,
             "learn": [
              0.8561247647,
              35225.52548
             ],
             "passed_time": 1.513643906,
             "remaining_time": 6.6971603
            },
            {
             "iteration": 212,
             "learn": [
              0.856613468,
              35165.64904
             ],
             "passed_time": 1.520074238,
             "remaining_time": 6.686899348
            },
            {
             "iteration": 213,
             "learn": [
              0.856682118,
              35157.2298
             ],
             "passed_time": 1.527063721,
             "remaining_time": 6.679119825
            },
            {
             "iteration": 214,
             "learn": [
              0.8570710483,
              35109.49325
             ],
             "passed_time": 1.534022316,
             "remaining_time": 6.671213327
            },
            {
             "iteration": 215,
             "learn": [
              0.8573774914,
              35071.83526
             ],
             "passed_time": 1.541303902,
             "remaining_time": 6.664712244
            },
            {
             "iteration": 216,
             "learn": [
              0.8574197929,
              35066.63376
             ],
             "passed_time": 1.547824733,
             "remaining_time": 6.654933069
            },
            {
             "iteration": 217,
             "learn": [
              0.8576800207,
              35034.61852
             ],
             "passed_time": 1.554417398,
             "remaining_time": 6.645490895
            },
            {
             "iteration": 218,
             "learn": [
              0.8581622898,
              34975.20854
             ],
             "passed_time": 1.5618172,
             "remaining_time": 6.639505998
            },
            {
             "iteration": 219,
             "learn": [
              0.8584607644,
              34938.38932
             ],
             "passed_time": 1.570527369,
             "remaining_time": 6.639047516
            },
            {
             "iteration": 220,
             "learn": [
              0.8588267305,
              34893.19145
             ],
             "passed_time": 1.579282474,
             "remaining_time": 6.638703252
            },
            {
             "iteration": 221,
             "learn": [
              0.8594534815,
              34815.64962
             ],
             "passed_time": 1.586745868,
             "remaining_time": 6.63288363
            },
            {
             "iteration": 222,
             "learn": [
              0.8597387768,
              34780.29553
             ],
             "passed_time": 1.594479602,
             "remaining_time": 6.628173056
            },
            {
             "iteration": 223,
             "learn": [
              0.8601900142,
              34724.30424
             ],
             "passed_time": 1.601294342,
             "remaining_time": 6.619636432
            },
            {
             "iteration": 224,
             "learn": [
              0.860412033,
              34696.72212
             ],
             "passed_time": 1.607458688,
             "remaining_time": 6.608441271
            },
            {
             "iteration": 225,
             "learn": [
              0.8609199954,
              34633.53368
             ],
             "passed_time": 1.615489528,
             "remaining_time": 6.604921785
            },
            {
             "iteration": 226,
             "learn": [
              0.8612498635,
              34592.43762
             ],
             "passed_time": 1.621860023,
             "remaining_time": 6.59461146
            },
            {
             "iteration": 227,
             "learn": [
              0.8617587428,
              34528.94383
             ],
             "passed_time": 1.628914858,
             "remaining_time": 6.587103067
            },
            {
             "iteration": 228,
             "learn": [
              0.8619711473,
              34502.40717
             ],
             "passed_time": 1.635690518,
             "remaining_time": 6.578475838
            },
            {
             "iteration": 229,
             "learn": [
              0.8623499917,
              34455.02569
             ],
             "passed_time": 1.642197746,
             "remaining_time": 6.568790984
            },
            {
             "iteration": 230,
             "learn": [
              0.8626703745,
              34414.90498
             ],
             "passed_time": 1.647703964,
             "remaining_time": 6.555151268
            },
            {
             "iteration": 231,
             "learn": [
              0.8629406634,
              34381.021
             ],
             "passed_time": 1.653940794,
             "remaining_time": 6.544472624
            },
            {
             "iteration": 232,
             "learn": [
              0.8631580348,
              34353.74663
             ],
             "passed_time": 1.662025728,
             "remaining_time": 6.541105548
            },
            {
             "iteration": 233,
             "learn": [
              0.8633281947,
              34332.38093
             ],
             "passed_time": 1.668307847,
             "remaining_time": 6.530640975
            },
            {
             "iteration": 234,
             "learn": [
              0.8635638649,
              34302.76761
             ],
             "passed_time": 1.674663742,
             "remaining_time": 6.520499251
            },
            {
             "iteration": 235,
             "learn": [
              0.8639581441,
              34253.16692
             ],
             "passed_time": 1.68241706,
             "remaining_time": 6.515801664
            },
            {
             "iteration": 236,
             "learn": [
              0.8641104938,
              34233.98194
             ],
             "passed_time": 1.688817036,
             "remaining_time": 6.505864785
            },
            {
             "iteration": 237,
             "learn": [
              0.8645584055,
              34177.51527
             ],
             "passed_time": 1.695078157,
             "remaining_time": 6.495425541
            },
            {
             "iteration": 238,
             "learn": [
              0.8648730899,
              34137.78823
             ],
             "passed_time": 1.701456281,
             "remaining_time": 6.485467248
            },
            {
             "iteration": 239,
             "learn": [
              0.8651479056,
              34103.05653
             ],
             "passed_time": 1.707693463,
             "remaining_time": 6.475004379
            },
            {
             "iteration": 240,
             "learn": [
              0.8654435952,
              34065.6472
             ],
             "passed_time": 1.713778263,
             "remaining_time": 6.464001829
            },
            {
             "iteration": 241,
             "learn": [
              0.865667979,
              34037.23172
             ],
             "passed_time": 1.720247312,
             "remaining_time": 6.454481649
            },
            {
             "iteration": 242,
             "learn": [
              0.8658379508,
              34015.69106
             ],
             "passed_time": 1.728398732,
             "remaining_time": 6.451266049
            },
            {
             "iteration": 243,
             "learn": [
              0.8661844763,
              33971.73331
             ],
             "passed_time": 1.735277514,
             "remaining_time": 6.443284541
            },
            {
             "iteration": 244,
             "learn": [
              0.8664874532,
              33933.25315
             ],
             "passed_time": 1.74150788,
             "remaining_time": 6.432916863
            },
            {
             "iteration": 245,
             "learn": [
              0.8667305875,
              33902.34184
             ],
             "passed_time": 1.7477423,
             "remaining_time": 6.42259772
            },
            {
             "iteration": 246,
             "learn": [
              0.8670230223,
              33865.12523
             ],
             "passed_time": 1.754158857,
             "remaining_time": 6.412977523
            },
            {
             "iteration": 247,
             "learn": [
              0.8671350686,
              33850.85486
             ],
             "passed_time": 1.761011562,
             "remaining_time": 6.404969472
            },
            {
             "iteration": 248,
             "learn": [
              0.8673081363,
              33828.80089
             ],
             "passed_time": 1.768212452,
             "remaining_time": 6.398230601
            },
            {
             "iteration": 249,
             "learn": [
              0.8674720414,
              33807.90124
             ],
             "passed_time": 1.775491638,
             "remaining_time": 6.391769896
            },
            {
             "iteration": 250,
             "learn": [
              0.8678298455,
              33762.23247
             ],
             "passed_time": 1.782494052,
             "remaining_time": 6.384311365
            },
            {
             "iteration": 251,
             "learn": [
              0.8681021452,
              33727.43571
             ],
             "passed_time": 1.790590043,
             "remaining_time": 6.380753406
            },
            {
             "iteration": 252,
             "learn": [
              0.8682131137,
              33713.24491
             ],
             "passed_time": 1.796631408,
             "remaining_time": 6.369874991
            },
            {
             "iteration": 253,
             "learn": [
              0.8684428649,
              33683.84503
             ],
             "passed_time": 1.802914598,
             "remaining_time": 6.359887717
            },
            {
             "iteration": 254,
             "learn": [
              0.8686817809,
              33653.24515
             ],
             "passed_time": 1.809509043,
             "remaining_time": 6.351021934
            },
            {
             "iteration": 255,
             "learn": [
              0.8689063142,
              33624.46199
             ],
             "passed_time": 1.815676018,
             "remaining_time": 6.340681095
            },
            {
             "iteration": 256,
             "learn": [
              0.8693878446,
              33562.65086
             ],
             "passed_time": 1.822334821,
             "remaining_time": 6.332081691
            },
            {
             "iteration": 257,
             "learn": [
              0.8696333395,
              33531.09433
             ],
             "passed_time": 1.829380561,
             "remaining_time": 6.324835118
            },
            {
             "iteration": 258,
             "learn": [
              0.8699571949,
              33489.41964
             ],
             "passed_time": 1.835666626,
             "remaining_time": 6.314976695
            },
            {
             "iteration": 259,
             "learn": [
              0.8702323635,
              33453.96932
             ],
             "passed_time": 1.841882401,
             "remaining_time": 6.30490514
            },
            {
             "iteration": 260,
             "learn": [
              0.8705078218,
              33418.44403
             ],
             "passed_time": 1.848294338,
             "remaining_time": 6.29553129
            },
            {
             "iteration": 261,
             "learn": [
              0.8706071007,
              33405.63097
             ],
             "passed_time": 1.856155458,
             "remaining_time": 6.291091782
            },
            {
             "iteration": 262,
             "learn": [
              0.8708470571,
              33374.64158
             ],
             "passed_time": 1.863088193,
             "remaining_time": 6.28349516
            },
            {
             "iteration": 263,
             "learn": [
              0.8710432771,
              33349.27915
             ],
             "passed_time": 1.870718691,
             "remaining_time": 6.278245304
            },
            {
             "iteration": 264,
             "learn": [
              0.8712871245,
              33317.73375
             ],
             "passed_time": 1.877824416,
             "remaining_time": 6.271224935
            },
            {
             "iteration": 265,
             "learn": [
              0.8716447274,
              33271.41824
             ],
             "passed_time": 1.886241927,
             "remaining_time": 6.268563395
            },
            {
             "iteration": 266,
             "learn": [
              0.8720050527,
              33224.68484
             ],
             "passed_time": 1.893734688,
             "remaining_time": 6.262800484
            },
            {
             "iteration": 267,
             "learn": [
              0.8722222668,
              33196.48085
             ],
             "passed_time": 1.900883055,
             "remaining_time": 6.255891247
            },
            {
             "iteration": 268,
             "learn": [
              0.8727479481,
              33128.12483
             ],
             "passed_time": 1.90722912,
             "remaining_time": 6.246352619
            },
            {
             "iteration": 269,
             "learn": [
              0.8730480122,
              33089.04322
             ],
             "passed_time": 1.913776206,
             "remaining_time": 6.237492819
            },
            {
             "iteration": 270,
             "learn": [
              0.8731982187,
              33069.46235
             ],
             "passed_time": 1.920138015,
             "remaining_time": 6.228049134
            },
            {
             "iteration": 271,
             "learn": [
              0.8734450387,
              33037.26178
             ],
             "passed_time": 1.926189054,
             "remaining_time": 6.21762496
            },
            {
             "iteration": 272,
             "learn": [
              0.8737313312,
              32999.87219
             ],
             "passed_time": 1.933029414,
             "remaining_time": 6.209768484
            },
            {
             "iteration": 273,
             "learn": [
              0.8740117412,
              32963.20975
             ],
             "passed_time": 1.939909279,
             "remaining_time": 6.202045725
            },
            {
             "iteration": 274,
             "learn": [
              0.8741719036,
              32942.25087
             ],
             "passed_time": 1.946333117,
             "remaining_time": 6.192878101
            },
            {
             "iteration": 275,
             "learn": [
              0.874728298,
              32869.33714
             ],
             "passed_time": 1.953430029,
             "remaining_time": 6.185861757
            },
            {
             "iteration": 276,
             "learn": [
              0.8749632172,
              32838.50311
             ],
             "passed_time": 1.961025557,
             "remaining_time": 6.180416287
            },
            {
             "iteration": 277,
             "learn": [
              0.8752345045,
              32802.85957
             ],
             "passed_time": 1.970372107,
             "remaining_time": 6.18044776
            },
            {
             "iteration": 278,
             "learn": [
              0.875351678,
              32787.45256
             ],
             "passed_time": 1.977727453,
             "remaining_time": 6.174195742
            },
            {
             "iteration": 279,
             "learn": [
              0.875466795,
              32772.30889
             ],
             "passed_time": 1.985310456,
             "remaining_time": 6.168643202
            },
            {
             "iteration": 280,
             "learn": [
              0.875603437,
              32754.32453
             ],
             "passed_time": 1.993555555,
             "remaining_time": 6.165123761
            },
            {
             "iteration": 281,
             "learn": [
              0.8758321596,
              32724.19868
             ],
             "passed_time": 2.001474769,
             "remaining_time": 6.16056773
            },
            {
             "iteration": 282,
             "learn": [
              0.8761968427,
              32676.10758
             ],
             "passed_time": 2.008899956,
             "remaining_time": 6.154474424
            },
            {
             "iteration": 283,
             "learn": [
              0.8762408978,
              32670.2932
             ],
             "passed_time": 2.039054384,
             "remaining_time": 6.217679917
            },
            {
             "iteration": 284,
             "learn": [
              0.876580845,
              32625.3922
             ],
             "passed_time": 2.048575738,
             "remaining_time": 6.217607066
            },
            {
             "iteration": 285,
             "learn": [
              0.8769152297,
              32581.16557
             ],
             "passed_time": 2.055391111,
             "remaining_time": 6.209293427
            },
            {
             "iteration": 286,
             "learn": [
              0.877050273,
              32563.28732
             ],
             "passed_time": 2.061829277,
             "remaining_time": 6.199855979
            },
            {
             "iteration": 287,
             "learn": [
              0.8772884083,
              32531.73693
             ],
             "passed_time": 2.068617711,
             "remaining_time": 6.191487731
            },
            {
             "iteration": 288,
             "learn": [
              0.8774240893,
              32513.74694
             ],
             "passed_time": 2.076219544,
             "remaining_time": 6.185553729
            },
            {
             "iteration": 289,
             "learn": [
              0.8775742827,
              32493.82115
             ],
             "passed_time": 2.082426089,
             "remaining_time": 6.17547047
            },
            {
             "iteration": 290,
             "learn": [
              0.8778822978,
              32452.91924
             ],
             "passed_time": 2.089993697,
             "remaining_time": 6.169431566
            },
            {
             "iteration": 291,
             "learn": [
              0.8781661508,
              32415.18017
             ],
             "passed_time": 2.098188591,
             "remaining_time": 6.165225379
            },
            {
             "iteration": 292,
             "learn": [
              0.8783207421,
              32394.60831
             ],
             "passed_time": 2.107479404,
             "remaining_time": 6.164197437
            },
            {
             "iteration": 293,
             "learn": [
              0.8784199601,
              32381.39824
             ],
             "passed_time": 2.114491289,
             "remaining_time": 6.156478039
            },
            {
             "iteration": 294,
             "learn": [
              0.8785422084,
              32365.11445
             ],
             "passed_time": 2.122655279,
             "remaining_time": 6.152102589
            },
            {
             "iteration": 295,
             "learn": [
              0.8788056826,
              32329.99113
             ],
             "passed_time": 2.129207471,
             "remaining_time": 6.143051284
            },
            {
             "iteration": 296,
             "learn": [
              0.8790697865,
              32294.74552
             ],
             "passed_time": 2.136181748,
             "remaining_time": 6.135229061
            },
            {
             "iteration": 297,
             "learn": [
              0.8794431331,
              32244.85538
             ],
             "passed_time": 2.143152539,
             "remaining_time": 6.12740256
            },
            {
             "iteration": 298,
             "learn": [
              0.8795597962,
              32229.2499
             ],
             "passed_time": 2.149662724,
             "remaining_time": 6.11827083
            },
            {
             "iteration": 299,
             "learn": [
              0.8799919036,
              32171.38296
             ],
             "passed_time": 2.156018924,
             "remaining_time": 6.108720284
            },
            {
             "iteration": 300,
             "learn": [
              0.8802690358,
              32134.21514
             ],
             "passed_time": 2.163630266,
             "remaining_time": 6.102731214
            },
            {
             "iteration": 301,
             "learn": [
              0.8803258189,
              32126.59432
             ],
             "passed_time": 2.169972007,
             "remaining_time": 6.093166431
            },
            {
             "iteration": 302,
             "learn": [
              0.8805460283,
              32097.02304
             ],
             "passed_time": 2.175949132,
             "remaining_time": 6.082603679
            },
            {
             "iteration": 303,
             "learn": [
              0.8808486343,
              32056.34247
             ],
             "passed_time": 2.182400153,
             "remaining_time": 6.073389899
            },
            {
             "iteration": 304,
             "learn": [
              0.8810852287,
              32024.50013
             ],
             "passed_time": 2.188894136,
             "remaining_time": 6.064313261
            },
            {
             "iteration": 305,
             "learn": [
              0.8814955644,
              31969.19937
             ],
             "passed_time": 2.195421412,
             "remaining_time": 6.055345332
            },
            {
             "iteration": 306,
             "learn": [
              0.881558083,
              31960.76537
             ],
             "passed_time": 2.202627027,
             "remaining_time": 6.048255972
            },
            {
             "iteration": 307,
             "learn": [
              0.8818453436,
              31921.98416
             ],
             "passed_time": 2.211161092,
             "remaining_time": 6.04479753
            },
            {
             "iteration": 308,
             "learn": [
              0.8822661148,
              31865.09333
             ],
             "passed_time": 2.218330707,
             "remaining_time": 6.037592637
            },
            {
             "iteration": 309,
             "learn": [
              0.8824706688,
              31837.39967
             ],
             "passed_time": 2.224733311,
             "remaining_time": 6.028309616
            },
            {
             "iteration": 310,
             "learn": [
              0.8827624575,
              31797.85394
             ],
             "passed_time": 2.232033441,
             "remaining_time": 6.021466421
            },
            {
             "iteration": 311,
             "learn": [
              0.8830414704,
              31759.99364
             ],
             "passed_time": 2.239296084,
             "remaining_time": 6.014519611
            },
            {
             "iteration": 312,
             "learn": [
              0.8831883419,
              31740.04596
             ],
             "passed_time": 2.246125897,
             "remaining_time": 6.006413342
            },
            {
             "iteration": 313,
             "learn": [
              0.8833162533,
              31722.66316
             ],
             "passed_time": 2.252448508,
             "remaining_time": 5.996964818
            },
            {
             "iteration": 314,
             "learn": [
              0.8835213799,
              31694.76714
             ],
             "passed_time": 2.259144626,
             "remaining_time": 5.988526232
            },
            {
             "iteration": 315,
             "learn": [
              0.8838663724,
              31647.79473
             ],
             "passed_time": 2.266763945,
             "remaining_time": 5.982535222
            },
            {
             "iteration": 316,
             "learn": [
              0.8841370437,
              31610.89263
             ],
             "passed_time": 2.273144494,
             "remaining_time": 5.973278748
            },
            {
             "iteration": 317,
             "learn": [
              0.8843118982,
              31587.03086
             ],
             "passed_time": 2.279526383,
             "remaining_time": 5.96404387
            },
            {
             "iteration": 318,
             "learn": [
              0.8848642302,
              31511.53734
             ],
             "passed_time": 2.285844343,
             "remaining_time": 5.954660343
            },
            {
             "iteration": 319,
             "learn": [
              0.8851179434,
              31476.79879
             ],
             "passed_time": 2.293988542,
             "remaining_time": 5.95003278
            },
            {
             "iteration": 320,
             "learn": [
              0.8853783158,
              31441.10853
             ],
             "passed_time": 2.300393755,
             "remaining_time": 5.940892284
            },
            {
             "iteration": 321,
             "learn": [
              0.8857072906,
              31395.95667
             ],
             "passed_time": 2.307111775,
             "remaining_time": 5.932573136
            },
            {
             "iteration": 322,
             "learn": [
              0.8858852078,
              31371.51042
             ],
             "passed_time": 2.313590867,
             "remaining_time": 5.923652159
            },
            {
             "iteration": 323,
             "learn": [
              0.8862717883,
              31318.32756
             ],
             "passed_time": 2.320947951,
             "remaining_time": 5.91698459
            },
            {
             "iteration": 324,
             "learn": [
              0.886607868,
              31272.01872
             ],
             "passed_time": 2.327153257,
             "remaining_time": 5.907389038
            },
            {
             "iteration": 325,
             "learn": [
              0.8869629209,
              31223.02094
             ],
             "passed_time": 2.333607622,
             "remaining_time": 5.898443806
            },
            {
             "iteration": 326,
             "learn": [
              0.8874017862,
              31162.35047
             ],
             "passed_time": 2.340427379,
             "remaining_time": 5.890433435
            },
            {
             "iteration": 327,
             "learn": [
              0.8875079621,
              31147.65454
             ],
             "passed_time": 2.346874228,
             "remaining_time": 5.88149578
            },
            {
             "iteration": 328,
             "learn": [
              0.8876952624,
              31121.71316
             ],
             "passed_time": 2.35391952,
             "remaining_time": 5.874066644
            },
            {
             "iteration": 329,
             "learn": [
              0.8878376548,
              31101.97713
             ],
             "passed_time": 2.359904417,
             "remaining_time": 5.864004915
            },
            {
             "iteration": 330,
             "learn": [
              0.8881419644,
              31059.75682
             ],
             "passed_time": 2.366675507,
             "remaining_time": 5.855913112
            },
            {
             "iteration": 331,
             "learn": [
              0.8883375522,
              31032.59039
             ],
             "passed_time": 2.376541962,
             "remaining_time": 5.855455798
            },
            {
             "iteration": 332,
             "learn": [
              0.8886814824,
              30984.76197
             ],
             "passed_time": 2.384793853,
             "remaining_time": 5.850980716
            },
            {
             "iteration": 333,
             "learn": [
              0.8888378768,
              30962.98865
             ],
             "passed_time": 2.392663642,
             "remaining_time": 5.845549497
            },
            {
             "iteration": 334,
             "learn": [
              0.8891245846,
              30923.03322
             ],
             "passed_time": 2.399803153,
             "remaining_time": 5.838327073
            },
            {
             "iteration": 335,
             "learn": [
              0.8893800567,
              30887.38722
             ],
             "passed_time": 2.405436595,
             "remaining_time": 5.827456513
            },
            {
             "iteration": 336,
             "learn": [
              0.8898527067,
              30821.32974
             ],
             "passed_time": 2.411772504,
             "remaining_time": 5.818311707
            },
            {
             "iteration": 337,
             "learn": [
              0.8900659978,
              30791.4738
             ],
             "passed_time": 2.419453353,
             "remaining_time": 5.812414565
            },
            {
             "iteration": 338,
             "learn": [
              0.8903697301,
              30748.90811
             ],
             "passed_time": 2.425214712,
             "remaining_time": 5.801914842
            },
            {
             "iteration": 339,
             "learn": [
              0.8905034791,
              30730.14554
             ],
             "passed_time": 2.431347929,
             "remaining_time": 5.792328889
            },
            {
             "iteration": 340,
             "learn": [
              0.8907246926,
              30699.08812
             ],
             "passed_time": 2.437358123,
             "remaining_time": 5.782471323
            },
            {
             "iteration": 341,
             "learn": [
              0.890890712,
              30675.75905
             ],
             "passed_time": 2.443574543,
             "remaining_time": 5.773123481
            },
            {
             "iteration": 342,
             "learn": [
              0.8912213515,
              30629.24461
             ],
             "passed_time": 2.449828987,
             "remaining_time": 5.76388336
            },
            {
             "iteration": 343,
             "learn": [
              0.8913932703,
              30605.03111
             ],
             "passed_time": 2.456314454,
             "remaining_time": 5.755201888
            },
            {
             "iteration": 344,
             "learn": [
              0.8915474871,
              30583.29449
             ],
             "passed_time": 2.462676015,
             "remaining_time": 5.746244036
            },
            {
             "iteration": 345,
             "learn": [
              0.8916401857,
              30570.22133
             ],
             "passed_time": 2.469095211,
             "remaining_time": 5.737435115
            },
            {
             "iteration": 346,
             "learn": [
              0.8918140478,
              30545.6867
             ],
             "passed_time": 2.475383964,
             "remaining_time": 5.728338107
            },
            {
             "iteration": 347,
             "learn": [
              0.891966115,
              30524.21149
             ],
             "passed_time": 2.481170693,
             "remaining_time": 5.718100274
            },
            {
             "iteration": 348,
             "learn": [
              0.8921851456,
              30493.25302
             ],
             "passed_time": 2.487500841,
             "remaining_time": 5.709135168
            },
            {
             "iteration": 349,
             "learn": [
              0.8925131557,
              30446.83216
             ],
             "passed_time": 2.493455359,
             "remaining_time": 5.699326534
            },
            {
             "iteration": 350,
             "learn": [
              0.8926148155,
              30432.43064
             ],
             "passed_time": 2.499737472,
             "remaining_time": 5.690285585
            },
            {
             "iteration": 351,
             "learn": [
              0.892803446,
              30405.69041
             ],
             "passed_time": 2.505923601,
             "remaining_time": 5.681042709
            },
            {
             "iteration": 352,
             "learn": [
              0.8930045935,
              30377.14984
             ],
             "passed_time": 2.512448697,
             "remaining_time": 5.672582469
            },
            {
             "iteration": 353,
             "learn": [
              0.8932567157,
              30341.33864
             ],
             "passed_time": 2.51941207,
             "remaining_time": 5.665118666
            },
            {
             "iteration": 354,
             "learn": [
              0.8934474003,
              30314.22587
             ],
             "passed_time": 2.525303921,
             "remaining_time": 5.655258076
            },
            {
             "iteration": 355,
             "learn": [
              0.8937341634,
              30273.40631
             ],
             "passed_time": 2.532077107,
             "remaining_time": 5.647385457
            },
            {
             "iteration": 356,
             "learn": [
              0.8939269908,
              30245.92715
             ],
             "passed_time": 2.538669697,
             "remaining_time": 5.639117842
            },
            {
             "iteration": 357,
             "learn": [
              0.8941083793,
              30220.0553
             ],
             "passed_time": 2.545349868,
             "remaining_time": 5.631053339
            },
            {
             "iteration": 358,
             "learn": [
              0.8942661944,
              30197.52774
             ],
             "passed_time": 2.551506006,
             "remaining_time": 5.621841924
            },
            {
             "iteration": 359,
             "learn": [
              0.8944872398,
              30165.94599
             ],
             "passed_time": 2.558289792,
             "remaining_time": 5.61402482
            },
            {
             "iteration": 360,
             "learn": [
              0.8945846006,
              30152.02512
             ],
             "passed_time": 2.564355388,
             "remaining_time": 5.604643771
            },
            {
             "iteration": 361,
             "learn": [
              0.8947660177,
              30126.06853
             ],
             "passed_time": 2.570331161,
             "remaining_time": 5.59508551
            },
            {
             "iteration": 362,
             "learn": [
              0.8948667937,
              30111.64014
             ],
             "passed_time": 2.576422402,
             "remaining_time": 5.585797329
            },
            {
             "iteration": 363,
             "learn": [
              0.8949753757,
              30096.08643
             ],
             "passed_time": 2.582008239,
             "remaining_time": 5.575435374
            },
            {
             "iteration": 364,
             "learn": [
              0.89504782,
              30085.70473
             ],
             "passed_time": 2.588803777,
             "remaining_time": 5.567701274
            },
            {
             "iteration": 365,
             "learn": [
              0.8952376233,
              30058.48782
             ],
             "passed_time": 2.595591531,
             "remaining_time": 5.55995563
            },
            {
             "iteration": 366,
             "learn": [
              0.8954246895,
              30031.63924
             ],
             "passed_time": 2.601884288,
             "remaining_time": 5.551159121
            },
            {
             "iteration": 367,
             "learn": [
              0.8955931922,
              30007.43444
             ],
             "passed_time": 2.608791607,
             "remaining_time": 5.543682164
            },
            {
             "iteration": 368,
             "learn": [
              0.895647973,
              29999.56116
             ],
             "passed_time": 2.616492199,
             "remaining_time": 5.537887283
            },
            {
             "iteration": 369,
             "learn": [
              0.895816273,
              29975.35959
             ],
             "passed_time": 2.626851154,
             "remaining_time": 5.537686217
            },
            {
             "iteration": 370,
             "learn": [
              0.8961787349,
              29923.17106
             ],
             "passed_time": 2.63551141,
             "remaining_time": 5.53386358
            },
            {
             "iteration": 371,
             "learn": [
              0.8964755837,
              29880.36184
             ],
             "passed_time": 2.644818448,
             "remaining_time": 5.531367615
            },
            {
             "iteration": 372,
             "learn": [
              0.8967041661,
              29847.35562
             ],
             "passed_time": 2.65095658,
             "remaining_time": 5.522233949
            },
            {
             "iteration": 373,
             "learn": [
              0.8968292226,
              29829.28258
             ],
             "passed_time": 2.65681893,
             "remaining_time": 5.51254409
            },
            {
             "iteration": 374,
             "learn": [
              0.897059299,
              29796.00357
             ],
             "passed_time": 2.664579129,
             "remaining_time": 5.506796866
            },
            {
             "iteration": 375,
             "learn": [
              0.8972772129,
              29764.44947
             ],
             "passed_time": 2.67148355,
             "remaining_time": 5.499277307
            },
            {
             "iteration": 376,
             "learn": [
              0.8974968628,
              29732.6101
             ],
             "passed_time": 2.677947075,
             "remaining_time": 5.490856999
            },
            {
             "iteration": 377,
             "learn": [
              0.8976557231,
              29709.56123
             ],
             "passed_time": 2.685028947,
             "remaining_time": 5.483709914
            },
            {
             "iteration": 378,
             "learn": [
              0.8978742562,
              29677.82524
             ],
             "passed_time": 2.690983176,
             "remaining_time": 5.474269205
            },
            {
             "iteration": 379,
             "learn": [
              0.8982425257,
              29624.26721
             ],
             "passed_time": 2.697249722,
             "remaining_time": 5.465479701
            },
            {
             "iteration": 380,
             "learn": [
              0.8985244279,
              29583.2042
             ],
             "passed_time": 2.703497778,
             "remaining_time": 5.456666118
            },
            {
             "iteration": 381,
             "learn": [
              0.8986039624,
              29571.60856
             ],
             "passed_time": 2.709763631,
             "remaining_time": 5.44790175
            },
            {
             "iteration": 382,
             "learn": [
              0.8988291879,
              29538.7474
             ],
             "passed_time": 2.716144141,
             "remaining_time": 5.439380042
            },
            {
             "iteration": 383,
             "learn": [
              0.8989652027,
              29518.88467
             ],
             "passed_time": 2.722466708,
             "remaining_time": 5.430753902
            },
            {
             "iteration": 384,
             "learn": [
              0.8992829125,
              29472.4362
             ],
             "passed_time": 2.729332732,
             "remaining_time": 5.423219584
            },
            {
             "iteration": 385,
             "learn": [
              0.8994715111,
              29444.82884
             ],
             "passed_time": 2.735912192,
             "remaining_time": 5.41512154
            },
            {
             "iteration": 386,
             "learn": [
              0.899716518,
              29408.92565
             ],
             "passed_time": 2.742347244,
             "remaining_time": 5.406746634
            },
            {
             "iteration": 387,
             "learn": [
              0.8998752546,
              29385.64106
             ],
             "passed_time": 2.74960062,
             "remaining_time": 5.399988846
            },
            {
             "iteration": 388,
             "learn": [
              0.900138435,
              29346.99519
             ],
             "passed_time": 2.757191151,
             "remaining_time": 5.393888087
            },
            {
             "iteration": 389,
             "learn": [
              0.9004017525,
              29308.27821
             ],
             "passed_time": 2.764958416,
             "remaining_time": 5.388124092
            },
            {
             "iteration": 390,
             "learn": [
              0.9004817686,
              29296.50288
             ],
             "passed_time": 2.772702225,
             "remaining_time": 5.382304319
            },
            {
             "iteration": 391,
             "learn": [
              0.9006428721,
              29272.78017
             ],
             "passed_time": 2.779273787,
             "remaining_time": 5.374207987
            },
            {
             "iteration": 392,
             "learn": [
              0.9008446204,
              29243.04535
             ],
             "passed_time": 2.785547291,
             "remaining_time": 5.365545291
            },
            {
             "iteration": 393,
             "learn": [
              0.9010896833,
              29206.88584
             ],
             "passed_time": 2.791834655,
             "remaining_time": 5.356921318
            },
            {
             "iteration": 394,
             "learn": [
              0.9012142027,
              29188.49561
             ],
             "passed_time": 2.797697315,
             "remaining_time": 5.347497399
            },
            {
             "iteration": 395,
             "learn": [
              0.9013810208,
              29163.84011
             ],
             "passed_time": 2.804157264,
             "remaining_time": 5.339228729
            },
            {
             "iteration": 396,
             "learn": [
              0.9015499799,
              29138.84689
             ],
             "passed_time": 2.812537725,
             "remaining_time": 5.334611855
            },
            {
             "iteration": 397,
             "learn": [
              0.9016757921,
              29120.22225
             ],
             "passed_time": 2.82018534,
             "remaining_time": 5.328591396
            },
            {
             "iteration": 398,
             "learn": [
              0.9018122853,
              29100.00295
             ],
             "passed_time": 2.827871409,
             "remaining_time": 5.322635159
            },
            {
             "iteration": 399,
             "learn": [
              0.9019264294,
              29083.08353
             ],
             "passed_time": 2.8370436,
             "remaining_time": 5.31945675
            },
            {
             "iteration": 400,
             "learn": [
              0.9021510658,
              29049.75719
             ],
             "passed_time": 2.845029185,
             "remaining_time": 5.314032069
            },
            {
             "iteration": 401,
             "learn": [
              0.9023820551,
              29015.44844
             ],
             "passed_time": 2.852519534,
             "remaining_time": 5.307673163
            },
            {
             "iteration": 402,
             "learn": [
              0.9025717435,
              28987.24374
             ],
             "passed_time": 2.860401454,
             "remaining_time": 5.302034457
            },
            {
             "iteration": 403,
             "learn": [
              0.9027959972,
              28953.8641
             ],
             "passed_time": 2.867514344,
             "remaining_time": 5.294964605
            },
            {
             "iteration": 404,
             "learn": [
              0.9029630276,
              28928.97699
             ],
             "passed_time": 2.873830121,
             "remaining_time": 5.286428246
            },
            {
             "iteration": 405,
             "learn": [
              0.9030897375,
              28910.08323
             ],
             "passed_time": 2.879801938,
             "remaining_time": 5.277272518
            },
            {
             "iteration": 406,
             "learn": [
              0.9032867856,
              28880.67676
             ],
             "passed_time": 2.887211512,
             "remaining_time": 5.270757134
            },
            {
             "iteration": 407,
             "learn": [
              0.9035065885,
              28847.83913
             ],
             "passed_time": 2.897437697,
             "remaining_time": 5.269359734
            },
            {
             "iteration": 408,
             "learn": [
              0.9036249688,
              28830.1381
             ],
             "passed_time": 2.904971539,
             "remaining_time": 5.263041346
            },
            {
             "iteration": 409,
             "learn": [
              0.9038349005,
              28798.72095
             ],
             "passed_time": 2.911490251,
             "remaining_time": 5.254884842
            },
            {
             "iteration": 410,
             "learn": [
              0.9040006945,
              28773.88494
             ],
             "passed_time": 2.917902374,
             "remaining_time": 5.246544658
            },
            {
             "iteration": 411,
             "learn": [
              0.9041296835,
              28754.54749
             ],
             "passed_time": 2.924379653,
             "remaining_time": 5.238330544
            },
            {
             "iteration": 412,
             "learn": [
              0.9044120181,
              28712.17572
             ],
             "passed_time": 2.930881111,
             "remaining_time": 5.230167987
            },
            {
             "iteration": 413,
             "learn": [
              0.904495249,
              28699.67279
             ],
             "passed_time": 2.937154749,
             "remaining_time": 5.221608442
            },
            {
             "iteration": 414,
             "learn": [
              0.904687261,
              28670.80797
             ],
             "passed_time": 2.943619493,
             "remaining_time": 5.213398378
            },
            {
             "iteration": 415,
             "learn": [
              0.9047827446,
              28656.44328
             ],
             "passed_time": 2.949640847,
             "remaining_time": 5.204414379
            },
            {
             "iteration": 416,
             "learn": [
              0.9050524155,
              28615.83463
             ],
             "passed_time": 2.955958725,
             "remaining_time": 5.195965816
            },
            {
             "iteration": 417,
             "learn": [
              0.9052282722,
              28589.322
             ],
             "passed_time": 2.962821949,
             "remaining_time": 5.188482456
            },
            {
             "iteration": 418,
             "learn": [
              0.9054515676,
              28555.62193
             ],
             "passed_time": 2.969256773,
             "remaining_time": 5.180254656
            },
            {
             "iteration": 419,
             "learn": [
              0.9056680524,
              28522.91171
             ],
             "passed_time": 2.975419652,
             "remaining_time": 5.171562728
            },
            {
             "iteration": 420,
             "learn": [
              0.9058932697,
              28488.84217
             ],
             "passed_time": 2.981698322,
             "remaining_time": 5.163083317
            },
            {
             "iteration": 421,
             "learn": [
              0.9060120212,
              28470.86172
             ],
             "passed_time": 2.988166886,
             "remaining_time": 5.154941927
            },
            {
             "iteration": 422,
             "learn": [
              0.9061151934,
              28455.23096
             ],
             "passed_time": 2.994803182,
             "remaining_time": 5.147096722
            },
            {
             "iteration": 423,
             "learn": [
              0.9062185496,
              28439.5637
             ],
             "passed_time": 3.001045878,
             "remaining_time": 5.138583272
            },
            {
             "iteration": 424,
             "learn": [
              0.9063676684,
              28416.94431
             ],
             "passed_time": 3.007313386,
             "remaining_time": 5.130122835
            },
            {
             "iteration": 425,
             "learn": [
              0.9065449471,
              28390.02996
             ],
             "passed_time": 3.013814601,
             "remaining_time": 5.122069886
            },
            {
             "iteration": 426,
             "learn": [
              0.9066150037,
              28379.38697
             ],
             "passed_time": 3.047186833,
             "remaining_time": 5.159522435
            },
            {
             "iteration": 427,
             "learn": [
              0.9066643559,
              28371.887
             ],
             "passed_time": 3.053917903,
             "remaining_time": 5.151702631
            },
            {
             "iteration": 428,
             "learn": [
              0.906814491,
              28349.05901
             ],
             "passed_time": 3.060334656,
             "remaining_time": 5.143359644
            },
            {
             "iteration": 429,
             "learn": [
              0.9071292852,
              28301.13487
             ],
             "passed_time": 3.066496408,
             "remaining_time": 5.134598636
            },
            {
             "iteration": 430,
             "learn": [
              0.9072975088,
              28275.49129
             ],
             "passed_time": 3.072503499,
             "remaining_time": 5.125591684
            },
            {
             "iteration": 431,
             "learn": [
              0.9074633287,
              28250.19134
             ],
             "passed_time": 3.078922882,
             "remaining_time": 5.117283865
            },
            {
             "iteration": 432,
             "learn": [
              0.9075568471,
              28235.91277
             ],
             "passed_time": 3.085425016,
             "remaining_time": 5.109121793
            },
            {
             "iteration": 433,
             "learn": [
              0.9077925912,
              28199.88685
             ],
             "passed_time": 3.091629003,
             "remaining_time": 5.100475498
            },
            {
             "iteration": 434,
             "learn": [
              0.9079293236,
              28178.9706
             ],
             "passed_time": 3.098028558,
             "remaining_time": 5.092161883
            },
            {
             "iteration": 435,
             "learn": [
              0.9081616278,
              28143.39885
             ],
             "passed_time": 3.104802779,
             "remaining_time": 5.084470607
            },
            {
             "iteration": 436,
             "learn": [
              0.9082060404,
              28136.59302
             ],
             "passed_time": 3.111153206,
             "remaining_time": 5.076092073
            },
            {
             "iteration": 437,
             "learn": [
              0.9083097156,
              28120.69933
             ],
             "passed_time": 3.117141102,
             "remaining_time": 5.06713348
            },
            {
             "iteration": 438,
             "learn": [
              0.9083669219,
              28111.9256
             ],
             "passed_time": 3.12357951,
             "remaining_time": 5.058918068
            },
            {
             "iteration": 439,
             "learn": [
              0.908411834,
              28105.0355
             ],
             "passed_time": 3.129875315,
             "remaining_time": 5.050480622
            },
            {
             "iteration": 440,
             "learn": [
              0.9086138637,
              28074.02066
             ],
             "passed_time": 3.137580538,
             "remaining_time": 5.044318824
            },
            {
             "iteration": 441,
             "learn": [
              0.9088166037,
              28042.86229
             ],
             "passed_time": 3.144244731,
             "remaining_time": 5.03648251
            },
            {
             "iteration": 442,
             "learn": [
              0.9089052634,
              28029.22561
             ],
             "passed_time": 3.150679909,
             "remaining_time": 5.028285995
            },
            {
             "iteration": 443,
             "learn": [
              0.9090255236,
              28010.71787
             ],
             "passed_time": 3.157238075,
             "remaining_time": 5.020292975
            },
            {
             "iteration": 444,
             "learn": [
              0.909207189,
              27982.73684
             ],
             "passed_time": 3.163903237,
             "remaining_time": 5.012475915
            },
            {
             "iteration": 445,
             "learn": [
              0.9094514438,
              27945.07129
             ],
             "passed_time": 3.170669146,
             "remaining_time": 5.004823047
            },
            {
             "iteration": 446,
             "learn": [
              0.9095331369,
              27932.46239
             ],
             "passed_time": 3.17674198,
             "remaining_time": 4.996084143
            },
            {
             "iteration": 447,
             "learn": [
              0.9096949541,
              27907.46996
             ],
             "passed_time": 3.183221127,
             "remaining_time": 4.987993819
            },
            {
             "iteration": 448,
             "learn": [
              0.9097167804,
              27904.0972
             ],
             "passed_time": 3.18950209,
             "remaining_time": 4.979601258
            },
            {
             "iteration": 449,
             "learn": [
              0.9098816897,
              27878.60105
             ],
             "passed_time": 3.196160072,
             "remaining_time": 4.971804557
            },
            {
             "iteration": 450,
             "learn": [
              0.9100459139,
              27853.18764
             ],
             "passed_time": 3.20241869,
             "remaining_time": 4.963393934
            },
            {
             "iteration": 451,
             "learn": [
              0.9103244096,
              27810.03781
             ],
             "passed_time": 3.210094067,
             "remaining_time": 4.957180661
            },
            {
             "iteration": 452,
             "learn": [
              0.9104392191,
              27792.22984
             ],
             "passed_time": 3.218621884,
             "remaining_time": 4.952272524
            },
            {
             "iteration": 453,
             "learn": [
              0.9107981444,
              27736.48363
             ],
             "passed_time": 3.225811746,
             "remaining_time": 4.945297302
            },
            {
             "iteration": 454,
             "learn": [
              0.910904705,
              27719.91166
             ],
             "passed_time": 3.236033591,
             "remaining_time": 4.942952408
            },
            {
             "iteration": 455,
             "learn": [
              0.91103126,
              27700.21737
             ],
             "passed_time": 3.244735353,
             "remaining_time": 4.938259506
            },
            {
             "iteration": 456,
             "learn": [
              0.9111895237,
              27675.56888
             ],
             "passed_time": 3.253050621,
             "remaining_time": 4.932962977
            },
            {
             "iteration": 457,
             "learn": [
              0.9113521843,
              27650.21269
             ],
             "passed_time": 3.258947809,
             "remaining_time": 4.923999746
            },
            {
             "iteration": 458,
             "learn": [
              0.9115199409,
              27624.03777
             ],
             "passed_time": 3.265296073,
             "remaining_time": 4.915728946
            },
            {
             "iteration": 459,
             "learn": [
              0.9116659974,
              27601.22846
             ],
             "passed_time": 3.271802991,
             "remaining_time": 4.907704486
            },
            {
             "iteration": 460,
             "learn": [
              0.9118167307,
              27577.66901
             ],
             "passed_time": 3.278466992,
             "remaining_time": 4.899921383
            },
            {
             "iteration": 461,
             "learn": [
              0.9118726853,
              27568.91825
             ],
             "passed_time": 3.284830643,
             "remaining_time": 4.891695849
            },
            {
             "iteration": 462,
             "learn": [
              0.9120105945,
              27547.3387
             ],
             "passed_time": 3.291047741,
             "remaining_time": 4.883260902
            },
            {
             "iteration": 463,
             "learn": [
              0.9121468881,
              27525.99532
             ],
             "passed_time": 3.297390551,
             "remaining_time": 4.875021375
            },
            {
             "iteration": 464,
             "learn": [
              0.9123981263,
              27486.60837
             ],
             "passed_time": 3.303892515,
             "remaining_time": 4.867024457
            },
            {
             "iteration": 465,
             "learn": [
              0.912530702,
              27465.80153
             ],
             "passed_time": 3.309891008,
             "remaining_time": 4.858294956
            },
            {
             "iteration": 466,
             "learn": [
              0.9126930533,
              27440.30012
             ],
             "passed_time": 3.316294783,
             "remaining_time": 4.850169885
            },
            {
             "iteration": 467,
             "learn": [
              0.912728704,
              27434.6971
             ],
             "passed_time": 3.322488778,
             "remaining_time": 4.841746467
            },
            {
             "iteration": 468,
             "learn": [
              0.9128278359,
              27419.11107
             ],
             "passed_time": 3.328701991,
             "remaining_time": 4.83336046
            },
            {
             "iteration": 469,
             "learn": [
              0.9128840197,
              27410.27362
             ],
             "passed_time": 3.334673861,
             "remaining_time": 4.824634522
            },
            {
             "iteration": 470,
             "learn": [
              0.91302667,
              27387.82261
             ],
             "passed_time": 3.340886184,
             "remaining_time": 4.816266919
            },
            {
             "iteration": 471,
             "learn": [
              0.9132818888,
              27347.60899
             ],
             "passed_time": 3.347117226,
             "remaining_time": 4.807935337
            },
            {
             "iteration": 472,
             "learn": [
              0.9134698232,
              27317.95923
             ],
             "passed_time": 3.35310623,
             "remaining_time": 4.79926621
            },
            {
             "iteration": 473,
             "learn": [
              0.9137640865,
              27271.46955
             ],
             "passed_time": 3.359474525,
             "remaining_time": 4.791149323
            },
            {
             "iteration": 474,
             "learn": [
              0.9139247176,
              27246.05851
             ],
             "passed_time": 3.366350439,
             "remaining_time": 4.78376115
            },
            {
             "iteration": 475,
             "learn": [
              0.9141270266,
              27214.02048
             ],
             "passed_time": 3.373947874,
             "remaining_time": 4.777396779
            },
            {
             "iteration": 476,
             "learn": [
              0.914295788,
              27187.26623
             ],
             "passed_time": 3.380342275,
             "remaining_time": 4.769329877
            },
            {
             "iteration": 477,
             "learn": [
              0.9145609196,
              27145.18087
             ],
             "passed_time": 3.387126188,
             "remaining_time": 4.76181757
            },
            {
             "iteration": 478,
             "learn": [
              0.9146971112,
              27123.53726
             ],
             "passed_time": 3.394381157,
             "remaining_time": 4.754968176
            },
            {
             "iteration": 479,
             "learn": [
              0.9147959937,
              27107.81199
             ],
             "passed_time": 3.401442854,
             "remaining_time": 4.747847317
            },
            {
             "iteration": 480,
             "learn": [
              0.914973338,
              27079.58608
             ],
             "passed_time": 3.411556735,
             "remaining_time": 4.744971842
            },
            {
             "iteration": 481,
             "learn": [
              0.9150562287,
              27066.38321
             ],
             "passed_time": 3.420948334,
             "remaining_time": 4.741065326
            },
            {
             "iteration": 482,
             "learn": [
              0.9152087214,
              27042.07725
             ],
             "passed_time": 3.427336303,
             "remaining_time": 4.732988228
            },
            {
             "iteration": 483,
             "learn": [
              0.9153443661,
              27020.43833
             ],
             "passed_time": 3.434093586,
             "remaining_time": 4.725426298
            },
            {
             "iteration": 484,
             "learn": [
              0.9155145402,
              26993.26653
             ],
             "passed_time": 3.440416364,
             "remaining_time": 4.717271921
            },
            {
             "iteration": 485,
             "learn": [
              0.9156031057,
              26979.1144
             ],
             "passed_time": 3.446376821,
             "remaining_time": 4.70863006
            },
            {
             "iteration": 486,
             "learn": [
              0.9156638926,
              26969.39679
             ],
             "passed_time": 3.452308909,
             "remaining_time": 4.699960589
            },
            {
             "iteration": 487,
             "learn": [
              0.9158679029,
              26936.75736
             ],
             "passed_time": 3.458622665,
             "remaining_time": 4.69182009
            },
            {
             "iteration": 488,
             "learn": [
              0.9159698195,
              26920.43698
             ],
             "passed_time": 3.46546346,
             "remaining_time": 4.684399483
            },
            {
             "iteration": 489,
             "learn": [
              0.916001888,
              26915.29966
             ],
             "passed_time": 3.472302763,
             "remaining_time": 4.676979231
            },
            {
             "iteration": 490,
             "learn": [
              0.9161875634,
              26885.53546
             ],
             "passed_time": 3.479214327,
             "remaining_time": 4.669658333
            },
            {
             "iteration": 491,
             "learn": [
              0.9164228241,
              26847.77521
             ],
             "passed_time": 3.485543281,
             "remaining_time": 4.661559917
            },
            {
             "iteration": 492,
             "learn": [
              0.916557953,
              26826.06248
             ],
             "passed_time": 3.49200164,
             "remaining_time": 4.653641131
            },
            {
             "iteration": 493,
             "learn": [
              0.9167196064,
              26800.06464
             ],
             "passed_time": 3.499377227,
             "remaining_time": 4.646946277
            },
            {
             "iteration": 494,
             "learn": [
              0.9168751951,
              26775.01831
             ],
             "passed_time": 3.509488297,
             "remaining_time": 4.643868352
            },
            {
             "iteration": 495,
             "learn": [
              0.9170766625,
              26742.55167
             ],
             "passed_time": 3.519505034,
             "remaining_time": 4.640637686
            },
            {
             "iteration": 496,
             "learn": [
              0.9171617479,
              26728.82825
             ],
             "passed_time": 3.526256338,
             "remaining_time": 4.633089314
            },
            {
             "iteration": 497,
             "learn": [
              0.9173735422,
              26694.6373
             ],
             "passed_time": 3.532888786,
             "remaining_time": 4.625388531
            },
            {
             "iteration": 498,
             "learn": [
              0.9175423028,
              26667.36211
             ],
             "passed_time": 3.539261667,
             "remaining_time": 4.617353397
            },
            {
             "iteration": 499,
             "learn": [
              0.9177054926,
              26640.9607
             ],
             "passed_time": 3.54523916,
             "remaining_time": 4.608810908
            },
            {
             "iteration": 500,
             "learn": [
              0.9177838932,
              26628.26748
             ],
             "passed_time": 3.551244983,
             "remaining_time": 4.600315358
            },
            {
             "iteration": 501,
             "learn": [
              0.9179397328,
              26603.01875
             ],
             "passed_time": 3.55804108,
             "remaining_time": 4.592849841
            },
            {
             "iteration": 502,
             "learn": [
              0.9181228595,
              26573.31834
             ],
             "passed_time": 3.564402471,
             "remaining_time": 4.58482783
            },
            {
             "iteration": 503,
             "learn": [
              0.9182681357,
              26549.7331
             ],
             "passed_time": 3.571169061,
             "remaining_time": 4.577331772
            },
            {
             "iteration": 504,
             "learn": [
              0.9184733026,
              26516.38902
             ],
             "passed_time": 3.57770233,
             "remaining_time": 4.5695406
            },
            {
             "iteration": 505,
             "learn": [
              0.9186050099,
              26494.9616
             ],
             "passed_time": 3.584481333,
             "remaining_time": 4.562067151
            },
            {
             "iteration": 506,
             "learn": [
              0.9187769282,
              26466.96616
             ],
             "passed_time": 3.590699828,
             "remaining_time": 4.553885581
            },
            {
             "iteration": 507,
             "learn": [
              0.9189164666,
              26444.22172
             ],
             "passed_time": 3.597589302,
             "remaining_time": 4.546559709
            },
            {
             "iteration": 508,
             "learn": [
              0.9190277085,
              26426.07554
             ],
             "passed_time": 3.603659266,
             "remaining_time": 4.538203516
            },
            {
             "iteration": 509,
             "learn": [
              0.9190937617,
              26415.29479
             ],
             "passed_time": 3.611119914,
             "remaining_time": 4.531601461
            },
            {
             "iteration": 510,
             "learn": [
              0.9192304407,
              26392.97301
             ],
             "passed_time": 3.619946166,
             "remaining_time": 4.526703718
            },
            {
             "iteration": 511,
             "learn": [
              0.9193491076,
              26373.57755
             ],
             "passed_time": 3.629792438,
             "remaining_time": 4.523061671
            },
            {
             "iteration": 512,
             "learn": [
              0.9194385594,
              26358.94773
             ],
             "passed_time": 3.637733421,
             "remaining_time": 4.517029609
            },
            {
             "iteration": 513,
             "learn": [
              0.9195730196,
              26336.94148
             ],
             "passed_time": 3.645493451,
             "remaining_time": 4.510766216
            },
            {
             "iteration": 514,
             "learn": [
              0.9197489138,
              26308.12622
             ],
             "passed_time": 3.651757738,
             "remaining_time": 4.502652744
            },
            {
             "iteration": 515,
             "learn": [
              0.9198074274,
              26298.53342
             ],
             "passed_time": 3.657953773,
             "remaining_time": 4.494462582
            },
            {
             "iteration": 516,
             "learn": [
              0.9200437249,
              26259.75886
             ],
             "passed_time": 3.663912065,
             "remaining_time": 4.485989046
            },
            {
             "iteration": 517,
             "learn": [
              0.9201466319,
              26242.85473
             ],
             "passed_time": 3.670574213,
             "remaining_time": 4.478383981
            },
            {
             "iteration": 518,
             "learn": [
              0.9203660801,
              26206.77041
             ],
             "passed_time": 3.676795968,
             "remaining_time": 4.470247121
            },
            {
             "iteration": 519,
             "learn": [
              0.9204701525,
              26189.64019
             ],
             "passed_time": 3.683246444,
             "remaining_time": 4.46239473
            },
            {
             "iteration": 520,
             "learn": [
              0.9206085022,
              26166.85059
             ],
             "passed_time": 3.689344276,
             "remaining_time": 4.454121976
            },
            {
             "iteration": 521,
             "learn": [
              0.9206804041,
              26154.99875
             ],
             "passed_time": 3.695526693,
             "remaining_time": 4.445959316
            },
            {
             "iteration": 522,
             "learn": [
              0.9208189303,
              26132.14982
             ],
             "passed_time": 3.703138313,
             "remaining_time": 4.439517633
            },
            {
             "iteration": 523,
             "learn": [
              0.9209164868,
              26116.04655
             ],
             "passed_time": 3.712365454,
             "remaining_time": 4.435001478
            },
            {
             "iteration": 524,
             "learn": [
              0.9209844255,
              26104.82631
             ],
             "passed_time": 3.718961527,
             "remaining_time": 4.427335151
            },
            {
             "iteration": 525,
             "learn": [
              0.9211874426,
              26071.26879
             ],
             "passed_time": 3.727661371,
             "remaining_time": 4.422168623
            },
            {
             "iteration": 526,
             "learn": [
              0.9213130786,
              26050.48025
             ],
             "passed_time": 3.736830282,
             "remaining_time": 4.417543198
            },
            {
             "iteration": 527,
             "learn": [
              0.9213907429,
              26037.62111
             ],
             "passed_time": 3.744463731,
             "remaining_time": 4.411091743
            },
            {
             "iteration": 528,
             "learn": [
              0.9215339862,
              26013.88717
             ],
             "passed_time": 3.750802216,
             "remaining_time": 4.403115644
            },
            {
             "iteration": 529,
             "learn": [
              0.9217627093,
              25975.94514
             ],
             "passed_time": 3.757240834,
             "remaining_time": 4.395262862
            },
            {
             "iteration": 530,
             "learn": [
              0.9219091534,
              25951.62295
             ],
             "passed_time": 3.763706201,
             "remaining_time": 4.387446588
            },
            {
             "iteration": 531,
             "learn": [
              0.9219950172,
              25937.35163
             ],
             "passed_time": 3.77030983,
             "remaining_time": 4.379796005
            },
            {
             "iteration": 532,
             "learn": [
              0.9220226004,
              25932.76539
             ],
             "passed_time": 3.776165901,
             "remaining_time": 4.371283979
            },
            {
             "iteration": 533,
             "learn": [
              0.9222378701,
              25896.94477
             ],
             "passed_time": 3.782648626,
             "remaining_time": 4.363504782
            },
            {
             "iteration": 534,
             "learn": [
              0.9223146402,
              25884.15834
             ],
             "passed_time": 3.789420933,
             "remaining_time": 4.356063316
            },
            {
             "iteration": 535,
             "learn": [
              0.9224909419,
              25854.77047
             ],
             "passed_time": 3.797383236,
             "remaining_time": 4.349987513
            },
            {
             "iteration": 536,
             "learn": [
              0.9226729722,
              25824.39261
             ],
             "passed_time": 3.804021187,
             "remaining_time": 4.342392901
            },
            {
             "iteration": 537,
             "learn": [
              0.9228541852,
              25794.11561
             ],
             "passed_time": 3.810704746,
             "remaining_time": 4.334853726
            },
            {
             "iteration": 538,
             "learn": [
              0.9229165131,
              25783.69368
             ],
             "passed_time": 3.816921308,
             "remaining_time": 4.326788348
            },
            {
             "iteration": 539,
             "learn": [
              0.9230265077,
              25765.29104
             ],
             "passed_time": 3.8231119,
             "remaining_time": 4.318700479
            },
            {
             "iteration": 540,
             "learn": [
              0.9231585699,
              25743.17899
             ],
             "passed_time": 3.829206002,
             "remaining_time": 4.310511008
            },
            {
             "iteration": 541,
             "learn": [
              0.923306136,
              25718.44855
             ],
             "passed_time": 3.8357529,
             "remaining_time": 4.302837201
            },
            {
             "iteration": 542,
             "learn": [
              0.9234742597,
              25690.24387
             ],
             "passed_time": 3.842766516,
             "remaining_time": 4.295689273
            },
            {
             "iteration": 543,
             "learn": [
              0.9236702024,
              25657.33309
             ],
             "passed_time": 3.849349387,
             "remaining_time": 4.288062001
            },
            {
             "iteration": 544,
             "learn": [
              0.923807983,
              25634.16599
             ],
             "passed_time": 3.855901305,
             "remaining_time": 4.280404201
            },
            {
             "iteration": 545,
             "learn": [
              0.9239131246,
              25616.47288
             ],
             "passed_time": 3.862638392,
             "remaining_time": 4.272955291
            },
            {
             "iteration": 546,
             "learn": [
              0.9240278075,
              25597.16023
             ],
             "passed_time": 3.868845548,
             "remaining_time": 4.264924799
            },
            {
             "iteration": 547,
             "learn": [
              0.9241857414,
              25570.54021
             ],
             "passed_time": 3.875617864,
             "remaining_time": 4.257521814
            },
            {
             "iteration": 548,
             "learn": [
              0.9243364018,
              25545.12029
             ],
             "passed_time": 3.88210619,
             "remaining_time": 4.249810238
            },
            {
             "iteration": 549,
             "learn": [
              0.924442392,
              25527.22211
             ],
             "passed_time": 3.888378199,
             "remaining_time": 4.241867127
            },
            {
             "iteration": 550,
             "learn": [
              0.9245916747,
              25501.99199
             ],
             "passed_time": 3.894819586,
             "remaining_time": 4.234114214
            },
            {
             "iteration": 551,
             "learn": [
              0.9247544034,
              25474.46089
             ],
             "passed_time": 3.90120086,
             "remaining_time": 4.226300932
            },
            {
             "iteration": 552,
             "learn": [
              0.9248595474,
              25456.65637
             ],
             "passed_time": 3.907314046,
             "remaining_time": 4.218203409
            },
            {
             "iteration": 553,
             "learn": [
              0.9249065196,
              25448.69832
             ],
             "passed_time": 3.913636119,
             "remaining_time": 4.210337774
            },
            {
             "iteration": 554,
             "learn": [
              0.9251273764,
              25411.2473
             ],
             "passed_time": 3.919501133,
             "remaining_time": 4.201987702
            },
            {
             "iteration": 555,
             "learn": [
              0.9252492064,
              25390.56476
             ],
             "passed_time": 3.925709778,
             "remaining_time": 4.194013683
            },
            {
             "iteration": 556,
             "learn": [
              0.9253093825,
              25380.34271
             ],
             "passed_time": 3.932269929,
             "remaining_time": 4.18642023
            },
            {
             "iteration": 557,
             "learn": [
              0.9254470848,
              25356.93585
             ],
             "passed_time": 3.938606304,
             "remaining_time": 4.178593068
            },
            {
             "iteration": 558,
             "learn": [
              0.9256055028,
              25329.98096
             ],
             "passed_time": 3.944863885,
             "remaining_time": 4.170687936
            },
            {
             "iteration": 559,
             "learn": [
              0.9257532552,
              25304.81495
             ],
             "passed_time": 3.951099745,
             "remaining_time": 4.162765803
            },
            {
             "iteration": 560,
             "learn": [
              0.9258568662,
              25287.15241
             ],
             "passed_time": 3.957155727,
             "remaining_time": 4.154660826
            },
            {
             "iteration": 561,
             "learn": [
              0.9259650453,
              25268.69797
             ],
             "passed_time": 3.96381185,
             "remaining_time": 4.147191045
            },
            {
             "iteration": 562,
             "learn": [
              0.926041122,
              25255.71185
             ],
             "passed_time": 3.971148078,
             "remaining_time": 4.140433254
            },
            {
             "iteration": 563,
             "learn": [
              0.9261865414,
              25230.8705
             ],
             "passed_time": 3.977987418,
             "remaining_time": 4.13315714
            },
            {
             "iteration": 564,
             "learn": [
              0.9263552177,
              25202.0256
             ],
             "passed_time": 3.984335193,
             "remaining_time": 4.125373607
            },
            {
             "iteration": 565,
             "learn": [
              0.9264742863,
              25181.64409
             ],
             "passed_time": 3.990627192,
             "remaining_time": 4.117537598
            },
            {
             "iteration": 566,
             "learn": [
              0.9267028252,
              25142.47776
             ],
             "passed_time": 3.997365741,
             "remaining_time": 4.110166185
            },
            {
             "iteration": 567,
             "learn": [
              0.9268562959,
              25116.14213
             ],
             "passed_time": 4.003867503,
             "remaining_time": 4.102554379
            },
            {
             "iteration": 568,
             "learn": [
              0.9270658173,
              25080.14351
             ],
             "passed_time": 4.010605323,
             "remaining_time": 4.095187509
            },
            {
             "iteration": 569,
             "learn": [
              0.9271527177,
              25065.19768
             ],
             "passed_time": 4.017215371,
             "remaining_time": 4.087692833
            },
            {
             "iteration": 570,
             "learn": [
              0.9272681651,
              25045.32831
             ],
             "passed_time": 4.023765132,
             "remaining_time": 4.080140125
            },
            {
             "iteration": 571,
             "learn": [
              0.9273805684,
              25025.96769
             ],
             "passed_time": 4.029983847,
             "remaining_time": 4.072256405
            },
            {
             "iteration": 572,
             "learn": [
              0.9274486469,
              25014.23441
             ],
             "passed_time": 4.074013787,
             "remaining_time": 4.102453674
            },
            {
             "iteration": 573,
             "learn": [
              0.9276027751,
              24987.65015
             ],
             "passed_time": 4.080525826,
             "remaining_time": 4.094743686
            },
            {
             "iteration": 574,
             "learn": [
              0.9277912137,
              24955.1095
             ],
             "passed_time": 4.086976798,
             "remaining_time": 4.086976798
            },
            {
             "iteration": 575,
             "learn": [
              0.927899048,
              24936.46894
             ],
             "passed_time": 4.094022819,
             "remaining_time": 4.079807462
            },
            {
             "iteration": 576,
             "learn": [
              0.9280140012,
              24916.58245
             ],
             "passed_time": 4.105318864,
             "remaining_time": 4.076859114
            },
            {
             "iteration": 577,
             "learn": [
              0.9281411675,
              24894.56463
             ],
             "passed_time": 4.111964123,
             "remaining_time": 4.069279375
            },
            {
             "iteration": 578,
             "learn": [
              0.9282152836,
              24881.72303
             ],
             "passed_time": 4.118234698,
             "remaining_time": 4.061333355
            },
            {
             "iteration": 579,
             "learn": [
              0.9283017532,
              24866.73265
             ],
             "passed_time": 4.124844391,
             "remaining_time": 4.053726384
            },
            {
             "iteration": 580,
             "learn": [
              0.9283831764,
              24852.60885
             ],
             "passed_time": 4.131198162,
             "remaining_time": 4.045872211
            },
            {
             "iteration": 581,
             "learn": [
              0.92849984,
              24832.35818
             ],
             "passed_time": 4.138240373,
             "remaining_time": 4.038695072
            },
            {
             "iteration": 582,
             "learn": [
              0.9286680422,
              24803.13225
             ],
             "passed_time": 4.147696573,
             "remaining_time": 4.033866135
            },
            {
             "iteration": 583,
             "learn": [
              0.9288274833,
              24775.39678
             ],
             "passed_time": 4.158246243,
             "remaining_time": 4.030081119
            },
            {
             "iteration": 584,
             "learn": [
              0.9289143738,
              24760.26871
             ],
             "passed_time": 4.165502765,
             "remaining_time": 4.023092414
            },
            {
             "iteration": 585,
             "learn": [
              0.929049127,
              24736.78923
             ],
             "passed_time": 4.171646308,
             "remaining_time": 4.015031601
            },
            {
             "iteration": 586,
             "learn": [
              0.9291558075,
              24718.18534
             ],
             "passed_time": 4.179380367,
             "remaining_time": 4.008502805
            },
            {
             "iteration": 587,
             "learn": [
              0.9292393289,
              24703.61034
             ],
             "passed_time": 4.187197643,
             "remaining_time": 4.002049448
            },
            {
             "iteration": 588,
             "learn": [
              0.9293658496,
              24681.51534
             ],
             "passed_time": 4.197069611,
             "remaining_time": 3.997548475
            },
            {
             "iteration": 589,
             "learn": [
              0.9295452539,
              24650.151
             ],
             "passed_time": 4.204107494,
             "remaining_time": 3.990339317
            },
            {
             "iteration": 590,
             "learn": [
              0.9296693189,
              24628.438
             ],
             "passed_time": 4.210594381,
             "remaining_time": 3.982609575
            },
            {
             "iteration": 591,
             "learn": [
              0.9298089561,
              24603.97674
             ],
             "passed_time": 4.217511887,
             "remaining_time": 3.97528992
            },
            {
             "iteration": 592,
             "learn": [
              0.9300443182,
              24562.6915
             ],
             "passed_time": 4.22441244,
             "remaining_time": 3.967955698
            },
            {
             "iteration": 593,
             "learn": [
              0.9301631215,
              24541.82567
             ],
             "passed_time": 4.231219166,
             "remaining_time": 3.960535112
            },
            {
             "iteration": 594,
             "learn": [
              0.9303606887,
              24507.08691
             ],
             "passed_time": 4.237958191,
             "remaining_time": 3.953053439
            },
            {
             "iteration": 595,
             "learn": [
              0.9304371706,
              24493.62566
             ],
             "passed_time": 4.24421388,
             "remaining_time": 3.945124982
            },
            {
             "iteration": 596,
             "learn": [
              0.9305258451,
              24478.00918
             ],
             "passed_time": 4.250417609,
             "remaining_time": 3.937154
            },
            {
             "iteration": 597,
             "learn": [
              0.9306745698,
              24451.79485
             ],
             "passed_time": 4.256476323,
             "remaining_time": 3.929055067
            },
            {
             "iteration": 598,
             "learn": [
              0.9307779652,
              24433.55375
             ],
             "passed_time": 4.262914606,
             "remaining_time": 3.9213121
            },
            {
             "iteration": 599,
             "learn": [
              0.9308638619,
              24418.3894
             ],
             "passed_time": 4.26948372,
             "remaining_time": 3.91369341
            },
            {
             "iteration": 600,
             "learn": [
              0.9310205649,
              24390.70052
             ],
             "passed_time": 4.276322589,
             "remaining_time": 3.906324628
            },
            {
             "iteration": 601,
             "learn": [
              0.9311652508,
              24365.10707
             ],
             "passed_time": 4.283204228,
             "remaining_time": 3.89899654
            },
            {
             "iteration": 602,
             "learn": [
              0.9313014695,
              24340.98678
             ],
             "passed_time": 4.289700314,
             "remaining_time": 3.891320186
            },
            {
             "iteration": 603,
             "learn": [
              0.9314215237,
              24319.70892
             ],
             "passed_time": 4.296695922,
             "remaining_time": 3.884099293
            },
            {
             "iteration": 604,
             "learn": [
              0.931497565,
              24306.22208
             ],
             "passed_time": 4.303157628,
             "remaining_time": 3.876398194
            },
            {
             "iteration": 605,
             "learn": [
              0.9315748924,
              24292.49945
             ],
             "passed_time": 4.309658431,
             "remaining_time": 3.868736282
            },
            {
             "iteration": 606,
             "learn": [
              0.9316860974,
              24272.75124
             ],
             "passed_time": 4.316102692,
             "remaining_time": 3.861027615
            },
            {
             "iteration": 607,
             "learn": [
              0.9317726138,
              24257.37621
             ],
             "passed_time": 4.322647444,
             "remaining_time": 3.853412688
            },
            {
             "iteration": 608,
             "learn": [
              0.9318562924,
              24242.49622
             ],
             "passed_time": 4.329690685,
             "remaining_time": 3.846244106
            },
            {
             "iteration": 609,
             "learn": [
              0.9320490721,
              24208.18071
             ],
             "passed_time": 4.336127366,
             "remaining_time": 3.83853898
            },
            {
             "iteration": 610,
             "learn": [
              0.932141537,
              24191.70435
             ],
             "passed_time": 4.342761034,
             "remaining_time": 3.83101178
            },
            {
             "iteration": 611,
             "learn": [
              0.9322830809,
              24166.46081
             ],
             "passed_time": 4.350409963,
             "remaining_time": 3.82438
            },
            {
             "iteration": 612,
             "learn": [
              0.9323358726,
              24157.03896
             ],
             "passed_time": 4.357306776,
             "remaining_time": 3.817086034
            },
            {
             "iteration": 613,
             "learn": [
              0.9324159734,
              24142.73617
             ],
             "passed_time": 4.364019475,
             "remaining_time": 3.809632637
            },
            {
             "iteration": 614,
             "learn": [
              0.932463769,
              24134.19776
             ],
             "passed_time": 4.370100339,
             "remaining_time": 3.801632002
            },
            {
             "iteration": 615,
             "learn": [
              0.9325750068,
              24114.31405
             ],
             "passed_time": 4.37695546,
             "remaining_time": 3.794308792
            },
            {
             "iteration": 616,
             "learn": [
              0.9326550015,
              24100.00489
             ],
             "passed_time": 4.384032117,
             "remaining_time": 3.787178474
            },
            {
             "iteration": 617,
             "learn": [
              0.9327593794,
              24081.32137
             ],
             "passed_time": 4.390351711,
             "remaining_time": 3.779396619
            },
            {
             "iteration": 618,
             "learn": [
              0.9328119453,
              24071.90665
             ],
             "passed_time": 4.396622489,
             "remaining_time": 3.771577612
            },
            {
             "iteration": 619,
             "learn": [
              0.9329119091,
              24053.99264
             ],
             "passed_time": 4.403429093,
             "remaining_time": 3.764221644
            },
            {
             "iteration": 620,
             "learn": [
              0.9330153101,
              24035.44862
             ],
             "passed_time": 4.409843198,
             "remaining_time": 3.756533094
            },
            {
             "iteration": 621,
             "learn": [
              0.9330931176,
              24021.48512
             ],
             "passed_time": 4.416422035,
             "remaining_time": 3.74898848
            },
            {
             "iteration": 622,
             "learn": [
              0.9331646597,
              24008.63884
             ],
             "passed_time": 4.4229815,
             "remaining_time": 3.741430578
            },
            {
             "iteration": 623,
             "learn": [
              0.9332756955,
              23988.68737
             ],
             "passed_time": 4.429649079,
             "remaining_time": 3.733967012
            },
            {
             "iteration": 624,
             "learn": [
              0.9333697064,
              23971.78204
             ],
             "passed_time": 4.436525538,
             "remaining_time": 3.726681452
            },
            {
             "iteration": 625,
             "learn": [
              0.9334424574,
              23958.69155
             ],
             "passed_time": 4.443094203,
             "remaining_time": 3.719139557
            },
            {
             "iteration": 626,
             "learn": [
              0.9334815004,
              23951.66337
             ],
             "passed_time": 4.449407567,
             "remaining_time": 3.711387811
            },
            {
             "iteration": 627,
             "learn": [
              0.9335724973,
              23935.2749
             ],
             "passed_time": 4.455920406,
             "remaining_time": 3.703806452
            },
            {
             "iteration": 628,
             "learn": [
              0.9336515639,
              23921.02596
             ],
             "passed_time": 4.462324083,
             "remaining_time": 3.696138072
            },
            {
             "iteration": 629,
             "learn": [
              0.933807247,
              23892.94476
             ],
             "passed_time": 4.468347181,
             "remaining_time": 3.688159578
            },
            {
             "iteration": 630,
             "learn": [
              0.9338582535,
              23883.73733
             ],
             "passed_time": 4.474450677,
             "remaining_time": 3.680253409
            },
            {
             "iteration": 631,
             "learn": [
              0.9339520511,
              23866.7962
             ],
             "passed_time": 4.480591966,
             "remaining_time": 3.672383921
            },
            {
             "iteration": 632,
             "learn": [
              0.9341186883,
              23836.66954
             ],
             "passed_time": 4.487413381,
             "remaining_time": 3.665075384
            },
            {
             "iteration": 633,
             "learn": [
              0.9342088909,
              23820.34574
             ],
             "passed_time": 4.493822763,
             "remaining_time": 3.657433038
            },
            {
             "iteration": 634,
             "learn": [
              0.9342579657,
              23811.46008
             ],
             "passed_time": 4.500325808,
             "remaining_time": 3.649870537
            },
            {
             "iteration": 635,
             "learn": [
              0.9343532759,
              23794.19335
             ],
             "passed_time": 4.507075973,
             "remaining_time": 3.642511085
            },
            {
             "iteration": 636,
             "learn": [
              0.9344950377,
              23768.48811
             ],
             "passed_time": 4.514833978,
             "remaining_time": 3.635965197
            },
            {
             "iteration": 637,
             "learn": [
              0.9345618689,
              23756.36016
             ],
             "passed_time": 4.522614929,
             "remaining_time": 3.629433924
            },
            {
             "iteration": 638,
             "learn": [
              0.9346247127,
              23744.95015
             ],
             "passed_time": 4.53106503,
             "remaining_time": 3.62343385
            },
            {
             "iteration": 639,
             "learn": [
              0.9346664403,
              23737.371
             ],
             "passed_time": 4.538743321,
             "remaining_time": 3.616811084
            },
            {
             "iteration": 640,
             "learn": [
              0.9347290544,
              23725.99362
             ],
             "passed_time": 4.545058707,
             "remaining_time": 3.60910278
            },
            {
             "iteration": 641,
             "learn": [
              0.9348734848,
              23699.72885
             ],
             "passed_time": 4.551664052,
             "remaining_time": 3.601628253
            },
            {
             "iteration": 642,
             "learn": [
              0.9349660611,
              23682.87846
             ],
             "passed_time": 4.558396075,
             "remaining_time": 3.594256314
            },
            {
             "iteration": 643,
             "learn": [
              0.9350387775,
              23669.63449
             ],
             "passed_time": 4.564762791,
             "remaining_time": 3.586599336
            },
            {
             "iteration": 644,
             "learn": [
              0.9351188259,
              23655.04656
             ],
             "passed_time": 4.571005649,
             "remaining_time": 3.578849384
            },
            {
             "iteration": 645,
             "learn": [
              0.9352381144,
              23633.29084
             ],
             "passed_time": 4.577518248,
             "remaining_time": 3.571314547
            },
            {
             "iteration": 646,
             "learn": [
              0.9352967726,
              23622.58547
             ],
             "passed_time": 4.584689039,
             "remaining_time": 3.56429457
            },
            {
             "iteration": 647,
             "learn": [
              0.9354034788,
              23603.09868
             ],
             "passed_time": 4.595077582,
             "remaining_time": 3.559766892
            },
            {
             "iteration": 648,
             "learn": [
              0.9354866349,
              23587.90146
             ],
             "passed_time": 4.602290473,
             "remaining_time": 3.552769687
            },
            {
             "iteration": 649,
             "learn": [
              0.9355997873,
              23567.20653
             ],
             "passed_time": 4.60946696,
             "remaining_time": 3.545743815
            },
            {
             "iteration": 650,
             "learn": [
              0.935688422,
              23550.98305
             ],
             "passed_time": 4.616849142,
             "remaining_time": 3.538875149
            },
            {
             "iteration": 651,
             "learn": [
              0.935872569,
              23517.24144
             ],
             "passed_time": 4.624593958,
             "remaining_time": 3.532281888
            },
            {
             "iteration": 652,
             "learn": [
              0.9359095724,
              23510.45541
             ],
             "passed_time": 4.631477378,
             "remaining_time": 3.52502949
            },
            {
             "iteration": 653,
             "learn": [
              0.9360592001,
              23482.99521
             ],
             "passed_time": 4.639329366,
             "remaining_time": 3.518512791
            },
            {
             "iteration": 654,
             "learn": [
              0.9361605706,
              23464.37308
             ],
             "passed_time": 4.645877035,
             "remaining_time": 3.511006309
            },
            {
             "iteration": 655,
             "learn": [
              0.9362124136,
              23454.84362
             ],
             "passed_time": 4.652200686,
             "remaining_time": 3.503334053
            },
            {
             "iteration": 656,
             "learn": [
              0.9363640146,
              23426.95503
             ],
             "passed_time": 4.658318955,
             "remaining_time": 3.495511788
            },
            {
             "iteration": 657,
             "learn": [
              0.9364769466,
              23406.15839
             ],
             "passed_time": 4.664608208,
             "remaining_time": 3.487822551
            },
            {
             "iteration": 658,
             "learn": [
              0.9365809192,
              23386.9953
             ],
             "passed_time": 4.671037442,
             "remaining_time": 3.480241857
            },
            {
             "iteration": 659,
             "learn": [
              0.9366989455,
              23365.22295
             ],
             "passed_time": 4.67807582,
             "remaining_time": 3.473116897
            },
            {
             "iteration": 660,
             "learn": [
              0.9368002035,
              23346.52767
             ],
             "passed_time": 4.684597899,
             "remaining_time": 3.465610246
            },
            {
             "iteration": 661,
             "learn": [
              0.9368596926,
              23335.53719
             ],
             "passed_time": 4.690853781,
             "remaining_time": 3.45791034
            },
            {
             "iteration": 662,
             "learn": [
              0.936918082,
              23324.74484
             ],
             "passed_time": 4.697309749,
             "remaining_time": 3.450361761
            },
            {
             "iteration": 663,
             "learn": [
              0.9369715399,
              23314.85965
             ],
             "passed_time": 4.703656607,
             "remaining_time": 3.442736613
            },
            {
             "iteration": 664,
             "learn": [
              0.9371185285,
              23287.6575
             ],
             "passed_time": 4.71011636,
             "remaining_time": 3.435197646
            },
            {
             "iteration": 665,
             "learn": [
              0.93715745,
              23280.44924
             ],
             "passed_time": 4.716539648,
             "remaining_time": 3.42763542
            },
            {
             "iteration": 666,
             "learn": [
              0.9372292949,
              23267.13772
             ],
             "passed_time": 4.722995123,
             "remaining_time": 3.420099917
            },
            {
             "iteration": 667,
             "learn": [
              0.9373023853,
              23253.58761
             ],
             "passed_time": 4.730019405,
             "remaining_time": 3.412978074
            },
            {
             "iteration": 668,
             "learn": [
              0.9374240352,
              23231.01762
             ],
             "passed_time": 4.736880998,
             "remaining_time": 3.405739551
            },
            {
             "iteration": 669,
             "learn": [
              0.937487641,
              23219.20795
             ],
             "passed_time": 4.744004085,
             "remaining_time": 3.398689494
            },
            {
             "iteration": 670,
             "learn": [
              0.9375808282,
              23201.89505
             ],
             "passed_time": 4.750336896,
             "remaining_time": 3.391075072
            },
            {
             "iteration": 671,
             "learn": [
              0.9375814208,
              23201.78491
             ],
             "passed_time": 4.755921595,
             "remaining_time": 3.382932325
            },
            {
             "iteration": 672,
             "learn": [
              0.9376620845,
              23186.7882
             ],
             "passed_time": 4.761922677,
             "remaining_time": 3.375092299
            },
            {
             "iteration": 673,
             "learn": [
              0.9377501349,
              23170.4071
             ],
             "passed_time": 4.76817477,
             "remaining_time": 3.367435
            },
            {
             "iteration": 674,
             "learn": [
              0.9378488705,
              23152.02431
             ],
             "passed_time": 4.774906711,
             "remaining_time": 3.360119537
            },
            {
             "iteration": 675,
             "learn": [
              0.9379921488,
              23125.32249
             ],
             "passed_time": 4.780980914,
             "remaining_time": 3.352344606
            },
            {
             "iteration": 676,
             "learn": [
              0.9380645777,
              23111.81266
             ],
             "passed_time": 4.787615797,
             "remaining_time": 3.344966429
            },
            {
             "iteration": 677,
             "learn": [
              0.938172203,
              23091.72321
             ],
             "passed_time": 4.794175762,
             "remaining_time": 3.337538289
            },
            {
             "iteration": 678,
             "learn": [
              0.9383089044,
              23066.18115
             ],
             "passed_time": 4.800655977,
             "remaining_time": 3.330057386
            },
            {
             "iteration": 679,
             "learn": [
              0.9383662518,
              23055.45763
             ],
             "passed_time": 4.807854387,
             "remaining_time": 3.323075826
            },
            {
             "iteration": 680,
             "learn": [
              0.9384637101,
              23037.2222
             ],
             "passed_time": 4.814298734,
             "remaining_time": 3.315574312
            },
            {
             "iteration": 681,
             "learn": [
              0.9385877607,
              23013.99019
             ],
             "passed_time": 4.820950847,
             "remaining_time": 3.30821847
            },
            {
             "iteration": 682,
             "learn": [
              0.9386558856,
              23001.22189
             ],
             "passed_time": 4.827352112,
             "remaining_time": 3.300693172
            },
            {
             "iteration": 683,
             "learn": [
              0.9387149889,
              22990.13871
             ],
             "passed_time": 4.836531647,
             "remaining_time": 3.295063958
            },
            {
             "iteration": 684,
             "learn": [
              0.9387846143,
              22977.07554
             ],
             "passed_time": 4.846227132,
             "remaining_time": 3.289774622
            },
            {
             "iteration": 685,
             "learn": [
              0.9388954471,
              22956.26568
             ],
             "passed_time": 4.856869943,
             "remaining_time": 3.285113197
            },
            {
             "iteration": 686,
             "learn": [
              0.9390115046,
              22934.4546
             ],
             "passed_time": 4.867222461,
             "remaining_time": 3.280238718
            },
            {
             "iteration": 687,
             "learn": [
              0.9390716712,
              22923.13911
             ],
             "passed_time": 4.878383899,
             "remaining_time": 3.275891514
            },
            {
             "iteration": 688,
             "learn": [
              0.9391158328,
              22914.83013
             ],
             "passed_time": 4.887166172,
             "remaining_time": 3.269932664
            },
            {
             "iteration": 689,
             "learn": [
              0.9392339338,
              22892.59463
             ],
             "passed_time": 4.895873835,
             "remaining_time": 3.26391589
            },
            {
             "iteration": 690,
             "learn": [
              0.9393412355,
              22872.37364
             ],
             "passed_time": 4.905835849,
             "remaining_time": 3.258724536
            },
            {
             "iteration": 691,
             "learn": [
              0.9394159596,
              22858.28134
             ],
             "passed_time": 4.921100477,
             "remaining_time": 3.257028928
            },
            {
             "iteration": 692,
             "learn": [
              0.939494861,
              22843.39179
             ],
             "passed_time": 4.930237148,
             "remaining_time": 3.251253069
            },
            {
             "iteration": 693,
             "learn": [
              0.9395618951,
              22830.73411
             ],
             "passed_time": 4.938908232,
             "remaining_time": 3.245161605
            },
            {
             "iteration": 694,
             "learn": [
              0.9396579052,
              22812.59279
             ],
             "passed_time": 4.947503234,
             "remaining_time": 3.239012908
            },
            {
             "iteration": 695,
             "learn": [
              0.9397074134,
              22803.23248
             ],
             "passed_time": 4.956472085,
             "remaining_time": 3.233101044
            },
            {
             "iteration": 696,
             "learn": [
              0.9398047902,
              22784.81062
             ],
             "passed_time": 4.964505302,
             "remaining_time": 3.226572313
            },
            {
             "iteration": 697,
             "learn": [
              0.939841444,
              22777.87255
             ],
             "passed_time": 4.972734033,
             "remaining_time": 3.220165878
            },
            {
             "iteration": 698,
             "learn": [
              0.9399149757,
              22763.94761
             ],
             "passed_time": 4.981119322,
             "remaining_time": 3.213855242
            },
            {
             "iteration": 699,
             "learn": [
              0.9399977131,
              22748.26917
             ],
             "passed_time": 4.989626589,
             "remaining_time": 3.207617093
            },
            {
             "iteration": 700,
             "learn": [
              0.9401163283,
              22725.77316
             ],
             "passed_time": 4.997240981,
             "remaining_time": 3.200800571
            },
            {
             "iteration": 701,
             "learn": [
              0.9401906729,
              22711.66194
             ],
             "passed_time": 5.004880609,
             "remaining_time": 3.193997882
            },
            {
             "iteration": 702,
             "learn": [
              0.9401942873,
              22710.97568
             ],
             "passed_time": 5.012866466,
             "remaining_time": 3.187412959
            },
            {
             "iteration": 703,
             "learn": [
              0.9403017309,
              22690.56586
             ],
             "passed_time": 5.021144453,
             "remaining_time": 3.181009128
            },
            {
             "iteration": 704,
             "learn": [
              0.9403954553,
              22672.74714
             ],
             "passed_time": 5.02892896,
             "remaining_time": 3.174288493
            },
            {
             "iteration": 705,
             "learn": [
              0.9404466165,
              22663.01454
             ],
             "passed_time": 5.044716384,
             "remaining_time": 3.172597839
            },
            {
             "iteration": 706,
             "learn": [
              0.9405003733,
              22652.78366
             ],
             "passed_time": 5.055736697,
             "remaining_time": 3.167880278
            },
            {
             "iteration": 707,
             "learn": [
              0.9406251969,
              22629.00968
             ],
             "passed_time": 5.11040584,
             "remaining_time": 3.190394606
            },
            {
             "iteration": 708,
             "learn": [
              0.9406905926,
              22616.54439
             ],
             "passed_time": 5.119213387,
             "remaining_time": 3.184165167
            },
            {
             "iteration": 709,
             "learn": [
              0.9407696257,
              22601.47046
             ],
             "passed_time": 5.127272812,
             "remaining_time": 3.177464842
            },
            {
             "iteration": 710,
             "learn": [
              0.9409975065,
              22557.95052
             ],
             "passed_time": 5.135433017,
             "remaining_time": 3.170822918
            },
            {
             "iteration": 711,
             "learn": [
              0.941111449,
              22536.15864
             ],
             "passed_time": 5.143946217,
             "remaining_time": 3.164393881
            },
            {
             "iteration": 712,
             "learn": [
              0.9411118402,
              22536.08378
             ],
             "passed_time": 5.151599181,
             "remaining_time": 3.157431756
            },
            {
             "iteration": 713,
             "learn": [
              0.9411497273,
              22528.83305
             ],
             "passed_time": 5.160222754,
             "remaining_time": 3.151060393
            },
            {
             "iteration": 714,
             "learn": [
              0.9412016282,
              22518.8966
             ],
             "passed_time": 5.168854002,
             "remaining_time": 3.1446874
            },
            {
             "iteration": 715,
             "learn": [
              0.9412925657,
              22501.47602
             ],
             "passed_time": 5.177183437,
             "remaining_time": 3.138125156
            },
            {
             "iteration": 716,
             "learn": [
              0.9413448434,
              22491.45526
             ],
             "passed_time": 5.185299155,
             "remaining_time": 3.131428918
            },
            {
             "iteration": 717,
             "learn": [
              0.9414234546,
              22476.37838
             ],
             "passed_time": 5.193739564,
             "remaining_time": 3.124924083
            },
            {
             "iteration": 718,
             "learn": [
              0.9414834917,
              22464.85702
             ],
             "passed_time": 5.203256663,
             "remaining_time": 3.119059279
            },
            {
             "iteration": 719,
             "learn": [
              0.9415010842,
              22461.47982
             ],
             "passed_time": 5.211635449,
             "remaining_time": 3.112504504
            },
            {
             "iteration": 720,
             "learn": [
              0.9415928158,
              22443.8621
             ],
             "passed_time": 5.219917552,
             "remaining_time": 3.105887143
            },
            {
             "iteration": 721,
             "learn": [
              0.9417419788,
              22415.18469
             ],
             "passed_time": 5.228455655,
             "remaining_time": 3.099416926
            },
            {
             "iteration": 722,
             "learn": [
              0.9417497794,
              22413.68397
             ],
             "passed_time": 5.236500878,
             "remaining_time": 3.092649896
            },
            {
             "iteration": 723,
             "learn": [
              0.9417864796,
              22406.62206
             ],
             "passed_time": 5.243758236,
             "remaining_time": 3.085415758
            },
            {
             "iteration": 724,
             "learn": [
              0.9418356888,
              22397.14963
             ],
             "passed_time": 5.253895401,
             "remaining_time": 3.079869718
            },
            {
             "iteration": 725,
             "learn": [
              0.941917096,
              22381.47055
             ],
             "passed_time": 5.262329196,
             "remaining_time": 3.073316225
            },
            {
             "iteration": 726,
             "learn": [
              0.9421107238,
              22344.13346
             ],
             "passed_time": 5.271258406,
             "remaining_time": 3.067045813
            },
            {
             "iteration": 727,
             "learn": [
              0.9421592645,
              22334.76362
             ],
             "passed_time": 5.279652938,
             "remaining_time": 3.060458159
            },
            {
             "iteration": 728,
             "learn": [
              0.9422072693,
              22325.49335
             ],
             "passed_time": 5.288448089,
             "remaining_time": 3.054096908
            },
            {
             "iteration": 729,
             "learn": [
              0.9423021577,
              22307.15798
             ],
             "passed_time": 5.296640887,
             "remaining_time": 3.047382428
            },
            {
             "iteration": 730,
             "learn": [
              0.9423755033,
              22292.97504
             ],
             "passed_time": 5.304527777,
             "remaining_time": 3.040488562
            },
            {
             "iteration": 731,
             "learn": [
              0.9424334901,
              22281.75564
             ],
             "passed_time": 5.31265193,
             "remaining_time": 3.033727468
            },
            {
             "iteration": 732,
             "learn": [
              0.9425593789,
              22257.37898
             ],
             "passed_time": 5.320419693,
             "remaining_time": 3.026759907
            },
            {
             "iteration": 733,
             "learn": [
              0.9425598447,
              22257.28873
             ],
             "passed_time": 5.327747287,
             "remaining_time": 3.019540696
            },
            {
             "iteration": 734,
             "learn": [
              0.9426542597,
              22238.98893
             ],
             "passed_time": 5.33617858,
             "remaining_time": 3.012944368
            },
            {
             "iteration": 735,
             "learn": [
              0.9427618806,
              22218.11115
             ],
             "passed_time": 5.344077399,
             "remaining_time": 3.006043537
            },
            {
             "iteration": 736,
             "learn": [
              0.9428454438,
              22201.88688
             ],
             "passed_time": 5.352317477,
             "remaining_time": 2.999331232
            },
            {
             "iteration": 737,
             "learn": [
              0.9429191801,
              22187.56068
             ],
             "passed_time": 5.360054857,
             "remaining_time": 2.992334148
            },
            {
             "iteration": 738,
             "learn": [
              0.9430152602,
              22168.87946
             ],
             "passed_time": 5.367933074,
             "remaining_time": 2.985413387
            },
            {
             "iteration": 739,
             "learn": [
              0.9430581873,
              22160.52787
             ],
             "passed_time": 5.375538859,
             "remaining_time": 2.978339098
            },
            {
             "iteration": 740,
             "learn": [
              0.9431393074,
              22144.73715
             ],
             "passed_time": 5.383729386,
             "remaining_time": 2.971586125
            },
            {
             "iteration": 741,
             "learn": [
              0.9432162285,
              22129.75338
             ],
             "passed_time": 5.391768729,
             "remaining_time": 2.964746147
            },
            {
             "iteration": 742,
             "learn": [
              0.943299015,
              22113.61574
             ],
             "passed_time": 5.399381628,
             "remaining_time": 2.957669344
            },
            {
             "iteration": 743,
             "learn": [
              0.9433509006,
              22103.49562
             ],
             "passed_time": 5.40749377,
             "remaining_time": 2.950863536
            },
            {
             "iteration": 744,
             "learn": [
              0.9433814769,
              22097.52964
             ],
             "passed_time": 5.415045649,
             "remaining_time": 2.943749648
            },
            {
             "iteration": 745,
             "learn": [
              0.9434533155,
              22083.50633
             ],
             "passed_time": 5.422441227,
             "remaining_time": 2.936549941
            },
            {
             "iteration": 746,
             "learn": [
              0.9435825707,
              22058.25249
             ],
             "passed_time": 5.430355349,
             "remaining_time": 2.929629459
            },
            {
             "iteration": 747,
             "learn": [
              0.9435829622,
              22058.17595
             ],
             "passed_time": 5.437634939,
             "remaining_time": 2.922365301
            },
            {
             "iteration": 748,
             "learn": [
              0.9436424291,
              22046.54757
             ],
             "passed_time": 5.445262867,
             "remaining_time": 2.915287597
            },
            {
             "iteration": 749,
             "learn": [
              0.9436788694,
              22039.41888
             ],
             "passed_time": 5.452651869,
             "remaining_time": 2.908080997
            },
            {
             "iteration": 750,
             "learn": [
              0.9437378442,
              22027.87694
             ],
             "passed_time": 5.460376179,
             "remaining_time": 2.901052058
            },
            {
             "iteration": 751,
             "learn": [
              0.943781044,
              22019.41847
             ],
             "passed_time": 5.468290375,
             "remaining_time": 2.894121768
            },
            {
             "iteration": 752,
             "learn": [
              0.9438382352,
              22008.21551
             ],
             "passed_time": 5.476176685,
             "remaining_time": 2.887174162
            },
            {
             "iteration": 753,
             "learn": [
              0.9439064325,
              21994.84915
             ],
             "passed_time": 5.48397206,
             "remaining_time": 2.880176307
            },
            {
             "iteration": 754,
             "learn": [
              0.9439067533,
              21994.78625
             ],
             "passed_time": 5.490973192,
             "remaining_time": 2.872760809
            },
            {
             "iteration": 755,
             "learn": [
              0.9439986396,
              21976.76406
             ],
             "passed_time": 5.498978372,
             "remaining_time": 2.865869681
            },
            {
             "iteration": 756,
             "learn": [
              0.9440015571,
              21976.19159
             ],
             "passed_time": 5.506567919,
             "remaining_time": 2.858759831
            },
            {
             "iteration": 757,
             "learn": [
              0.9440490774,
              21966.8651
             ],
             "passed_time": 5.514659656,
             "remaining_time": 2.851908424
            },
            {
             "iteration": 758,
             "learn": [
              0.9441478621,
              21947.46462
             ],
             "passed_time": 5.522344759,
             "remaining_time": 2.84484427
            },
            {
             "iteration": 759,
             "learn": [
              0.9441481587,
              21947.40635
             ],
             "passed_time": 5.529348527,
             "remaining_time": 2.837428849
            },
            {
             "iteration": 760,
             "learn": [
              0.9442568686,
              21926.03676
             ],
             "passed_time": 5.537093054,
             "remaining_time": 2.830393164
            },
            {
             "iteration": 761,
             "learn": [
              0.9442573056,
              21925.95082
             ],
             "passed_time": 5.54424775,
             "remaining_time": 2.823055285
            },
            {
             "iteration": 762,
             "learn": [
              0.944358799,
              21905.9809
             ],
             "passed_time": 5.555402604,
             "remaining_time": 2.817746799
            },
            {
             "iteration": 763,
             "learn": [
              0.944412193,
              21895.46775
             ],
             "passed_time": 5.565131701,
             "remaining_time": 2.811702666
            },
            {
             "iteration": 764,
             "learn": [
              0.9444434116,
              21889.31855
             ],
             "passed_time": 5.575043546,
             "remaining_time": 2.805740869
            },
            {
             "iteration": 765,
             "learn": [
              0.9445181539,
              21874.58934
             ],
             "passed_time": 5.583728181,
             "remaining_time": 2.799153553
            },
            {
             "iteration": 766,
             "learn": [
              0.9445499846,
              21868.31357
             ],
             "passed_time": 5.59234877,
             "remaining_time": 2.792528786
            },
            {
             "iteration": 767,
             "learn": [
              0.9446752592,
              21843.59677
             ],
             "passed_time": 5.602139531,
             "remaining_time": 2.78648086
            },
            {
             "iteration": 768,
             "learn": [
              0.944758673,
              21827.12363
             ],
             "passed_time": 5.612081427,
             "remaining_time": 2.78049808
            },
            {
             "iteration": 769,
             "learn": [
              0.9448171582,
              21815.56615
             ],
             "passed_time": 5.61918447,
             "remaining_time": 2.773104024
            },
            {
             "iteration": 770,
             "learn": [
              0.944857077,
              21807.67412
             ],
             "passed_time": 5.626927107,
             "remaining_time": 2.766025128
            },
            {
             "iteration": 771,
             "learn": [
              0.9449146166,
              21796.2934
             ],
             "passed_time": 5.634742775,
             "remaining_time": 2.758980271
            },
            {
             "iteration": 772,
             "learn": [
              0.9449550178,
              21788.29892
             ],
             "passed_time": 5.642507871,
             "remaining_time": 2.751908754
            },
            {
             "iteration": 773,
             "learn": [
              0.945037074,
              21772.05283
             ],
             "passed_time": 5.651678749,
             "remaining_time": 2.745518359
            },
            {
             "iteration": 774,
             "learn": [
              0.9451003597,
              21759.51477
             ],
             "passed_time": 5.66139499,
             "remaining_time": 2.739384673
            },
            {
             "iteration": 775,
             "learn": [
              0.9451823145,
              21743.26727
             ],
             "passed_time": 5.669596365,
             "remaining_time": 2.73251165
            },
            {
             "iteration": 776,
             "learn": [
              0.9452547724,
              21728.89243
             ],
             "passed_time": 5.678141458,
             "remaining_time": 2.725800211
            },
            {
             "iteration": 777,
             "learn": [
              0.9452678791,
              21726.29118
             ],
             "passed_time": 5.687611958,
             "remaining_time": 2.719526541
            },
            {
             "iteration": 778,
             "learn": [
              0.9453075368,
              21718.41856
             ],
             "passed_time": 5.698153206,
             "remaining_time": 2.713754608
            },
            {
             "iteration": 779,
             "learn": [
              0.9453789746,
              21704.22991
             ],
             "passed_time": 5.708285916,
             "remaining_time": 2.707776652
            },
            {
             "iteration": 780,
             "learn": [
              0.9454544193,
              21689.23538
             ],
             "passed_time": 5.717901383,
             "remaining_time": 2.701543675
            },
            {
             "iteration": 781,
             "learn": [
              0.9455181514,
              21676.56062
             ],
             "passed_time": 5.727520608,
             "remaining_time": 2.695303816
            },
            {
             "iteration": 782,
             "learn": [
              0.9455668476,
              21666.87113
             ],
             "passed_time": 5.735034236,
             "remaining_time": 2.688068409
            },
            {
             "iteration": 783,
             "learn": [
              0.9456534243,
              21649.63355
             ],
             "passed_time": 5.744318984,
             "remaining_time": 2.681659118
            },
            {
             "iteration": 784,
             "learn": [
              0.9456904232,
              21642.26279
             ],
             "passed_time": 5.752440165,
             "remaining_time": 2.674701478
            },
            {
             "iteration": 785,
             "learn": [
              0.945773623,
              21625.67896
             ],
             "passed_time": 5.760500942,
             "remaining_time": 2.667712904
            },
            {
             "iteration": 786,
             "learn": [
              0.9458596573,
              21608.51676
             ],
             "passed_time": 5.770209489,
             "remaining_time": 2.661481632
            },
            {
             "iteration": 787,
             "learn": [
              0.9459091004,
              21598.64762
             ],
             "passed_time": 5.777446388,
             "remaining_time": 2.654106082
            },
            {
             "iteration": 788,
             "learn": [
              0.945958428,
              21588.79706
             ],
             "passed_time": 5.785390015,
             "remaining_time": 2.64705424
            },
            {
             "iteration": 789,
             "learn": [
              0.9460171797,
              21577.05865
             ],
             "passed_time": 5.793554564,
             "remaining_time": 2.640100814
            },
            {
             "iteration": 790,
             "learn": [
              0.9460372228,
              21573.05264
             ],
             "passed_time": 5.80164047,
             "remaining_time": 2.633108633
            },
            {
             "iteration": 791,
             "learn": [
              0.946085104,
              21563.47963
             ],
             "passed_time": 5.809548972,
             "remaining_time": 2.6260335
            },
            {
             "iteration": 792,
             "learn": [
              0.9461813025,
              21544.23356
             ],
             "passed_time": 5.817329685,
             "remaining_time": 2.618898736
            },
            {
             "iteration": 793,
             "learn": [
              0.9462595262,
              21528.57094
             ],
             "passed_time": 5.824805053,
             "remaining_time": 2.611625439
            },
            {
             "iteration": 794,
             "learn": [
              0.9463332311,
              21513.80269
             ],
             "passed_time": 5.83209805,
             "remaining_time": 2.604270198
            },
            {
             "iteration": 795,
             "learn": [
              0.9464484461,
              21490.69672
             ],
             "passed_time": 5.839730858,
             "remaining_time": 2.597066236
            },
            {
             "iteration": 796,
             "learn": [
              0.9465398146,
              21472.35543
             ],
             "passed_time": 5.849176261,
             "remaining_time": 2.590664015
            },
            {
             "iteration": 797,
             "learn": [
              0.9465825032,
              21463.78074
             ],
             "passed_time": 5.857118954,
             "remaining_time": 2.583591318
            },
            {
             "iteration": 798,
             "learn": [
              0.9466481084,
              21450.59622
             ],
             "passed_time": 5.865049093,
             "remaining_time": 2.576510928
            },
            {
             "iteration": 799,
             "learn": [
              0.9467315711,
              21433.81121
             ],
             "passed_time": 5.874446313,
             "remaining_time": 2.570070262
            },
            {
             "iteration": 800,
             "learn": [
              0.9468534973,
              21409.2672
             ],
             "passed_time": 5.882863349,
             "remaining_time": 2.563195142
            },
            {
             "iteration": 801,
             "learn": [
              0.9469149903,
              21396.87785
             ],
             "passed_time": 5.891710003,
             "remaining_time": 2.556502595
            },
            {
             "iteration": 802,
             "learn": [
              0.946967949,
              21386.2022
             ],
             "passed_time": 5.901656935,
             "remaining_time": 2.550280145
            },
            {
             "iteration": 803,
             "learn": [
              0.9470768091,
              21364.24097
             ],
             "passed_time": 5.910104427,
             "remaining_time": 2.543403149
            },
            {
             "iteration": 804,
             "learn": [
              0.947127875,
              21353.93123
             ],
             "passed_time": 5.916661171,
             "remaining_time": 2.53571193
            },
            {
             "iteration": 805,
             "learn": [
              0.9471304309,
              21353.41509
             ],
             "passed_time": 5.92438481,
             "remaining_time": 2.528521557
            },
            {
             "iteration": 806,
             "learn": [
              0.9472154804,
              21336.23292
             ],
             "passed_time": 5.931271183,
             "remaining_time": 2.520973997
            },
            {
             "iteration": 807,
             "learn": [
              0.9472760954,
              21323.97868
             ],
             "passed_time": 5.937014863,
             "remaining_time": 2.51294441
            },
            {
             "iteration": 808,
             "learn": [
              0.9474144813,
              21295.97548
             ],
             "passed_time": 5.944086981,
             "remaining_time": 2.505480421
            },
            {
             "iteration": 809,
             "learn": [
              0.94752268,
              21274.05516
             ],
             "passed_time": 5.950438006,
             "remaining_time": 2.497714719
            },
            {
             "iteration": 810,
             "learn": [
              0.9476127514,
              21255.79005
             ],
             "passed_time": 5.957320567,
             "remaining_time": 2.490174688
            },
            {
             "iteration": 811,
             "learn": [
              0.9476486362,
              21248.50878
             ],
             "passed_time": 5.964026632,
             "remaining_time": 2.48256281
            },
            {
             "iteration": 812,
             "learn": [
              0.9477815907,
              21221.50967
             ],
             "passed_time": 5.970941786,
             "remaining_time": 2.47503983
            },
            {
             "iteration": 813,
             "learn": [
              0.9478407917,
              21209.47665
             ],
             "passed_time": 5.977626588,
             "remaining_time": 2.46742326
            },
            {
             "iteration": 814,
             "learn": [
              0.9479322993,
              21190.86363
             ],
             "passed_time": 5.983953593,
             "remaining_time": 2.459661906
            },
            {
             "iteration": 815,
             "learn": [
              0.9479738553,
              21182.40558
             ],
             "passed_time": 5.990512147,
             "remaining_time": 2.451998844
            },
            {
             "iteration": 816,
             "learn": [
              0.9480581074,
              21165.24704
             ],
             "passed_time": 5.997262704,
             "remaining_time": 2.444416745
            },
            {
             "iteration": 817,
             "learn": [
              0.9481365334,
              21149.26252
             ],
             "passed_time": 6.004767884,
             "remaining_time": 2.437142955
            },
            {
             "iteration": 818,
             "learn": [
              0.9482272075,
              21130.76655
             ],
             "passed_time": 6.01197166,
             "remaining_time": 2.429746788
            },
            {
             "iteration": 819,
             "learn": [
              0.948261423,
              21123.78297
             ],
             "passed_time": 6.018213169,
             "remaining_time": 2.421963836
            },
            {
             "iteration": 820,
             "learn": [
              0.9483209318,
              21111.63139
             ],
             "passed_time": 6.025008108,
             "remaining_time": 2.414406416
            },
            {
             "iteration": 821,
             "learn": [
              0.9483465876,
              21106.39035
             ],
             "passed_time": 6.031895192,
             "remaining_time": 2.406887619
            },
            {
             "iteration": 822,
             "learn": [
              0.9484076984,
              21093.90123
             ],
             "passed_time": 6.038730095,
             "remaining_time": 2.399349625
            },
            {
             "iteration": 823,
             "learn": [
              0.948459046,
              21083.40169
             ],
             "passed_time": 6.046748395,
             "remaining_time": 2.392281525
            },
            {
             "iteration": 824,
             "learn": [
              0.9485078159,
              21073.4244
             ],
             "passed_time": 6.052759209,
             "remaining_time": 2.384420295
            },
            {
             "iteration": 825,
             "learn": [
              0.9485351844,
              21067.82332
             ],
             "passed_time": 6.059053365,
             "remaining_time": 2.376674686
            },
            {
             "iteration": 826,
             "learn": [
              0.9485748895,
              21059.69483
             ],
             "passed_time": 6.066951353,
             "remaining_time": 2.369558993
            },
            {
             "iteration": 827,
             "learn": [
              0.9486455229,
              21045.22691
             ],
             "passed_time": 6.076681287,
             "remaining_time": 2.363153834
            },
            {
             "iteration": 828,
             "learn": [
              0.9486459123,
              21045.14712
             ],
             "passed_time": 6.083571184,
             "remaining_time": 2.355640953
            },
            {
             "iteration": 829,
             "learn": [
              0.948647985,
              21044.72242
             ],
             "passed_time": 6.136880809,
             "remaining_time": 2.366026336
            },
            {
             "iteration": 830,
             "learn": [
              0.948707372,
              21032.55011
             ],
             "passed_time": 6.152276861,
             "remaining_time": 2.361704354
            },
            {
             "iteration": 831,
             "learn": [
              0.9488178143,
              21009.89447
             ],
             "passed_time": 6.159475194,
             "remaining_time": 2.35422249
            },
            {
             "iteration": 832,
             "learn": [
              0.9489043792,
              20992.11983
             ],
             "passed_time": 6.166092823,
             "remaining_time": 2.346520318
            },
            {
             "iteration": 833,
             "learn": [
              0.9489710542,
              20978.41899
             ],
             "passed_time": 6.174889586,
             "remaining_time": 2.339646414
            },
            {
             "iteration": 834,
             "learn": [
              0.9489821287,
              20976.14247
             ],
             "passed_time": 6.183030599,
             "remaining_time": 2.332520525
            },
            {
             "iteration": 835,
             "learn": [
              0.9490174675,
              20968.87638
             ],
             "passed_time": 6.18999628,
             "remaining_time": 2.324950756
            },
            {
             "iteration": 836,
             "learn": [
              0.9490190681,
              20968.54722
             ],
             "passed_time": 6.196665325,
             "remaining_time": 2.317271501
            },
            {
             "iteration": 837,
             "learn": [
              0.9490703736,
              20957.99355
             ],
             "passed_time": 6.203632058,
             "remaining_time": 2.309705492
            },
            {
             "iteration": 838,
             "learn": [
              0.949096931,
              20952.52852
             ],
             "passed_time": 6.211182415,
             "remaining_time": 2.302357248
            },
            {
             "iteration": 839,
             "learn": [
              0.9491477518,
              20942.06658
             ],
             "passed_time": 6.218503533,
             "remaining_time": 2.294923923
            },
            {
             "iteration": 840,
             "learn": [
              0.9492183432,
              20927.52598
             ],
             "passed_time": 6.226170579,
             "remaining_time": 2.287617966
            },
            {
             "iteration": 841,
             "learn": [
              0.9493192456,
              20906.72431
             ],
             "passed_time": 6.233870827,
             "remaining_time": 2.280323295
            },
            {
             "iteration": 842,
             "learn": [
              0.9493532397,
              20899.71154
             ],
             "passed_time": 6.241030685,
             "remaining_time": 2.272830866
            },
            {
             "iteration": 843,
             "learn": [
              0.9493975986,
              20890.55705
             ],
             "passed_time": 6.248891176,
             "remaining_time": 2.265593246
            },
            {
             "iteration": 844,
             "learn": [
              0.9494813557,
              20873.26087
             ],
             "passed_time": 6.255087678,
             "remaining_time": 2.257753541
            },
            {
             "iteration": 845,
             "learn": [
              0.9495404931,
              20861.04011
             ],
             "passed_time": 6.261224147,
             "remaining_time": 2.249896147
            },
            {
             "iteration": 846,
             "learn": [
              0.9495405825,
              20861.02164
             ],
             "passed_time": 6.268474593,
             "remaining_time": 2.242441324
            },
            {
             "iteration": 847,
             "learn": [
              0.9495899676,
              20850.81069
             ],
             "passed_time": 6.274843542,
             "remaining_time": 2.234673054
            },
            {
             "iteration": 848,
             "learn": [
              0.9496303209,
              20842.46348
             ],
             "passed_time": 6.281893293,
             "remaining_time": 2.227149448
            },
            {
             "iteration": 849,
             "learn": [
              0.9496767614,
              20832.85294
             ],
             "passed_time": 6.288839227,
             "remaining_time": 2.219590315
            },
            {
             "iteration": 850,
             "learn": [
              0.9497477434,
              20818.15517
             ],
             "passed_time": 6.295251832,
             "remaining_time": 2.211845238
            },
            {
             "iteration": 851,
             "learn": [
              0.9497875604,
              20809.90598
             ],
             "passed_time": 6.301332448,
             "remaining_time": 2.203987171
            },
            {
             "iteration": 852,
             "learn": [
              0.9498212968,
              20802.91399
             ],
             "passed_time": 6.308603311,
             "remaining_time": 2.196547694
            },
            {
             "iteration": 853,
             "learn": [
              0.9499191816,
              20782.61372
             ],
             "passed_time": 6.3154901,
             "remaining_time": 2.188975491
            },
            {
             "iteration": 854,
             "learn": [
              0.949951435,
              20775.92037
             ],
             "passed_time": 6.325220792,
             "remaining_time": 2.182386121
            },
            {
             "iteration": 855,
             "learn": [
              0.9500236592,
              20760.92426
             ],
             "passed_time": 6.333747862,
             "remaining_time": 2.175376018
            },
            {
             "iteration": 856,
             "learn": [
              0.9500691837,
              20751.46634
             ],
             "passed_time": 6.339689945,
             "remaining_time": 2.167478593
            },
            {
             "iteration": 857,
             "learn": [
              0.9501208985,
              20740.71711
             ],
             "passed_time": 6.346473576,
             "remaining_time": 2.159872126
            },
            {
             "iteration": 858,
             "learn": [
              0.9501680353,
              20730.91458
             ],
             "passed_time": 6.353214697,
             "remaining_time": 2.152253174
            },
            {
             "iteration": 859,
             "learn": [
              0.9502294368,
              20718.13862
             ],
             "passed_time": 6.359964124,
             "remaining_time": 2.144639065
            },
            {
             "iteration": 860,
             "learn": [
              0.950298245,
              20703.81218
             ],
             "passed_time": 6.366611772,
             "remaining_time": 2.136992802
            },
            {
             "iteration": 861,
             "learn": [
              0.9503745855,
              20687.90582
             ],
             "passed_time": 6.372780992,
             "remaining_time": 2.129189009
            },
            {
             "iteration": 862,
             "learn": [
              0.9504365844,
              20674.97871
             ],
             "passed_time": 6.379666723,
             "remaining_time": 2.121627288
            },
            {
             "iteration": 863,
             "learn": [
              0.9504808807,
              20665.7377
             ],
             "passed_time": 6.386451968,
             "remaining_time": 2.114033869
            },
            {
             "iteration": 864,
             "learn": [
              0.9505504501,
              20651.21596
             ],
             "passed_time": 6.393115973,
             "remaining_time": 2.106402373
            },
            {
             "iteration": 865,
             "learn": [
              0.9505774521,
              20645.57687
             ],
             "passed_time": 6.399448076,
             "remaining_time": 2.098664265
            },
            {
             "iteration": 866,
             "learn": [
              0.9506053347,
              20639.75227
             ],
             "passed_time": 6.40710038,
             "remaining_time": 2.091360332
            },
            {
             "iteration": 867,
             "learn": [
              0.9506515235,
              20630.09994
             ],
             "passed_time": 6.413698244,
             "remaining_time": 2.083713024
            },
            {
             "iteration": 868,
             "learn": [
              0.9507256053,
              20614.6092
             ],
             "passed_time": 6.421586665,
             "remaining_time": 2.076485446
            },
            {
             "iteration": 869,
             "learn": [
              0.9507803447,
              20603.15553
             ],
             "passed_time": 6.429622114,
             "remaining_time": 2.069303669
            },
            {
             "iteration": 870,
             "learn": [
              0.9508212025,
              20594.6023
             ],
             "passed_time": 6.439688101,
             "remaining_time": 2.062770356
            },
            {
             "iteration": 871,
             "learn": [
              0.9508279105,
              20593.1977
             ],
             "passed_time": 6.449606223,
             "remaining_time": 2.0561818
            },
            {
             "iteration": 872,
             "learn": [
              0.9508922997,
              20579.71022
             ],
             "passed_time": 6.456303388,
             "remaining_time": 2.048563618
            },
            {
             "iteration": 873,
             "learn": [
              0.950950213,
              20567.5717
             ],
             "passed_time": 6.463020784,
             "remaining_time": 2.040953932
            },
            {
             "iteration": 874,
             "learn": [
              0.9510283659,
              20551.17961
             ],
             "passed_time": 6.468993454,
             "remaining_time": 2.033112228
            },
            {
             "iteration": 875,
             "learn": [
              0.9510763583,
              20541.10702
             ],
             "passed_time": 6.476061441,
             "remaining_time": 2.025617391
            },
            {
             "iteration": 876,
             "learn": [
              0.9511443269,
              20526.83339
             ],
             "passed_time": 6.483095243,
             "remaining_time": 2.018112886
            },
            {
             "iteration": 877,
             "learn": [
              0.9512101424,
              20513.00247
             ],
             "passed_time": 6.489235375,
             "remaining_time": 2.010332599
            },
            {
             "iteration": 878,
             "learn": [
              0.9512622043,
              20502.05521
             ],
             "passed_time": 6.496990022,
             "remaining_time": 2.003053806
            },
            {
             "iteration": 879,
             "learn": [
              0.9513178593,
              20490.34593
             ],
             "passed_time": 6.503645919,
             "remaining_time": 1.995436816
            },
            {
             "iteration": 880,
             "learn": [
              0.9513227487,
              20489.31694
             ],
             "passed_time": 6.509621458,
             "remaining_time": 1.98761427
            },
            {
             "iteration": 881,
             "learn": [
              0.951368719,
              20479.6397
             ],
             "passed_time": 6.516424133,
             "remaining_time": 1.980047242
            },
            {
             "iteration": 882,
             "learn": [
              0.9514168391,
              20469.505
             ],
             "passed_time": 6.524156859,
             "remaining_time": 1.972763173
            },
            {
             "iteration": 883,
             "learn": [
              0.9514519123,
              20462.11499
             ],
             "passed_time": 6.530977244,
             "remaining_time": 1.96520356
            },
            {
             "iteration": 884,
             "learn": [
              0.9514931088,
              20453.43138
             ],
             "passed_time": 6.53772547,
             "remaining_time": 1.957624011
            },
            {
             "iteration": 885,
             "learn": [
              0.9515280345,
              20446.06666
             ],
             "passed_time": 6.545002477,
             "remaining_time": 1.950203898
            },
            {
             "iteration": 886,
             "learn": [
              0.9516139216,
              20427.94449
             ],
             "passed_time": 6.552701149,
             "remaining_time": 1.942909134
            },
            {
             "iteration": 887,
             "learn": [
              0.9516646862,
              20417.22563
             ],
             "passed_time": 6.558929947,
             "remaining_time": 1.935179782
            },
            {
             "iteration": 888,
             "learn": [
              0.9517416634,
              20400.96126
             ],
             "passed_time": 6.565507829,
             "remaining_time": 1.927556292
            },
            {
             "iteration": 889,
             "learn": [
              0.9517768418,
              20393.52416
             ],
             "passed_time": 6.572129747,
             "remaining_time": 1.919948016
            },
            {
             "iteration": 890,
             "learn": [
              0.9518484901,
              20378.36852
             ],
             "passed_time": 6.578443137,
             "remaining_time": 1.91225227
            },
            {
             "iteration": 891,
             "learn": [
              0.9519010424,
              20367.24508
             ],
             "passed_time": 6.584578099,
             "remaining_time": 1.904508015
            },
            {
             "iteration": 892,
             "learn": [
              0.9519724967,
              20352.11099
             ],
             "passed_time": 6.591153569,
             "remaining_time": 1.89689414
            },
            {
             "iteration": 893,
             "learn": [
              0.9520360554,
              20338.63971
             ],
             "passed_time": 6.597831544,
             "remaining_time": 1.889311941
            },
            {
             "iteration": 894,
             "learn": [
              0.9520905762,
              20327.07692
             ],
             "passed_time": 6.60421757,
             "remaining_time": 1.881648581
            },
            {
             "iteration": 895,
             "learn": [
              0.9522121119,
              20301.2779
             ],
             "passed_time": 6.610125482,
             "remaining_time": 1.873852536
            },
            {
             "iteration": 896,
             "learn": [
              0.9522527564,
              20292.64274
             ],
             "passed_time": 6.616232436,
             "remaining_time": 1.866116841
            },
            {
             "iteration": 897,
             "learn": [
              0.9522983581,
              20282.95004
             ],
             "passed_time": 6.622746871,
             "remaining_time": 1.858499122
            },
            {
             "iteration": 898,
             "learn": [
              0.9522985541,
              20282.90837
             ],
             "passed_time": 6.628643141,
             "remaining_time": 1.850711266
            },
            {
             "iteration": 899,
             "learn": [
              0.9523998191,
              20261.36773
             ],
             "passed_time": 6.635002242,
             "remaining_time": 1.843056178
            },
            {
             "iteration": 900,
             "learn": [
              0.9524006171,
              20261.19789
             ],
             "passed_time": 6.641758725,
             "remaining_time": 1.835513788
            },
            {
             "iteration": 901,
             "learn": [
              0.9524228844,
              20256.45817
             ],
             "passed_time": 6.647501599,
             "remaining_time": 1.827694453
            },
            {
             "iteration": 902,
             "learn": [
              0.9525447408,
              20230.50071
             ],
             "passed_time": 6.653784925,
             "remaining_time": 1.820027549
            },
            {
             "iteration": 903,
             "learn": [
              0.952615616,
              20215.38777
             ],
             "passed_time": 6.661024694,
             "remaining_time": 1.812623977
            },
            {
             "iteration": 904,
             "learn": [
              0.952662691,
              20205.34359
             ],
             "passed_time": 6.668144451,
             "remaining_time": 1.805188277
            },
            {
             "iteration": 905,
             "learn": [
              0.952700545,
              20197.26322
             ],
             "passed_time": 6.674911954,
             "remaining_time": 1.797658407
            },
            {
             "iteration": 906,
             "learn": [
              0.9527554175,
              20185.5443
             ],
             "passed_time": 6.681444875,
             "remaining_time": 1.79006737
            },
            {
             "iteration": 907,
             "learn": [
              0.9527826706,
              20179.72143
             ],
             "passed_time": 6.689266079,
             "remaining_time": 1.782822017
            },
            {
             "iteration": 908,
             "learn": [
              0.9528348431,
              20168.56962
             ],
             "passed_time": 6.696734176,
             "remaining_time": 1.775481778
            },
            {
             "iteration": 909,
             "learn": [
              0.9529150574,
              20151.41186
             ],
             "passed_time": 6.704336264,
             "remaining_time": 1.768176597
            },
            {
             "iteration": 910,
             "learn": [
              0.9529617947,
              20141.40808
             ],
             "passed_time": 6.712098682,
             "remaining_time": 1.760912827
            },
            {
             "iteration": 911,
             "learn": [
              0.953006254,
              20131.88725
             ],
             "passed_time": 6.718770175,
             "remaining_time": 1.753363269
            },
            {
             "iteration": 912,
             "learn": [
              0.9530421187,
              20124.20366
             ],
             "passed_time": 6.725379569,
             "remaining_time": 1.745799516
            },
            {
             "iteration": 913,
             "learn": [
              0.9531148037,
              20108.62274
             ],
             "passed_time": 6.732450617,
             "remaining_time": 1.738357052
            },
            {
             "iteration": 914,
             "learn": [
              0.9531591426,
              20099.11222
             ],
             "passed_time": 6.738606463,
             "remaining_time": 1.730680348
            },
            {
             "iteration": 915,
             "learn": [
              0.953210273,
              20088.13937
             ],
             "passed_time": 6.74515762,
             "remaining_time": 1.723107951
            },
            {
             "iteration": 916,
             "learn": [
              0.953239254,
              20081.91721
             ],
             "passed_time": 6.752959991,
             "remaining_time": 1.715855701
            },
            {
             "iteration": 917,
             "learn": [
              0.9532395287,
              20081.85822
             ],
             "passed_time": 6.758765027,
             "remaining_time": 1.70809748
            },
            {
             "iteration": 918,
             "learn": [
              0.9532827099,
              20072.58374
             ],
             "passed_time": 6.765135529,
             "remaining_time": 1.700485644
            },
            {
             "iteration": 919,
             "learn": [
              0.9533582637,
              20056.34593
             ],
             "passed_time": 6.771627421,
             "remaining_time": 1.692906855
            },
            {
             "iteration": 920,
             "learn": [
              0.9534214924,
              20042.74687
             ],
             "passed_time": 6.777928006,
             "remaining_time": 1.685282859
            },
            {
             "iteration": 921,
             "learn": [
              0.9534926472,
              20027.43207
             ],
             "passed_time": 6.784359631,
             "remaining_time": 1.677694139
            },
            {
             "iteration": 922,
             "learn": [
              0.953495603,
              20026.79562
             ],
             "passed_time": 6.790159003,
             "remaining_time": 1.669952431
            },
            {
             "iteration": 923,
             "learn": [
              0.9535235392,
              20020.77945
             ],
             "passed_time": 6.796943567,
             "remaining_time": 1.662455894
            },
            {
             "iteration": 924,
             "learn": [
              0.9535669025,
              20011.43741
             ],
             "passed_time": 6.803948143,
             "remaining_time": 1.655014413
            },
            {
             "iteration": 925,
             "learn": [
              0.9535943543,
              20005.52103
             ],
             "passed_time": 6.810498357,
             "remaining_time": 1.647463965
            },
            {
             "iteration": 926,
             "learn": [
              0.9535946237,
              20005.46297
             ],
             "passed_time": 6.816512038,
             "remaining_time": 1.639786607
            },
            {
             "iteration": 927,
             "learn": [
              0.9536357341,
              19996.59961
             ],
             "passed_time": 6.822815279,
             "remaining_time": 1.632182103
            },
            {
             "iteration": 928,
             "learn": [
              0.9536871016,
              19985.51931
             ],
             "passed_time": 6.829347887,
             "remaining_time": 1.624634966
            },
            {
             "iteration": 929,
             "learn": [
              0.9537241802,
              19977.51741
             ],
             "passed_time": 6.835667314,
             "remaining_time": 1.61703958
            },
            {
             "iteration": 930,
             "learn": [
              0.9537842794,
              19964.54062
             ],
             "passed_time": 6.841943106,
             "remaining_time": 1.60943667
            },
            {
             "iteration": 931,
             "learn": [
              0.953840207,
              19952.45699
             ],
             "passed_time": 6.848600796,
             "remaining_time": 1.601925937
            },
            {
             "iteration": 932,
             "learn": [
              0.9539240094,
              19934.33706
             ],
             "passed_time": 6.855030128,
             "remaining_time": 1.594363921
            },
            {
             "iteration": 933,
             "learn": [
              0.9540366546,
              19909.95472
             ],
             "passed_time": 6.861901264,
             "remaining_time": 1.586906502
            },
            {
             "iteration": 934,
             "learn": [
              0.954071035,
              19902.50705
             ],
             "passed_time": 6.868245764,
             "remaining_time": 1.57932924
            },
            {
             "iteration": 935,
             "learn": [
              0.9541009345,
              19896.02778
             ],
             "passed_time": 6.874917365,
             "remaining_time": 1.571829398
            },
            {
             "iteration": 936,
             "learn": [
              0.9541384484,
              19887.89548
             ],
             "passed_time": 6.881693074,
             "remaining_time": 1.564354989
            },
            {
             "iteration": 937,
             "learn": [
              0.9542212792,
              19869.92755
             ],
             "passed_time": 6.888164387,
             "remaining_time": 1.556813273
            },
            {
             "iteration": 938,
             "learn": [
              0.9542827367,
              19856.58547
             ],
             "passed_time": 6.894936325,
             "remaining_time": 1.549341389
            },
            {
             "iteration": 939,
             "learn": [
              0.9543153575,
              19849.50004
             ],
             "passed_time": 6.903716663,
             "remaining_time": 1.54231968
            },
            {
             "iteration": 940,
             "learn": [
              0.9543661196,
              19838.46918
             ],
             "passed_time": 6.910359872,
             "remaining_time": 1.534819568
            },
            {
             "iteration": 941,
             "learn": [
              0.9544138357,
              19828.09463
             ],
             "passed_time": 6.917585512,
             "remaining_time": 1.527449879
            },
            {
             "iteration": 942,
             "learn": [
              0.9544924807,
              19810.98357
             ],
             "passed_time": 6.924524098,
             "remaining_time": 1.520017485
            },
            {
             "iteration": 943,
             "learn": [
              0.9545694111,
              19794.23126
             ],
             "passed_time": 6.931314503,
             "remaining_time": 1.5125538
            },
            {
             "iteration": 944,
             "learn": [
              0.954626511,
              19781.78807
             ],
             "passed_time": 6.938047583,
             "remaining_time": 1.505079105
            },
            {
             "iteration": 945,
             "learn": [
              0.9546673945,
              19772.87393
             ],
             "passed_time": 6.944772342,
             "remaining_time": 1.497604184
            },
            {
             "iteration": 946,
             "learn": [
              0.9546884622,
              19768.27881
             ],
             "passed_time": 6.951087537,
             "remaining_time": 1.490043052
            },
            {
             "iteration": 947,
             "learn": [
              0.9547207576,
              19761.23274
             ],
             "passed_time": 6.957706984,
             "remaining_time": 1.482549379
            },
            {
             "iteration": 948,
             "learn": [
              0.9548085198,
              19742.0724
             ],
             "passed_time": 6.964105308,
             "remaining_time": 1.475010713
            },
            {
             "iteration": 949,
             "learn": [
              0.9548483303,
              19733.37479
             ],
             "passed_time": 6.970979041,
             "remaining_time": 1.467574535
            },
            {
             "iteration": 950,
             "learn": [
              0.9548580823,
              19731.24365
             ],
             "passed_time": 6.978610782,
             "remaining_time": 1.460298155
            },
            {
             "iteration": 951,
             "learn": [
              0.9549001381,
              19722.05034
             ],
             "passed_time": 6.988153402,
             "remaining_time": 1.45341846
            },
            {
             "iteration": 952,
             "learn": [
              0.9549666863,
              19707.49428
             ],
             "passed_time": 6.995530504,
             "remaining_time": 1.446085529
            },
            {
             "iteration": 953,
             "learn": [
              0.9550399052,
              19691.46673
             ],
             "passed_time": 7.002922067,
             "remaining_time": 1.438755477
            },
            {
             "iteration": 954,
             "learn": [
              0.9550907127,
              19680.33734
             ],
             "passed_time": 7.010726724,
             "remaining_time": 1.431509645
            },
            {
             "iteration": 955,
             "learn": [
              0.955184038,
              19659.87801
             ],
             "passed_time": 7.017246091,
             "remaining_time": 1.424001822
            },
            {
             "iteration": 956,
             "learn": [
              0.9551955248,
              19657.35834
             ],
             "passed_time": 7.023169863,
             "remaining_time": 1.416375949
            },
            {
             "iteration": 957,
             "learn": [
              0.9552525655,
              19644.84141
             ],
             "passed_time": 7.029529209,
             "remaining_time": 1.408840927
            },
            {
             "iteration": 958,
             "learn": [
              0.9552965856,
              19635.17629
             ],
             "passed_time": 7.035829502,
             "remaining_time": 1.401296595
            },
            {
             "iteration": 959,
             "learn": [
              0.9553686244,
              19619.34902
             ],
             "passed_time": 7.042925392,
             "remaining_time": 1.393912317
            },
            {
             "iteration": 960,
             "learn": [
              0.9554027588,
              19611.84507
             ],
             "passed_time": 7.048790971,
             "remaining_time": 1.386286674
            },
            {
             "iteration": 961,
             "learn": [
              0.9554684811,
              19597.3889
             ],
             "passed_time": 7.056539959,
             "remaining_time": 1.379032757
            },
            {
             "iteration": 962,
             "learn": [
              0.9555399573,
              19581.655
             ],
             "passed_time": 7.063818525,
             "remaining_time": 1.371686463
            },
            {
             "iteration": 963,
             "learn": [
              0.9556076197,
              19566.74895
             ],
             "passed_time": 7.069719912,
             "remaining_time": 1.364074589
            },
            {
             "iteration": 964,
             "learn": [
              0.9556320518,
              19561.36376
             ],
             "passed_time": 7.075527482,
             "remaining_time": 1.356448274
            },
            {
             "iteration": 965,
             "learn": [
              0.9556797205,
              19550.85263
             ],
             "passed_time": 7.081935924,
             "remaining_time": 1.348940176
            },
            {
             "iteration": 966,
             "learn": [
              0.9557017109,
              19546.00176
             ],
             "passed_time": 7.088283872,
             "remaining_time": 1.341422904
            },
            {
             "iteration": 967,
             "learn": [
              0.9557351955,
              19538.61306
             ],
             "passed_time": 7.096388901,
             "remaining_time": 1.334238409
            },
            {
             "iteration": 968,
             "learn": [
              0.9557594169,
              19533.26663
             ],
             "passed_time": 7.103420952,
             "remaining_time": 1.326851592
            },
            {
             "iteration": 969,
             "learn": [
              0.9557957814,
              19525.23707
             ],
             "passed_time": 7.110154798,
             "remaining_time": 1.319410169
            },
            {
             "iteration": 970,
             "learn": [
              0.955868873,
              19509.08792
             ],
             "passed_time": 7.117457986,
             "remaining_time": 1.312075159
            },
            {
             "iteration": 971,
             "learn": [
              0.9559771011,
              19485.151
             ],
             "passed_time": 7.124492446,
             "remaining_time": 1.304691003
            },
            {
             "iteration": 972,
             "learn": [
              0.955993711,
              19481.47477
             ],
             "passed_time": 7.164432464,
             "remaining_time": 1.30329347
            },
            {
             "iteration": 973,
             "learn": [
              0.9560175252,
              19476.2028
             ],
             "passed_time": 7.201727073,
             "remaining_time": 1.301338773
            },
            {
             "iteration": 974,
             "learn": [
              0.9560176142,
              19476.1831
             ],
             "passed_time": 7.211191484,
             "remaining_time": 1.29431642
            },
            {
             "iteration": 975,
             "learn": [
              0.956088165,
              19460.55625
             ],
             "passed_time": 7.218469544,
             "remaining_time": 1.286899283
            },
            {
             "iteration": 976,
             "learn": [
              0.9561436135,
              19448.26573
             ],
             "passed_time": 7.227926153,
             "remaining_time": 1.279868193
            },
            {
             "iteration": 977,
             "learn": [
              0.9562271774,
              19429.72853
             ],
             "passed_time": 7.234502938,
             "remaining_time": 1.27232567
            },
            {
             "iteration": 978,
             "learn": [
              0.9562530707,
              19423.98098
             ],
             "passed_time": 7.242636243,
             "remaining_time": 1.265056994
            },
            {
             "iteration": 979,
             "learn": [
              0.9562904645,
              19415.67764
             ],
             "passed_time": 7.251729132,
             "remaining_time": 1.257953013
            },
            {
             "iteration": 980,
             "learn": [
              0.956370504,
              19397.8928
             ],
             "passed_time": 7.258466039,
             "remaining_time": 1.250439104
            },
            {
             "iteration": 981,
             "learn": [
              0.9564192338,
              19387.05701
             ],
             "passed_time": 7.265066674,
             "remaining_time": 1.242903463
            },
            {
             "iteration": 982,
             "learn": [
              0.9564639746,
              19377.10292
             ],
             "passed_time": 7.27080747,
             "remaining_time": 1.23522365
            },
            {
             "iteration": 983,
             "learn": [
              0.9565132904,
              19366.12503
             ],
             "passed_time": 7.277243757,
             "remaining_time": 1.227665105
            },
            {
             "iteration": 984,
             "learn": [
              0.9565567164,
              19356.45307
             ],
             "passed_time": 7.284165312,
             "remaining_time": 1.220190128
            },
            {
             "iteration": 985,
             "learn": [
              0.9565966502,
              19347.55462
             ],
             "passed_time": 7.290396874,
             "remaining_time": 1.212601509
            },
            {
             "iteration": 986,
             "learn": [
              0.9566564047,
              19334.2319
             ],
             "passed_time": 7.297698572,
             "remaining_time": 1.205192368
            },
            {
             "iteration": 987,
             "learn": [
              0.9566564985,
              19334.21098
             ],
             "passed_time": 7.303554656,
             "remaining_time": 1.197546411
            },
            {
             "iteration": 988,
             "learn": [
              0.9566950118,
              19325.61927
             ],
             "passed_time": 7.309765364,
             "remaining_time": 1.189961803
            },
            {
             "iteration": 989,
             "learn": [
              0.9567694554,
              19309.00124
             ],
             "passed_time": 7.318887126,
             "remaining_time": 1.182850445
            },
            {
             "iteration": 990,
             "learn": [
              0.9567885429,
              19304.73803
             ],
             "passed_time": 7.325305914,
             "remaining_time": 1.175301353
            },
            {
             "iteration": 991,
             "learn": [
              0.9568270836,
              19296.12707
             ],
             "passed_time": 7.33180266,
             "remaining_time": 1.167766956
            },
            {
             "iteration": 992,
             "learn": [
              0.9568776014,
              19284.8343
             ],
             "passed_time": 7.338063838,
             "remaining_time": 1.160197404
            },
            {
             "iteration": 993,
             "learn": [
              0.9569288272,
              19273.37651
             ],
             "passed_time": 7.344901372,
             "remaining_time": 1.15272094
            },
            {
             "iteration": 994,
             "learn": [
              0.956990203,
              19259.63947
             ],
             "passed_time": 7.351526969,
             "remaining_time": 1.145212744
            },
            {
             "iteration": 995,
             "learn": [
              0.9570680426,
              19242.20343
             ],
             "passed_time": 7.358021006,
             "remaining_time": 1.137685979
            },
            {
             "iteration": 996,
             "learn": [
              0.9570912779,
              19236.99568
             ],
             "passed_time": 7.364697748,
             "remaining_time": 1.130189323
            },
            {
             "iteration": 997,
             "learn": [
              0.9571595846,
              19221.67782
             ],
             "passed_time": 7.371389812,
             "remaining_time": 1.122696645
            },
            {
             "iteration": 998,
             "learn": [
              0.9572289634,
              19206.10704
             ],
             "passed_time": 7.377974141,
             "remaining_time": 1.115189285
            },
            {
             "iteration": 999,
             "learn": [
              0.9572817841,
              19194.24395
             ],
             "passed_time": 7.384479933,
             "remaining_time": 1.10767199
            },
            {
             "iteration": 1000,
             "learn": [
              0.9573401978,
              19181.11618
             ],
             "passed_time": 7.390599969,
             "remaining_time": 1.100099296
            },
            {
             "iteration": 1001,
             "learn": [
              0.9573760837,
              19173.0468
             ],
             "passed_time": 7.39686234,
             "remaining_time": 1.092550525
            },
            {
             "iteration": 1002,
             "learn": [
              0.9574243242,
              19162.19398
             ],
             "passed_time": 7.404348057,
             "remaining_time": 1.085183614
            },
            {
             "iteration": 1003,
             "learn": [
              0.9574601656,
              19154.12665
             ],
             "passed_time": 7.410202547,
             "remaining_time": 1.077579255
            },
            {
             "iteration": 1004,
             "learn": [
              0.95750339,
              19144.39297
             ],
             "passed_time": 7.416613908,
             "remaining_time": 1.070058723
            },
            {
             "iteration": 1005,
             "learn": [
              0.9575697804,
              19129.43295
             ],
             "passed_time": 7.423454972,
             "remaining_time": 1.062601905
            },
            {
             "iteration": 1006,
             "learn": [
              0.957631806,
              19115.4459
             ],
             "passed_time": 7.431313386,
             "remaining_time": 1.055290779
            },
            {
             "iteration": 1007,
             "learn": [
              0.9576866147,
              19103.07775
             ],
             "passed_time": 7.439069338,
             "remaining_time": 1.047964133
            },
            {
             "iteration": 1008,
             "learn": [
              0.9577288055,
              19093.55151
             ],
             "passed_time": 7.447053642,
             "remaining_time": 1.040668547
            },
            {
             "iteration": 1009,
             "learn": [
              0.9577826426,
              19081.38875
             ],
             "passed_time": 7.455292854,
             "remaining_time": 1.03340693
            },
            {
             "iteration": 1010,
             "learn": [
              0.9578332411,
              19069.95058
             ],
             "passed_time": 7.465194893,
             "remaining_time": 1.026371998
            },
            {
             "iteration": 1011,
             "learn": [
              0.9578668361,
              19062.35237
             ],
             "passed_time": 7.472695981,
             "remaining_time": 1.019003997
            },
            {
             "iteration": 1012,
             "learn": [
              0.9579323417,
              19047.52822
             ],
             "passed_time": 7.48101382,
             "remaining_time": 1.011746193
            },
            {
             "iteration": 1013,
             "learn": [
              0.9579890202,
              19034.69237
             ],
             "passed_time": 7.491290711,
             "remaining_time": 1.00474905
            },
            {
             "iteration": 1014,
             "learn": [
              0.9580329556,
              19024.73644
             ],
             "passed_time": 7.499029862,
             "remaining_time": 0.9974079126
            },
            {
             "iteration": 1015,
             "learn": [
              0.9580974063,
              19010.12227
             ],
             "passed_time": 7.505941036,
             "remaining_time": 0.9899567902
            },
            {
             "iteration": 1016,
             "learn": [
              0.9580974958,
              19010.10196
             ],
             "passed_time": 7.511649277,
             "remaining_time": 0.9823494139
            },
            {
             "iteration": 1017,
             "learn": [
              0.9581497833,
              18998.23751
             ],
             "passed_time": 7.518121395,
             "remaining_time": 0.9748448174
            },
            {
             "iteration": 1018,
             "learn": [
              0.9581806291,
              18991.23487
             ],
             "passed_time": 7.524334765,
             "remaining_time": 0.9673089835
            },
            {
             "iteration": 1019,
             "learn": [
              0.9582359919,
              18978.65987
             ],
             "passed_time": 7.531034031,
             "remaining_time": 0.9598376706
            },
            {
             "iteration": 1020,
             "learn": [
              0.9582821365,
              18968.17232
             ],
             "passed_time": 7.537284492,
             "remaining_time": 0.952311165
            },
            {
             "iteration": 1021,
             "learn": [
              0.9583346805,
              18956.22326
             ],
             "passed_time": 7.54409213,
             "remaining_time": 0.94485694
            },
            {
             "iteration": 1022,
             "learn": [
              0.9583801498,
              18945.87699
             ],
             "passed_time": 7.550868585,
             "remaining_time": 0.9374001078
            },
            {
             "iteration": 1023,
             "learn": [
              0.9584323108,
              18934.00109
             ],
             "passed_time": 7.561203117,
             "remaining_time": 0.9303824148
            },
            {
             "iteration": 1024,
             "learn": [
              0.9584766019,
              18923.91117
             ],
             "passed_time": 7.569610107,
             "remaining_time": 0.9231231838
            },
            {
             "iteration": 1025,
             "learn": [
              0.9585136178,
              18915.47444
             ],
             "passed_time": 7.578043671,
             "remaining_time": 0.9158649271
            },
            {
             "iteration": 1026,
             "learn": [
              0.9585486516,
              18907.48602
             ],
             "passed_time": 7.584676887,
             "remaining_time": 0.9083887606
            },
            {
             "iteration": 1027,
             "learn": [
              0.9585703641,
              18902.53344
             ],
             "passed_time": 7.590964231,
             "remaining_time": 0.9008731869
            },
            {
             "iteration": 1028,
             "learn": [
              0.9586061401,
              18894.37017
             ],
             "passed_time": 7.597475527,
             "remaining_time": 0.8933863351
            },
            {
             "iteration": 1029,
             "learn": [
              0.9586651363,
              18880.90087
             ],
             "passed_time": 7.60397516,
             "remaining_time": 0.8859000186
            },
            {
             "iteration": 1030,
             "learn": [
              0.958675022,
              18878.64294
             ],
             "passed_time": 7.610330507,
             "remaining_time": 0.8783989625
            },
            {
             "iteration": 1031,
             "learn": [
              0.9587191888,
              18868.55179
             ],
             "passed_time": 7.61723828,
             "remaining_time": 0.8709632917
            },
            {
             "iteration": 1032,
             "learn": [
              0.9587520842,
              18861.03242
             ],
             "passed_time": 7.623502479,
             "remaining_time": 0.8634557503
            },
            {
             "iteration": 1033,
             "learn": [
              0.958794827,
              18851.2576
             ],
             "passed_time": 7.629860929,
             "remaining_time": 0.8559611874
            },
            {
             "iteration": 1034,
             "learn": [
              0.9588396286,
              18841.00649
             ],
             "passed_time": 7.636433527,
             "remaining_time": 0.8484926141
            },
            {
             "iteration": 1035,
             "learn": [
              0.9588688527,
              18834.3167
             ],
             "passed_time": 7.643275061,
             "remaining_time": 0.8410553639
            },
            {
             "iteration": 1036,
             "learn": [
              0.95886961,
              18834.14332
             ],
             "passed_time": 7.649988057,
             "remaining_time": 0.833605256
            },
            {
             "iteration": 1037,
             "learn": [
              0.9589098302,
              18824.93238
             ],
             "passed_time": 7.656194145,
             "remaining_time": 0.826101873
            },
            {
             "iteration": 1038,
             "learn": [
              0.9589511167,
              18815.47256
             ],
             "passed_time": 7.662909161,
             "remaining_time": 0.8186553579
            },
            {
             "iteration": 1039,
             "learn": [
              0.9589928764,
              18805.89948
             ],
             "passed_time": 7.66985904,
             "remaining_time": 0.8112350907
            },
            {
             "iteration": 1040,
             "learn": [
              0.9590035438,
              18803.4533
             ],
             "passed_time": 7.676642966,
             "remaining_time": 0.8037983509
            },
            {
             "iteration": 1041,
             "learn": [
              0.9590472626,
              18793.42457
             ],
             "passed_time": 7.682575629,
             "remaining_time": 0.7962746333
            },
            {
             "iteration": 1042,
             "learn": [
              0.9590970782,
              18781.99077
             ],
             "passed_time": 7.688905442,
             "remaining_time": 0.7887947097
            },
            {
             "iteration": 1043,
             "learn": [
              0.9591572262,
              18768.17617
             ],
             "passed_time": 7.695246881,
             "remaining_time": 0.7813181699
            },
            {
             "iteration": 1044,
             "learn": [
              0.9592227618,
              18753.1126
             ],
             "passed_time": 7.701803592,
             "remaining_time": 0.7738654327
            },
            {
             "iteration": 1045,
             "learn": [
              0.9592828901,
              18739.28123
             ],
             "passed_time": 7.708256886,
             "remaining_time": 0.7664041263
            },
            {
             "iteration": 1046,
             "learn": [
              0.959318248,
              18731.14307
             ],
             "passed_time": 7.714794511,
             "remaining_time": 0.7589530417
            },
            {
             "iteration": 1047,
             "learn": [
              0.9593724987,
              18718.64955
             ],
             "passed_time": 7.724670915,
             "remaining_time": 0.7518286577
            },
            {
             "iteration": 1048,
             "learn": [
              0.9594187605,
              18707.98921
             ],
             "passed_time": 7.731548621,
             "remaining_time": 0.7444103057
            },
            {
             "iteration": 1049,
             "learn": [
              0.9594895055,
              18691.67535
             ],
             "passed_time": 7.73861908,
             "remaining_time": 0.737011341
            },
            {
             "iteration": 1050,
             "learn": [
              0.9595296038,
              18682.42231
             ],
             "passed_time": 7.745842845,
             "remaining_time": 0.7296274421
            },
            {
             "iteration": 1051,
             "learn": [
              0.9595729933,
              18672.40464
             ],
             "passed_time": 7.754976124,
             "remaining_time": 0.7224217302
            },
            {
             "iteration": 1052,
             "learn": [
              0.9596076086,
              18664.40887
             ],
             "passed_time": 7.761435835,
             "remaining_time": 0.7149660741
            },
            {
             "iteration": 1053,
             "learn": [
              0.9596672501,
              18650.62429
             ],
             "passed_time": 7.767676349,
             "remaining_time": 0.707492343
            },
            {
             "iteration": 1054,
             "learn": [
              0.9597227467,
              18637.78854
             ],
             "passed_time": 7.774185608,
             "remaining_time": 0.7000451495
            },
            {
             "iteration": 1055,
             "learn": [
              0.9598146505,
              18616.51275
             ],
             "passed_time": 7.780506724,
             "remaining_time": 0.6925829849
            },
            {
             "iteration": 1056,
             "learn": [
              0.95981727,
              18615.90596
             ],
             "passed_time": 7.786913863,
             "remaining_time": 0.685130548
            },
            {
             "iteration": 1057,
             "learn": [
              0.959862559,
              18605.41225
             ],
             "passed_time": 7.793695952,
             "remaining_time": 0.6777126914
            },
            {
             "iteration": 1058,
             "learn": [
              0.9599109832,
              18594.1855
             ],
             "passed_time": 7.800309946,
             "remaining_time": 0.6702815912
            },
            {
             "iteration": 1059,
             "learn": [
              0.9599599947,
              18582.81571
             ],
             "passed_time": 7.806826438,
             "remaining_time": 0.6628437542
            },
            {
             "iteration": 1060,
             "learn": [
              0.9600149898,
              18570.04955
             ],
             "passed_time": 7.813050347,
             "remaining_time": 0.6553831111
            },
            {
             "iteration": 1061,
             "learn": [
              0.9600822338,
              18554.42807
             ],
             "passed_time": 7.819285202,
             "remaining_time": 0.6479257041
            },
            {
             "iteration": 1062,
             "learn": [
              0.9601368939,
              18541.72026
             ],
             "passed_time": 7.825964526,
             "remaining_time": 0.6405069744
            },
            {
             "iteration": 1063,
             "learn": [
              0.9601729667,
              18533.32902
             ],
             "passed_time": 7.834894084,
             "remaining_time": 0.6332715143
            },
            {
             "iteration": 1064,
             "learn": [
              0.9602002995,
              18526.96832
             ],
             "passed_time": 7.841503933,
             "remaining_time": 0.6258477318
            },
            {
             "iteration": 1065,
             "learn": [
              0.9602291016,
              18520.26335
             ],
             "passed_time": 7.847829342,
             "remaining_time": 0.6184030626
            },
            {
             "iteration": 1066,
             "learn": [
              0.960252043,
              18514.92098
             ],
             "passed_time": 7.85419163,
             "remaining_time": 0.6109633602
            },
            {
             "iteration": 1067,
             "learn": [
              0.9602994351,
              18503.87986
             ],
             "passed_time": 7.860552728,
             "remaining_time": 0.603525584
            },
            {
             "iteration": 1068,
             "learn": [
              0.960340961,
              18494.2
             ],
             "passed_time": 7.868091902,
             "remaining_time": 0.596179087
            },
            {
             "iteration": 1069,
             "learn": [
              0.9603942975,
              18481.75962
             ],
             "passed_time": 7.875903712,
             "remaining_time": 0.588852614
            },
            {
             "iteration": 1070,
             "learn": [
              0.9604342913,
              18472.42584
             ],
             "passed_time": 7.884212873,
             "remaining_time": 0.5815619206
            },
            {
             "iteration": 1071,
             "learn": [
              0.9604739489,
              18463.16584
             ],
             "passed_time": 7.893753218,
             "remaining_time": 0.5743589095
            },
            {
             "iteration": 1072,
             "learn": [
              0.9604898604,
              18459.44924
             ],
             "passed_time": 7.901132905,
             "remaining_time": 0.5669964899
            },
            {
             "iteration": 1073,
             "learn": [
              0.9605156524,
              18453.42313
             ],
             "passed_time": 7.910842439,
             "remaining_time": 0.5597989063
            },
            {
             "iteration": 1074,
             "learn": [
              0.9605200198,
              18452.40253
             ],
             "passed_time": 7.920634909,
             "remaining_time": 0.5526024355
            },
            {
             "iteration": 1075,
             "learn": [
              0.9605304741,
              18449.95929
             ],
             "passed_time": 7.926672887,
             "remaining_time": 0.5451429309
            },
            {
             "iteration": 1076,
             "learn": [
              0.9605742911,
              18439.71533
             ],
             "passed_time": 7.933320306,
             "remaining_time": 0.5377273745
            },
            {
             "iteration": 1077,
             "learn": [
              0.9606194141,
              18429.16014
             ],
             "passed_time": 7.939960722,
             "remaining_time": 0.5303127755
            },
            {
             "iteration": 1078,
             "learn": [
              0.9606724695,
              18416.74163
             ],
             "passed_time": 7.946686302,
             "remaining_time": 0.5229052154
            },
            {
             "iteration": 1079,
             "learn": [
              0.9606767233,
              18415.74559
             ],
             "passed_time": 7.952729391,
             "remaining_time": 0.5154546828
            },
            {
             "iteration": 1080,
             "learn": [
              0.9607057693,
              18408.94297
             ],
             "passed_time": 7.959181946,
             "remaining_time": 0.5080328902
            },
            {
             "iteration": 1081,
             "learn": [
              0.9607245363,
              18404.54638
             ],
             "passed_time": 7.965655345,
             "remaining_time": 0.5006141991
            },
            {
             "iteration": 1082,
             "learn": [
              0.960769346,
              18394.04442
             ],
             "passed_time": 7.972178822,
             "remaining_time": 0.4932003519
            },
            {
             "iteration": 1083,
             "learn": [
              0.9607939675,
              18388.27139
             ],
             "passed_time": 7.978506917,
             "remaining_time": 0.4857762514
            },
            {
             "iteration": 1084,
             "learn": [
              0.9608140633,
              18383.55815
             ],
             "passed_time": 7.98502047,
             "remaining_time": 0.4783652816
            },
            {
             "iteration": 1085,
             "learn": [
              0.9608430191,
              18376.76478
             ],
             "passed_time": 7.99199107,
             "remaining_time": 0.4709828992
            },
            {
             "iteration": 1086,
             "learn": [
              0.9608960634,
              18364.31346
             ],
             "passed_time": 7.999425372,
             "remaining_time": 0.4636281495
            },
            {
             "iteration": 1087,
             "learn": [
              0.9609426957,
              18353.36027
             ],
             "passed_time": 8.007432037,
             "remaining_time": 0.4563058697
            },
            {
             "iteration": 1088,
             "learn": [
              0.9609864416,
              18343.07911
             ],
             "passed_time": 8.01650869,
             "remaining_time": 0.4490422682
            },
            {
             "iteration": 1089,
             "learn": [
              0.9610331833,
              18332.0875
             ],
             "passed_time": 8.024010234,
             "remaining_time": 0.4416886367
            },
            {
             "iteration": 1090,
             "learn": [
              0.9610651218,
              18324.57316
             ],
             "passed_time": 8.030761957,
             "remaining_time": 0.4342941847
            },
            {
             "iteration": 1091,
             "learn": [
              0.9610653251,
              18324.52532
             ],
             "passed_time": 8.037022831,
             "remaining_time": 0.426874839
            },
            {
             "iteration": 1092,
             "learn": [
              0.9611460616,
              18305.51623
             ],
             "passed_time": 8.044373111,
             "remaining_time": 0.4195144257
            },
            {
             "iteration": 1093,
             "learn": [
              0.9612137729,
              18289.55863
             ],
             "passed_time": 8.050879523,
             "remaining_time": 0.4121108348
            },
            {
             "iteration": 1094,
             "learn": [
              0.961255886,
              18279.62676
             ],
             "passed_time": 8.057325913,
             "remaining_time": 0.4047058678
            },
            {
             "iteration": 1095,
             "learn": [
              0.9612812129,
              18273.65113
             ],
             "passed_time": 8.063703398,
             "remaining_time": 0.397299255
            },
            {
             "iteration": 1096,
             "learn": [
              0.9613574431,
              18255.65353
             ],
             "passed_time": 8.070750666,
             "remaining_time": 0.3899268781
            },
            {
             "iteration": 1097,
             "learn": [
              0.9613943469,
              18246.93433
             ],
             "passed_time": 8.076861932,
             "remaining_time": 0.3825107655
            },
            {
             "iteration": 1098,
             "learn": [
              0.9614401022,
              18236.11801
             ],
             "passed_time": 8.083776684,
             "remaining_time": 0.3751343138
            },
            {
             "iteration": 1099,
             "learn": [
              0.9615026846,
              18221.31347
             ],
             "passed_time": 8.091269461,
             "remaining_time": 0.3677849755
            },
            {
             "iteration": 1100,
             "learn": [
              0.9615294176,
              18214.98583
             ],
             "passed_time": 8.100091913,
             "remaining_time": 0.3604945538
            },
            {
             "iteration": 1101,
             "learn": [
              0.9615595182,
              18207.85843
             ],
             "passed_time": 8.111611314,
             "remaining_time": 0.3533188231
            },
            {
             "iteration": 1102,
             "learn": [
              0.9615828335,
              18202.3358
             ],
             "passed_time": 8.120861631,
             "remaining_time": 0.3460385282
            },
            {
             "iteration": 1103,
             "learn": [
              0.961650787,
              18186.23022
             ],
             "passed_time": 8.129621265,
             "remaining_time": 0.3387342194
            },
            {
             "iteration": 1104,
             "learn": [
              0.9616834606,
              18178.48124
             ],
             "passed_time": 8.13958629,
             "remaining_time": 0.3314763647
            },
            {
             "iteration": 1105,
             "learn": [
              0.9617118129,
              18171.75442
             ],
             "passed_time": 8.148163495,
             "remaining_time": 0.3241584031
            },
            {
             "iteration": 1106,
             "learn": [
              0.9617171904,
              18170.47827
             ],
             "passed_time": 8.155973995,
             "remaining_time": 0.3168083846
            },
            {
             "iteration": 1107,
             "learn": [
              0.961757436,
              18160.9247
             ],
             "passed_time": 8.165293213,
             "remaining_time": 0.3095147247
            },
            {
             "iteration": 1108,
             "learn": [
              0.9618034504,
              18149.99559
             ],
             "passed_time": 8.175374468,
             "remaining_time": 0.3022455845
            },
            {
             "iteration": 1109,
             "learn": [
              0.9618341205,
              18142.70732
             ],
             "passed_time": 8.275747045,
             "remaining_time": 0.2982251187
            },
            {
             "iteration": 1110,
             "learn": [
              0.9618720909,
              18133.68017
             ],
             "passed_time": 8.284729595,
             "remaining_time": 0.2908230911
            },
            {
             "iteration": 1111,
             "learn": [
              0.961930706,
              18119.7361
             ],
             "passed_time": 8.292838779,
             "remaining_time": 0.2833883755
            },
            {
             "iteration": 1112,
             "learn": [
              0.9619733203,
              18109.59176
             ],
             "passed_time": 8.300226754,
             "remaining_time": 0.2759284725
            },
            {
             "iteration": 1113,
             "learn": [
              0.9620211246,
              18098.20518
             ],
             "passed_time": 8.307351827,
             "remaining_time": 0.2684602027
            },
            {
             "iteration": 1114,
             "learn": [
              0.9620597467,
              18089.00046
             ],
             "passed_time": 8.313649564,
             "remaining_time": 0.2609665782
            },
            {
             "iteration": 1115,
             "learn": [
              0.9620865115,
              18082.61893
             ],
             "passed_time": 8.320180185,
             "remaining_time": 0.253482192
            },
            {
             "iteration": 1116,
             "learn": [
              0.9621483847,
              18067.85787
             ],
             "passed_time": 8.327616213,
             "remaining_time": 0.2460262623
            },
            {
             "iteration": 1117,
             "learn": [
              0.9621834085,
              18059.49691
             ],
             "passed_time": 8.3353937,
             "remaining_time": 0.2385801417
            },
            {
             "iteration": 1118,
             "learn": [
              0.9622091594,
              18053.34714
             ],
             "passed_time": 8.341916224,
             "remaining_time": 0.2310986621
            },
            {
             "iteration": 1119,
             "learn": [
              0.962238017,
              18046.45293
             ],
             "passed_time": 8.348465422,
             "remaining_time": 0.2236196095
            },
            {
             "iteration": 1120,
             "learn": [
              0.9622744958,
              18037.73421
             ],
             "passed_time": 8.35515881,
             "remaining_time": 0.216145946
            },
            {
             "iteration": 1121,
             "learn": [
              0.962301391,
              18031.30335
             ],
             "passed_time": 8.361421196,
             "remaining_time": 0.2086629175
            },
            {
             "iteration": 1122,
             "learn": [
              0.9623635532,
              18016.43109
             ],
             "passed_time": 8.367796434,
             "remaining_time": 0.2011847762
            },
            {
             "iteration": 1123,
             "learn": [
              0.9624394508,
              17998.25597
             ],
             "passed_time": 8.374061941,
             "remaining_time": 0.1937060591
            },
            {
             "iteration": 1124,
             "learn": [
              0.9624889088,
              17986.40242
             ],
             "passed_time": 8.380266001,
             "remaining_time": 0.1862281334
            },
            {
             "iteration": 1125,
             "learn": [
              0.9625222769,
              17978.40072
             ],
             "passed_time": 8.386638152,
             "remaining_time": 0.178756053
            },
            {
             "iteration": 1126,
             "learn": [
              0.9625602158,
              17969.2986
             ],
             "passed_time": 8.393309495,
             "remaining_time": 0.1712920305
            },
            {
             "iteration": 1127,
             "learn": [
              0.9626309244,
              17952.3222
             ],
             "passed_time": 8.399634389,
             "remaining_time": 0.1638226565
            },
            {
             "iteration": 1128,
             "learn": [
              0.9626530774,
              17947.0002
             ],
             "passed_time": 8.406015364,
             "remaining_time": 0.1563563531
            },
            {
             "iteration": 1129,
             "learn": [
              0.9626698678,
              17942.96545
             ],
             "passed_time": 8.413208426,
             "remaining_time": 0.1489063438
            },
            {
             "iteration": 1130,
             "learn": [
              0.9627377341,
              17926.64784
             ],
             "passed_time": 8.422941985,
             "remaining_time": 0.1414994675
            },
            {
             "iteration": 1131,
             "learn": [
              0.9627639537,
              17920.3397
             ],
             "passed_time": 8.430136673,
             "remaining_time": 0.1340481096
            },
            {
             "iteration": 1132,
             "learn": [
              0.9627971446,
              17912.35113
             ],
             "passed_time": 8.439752394,
             "remaining_time": 0.1266335311
            },
            {
             "iteration": 1133,
             "learn": [
              0.9628304397,
              17904.33391
             ],
             "passed_time": 8.448374859,
             "remaining_time": 0.1192010562
            },
            {
             "iteration": 1134,
             "learn": [
              0.9628897201,
              17890.05073
             ],
             "passed_time": 8.455718843,
             "remaining_time": 0.1117495882
            },
            {
             "iteration": 1135,
             "learn": [
              0.9629265115,
              17881.18036
             ],
             "passed_time": 8.462592905,
             "remaining_time": 0.1042925182
            },
            {
             "iteration": 1136,
             "learn": [
              0.9629661715,
              17871.61345
             ],
             "passed_time": 8.468579712,
             "remaining_time": 0.09682632917
            },
            {
             "iteration": 1137,
             "learn": [
              0.9630012538,
              17863.14652
             ],
             "passed_time": 8.474842089,
             "remaining_time": 0.08936564593
            },
            {
             "iteration": 1138,
             "learn": [
              0.9630233958,
              17857.80059
             ],
             "passed_time": 8.481121354,
             "remaining_time": 0.08190722993
            },
            {
             "iteration": 1139,
             "learn": [
              0.963047801,
              17851.90639
             ],
             "passed_time": 8.487190665,
             "remaining_time": 0.07444904092
            },
            {
             "iteration": 1140,
             "learn": [
              0.9630607681,
              17848.77387
             ],
             "passed_time": 8.493209185,
             "remaining_time": 0.06699288577
            },
            {
             "iteration": 1141,
             "learn": [
              0.9631056353,
              17837.93082
             ],
             "passed_time": 8.499524894,
             "remaining_time": 0.05954133026
            },
            {
             "iteration": 1142,
             "learn": [
              0.9631720836,
              17821.86014
             ],
             "passed_time": 8.506261491,
             "remaining_time": 0.05209433984
            },
            {
             "iteration": 1143,
             "learn": [
              0.9632084126,
              17813.06776
             ],
             "passed_time": 8.512509991,
             "remaining_time": 0.04464603142
            },
            {
             "iteration": 1144,
             "learn": [
              0.9632599414,
              17800.58928
             ],
             "passed_time": 8.519981763,
             "remaining_time": 0.03720516054
            },
            {
             "iteration": 1145,
             "learn": [
              0.9632818105,
              17795.29068
             ],
             "passed_time": 8.527754663,
             "remaining_time": 0.02976528678
            },
            {
             "iteration": 1146,
             "learn": [
              0.9633332392,
              17782.82398
             ],
             "passed_time": 8.534328753,
             "remaining_time": 0.02232169683
            },
            {
             "iteration": 1147,
             "learn": [
              0.9633736824,
              17773.0141
             ],
             "passed_time": 8.540828438,
             "remaining_time": 0.01487949205
            },
            {
             "iteration": 1148,
             "learn": [
              0.9634422035,
              17756.38129
             ],
             "passed_time": 8.547015864,
             "remaining_time": 0.007438656104
            },
            {
             "iteration": 1149,
             "learn": [
              0.963474796,
              17748.46433
             ],
             "passed_time": 8.55291822,
             "remaining_time": 0
            }
           ],
           "meta": {
            "iteration_count": 1150,
            "launch_mode": "Train",
            "learn_metrics": [
             {
              "best_value": "Max",
              "name": "R2"
             },
             {
              "best_value": "Min",
              "name": "RMSE"
             }
            ],
            "learn_sets": [
             "learn"
            ],
            "name": "experiment",
            "parameters": "",
            "test_metrics": [],
            "test_sets": []
           }
          },
          "passed_iterations": 1149,
          "total_iterations": 1150
         },
         "name": "catboost_info",
         "path": "catboost_info"
        }
       },
       "layout": "IPY_MODEL_22e040b16d344d7baa1cca59f5d5aa64"
      }
     },
     "ab395d643a9841088e38e9b8764e62e3": {
      "model_module": "@jupyter-widgets/base",
      "model_module_version": "1.2.0",
      "model_name": "DOMWidgetModel",
      "state": {
       "_dom_classes": [],
       "_model_module": "@jupyter-widgets/base",
       "_model_module_version": "1.2.0",
       "_model_name": "DOMWidgetModel",
       "_view_count": null,
       "_view_module": "catboost_module",
       "_view_module_version": "",
       "_view_name": "CatboostIpythonWidgetView",
       "data": {
        "catboost_info": {
         "content": {
          "data": {
           "iterations": [
            {
             "iteration": 0,
             "learn": [
              88733.11471,
              0.08705936308
             ],
             "passed_time": 0.05469270908,
             "remaining_time": 16.35312002
            },
            {
             "iteration": 1,
             "learn": [
              85044.81121,
              0.1613770779
             ],
             "passed_time": 0.05720775461,
             "remaining_time": 8.523955437
            },
            {
             "iteration": 2,
             "learn": [
              81797.92306,
              0.2241895249
             ],
             "passed_time": 0.06001947967,
             "remaining_time": 5.941928487
            },
            {
             "iteration": 3,
             "learn": [
              78872.02329,
              0.2786981439
             ],
             "passed_time": 0.06245473363,
             "remaining_time": 4.621650289
            },
            {
             "iteration": 4,
             "learn": [
              76449.60556,
              0.3223248133
             ],
             "passed_time": 0.06487441429,
             "remaining_time": 3.827590443
            },
            {
             "iteration": 5,
             "learn": [
              74298.72844,
              0.3599206026
             ],
             "passed_time": 0.06672857237,
             "remaining_time": 3.269700046
            },
            {
             "iteration": 6,
             "learn": [
              72402.37998,
              0.3921775024
             ],
             "passed_time": 0.06903880584,
             "remaining_time": 2.889767159
            },
            {
             "iteration": 7,
             "learn": [
              70692.84549,
              0.4205419348
             ],
             "passed_time": 0.07099097479,
             "remaining_time": 2.59117058
            },
            {
             "iteration": 8,
             "learn": [
              69272.83356,
              0.443587355
             ],
             "passed_time": 0.07307955966,
             "remaining_time": 2.362905762
            },
            {
             "iteration": 9,
             "learn": [
              67941.47135,
              0.4647693422
             ],
             "passed_time": 0.07541911419,
             "remaining_time": 2.187154312
            },
            {
             "iteration": 10,
             "learn": [
              66819.193,
              0.4823055151
             ],
             "passed_time": 0.07716826796,
             "remaining_time": 2.027420858
            },
            {
             "iteration": 11,
             "learn": [
              65808.2884,
              0.4978513761
             ],
             "passed_time": 0.07888034855,
             "remaining_time": 1.893128365
            },
            {
             "iteration": 12,
             "learn": [
              64887.68314,
              0.511802421
             ],
             "passed_time": 0.08069774983,
             "remaining_time": 1.781558015
            },
            {
             "iteration": 13,
             "learn": [
              64130.79831,
              0.5231251944
             ],
             "passed_time": 0.08305138852,
             "remaining_time": 1.696621223
            },
            {
             "iteration": 14,
             "learn": [
              63303.82091,
              0.5353446583
             ],
             "passed_time": 0.08479068875,
             "remaining_time": 1.611023086
            },
            {
             "iteration": 15,
             "learn": [
              62645.33551,
              0.5449610579
             ],
             "passed_time": 0.08678974124,
             "remaining_time": 1.540517907
            },
            {
             "iteration": 16,
             "learn": [
              62042.69732,
              0.5536737528
             ],
             "passed_time": 0.08877808743,
             "remaining_time": 1.477894044
            },
            {
             "iteration": 17,
             "learn": [
              61581.97816,
              0.5602778358
             ],
             "passed_time": 0.09072012692,
             "remaining_time": 1.421281988
            },
            {
             "iteration": 18,
             "learn": [
              61206.8709,
              0.5656183796
             ],
             "passed_time": 0.09277283456,
             "remaining_time": 1.372061395
            },
            {
             "iteration": 19,
             "learn": [
              60768.43362,
              0.5718192189
             ],
             "passed_time": 0.09495000086,
             "remaining_time": 1.329300012
            },
            {
             "iteration": 20,
             "learn": [
              60346.41387,
              0.5777457593
             ],
             "passed_time": 0.09713242554,
             "remaining_time": 1.290473654
            },
            {
             "iteration": 21,
             "learn": [
              59934.51192,
              0.5834903844
             ],
             "passed_time": 0.09899593306,
             "remaining_time": 1.250948609
            },
            {
             "iteration": 22,
             "learn": [
              59539.58138,
              0.5889613697
             ],
             "passed_time": 0.1008287813,
             "remaining_time": 1.214329235
            },
            {
             "iteration": 23,
             "learn": [
              59265.81897,
              0.592732583
             ],
             "passed_time": 0.1026355699,
             "remaining_time": 1.180309054
            },
            {
             "iteration": 24,
             "learn": [
              58845.73713,
              0.5984856228
             ],
             "passed_time": 0.1049308196,
             "remaining_time": 1.154239016
            },
            {
             "iteration": 25,
             "learn": [
              58611.73029,
              0.6016726096
             ],
             "passed_time": 0.1066173683,
             "remaining_time": 1.123583036
            },
            {
             "iteration": 26,
             "learn": [
              58359.69773,
              0.6050908889
             ],
             "passed_time": 0.1084802649,
             "remaining_time": 1.096856012
            },
            {
             "iteration": 27,
             "learn": [
              58117.08461,
              0.6083674987
             ],
             "passed_time": 0.1102818379,
             "remaining_time": 1.071309282
            },
            {
             "iteration": 28,
             "learn": [
              57929.03367,
              0.610897829
             ],
             "passed_time": 0.112227428,
             "remaining_time": 1.048745965
            },
            {
             "iteration": 29,
             "learn": [
              57696.7281,
              0.6140123073
             ],
             "passed_time": 0.1146382588,
             "remaining_time": 1.031744329
            },
            {
             "iteration": 30,
             "learn": [
              57498.70122,
              0.6166573366
             ],
             "passed_time": 0.1166657037,
             "remaining_time": 1.012357235
            },
            {
             "iteration": 31,
             "learn": [
              57338.21562,
              0.6187942586
             ],
             "passed_time": 0.1187063763,
             "remaining_time": 0.9941659017
            },
            {
             "iteration": 32,
             "learn": [
              57145.28399,
              0.6213553049
             ],
             "passed_time": 0.1206327716,
             "remaining_time": 0.9760287884
            },
            {
             "iteration": 33,
             "learn": [
              56962.34857,
              0.623775685
             ],
             "passed_time": 0.122576768,
             "remaining_time": 0.9589829494
            },
            {
             "iteration": 34,
             "learn": [
              56848.27184,
              0.6252810816
             ],
             "passed_time": 0.124741917,
             "remaining_time": 0.9444745146
            },
            {
             "iteration": 35,
             "learn": [
              56693.31272,
              0.6273211428
             ],
             "passed_time": 0.1271006577,
             "remaining_time": 0.9320714899
            },
            {
             "iteration": 36,
             "learn": [
              56558.29092,
              0.629094186
             ],
             "passed_time": 0.1291106992,
             "remaining_time": 0.9177328082
            },
            {
             "iteration": 37,
             "learn": [
              56340.66134,
              0.6319430973
             ],
             "passed_time": 0.1311278865,
             "remaining_time": 0.90409227
            },
            {
             "iteration": 38,
             "learn": [
              56227.89849,
              0.6334149157
             ],
             "passed_time": 0.1334646291,
             "remaining_time": 0.8931863641
            },
            {
             "iteration": 39,
             "learn": [
              56102.89186,
              0.6350430977
             ],
             "passed_time": 0.1355684932,
             "remaining_time": 0.8811952057
            },
            {
             "iteration": 40,
             "learn": [
              55974.46601,
              0.6367120404
             ],
             "passed_time": 0.1369269749,
             "remaining_time": 0.8649777193
            },
            {
             "iteration": 41,
             "learn": [
              55884.79473,
              0.6378750851
             ],
             "passed_time": 0.1382705069,
             "remaining_time": 0.8493759712
            },
            {
             "iteration": 42,
             "learn": [
              55785.31242,
              0.6391631978
             ],
             "passed_time": 0.1396746812,
             "remaining_time": 0.8347998389
            },
            {
             "iteration": 43,
             "learn": [
              55688.84734,
              0.6404100513
             ],
             "passed_time": 0.1410107335,
             "remaining_time": 0.8204260856
            },
            {
             "iteration": 44,
             "learn": [
              55546.41421,
              0.6422471166
             ],
             "passed_time": 0.1424821316,
             "remaining_time": 0.8073987456
            },
            {
             "iteration": 45,
             "learn": [
              55446.78454,
              0.6435293177
             ],
             "passed_time": 0.1438341035,
             "remaining_time": 0.7942143975
            },
            {
             "iteration": 46,
             "learn": [
              55330.91236,
              0.6450176592
             ],
             "passed_time": 0.1451663624,
             "remaining_time": 0.7814274402
            },
            {
             "iteration": 47,
             "learn": [
              55243.90791,
              0.6461331572
             ],
             "passed_time": 0.1465996496,
             "remaining_time": 0.7696481603
            },
            {
             "iteration": 48,
             "learn": [
              55177.82463,
              0.6469792484
             ],
             "passed_time": 0.1479345918,
             "remaining_time": 0.7577873987
            },
            {
             "iteration": 49,
             "learn": [
              55098.16789,
              0.6479977803
             ],
             "passed_time": 0.1493836668,
             "remaining_time": 0.746918334
            },
            {
             "iteration": 50,
             "learn": [
              55021.57439,
              0.6489757562
             ],
             "passed_time": 0.1507438036,
             "remaining_time": 0.7359844527
            },
            {
             "iteration": 51,
             "learn": [
              54930.34009,
              0.6501388963
             ],
             "passed_time": 0.1521582746,
             "remaining_time": 0.7256779249
            },
            {
             "iteration": 52,
             "learn": [
              54861.22928,
              0.6510187006
             ],
             "passed_time": 0.1535649321,
             "remaining_time": 0.7156705328
            },
            {
             "iteration": 53,
             "learn": [
              54760.81543,
              0.6522950295
             ],
             "passed_time": 0.1549528717,
             "remaining_time": 0.7058964157
            },
            {
             "iteration": 54,
             "learn": [
              54696.98538,
              0.6531051376
             ],
             "passed_time": 0.1563152718,
             "remaining_time": 0.6963134833
            },
            {
             "iteration": 55,
             "learn": [
              54635.45122,
              0.6538852128
             ],
             "passed_time": 0.1576919769,
             "remaining_time": 0.6870864706
            },
            {
             "iteration": 56,
             "learn": [
              54547.87856,
              0.6549938665
             ],
             "passed_time": 0.1590776814,
             "remaining_time": 0.6781732732
            },
            {
             "iteration": 57,
             "learn": [
              54463.15852,
              0.6560647142
             ],
             "passed_time": 0.1605887114,
             "remaining_time": 0.6700425545
            },
            {
             "iteration": 58,
             "learn": [
              54396.24559,
              0.6569093064
             ],
             "passed_time": 0.1619901138,
             "remaining_time": 0.6616884308
            },
            {
             "iteration": 59,
             "learn": [
              54334.64769,
              0.6576858932
             ],
             "passed_time": 0.1633638578,
             "remaining_time": 0.6534554314
            },
            {
             "iteration": 60,
             "learn": [
              54280.22121,
              0.658371335
             ],
             "passed_time": 0.1647209899,
             "remaining_time": 0.6453822393
            },
            {
             "iteration": 61,
             "learn": [
              54178.28329,
              0.6596532831
             ],
             "passed_time": 0.1661675376,
             "remaining_time": 0.6378689347
            },
            {
             "iteration": 62,
             "learn": [
              54125.44599,
              0.6603168049
             ],
             "passed_time": 0.1675547613,
             "remaining_time": 0.6303250543
            },
            {
             "iteration": 63,
             "learn": [
              54085.62055,
              0.660816498
             ],
             "passed_time": 0.1690196646,
             "remaining_time": 0.6232600132
            },
            {
             "iteration": 64,
             "learn": [
              54036.59483,
              0.6614311227
             ],
             "passed_time": 0.1704240825,
             "remaining_time": 0.6161486061
            },
            {
             "iteration": 65,
             "learn": [
              53978.14121,
              0.6621632144
             ],
             "passed_time": 0.1717609484,
             "remaining_time": 0.6089706354
            },
            {
             "iteration": 66,
             "learn": [
              53904.28255,
              0.6630871106
             ],
             "passed_time": 0.1731768445,
             "remaining_time": 0.6022418623
            },
            {
             "iteration": 67,
             "learn": [
              53860.44042,
              0.6636349325
             ],
             "passed_time": 0.1747014759,
             "remaining_time": 0.5960403297
            },
            {
             "iteration": 68,
             "learn": [
              53790.04023,
              0.6645136735
             ],
             "passed_time": 0.1764446909,
             "remaining_time": 0.590706139
            },
            {
             "iteration": 69,
             "learn": [
              53743.10436,
              0.6650988924
             ],
             "passed_time": 0.1781627012,
             "remaining_time": 0.5853917326
            },
            {
             "iteration": 70,
             "learn": [
              53719.95197,
              0.6653873792
             ],
             "passed_time": 0.1801983751,
             "remaining_time": 0.5812032097
            },
            {
             "iteration": 71,
             "learn": [
              53668.80308,
              0.6660242717
             ],
             "passed_time": 0.1820447801,
             "remaining_time": 0.5764751371
            },
            {
             "iteration": 72,
             "learn": [
              53608.84068,
              0.6667701351
             ],
             "passed_time": 0.1845521531,
             "remaining_time": 0.5738813528
            },
            {
             "iteration": 73,
             "learn": [
              53543.67463,
              0.6675797805
             ],
             "passed_time": 0.1863331789,
             "remaining_time": 0.5690716006
            },
            {
             "iteration": 74,
             "learn": [
              53488.53494,
              0.6682640859
             ],
             "passed_time": 0.1880015488,
             "remaining_time": 0.5640046465
            },
            {
             "iteration": 75,
             "learn": [
              53464.37686,
              0.668563675
             ],
             "passed_time": 0.189476703,
             "remaining_time": 0.558457651
            },
            {
             "iteration": 76,
             "learn": [
              53427.51319,
              0.6690205678
             ],
             "passed_time": 0.1907903676,
             "remaining_time": 0.5525487269
            },
            {
             "iteration": 77,
             "learn": [
              53392.7036,
              0.669451713
             ],
             "passed_time": 0.1924046573,
             "remaining_time": 0.5476132555
            },
            {
             "iteration": 78,
             "learn": [
              53364.70039,
              0.6697983516
             ],
             "passed_time": 0.1938190443,
             "remaining_time": 0.5422026428
            },
            {
             "iteration": 79,
             "learn": [
              53328.03607,
              0.670251927
             ],
             "passed_time": 0.1953480631,
             "remaining_time": 0.5372071736
            },
            {
             "iteration": 80,
             "learn": [
              53297.95986,
              0.670623768
             ],
             "passed_time": 0.1969024779,
             "remaining_time": 0.5323659588
            },
            {
             "iteration": 81,
             "learn": [
              53258.71628,
              0.6711086326
             ],
             "passed_time": 0.1982180321,
             "remaining_time": 0.5269698903
            },
            {
             "iteration": 82,
             "learn": [
              53229.96534,
              0.6714636311
             ],
             "passed_time": 0.1998002825,
             "remaining_time": 0.5223694133
            },
            {
             "iteration": 83,
             "learn": [
              53203.7081,
              0.6717876715
             ],
             "passed_time": 0.201338579,
             "remaining_time": 0.5177277746
            },
            {
             "iteration": 84,
             "learn": [
              53129.26635,
              0.6727054876
             ],
             "passed_time": 0.2029389105,
             "remaining_time": 0.5133160677
            },
            {
             "iteration": 85,
             "learn": [
              53103.95155,
              0.673017309
             ],
             "passed_time": 0.2045087422,
             "remaining_time": 0.5088938469
            },
            {
             "iteration": 86,
             "learn": [
              53075.11614,
              0.6733723153
             ],
             "passed_time": 0.2066845653,
             "remaining_time": 0.5060208323
            },
            {
             "iteration": 87,
             "learn": [
              53041.13499,
              0.6737904258
             ],
             "passed_time": 0.2093266418,
             "remaining_time": 0.5042869099
            },
            {
             "iteration": 88,
             "learn": [
              52988.97852,
              0.674431648
             ],
             "passed_time": 0.2120030947,
             "remaining_time": 0.5026140783
            },
            {
             "iteration": 89,
             "learn": [
              52953.69267,
              0.6748651015
             ],
             "passed_time": 0.2145236958,
             "remaining_time": 0.5005552903
            },
            {
             "iteration": 90,
             "learn": [
              52934.92652,
              0.6750955085
             ],
             "passed_time": 0.2166060637,
             "remaining_time": 0.4974798605
            },
            {
             "iteration": 91,
             "learn": [
              52909.51178,
              0.6754074152
             ],
             "passed_time": 0.2187360846,
             "remaining_time": 0.4945337565
            },
            {
             "iteration": 92,
             "learn": [
              52829.03375,
              0.6763941075
             ],
             "passed_time": 0.2206665664,
             "remaining_time": 0.4911610671
            },
            {
             "iteration": 93,
             "learn": [
              52799.70961,
              0.6767532598
             ],
             "passed_time": 0.2228248325,
             "remaining_time": 0.4883182499
            },
            {
             "iteration": 94,
             "learn": [
              52762.05908,
              0.6772140983
             ],
             "passed_time": 0.2245422605,
             "remaining_time": 0.4845385622
            },
            {
             "iteration": 95,
             "learn": [
              52722.08476,
              0.6777030201
             ],
             "passed_time": 0.2261815548,
             "remaining_time": 0.480635804
            },
            {
             "iteration": 96,
             "learn": [
              52683.69154,
              0.6781722547
             ],
             "passed_time": 0.2279747988,
             "remaining_time": 0.4771018986
            },
            {
             "iteration": 97,
             "learn": [
              52647.42078,
              0.678615235
             ],
             "passed_time": 0.2297930288,
             "remaining_time": 0.4736550185
            },
            {
             "iteration": 98,
             "learn": [
              52597.92139,
              0.6792192862
             ],
             "passed_time": 0.2315161189,
             "remaining_time": 0.4700478777
            },
            {
             "iteration": 99,
             "learn": [
              52530.17704,
              0.6800450636
             ],
             "passed_time": 0.2332807814,
             "remaining_time": 0.4665615628
            },
            {
             "iteration": 100,
             "learn": [
              52506.07982,
              0.6803385428
             ],
             "passed_time": 0.2347120712,
             "remaining_time": 0.4624524967
            },
            {
             "iteration": 101,
             "learn": [
              52479.52053,
              0.6806618513
             ],
             "passed_time": 0.2362820593,
             "remaining_time": 0.4586651739
            },
            {
             "iteration": 102,
             "learn": [
              52463.50505,
              0.6808567302
             ],
             "passed_time": 0.2379627442,
             "remaining_time": 0.4551326272
            },
            {
             "iteration": 103,
             "learn": [
              52442.15622,
              0.6811164135
             ],
             "passed_time": 0.2395570245,
             "remaining_time": 0.451472854
            },
            {
             "iteration": 104,
             "learn": [
              52388.52881,
              0.6817682615
             ],
             "passed_time": 0.2411698351,
             "remaining_time": 0.4478868367
            },
            {
             "iteration": 105,
             "learn": [
              52366.20314,
              0.6820394362
             ],
             "passed_time": 0.2427334366,
             "remaining_time": 0.4442479878
            },
            {
             "iteration": 106,
             "learn": [
              52346.97621,
              0.68227288
             ],
             "passed_time": 0.2445710932,
             "remaining_time": 0.4411422522
            },
            {
             "iteration": 107,
             "learn": [
              52313.88515,
              0.6826744546
             ],
             "passed_time": 0.2462098275,
             "remaining_time": 0.4377063599
            },
            {
             "iteration": 108,
             "learn": [
              52250.42816,
              0.6834438224
             ],
             "passed_time": 0.2478571284,
             "remaining_time": 0.4343184544
            },
            {
             "iteration": 109,
             "learn": [
              52218.85935,
              0.6838262225
             ],
             "passed_time": 0.2494656384,
             "remaining_time": 0.4308951935
            },
            {
             "iteration": 110,
             "learn": [
              52192.65779,
              0.6841434323
             ],
             "passed_time": 0.2512999166,
             "remaining_time": 0.4278890472
            },
            {
             "iteration": 111,
             "learn": [
              52164.04924,
              0.6844896006
             ],
             "passed_time": 0.2528347793,
             "remaining_time": 0.4244012368
            },
            {
             "iteration": 112,
             "learn": [
              52143.81581,
              0.6847343139
             ],
             "passed_time": 0.254181867,
             "remaining_time": 0.4206372489
            },
            {
             "iteration": 113,
             "learn": [
              52121.29487,
              0.685006582
             ],
             "passed_time": 0.2555086816,
             "remaining_time": 0.4168825858
            },
            {
             "iteration": 114,
             "learn": [
              52068.89298,
              0.6856396419
             ],
             "passed_time": 0.256901976,
             "remaining_time": 0.4132770918
            },
            {
             "iteration": 115,
             "learn": [
              52050.76195,
              0.6858585321
             ],
             "passed_time": 0.2582892937,
             "remaining_time": 0.409700259
            },
            {
             "iteration": 116,
             "learn": [
              52022.82745,
              0.6861956272
             ],
             "passed_time": 0.2596414561,
             "remaining_time": 0.4061058672
            },
            {
             "iteration": 117,
             "learn": [
              52009.54529,
              0.6863558441
             ],
             "passed_time": 0.2611290039,
             "remaining_time": 0.4027582941
            },
            {
             "iteration": 118,
             "learn": [
              51959.20041,
              0.686962761
             ],
             "passed_time": 0.2625325945,
             "remaining_time": 0.3993142824
            },
            {
             "iteration": 119,
             "learn": [
              51933.15931,
              0.6872764607
             ],
             "passed_time": 0.263904694,
             "remaining_time": 0.395857041
            },
            {
             "iteration": 120,
             "learn": [
              51907.57364,
              0.6875845209
             ],
             "passed_time": 0.2652603265,
             "remaining_time": 0.3924099045
            },
            {
             "iteration": 121,
             "learn": [
              51849.33918,
              0.6882851178
             ],
             "passed_time": 0.2666061591,
             "remaining_time": 0.3889827567
            },
            {
             "iteration": 122,
             "learn": [
              51823.03917,
              0.6886012654
             ],
             "passed_time": 0.2679194914,
             "remaining_time": 0.3855426827
            },
            {
             "iteration": 123,
             "learn": [
              51793.24583,
              0.6889592121
             ],
             "passed_time": 0.2692968165,
             "remaining_time": 0.3822277396
            },
            {
             "iteration": 124,
             "learn": [
              51752.63034,
              0.6894468479
             ],
             "passed_time": 0.2706720479,
             "remaining_time": 0.3789408671
            },
            {
             "iteration": 125,
             "learn": [
              51741.09909,
              0.6895852242
             ],
             "passed_time": 0.2720686078,
             "remaining_time": 0.3757137918
            },
            {
             "iteration": 126,
             "learn": [
              51720.48348,
              0.6898325368
             ],
             "passed_time": 0.2734041441,
             "remaining_time": 0.3724324168
            },
            {
             "iteration": 127,
             "learn": [
              51687.83922,
              0.6902239482
             ],
             "passed_time": 0.2748985977,
             "remaining_time": 0.3693949906
            },
            {
             "iteration": 128,
             "learn": [
              51668.08774,
              0.6904606524
             ],
             "passed_time": 0.2762379846,
             "remaining_time": 0.366175933
            },
            {
             "iteration": 129,
             "learn": [
              51639.74076,
              0.6908002082
             ],
             "passed_time": 0.2776086299,
             "remaining_time": 0.3630266699
            },
            {
             "iteration": 130,
             "learn": [
              51622.8815,
              0.6910020693
             ],
             "passed_time": 0.2789542607,
             "remaining_time": 0.3598722905
            },
            {
             "iteration": 131,
             "learn": [
              51595.31122,
              0.6913320349
             ],
             "passed_time": 0.2803122705,
             "remaining_time": 0.3567610716
            },
            {
             "iteration": 132,
             "learn": [
              51551.48008,
              0.69185625
             ],
             "passed_time": 0.281755193,
             "remaining_time": 0.3537828364
            },
            {
             "iteration": 133,
             "learn": [
              51516.22853,
              0.6922775311
             ],
             "passed_time": 0.2831093814,
             "remaining_time": 0.3507175919
            },
            {
             "iteration": 134,
             "learn": [
              51495.21431,
              0.6925285288
             ],
             "passed_time": 0.284495875,
             "remaining_time": 0.3477171806
            },
            {
             "iteration": 135,
             "learn": [
              51472.96256,
              0.6927941962
             ],
             "passed_time": 0.2858126325,
             "remaining_time": 0.3446564098
            },
            {
             "iteration": 136,
             "learn": [
              51431.67629,
              0.6932868158
             ],
             "passed_time": 0.2871596983,
             "remaining_time": 0.3416571593
            },
            {
             "iteration": 137,
             "learn": [
              51385.51285,
              0.6938371608
             ],
             "passed_time": 0.2884835642,
             "remaining_time": 0.3386546188
            },
            {
             "iteration": 138,
             "learn": [
              51364.89489,
              0.6940828014
             ],
             "passed_time": 0.2898128366,
             "remaining_time": 0.3356824942
            },
            {
             "iteration": 139,
             "learn": [
              51341.8993,
              0.6943566528
             ],
             "passed_time": 0.2911874389,
             "remaining_time": 0.3327856445
            },
            {
             "iteration": 140,
             "learn": [
              51327.17091,
              0.6945319868
             ],
             "passed_time": 0.2925006449,
             "remaining_time": 0.3298411527
            },
            {
             "iteration": 141,
             "learn": [
              51309.20598,
              0.6947457819
             ],
             "passed_time": 0.2938963538,
             "remaining_time": 0.327011436
            },
            {
             "iteration": 142,
             "learn": [
              51286.18237,
              0.6950196695
             ],
             "passed_time": 0.2952981526,
             "remaining_time": 0.3242084612
            },
            {
             "iteration": 143,
             "learn": [
              51262.46661,
              0.6953016623
             ],
             "passed_time": 0.296740361,
             "remaining_time": 0.3214687244
            },
            {
             "iteration": 144,
             "learn": [
              51247.62295,
              0.6954780949
             ],
             "passed_time": 0.2981341403,
             "remaining_time": 0.3186951155
            },
            {
             "iteration": 145,
             "learn": [
              51221.90695,
              0.6957836357
             ],
             "passed_time": 0.2994518396,
             "remaining_time": 0.3158601596
            },
            {
             "iteration": 146,
             "learn": [
              51195.80833,
              0.6960935658
             ],
             "passed_time": 0.3008377178,
             "remaining_time": 0.3131168083
            },
            {
             "iteration": 147,
             "learn": [
              51176.78725,
              0.6963193482
             ],
             "passed_time": 0.3023349914,
             "remaining_time": 0.3105062074
            },
            {
             "iteration": 148,
             "learn": [
              51156.83423,
              0.6965561026
             ],
             "passed_time": 0.3037258666,
             "remaining_time": 0.3078027238
            },
            {
             "iteration": 149,
             "learn": [
              51129.57232,
              0.6968794319
             ],
             "passed_time": 0.305059616,
             "remaining_time": 0.305059616
            },
            {
             "iteration": 150,
             "learn": [
              51109.8324,
              0.6971134421
             ],
             "passed_time": 0.306459802,
             "remaining_time": 0.3024007317
            },
            {
             "iteration": 151,
             "learn": [
              51093.75366,
              0.6973039835
             ],
             "passed_time": 0.3077667068,
             "remaining_time": 0.2996675829
            },
            {
             "iteration": 152,
             "learn": [
              51078.65629,
              0.6974828405
             ],
             "passed_time": 0.3094825652,
             "remaining_time": 0.297345994
            },
            {
             "iteration": 153,
             "learn": [
              51068.7388,
              0.6976003033
             ],
             "passed_time": 0.3113556694,
             "remaining_time": 0.295181349
            },
            {
             "iteration": 154,
             "learn": [
              51047.22943,
              0.6978549818
             ],
             "passed_time": 0.313280942,
             "remaining_time": 0.2930692683
            },
            {
             "iteration": 155,
             "learn": [
              51030.43541,
              0.6980537544
             ],
             "passed_time": 0.3156538436,
             "remaining_time": 0.2913727787
            },
            {
             "iteration": 156,
             "learn": [
              51005.72034,
              0.6983461609
             ],
             "passed_time": 0.3177720791,
             "remaining_time": 0.2894357154
            },
            {
             "iteration": 157,
             "learn": [
              50992.90824,
              0.6984976865
             ],
             "passed_time": 0.3194031399,
             "remaining_time": 0.2870585182
            },
            {
             "iteration": 158,
             "learn": [
              50973.28043,
              0.6987297458
             ],
             "passed_time": 0.3210253681,
             "remaining_time": 0.2846828736
            },
            {
             "iteration": 159,
             "learn": [
              50945.16474,
              0.6990620017
             ],
             "passed_time": 0.3225505796,
             "remaining_time": 0.2822317571
            },
            {
             "iteration": 160,
             "learn": [
              50929.10252,
              0.6992517339
             ],
             "passed_time": 0.3239975759,
             "remaining_time": 0.2797246152
            },
            {
             "iteration": 161,
             "learn": [
              50917.8619,
              0.6993844762
             ],
             "passed_time": 0.3254011056,
             "remaining_time": 0.2771935344
            },
            {
             "iteration": 162,
             "learn": [
              50884.10372,
              0.699782956
             ],
             "passed_time": 0.3271213715,
             "remaining_time": 0.2749425024
            },
            {
             "iteration": 163,
             "learn": [
              50873.41509,
              0.6999090689
             ],
             "passed_time": 0.3286311338,
             "remaining_time": 0.2725233792
            },
            {
             "iteration": 164,
             "learn": [
              50864.80035,
              0.7000106932
             ],
             "passed_time": 0.3299868467,
             "remaining_time": 0.2699892382
            },
            {
             "iteration": 165,
             "learn": [
              50842.23465,
              0.7002768092
             ],
             "passed_time": 0.3313516841,
             "remaining_time": 0.2674766607
            },
            {
             "iteration": 166,
             "learn": [
              50832.11905,
              0.7003960635
             ],
             "passed_time": 0.3327167756,
             "remaining_time": 0.2649780309
            },
            {
             "iteration": 167,
             "learn": [
              50821.43462,
              0.700521998
             ],
             "passed_time": 0.3340804866,
             "remaining_time": 0.2624918109
            },
            {
             "iteration": 168,
             "learn": [
              50805.02487,
              0.7007153639
             ],
             "passed_time": 0.3354518456,
             "remaining_time": 0.2600248034
            },
            {
             "iteration": 169,
             "learn": [
              50777.65344,
              0.7010377589
             ],
             "passed_time": 0.336837001,
             "remaining_time": 0.257581236
            },
            {
             "iteration": 170,
             "learn": [
              50757.03269,
              0.701280526
             ],
             "passed_time": 0.3382279602,
             "remaining_time": 0.2551544261
            },
            {
             "iteration": 171,
             "learn": [
              50751.29035,
              0.7013481129
             ],
             "passed_time": 0.3395747601,
             "remaining_time": 0.2527067982
            },
            {
             "iteration": 172,
             "learn": [
              50730.96729,
              0.7015872518
             ],
             "passed_time": 0.3409722273,
             "remaining_time": 0.2503090917
            },
            {
             "iteration": 173,
             "learn": [
              50699.41042,
              0.7019583878
             ],
             "passed_time": 0.3424243934,
             "remaining_time": 0.2479624918
            },
            {
             "iteration": 174,
             "learn": [
              50661.31876,
              0.7024060708
             ],
             "passed_time": 0.3437608843,
             "remaining_time": 0.2455434888
            },
            {
             "iteration": 175,
             "learn": [
              50643.66362,
              0.7026134539
             ],
             "passed_time": 0.3451054377,
             "remaining_time": 0.2431424675
            },
            {
             "iteration": 176,
             "learn": [
              50629.32021,
              0.7027818829
             ],
             "passed_time": 0.3464996558,
             "remaining_time": 0.2407878964
            },
            {
             "iteration": 177,
             "learn": [
              50604.98957,
              0.7030674791
             ],
             "passed_time": 0.3478288882,
             "remaining_time": 0.2383995751
            },
            {
             "iteration": 178,
             "learn": [
              50572.26059,
              0.7034514395
             ],
             "passed_time": 0.3491694111,
             "remaining_time": 0.2360307192
            },
            {
             "iteration": 179,
             "learn": [
              50556.85018,
              0.7036321408
             ],
             "passed_time": 0.3506198093,
             "remaining_time": 0.2337465395
            },
            {
             "iteration": 180,
             "learn": [
              50547.11725,
              0.7037462401
             ],
             "passed_time": 0.3522391329,
             "remaining_time": 0.2315826343
            },
            {
             "iteration": 181,
             "learn": [
              50516.00035,
              0.7041108766
             ],
             "passed_time": 0.3537249001,
             "remaining_time": 0.2293381221
            },
            {
             "iteration": 182,
             "learn": [
              50500.9112,
              0.7042876146
             ],
             "passed_time": 0.3553825146,
             "remaining_time": 0.2272117717
            },
            {
             "iteration": 183,
             "learn": [
              50482.41382,
              0.7045042009
             ],
             "passed_time": 0.3569887904,
             "remaining_time": 0.2250581505
            },
            {
             "iteration": 184,
             "learn": [
              50463.41194,
              0.7047266117
             ],
             "passed_time": 0.3584817016,
             "remaining_time": 0.2228399767
            },
            {
             "iteration": 185,
             "learn": [
              50454.67554,
              0.7048288404
             ],
             "passed_time": 0.3598810484,
             "remaining_time": 0.2205722555
            },
            {
             "iteration": 186,
             "learn": [
              50448.18624,
              0.7049047632
             ],
             "passed_time": 0.3613653711,
             "remaining_time": 0.2183651708
            },
            {
             "iteration": 187,
             "learn": [
              50425.13682,
              0.7051743555
             ],
             "passed_time": 0.3636367377,
             "remaining_time": 0.2166346523
            },
            {
             "iteration": 188,
             "learn": [
              50394.52685,
              0.7055321876
             ],
             "passed_time": 0.3655400185,
             "remaining_time": 0.2146822331
            },
            {
             "iteration": 189,
             "learn": [
              50383.12247,
              0.7056654497
             ],
             "passed_time": 0.3679189281,
             "remaining_time": 0.2130056952
            },
            {
             "iteration": 190,
             "learn": [
              50365.00685,
              0.705877072
             ],
             "passed_time": 0.3703224632,
             "remaining_time": 0.211335856
            },
            {
             "iteration": 191,
             "learn": [
              50349.75321,
              0.7060552023
             ],
             "passed_time": 0.3731169763,
             "remaining_time": 0.2098782991
            },
            {
             "iteration": 192,
             "learn": [
              50340.51816,
              0.7061630219
             ],
             "passed_time": 0.3756623602,
             "remaining_time": 0.2082687696
            },
            {
             "iteration": 193,
             "learn": [
              50334.45243,
              0.7062338288
             ],
             "passed_time": 0.3778203753,
             "remaining_time": 0.206437937
            },
            {
             "iteration": 194,
             "learn": [
              50319.36703,
              0.7064098878
             ],
             "passed_time": 0.3798356161,
             "remaining_time": 0.2045268702
            },
            {
             "iteration": 195,
             "learn": [
              50307.01344,
              0.706554025
             ],
             "passed_time": 0.382092224,
             "remaining_time": 0.2027428127
            },
            {
             "iteration": 196,
             "learn": [
              50290.5075,
              0.706746555
             ],
             "passed_time": 0.3836921977,
             "remaining_time": 0.2006106415
            },
            {
             "iteration": 197,
             "learn": [
              50281.29237,
              0.7068540155
             ],
             "passed_time": 0.3851574143,
             "remaining_time": 0.1984144255
            },
            {
             "iteration": 198,
             "learn": [
              50268.81058,
              0.7069995382
             ],
             "passed_time": 0.3865403309,
             "remaining_time": 0.1961837861
            },
            {
             "iteration": 199,
             "learn": [
              50243.41664,
              0.7072954893
             ],
             "passed_time": 0.3881960831,
             "remaining_time": 0.1940980416
            },
            {
             "iteration": 200,
             "learn": [
              50237.69324,
              0.7073621715
             ],
             "passed_time": 0.3898600783,
             "remaining_time": 0.1920206356
            },
            {
             "iteration": 201,
             "learn": [
              50227.66091,
              0.7074790378
             ],
             "passed_time": 0.3914943087,
             "remaining_time": 0.1899328825
            },
            {
             "iteration": 202,
             "learn": [
              50198.16228,
              0.7078225311
             ],
             "passed_time": 0.3930611126,
             "remaining_time": 0.1878173789
            },
            {
             "iteration": 203,
             "learn": [
              50182.6829,
              0.7080026982
             ],
             "passed_time": 0.394414371,
             "remaining_time": 0.1856067628
            },
            {
             "iteration": 204,
             "learn": [
              50173.14414,
              0.7081136937
             ],
             "passed_time": 0.3961143279,
             "remaining_time": 0.1835651764
            },
            {
             "iteration": 205,
             "learn": [
              50153.36416,
              0.7083437917
             ],
             "passed_time": 0.3978082856,
             "remaining_time": 0.1815241691
            },
            {
             "iteration": 206,
             "learn": [
              50132.4844,
              0.7085865847
             ],
             "passed_time": 0.3992993508,
             "remaining_time": 0.1793953605
            },
            {
             "iteration": 207,
             "learn": [
              50115.53644,
              0.7087835839
             ],
             "passed_time": 0.4007331957,
             "remaining_time": 0.177247375
            },
            {
             "iteration": 208,
             "learn": [
              50101.41927,
              0.7089476277
             ],
             "passed_time": 0.4022771892,
             "remaining_time": 0.1751541829
            },
            {
             "iteration": 209,
             "learn": [
              50090.29452,
              0.7090768666
             ],
             "passed_time": 0.4038385806,
             "remaining_time": 0.1730736774
            },
            {
             "iteration": 210,
             "learn": [
              50070.90249,
              0.7093020798
             ],
             "passed_time": 0.4052775394,
             "remaining_time": 0.1709464503
            },
            {
             "iteration": 211,
             "learn": [
              50057.49744,
              0.7094577111
             ],
             "passed_time": 0.4066610406,
             "remaining_time": 0.1688026961
            },
            {
             "iteration": 212,
             "learn": [
              50055.56411,
              0.7094801533
             ],
             "passed_time": 0.4085159874,
             "remaining_time": 0.1668586427
            },
            {
             "iteration": 213,
             "learn": [
              50030.41249,
              0.7097720373
             ],
             "passed_time": 0.4108251349,
             "remaining_time": 0.1650979514
            },
            {
             "iteration": 214,
             "learn": [
              50002.81179,
              0.710092174
             ],
             "passed_time": 0.4126093704,
             "remaining_time": 0.1631246348
            },
            {
             "iteration": 215,
             "learn": [
              49983.27893,
              0.7103186263
             ],
             "passed_time": 0.4143688527,
             "remaining_time": 0.1611434427
            },
            {
             "iteration": 216,
             "learn": [
              49975.82247,
              0.7104050486
             ],
             "passed_time": 0.416329867,
             "remaining_time": 0.1592413777
            },
            {
             "iteration": 217,
             "learn": [
              49970.14233,
              0.7104708743
             ],
             "passed_time": 0.4180951655,
             "remaining_time": 0.157265154
            },
            {
             "iteration": 218,
             "learn": [
              49961.40261,
              0.710572142
             ],
             "passed_time": 0.4202772565,
             "remaining_time": 0.1554450127
            },
            {
             "iteration": 219,
             "learn": [
              49954.30086,
              0.7106544174
             ],
             "passed_time": 0.4220442732,
             "remaining_time": 0.1534706448
            },
            {
             "iteration": 220,
             "learn": [
              49927.2496,
              0.7109677055
             ],
             "passed_time": 0.4237597716,
             "remaining_time": 0.1514797374
            },
            {
             "iteration": 221,
             "learn": [
              49883.66362,
              0.7114721297
             ],
             "passed_time": 0.4254157493,
             "remaining_time": 0.1494703984
            },
            {
             "iteration": 222,
             "learn": [
              49878.71676,
              0.7115293524
             ],
             "passed_time": 0.4272327955,
             "remaining_time": 0.1475198442
            },
            {
             "iteration": 223,
             "learn": [
              49847.76758,
              0.7118872268
             ],
             "passed_time": 0.4292412302,
             "remaining_time": 0.1456354174
            },
            {
             "iteration": 224,
             "learn": [
              49835.91937,
              0.7120241724
             ],
             "passed_time": 0.4313060614,
             "remaining_time": 0.1437686871
            },
            {
             "iteration": 225,
             "learn": [
              49819.41418,
              0.7122148906
             ],
             "passed_time": 0.4344459413,
             "remaining_time": 0.1422522109
            },
            {
             "iteration": 226,
             "learn": [
              49811.20885,
              0.71230968
             ],
             "passed_time": 0.4365151882,
             "remaining_time": 0.140377131
            },
            {
             "iteration": 227,
             "learn": [
              49809.42647,
              0.7123302683
             ],
             "passed_time": 0.438432134,
             "remaining_time": 0.1384522528
            },
            {
             "iteration": 228,
             "learn": [
              49801.22336,
              0.7124250132
             ],
             "passed_time": 0.4402168836,
             "remaining_time": 0.1364864574
            },
            {
             "iteration": 229,
             "learn": [
              49778.92014,
              0.7126825334
             ],
             "passed_time": 0.442042567,
             "remaining_time": 0.1345346943
            },
            {
             "iteration": 230,
             "learn": [
              49762.59859,
              0.7128709142
             ],
             "passed_time": 0.4444788447,
             "remaining_time": 0.1327664081
            },
            {
             "iteration": 231,
             "learn": [
              49751.66363,
              0.7129970894
             ],
             "passed_time": 0.4468682647,
             "remaining_time": 0.1309786293
            },
            {
             "iteration": 232,
             "learn": [
              49749.98775,
              0.7130164244
             ],
             "passed_time": 0.449149903,
             "remaining_time": 0.1291546931
            },
            {
             "iteration": 233,
             "learn": [
              49740.73602,
              0.7131231519
             ],
             "passed_time": 0.4513549435,
             "remaining_time": 0.1273052405
            },
            {
             "iteration": 234,
             "learn": [
              49713.65257,
              0.7134354714
             ],
             "passed_time": 0.4537388338,
             "remaining_time": 0.1255022306
            },
            {
             "iteration": 235,
             "learn": [
              49687.71224,
              0.7137344492
             ],
             "passed_time": 0.4558617949,
             "remaining_time": 0.1236235376
            },
            {
             "iteration": 236,
             "learn": [
              49679.68177,
              0.7138269735
             ],
             "passed_time": 0.4576935653,
             "remaining_time": 0.1216653781
            },
            {
             "iteration": 237,
             "learn": [
              49665.64152,
              0.7139887045
             ],
             "passed_time": 0.4591602187,
             "remaining_time": 0.1196131662
            },
            {
             "iteration": 238,
             "learn": [
              49654.59661,
              0.7141158998
             ],
             "passed_time": 0.460557705,
             "remaining_time": 0.1175482009
            },
            {
             "iteration": 239,
             "learn": [
              49619.92464,
              0.714515005
             ],
             "passed_time": 0.4619186718,
             "remaining_time": 0.115479668
            },
            {
             "iteration": 240,
             "learn": [
              49611.15701,
              0.7146158841
             ],
             "passed_time": 0.4633262071,
             "remaining_time": 0.1134284076
            },
            {
             "iteration": 241,
             "learn": [
              49596.6573,
              0.7147826765
             ],
             "passed_time": 0.4647132094,
             "remaining_time": 0.1113775461
            },
            {
             "iteration": 242,
             "learn": [
              49583.59214,
              0.7149329254
             ],
             "passed_time": 0.4660834775,
             "remaining_time": 0.1093282231
            },
            {
             "iteration": 243,
             "learn": [
              49572.02217,
              0.7150659464
             ],
             "passed_time": 0.467471768,
             "remaining_time": 0.1072886025
            },
            {
             "iteration": 244,
             "learn": [
              49566.61966,
              0.715128049
             ],
             "passed_time": 0.4689085639,
             "remaining_time": 0.1052651878
            },
            {
             "iteration": 245,
             "learn": [
              49565.04348,
              0.7151461662
             ],
             "passed_time": 0.4703552152,
             "remaining_time": 0.1032487058
            },
            {
             "iteration": 246,
             "learn": [
              49553.77577,
              0.715275664
             ],
             "passed_time": 0.4720536576,
             "remaining_time": 0.1012908658
            },
            {
             "iteration": 247,
             "learn": [
              49549.52113,
              0.7153245542
             ],
             "passed_time": 0.473806751,
             "remaining_time": 0.09934657683
            },
            {
             "iteration": 248,
             "learn": [
              49527.08205,
              0.7155823331
             ],
             "passed_time": 0.4756178221,
             "remaining_time": 0.0974156985
            },
            {
             "iteration": 249,
             "learn": [
              49493.09471,
              0.7159725553
             ],
             "passed_time": 0.4773343569,
             "remaining_time": 0.09546687139
            },
            {
             "iteration": 250,
             "learn": [
              49461.1987,
              0.7163385225
             ],
             "passed_time": 0.4790769209,
             "remaining_time": 0.09352497659
            },
            {
             "iteration": 251,
             "learn": [
              49454.65587,
              0.7164135642
             ],
             "passed_time": 0.4808424094,
             "remaining_time": 0.09158903036
            },
            {
             "iteration": 252,
             "learn": [
              49447.90506,
              0.7164909808
             ],
             "passed_time": 0.4824526794,
             "remaining_time": 0.08962559657
            },
            {
             "iteration": 253,
             "learn": [
              49436.53297,
              0.7166213693
             ],
             "passed_time": 0.4843461617,
             "remaining_time": 0.087716234
            },
            {
             "iteration": 254,
             "learn": [
              49423.29024,
              0.7167731681
             ],
             "passed_time": 0.4861643798,
             "remaining_time": 0.08579371408
            },
            {
             "iteration": 255,
             "learn": [
              49401.70318,
              0.7170205293
             ],
             "passed_time": 0.4879982321,
             "remaining_time": 0.08387469615
            },
            {
             "iteration": 256,
             "learn": [
              49384.98176,
              0.7172120619
             ],
             "passed_time": 0.4896801871,
             "remaining_time": 0.08193092624
            },
            {
             "iteration": 257,
             "learn": [
              49362.55408,
              0.717468854
             ],
             "passed_time": 0.4913355206,
             "remaining_time": 0.07998485219
            },
            {
             "iteration": 258,
             "learn": [
              49351.83892,
              0.7175914991
             ],
             "passed_time": 0.4930011467,
             "remaining_time": 0.07804265257
            },
            {
             "iteration": 259,
             "learn": [
              49325.96284,
              0.7178875654
             ],
             "passed_time": 0.4947415661,
             "remaining_time": 0.07611408709
            },
            {
             "iteration": 260,
             "learn": [
              49308.20048,
              0.7180907071
             ],
             "passed_time": 0.4964458387,
             "remaining_time": 0.0741815621
            },
            {
             "iteration": 261,
             "learn": [
              49304.19157,
              0.7181365454
             ],
             "passed_time": 0.4980295559,
             "remaining_time": 0.07223329437
            },
            {
             "iteration": 262,
             "learn": [
              49299.77326,
              0.7181870606
             ],
             "passed_time": 0.4997511496,
             "remaining_time": 0.07030719595
            },
            {
             "iteration": 263,
             "learn": [
              49278.32163,
              0.7184322557
             ],
             "passed_time": 0.501327617,
             "remaining_time": 0.06836285686
            },
            {
             "iteration": 264,
             "learn": [
              49272.65977,
              0.7184969538
             ],
             "passed_time": 0.5030582224,
             "remaining_time": 0.06644165201
            },
            {
             "iteration": 265,
             "learn": [
              49247.20476,
              0.7187877362
             ],
             "passed_time": 0.5044804337,
             "remaining_time": 0.06448246145
            },
            {
             "iteration": 266,
             "learn": [
              49233.4644,
              0.7189446352
             ],
             "passed_time": 0.5064363873,
             "remaining_time": 0.06259326135
            },
            {
             "iteration": 267,
             "learn": [
              49229.64322,
              0.7189882609
             ],
             "passed_time": 0.5081846488,
             "remaining_time": 0.06067876403
            },
            {
             "iteration": 268,
             "learn": [
              49218.65429,
              0.7191137004
             ],
             "passed_time": 0.5100851845,
             "remaining_time": 0.058783051
            },
            {
             "iteration": 269,
             "learn": [
              49207.34442,
              0.7192427745
             ],
             "passed_time": 0.5118910753,
             "remaining_time": 0.05687678615
            },
            {
             "iteration": 270,
             "learn": [
              49192.04506,
              0.7194173312
             ],
             "passed_time": 0.513662734,
             "remaining_time": 0.05496759884
            },
            {
             "iteration": 271,
             "learn": [
              49163.63487,
              0.719741331
             ],
             "passed_time": 0.5153060221,
             "remaining_time": 0.05304620815
            },
            {
             "iteration": 272,
             "learn": [
              49157.13979,
              0.7198153768
             ],
             "passed_time": 0.5168819627,
             "remaining_time": 0.05112019411
            },
            {
             "iteration": 273,
             "learn": [
              49147.58094,
              0.7199243329
             ],
             "passed_time": 0.5186681573,
             "remaining_time": 0.04921668646
            },
            {
             "iteration": 274,
             "learn": [
              49127.94095,
              0.7201481316
             ],
             "passed_time": 0.5204983895,
             "remaining_time": 0.04731803541
            },
            {
             "iteration": 275,
             "learn": [
              49116.08655,
              0.7202831698
             ],
             "passed_time": 0.522401754,
             "remaining_time": 0.04542623948
            },
            {
             "iteration": 276,
             "learn": [
              49106.78582,
              0.7203890954
             ],
             "passed_time": 0.5241398082,
             "remaining_time": 0.0435206339
            },
            {
             "iteration": 277,
             "learn": [
              49092.79012,
              0.720548454
             ],
             "passed_time": 0.5258633392,
             "remaining_time": 0.0416150844
            },
            {
             "iteration": 278,
             "learn": [
              49066.35329,
              0.7208493464
             ],
             "passed_time": 0.5276211674,
             "remaining_time": 0.0397134212
            },
            {
             "iteration": 279,
             "learn": [
              49057.01228,
              0.7209556229
             ],
             "passed_time": 0.5293096022,
             "remaining_time": 0.03780782873
            },
            {
             "iteration": 280,
             "learn": [
              49041.73925,
              0.7211293468
             ],
             "passed_time": 0.5310519179,
             "remaining_time": 0.03590742506
            },
            {
             "iteration": 281,
             "learn": [
              49032.46277,
              0.7212348364
             ],
             "passed_time": 0.5327437773,
             "remaining_time": 0.03400492196
            },
            {
             "iteration": 282,
             "learn": [
              49012.1545,
              0.7214657064
             ],
             "passed_time": 0.53444976,
             "remaining_time": 0.0321047559
            },
            {
             "iteration": 283,
             "learn": [
              48995.31405,
              0.7216570809
             ],
             "passed_time": 0.5361507161,
             "remaining_time": 0.03020567414
            },
            {
             "iteration": 284,
             "learn": [
              48986.23639,
              0.7217602119
             ],
             "passed_time": 0.5376907576,
             "remaining_time": 0.02829951356
            },
            {
             "iteration": 285,
             "learn": [
              48982.6599,
              0.7218008391
             ],
             "passed_time": 0.5392998017,
             "remaining_time": 0.02639929099
            },
            {
             "iteration": 286,
             "learn": [
              48963.50429,
              0.7220183867
             ],
             "passed_time": 0.5409277256,
             "remaining_time": 0.02450195273
            },
            {
             "iteration": 287,
             "learn": [
              48942.7489,
              0.7222540069
             ],
             "passed_time": 0.542485941,
             "remaining_time": 0.02260358087
            },
            {
             "iteration": 288,
             "learn": [
              48933.74157,
              0.7223562292
             ],
             "passed_time": 0.5446644523,
             "remaining_time": 0.02073117293
            },
            {
             "iteration": 289,
             "learn": [
              48920.23538,
              0.7225094728
             ],
             "passed_time": 0.5467110284,
             "remaining_time": 0.01885210443
            },
            {
             "iteration": 290,
             "learn": [
              48904.80098,
              0.7226845425
             ],
             "passed_time": 0.5489628156,
             "remaining_time": 0.01697823141
            },
            {
             "iteration": 291,
             "learn": [
              48882.04648,
              0.7229425419
             ],
             "passed_time": 0.5505567573,
             "remaining_time": 0.01508374678
            },
            {
             "iteration": 292,
             "learn": [
              48869.60109,
              0.7230836018
             ],
             "passed_time": 0.5520399808,
             "remaining_time": 0.01318866848
            },
            {
             "iteration": 293,
             "learn": [
              48857.68872,
              0.7232185867
             ],
             "passed_time": 0.554006038,
             "remaining_time": 0.01130624567
            },
            {
             "iteration": 294,
             "learn": [
              48854.99501,
              0.7232491059
             ],
             "passed_time": 0.5560961307,
             "remaining_time": 0.009425358147
            },
            {
             "iteration": 295,
             "learn": [
              48842.29434,
              0.7233929793
             ],
             "passed_time": 0.5580033171,
             "remaining_time": 0.007540585366
            },
            {
             "iteration": 296,
             "learn": [
              48838.77836,
              0.7234328017
             ],
             "passed_time": 0.5601067639,
             "remaining_time": 0.005657644079
            },
            {
             "iteration": 297,
             "learn": [
              48818.81626,
              0.7236588407
             ],
             "passed_time": 0.5619661758,
             "remaining_time": 0.003771585072
            },
            {
             "iteration": 298,
             "learn": [
              48808.19597,
              0.7237790609
             ],
             "passed_time": 0.5638606908,
             "remaining_time": 0.001885821708
            },
            {
             "iteration": 299,
             "learn": [
              48803.33146,
              0.7238341177
             ],
             "passed_time": 0.5658842219,
             "remaining_time": 0
            }
           ],
           "meta": {
            "iteration_count": 300,
            "launch_mode": "Train",
            "learn_metrics": [
             {
              "best_value": "Min",
              "name": "RMSE"
             },
             {
              "best_value": "Max",
              "name": "R2"
             }
            ],
            "learn_sets": [
             "learn"
            ],
            "name": "experiment",
            "parameters": "",
            "test_metrics": [],
            "test_sets": []
           }
          },
          "passed_iterations": 299,
          "total_iterations": 300
         },
         "name": "catboost_info",
         "path": "catboost_info"
        }
       },
       "layout": "IPY_MODEL_26acf619824446bcb7991c6fe0757cd4"
      }
     }
    },
    "version_major": 2,
    "version_minor": 0
   }
  }
 },
 "nbformat": 4,
 "nbformat_minor": 4
}
